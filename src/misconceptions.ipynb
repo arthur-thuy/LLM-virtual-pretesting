{
 "cells": [
  {
   "cell_type": "markdown",
   "metadata": {},
   "source": [
    "# Imports"
   ]
  },
  {
   "cell_type": "code",
   "execution_count": 12,
   "metadata": {},
   "outputs": [
    {
     "data": {
      "text/plain": [
       "True"
      ]
     },
     "execution_count": 12,
     "metadata": {},
     "output_type": "execute_result"
    }
   ],
   "source": [
    "# standard library imports\n",
    "import os\n",
    "import random\n",
    "from typing import Callable\n",
    "\n",
    "# related third party imports\n",
    "import dotenv\n",
    "import pandas as pd\n",
    "import numpy as np\n",
    "import structlog\n",
    "from langchain_chroma import Chroma\n",
    "from langchain_core.example_selectors import SemanticSimilarityExampleSelector\n",
    "from langchain_openai import OpenAIEmbeddings, ChatOpenAI\n",
    "from langchain_ollama import OllamaEmbeddings\n",
    "from langchain_core.prompts import (\n",
    "    ChatPromptTemplate,\n",
    "    FewShotChatMessagePromptTemplate,\n",
    "    PromptTemplate,\n",
    "    SystemMessagePromptTemplate,\n",
    ")\n",
    "from langchain_core.output_parsers import PydanticOutputParser\n",
    "from langchain_core.documents import Document\n",
    "from langchain_ollama import ChatOllama\n",
    "from pydantic import BaseModel, Field, ValidationError\n",
    "from yacs.config import CfgNode\n",
    "from sklearn.metrics import accuracy_score\n",
    "\n",
    "# local application/library specific imports\n",
    "from example_selector.example_selector import (\n",
    "    RandomExampleSelector,\n",
    "    StudentIDRandomExampleSelector,\n",
    ")\n",
    "from data_loader.data_loader import DataLoader\n",
    "from tools.constants import SILVER_DIR, TRAIN, VALIDATION, TEST, MODEL_STRUCTURED_OUTPUT\n",
    "from prompt.few_shot_prompt import (\n",
    "    df_to_listdict,\n",
    ")\n",
    "from model.build import build_model\n",
    "from example_formatter.build import build_example_formatter\n",
    "\n",
    "logger = structlog.get_logger()\n",
    "\n",
    "# Reload the variables in your '.env' file (override the existing variables)\n",
    "dotenv.load_dotenv(\"../.env\", override=True)"
   ]
  },
  {
   "cell_type": "code",
   "execution_count": 2,
   "metadata": {},
   "outputs": [],
   "source": [
    "### INPUTS ###\n",
    "MODEL_NAME = \"llama3\"  # \"olmo2:7b\"  # \"gpt-4o-mini\"  # \"llama3.2\"\n",
    "MODEL_PROVIDER = \"ollama\"  # \"openai\"  # \n",
    "SUPPORTS_STRUCTURED_OUTPUT = MODEL_STRUCTURED_OUTPUT[MODEL_NAME]"
   ]
  },
  {
   "cell_type": "code",
   "execution_count": 3,
   "metadata": {},
   "outputs": [],
   "source": [
    "model_cfg = CfgNode(\n",
    "    {\n",
    "        \"NAME\": MODEL_NAME,\n",
    "        \"PROVIDER\": MODEL_PROVIDER,\n",
    "        \"TEMPERATURE\": 0.5,\n",
    "        \"MAX_TOKENS\": None,\n",
    "        \"TIMEOUT\": None,\n",
    "        \"MAX_RETRIES\": None,\n",
    "    }\n",
    ")\n",
    "example_formatter_cfg = CfgNode(\n",
    "    {\n",
    "        \"NAME\": \"A\"\n",
    "    }\n",
    ")"
   ]
  },
  {
   "cell_type": "markdown",
   "metadata": {},
   "source": [
    "# Data"
   ]
  },
  {
   "cell_type": "code",
   "execution_count": 4,
   "metadata": {},
   "outputs": [
    {
     "name": "stdout",
     "output_type": "stream",
     "text": [
      "\u001b[2m2025-03-27 09:32:26\u001b[0m [\u001b[32m\u001b[1minfo     \u001b[0m] \u001b[1mSet seed (42)                 \u001b[0m\n",
      "\u001b[2m2025-03-27 09:32:26\u001b[0m [\u001b[32m\u001b[1minfo     \u001b[0m] \u001b[1mCreating train split          \u001b[0m \u001b[36mnum_interactions\u001b[0m=\u001b[35m1967\u001b[0m\n",
      "\u001b[2m2025-03-27 09:32:26\u001b[0m [\u001b[32m\u001b[1minfo     \u001b[0m] \u001b[1mCreating validation split     \u001b[0m \u001b[36mnum_interactions\u001b[0m=\u001b[35m492\u001b[0m\n",
      "\u001b[2m2025-03-27 09:32:26\u001b[0m [\u001b[32m\u001b[1minfo     \u001b[0m] \u001b[1mCreating test split           \u001b[0m \u001b[36mnum_interactions\u001b[0m=\u001b[35m820\u001b[0m\n"
     ]
    }
   ],
   "source": [
    "# load data\n",
    "data_loader = DataLoader(read_dir=SILVER_DIR, dataset_name=\"dbe_kt22\", join_key=\"question_id\")\n",
    "datasets = data_loader.split_data(train_size=0.6, test_size=0.25, seed=42)\n"
   ]
  },
  {
   "cell_type": "code",
   "execution_count": 5,
   "metadata": {},
   "outputs": [],
   "source": [
    "\n",
    "# # dataframes\n",
    "# df_train = apply_prompt_fmt(\n",
    "#     df=dataset[TRAIN], input_fmt=human_format_input, output_fmt=human_format_output\n",
    "# )\n",
    "# df_val = apply_prompt_fmt(\n",
    "#     df=dataset[VALIDATION], input_fmt=human_format_input, output_fmt=human_format_output\n",
    "# )\n",
    "# df_test = apply_prompt_fmt(\n",
    "#     df=dataset[TEST], input_fmt=human_format_input, output_fmt=human_format_output\n",
    "# )\n",
    "\n",
    "# # list of dicts\n",
    "# list_train = df_to_listdict(df_train)\n",
    "# list_val = df_to_listdict(df_val)\n",
    "# list_test = df_to_listdict(df_test)"
   ]
  },
  {
   "cell_type": "code",
   "execution_count": 6,
   "metadata": {},
   "outputs": [
    {
     "name": "stdout",
     "output_type": "stream",
     "text": [
      "\u001b[2m2025-03-27 09:32:26\u001b[0m [\u001b[32m\u001b[1minfo     \u001b[0m] \u001b[1mBuilding example formatter    \u001b[0m \u001b[36mname\u001b[0m=\u001b[35mA\u001b[0m \u001b[36msplits\u001b[0m=\u001b[35m['train', 'validation', 'test']\u001b[0m\n"
     ]
    }
   ],
   "source": [
    "# dataframes\n",
    "datasets_fmt = build_example_formatter(\n",
    "    example_formatter_cfg=example_formatter_cfg,\n",
    "    datasets=datasets,\n",
    ")\n",
    "\n",
    "# list of dicts\n",
    "list_train = df_to_listdict(datasets_fmt[TRAIN])\n",
    "list_val = df_to_listdict(datasets_fmt[VALIDATION])\n",
    "list_test = df_to_listdict(datasets_fmt[TEST])  # noqa"
   ]
  },
  {
   "cell_type": "code",
   "execution_count": 7,
   "metadata": {},
   "outputs": [
    {
     "data": {
      "text/html": [
       "<div>\n",
       "<style scoped>\n",
       "    .dataframe tbody tr th:only-of-type {\n",
       "        vertical-align: middle;\n",
       "    }\n",
       "\n",
       "    .dataframe tbody tr th {\n",
       "        vertical-align: top;\n",
       "    }\n",
       "\n",
       "    .dataframe thead th {\n",
       "        text-align: right;\n",
       "    }\n",
       "</style>\n",
       "<table border=\"1\" class=\"dataframe\">\n",
       "  <thead>\n",
       "    <tr style=\"text-align: right;\">\n",
       "      <th></th>\n",
       "      <th>input</th>\n",
       "      <th>output</th>\n",
       "      <th>student_id</th>\n",
       "      <th>question_id</th>\n",
       "      <th>interact_id</th>\n",
       "      <th>q_text</th>\n",
       "    </tr>\n",
       "  </thead>\n",
       "  <tbody>\n",
       "    <tr>\n",
       "      <th>6</th>\n",
       "      <td>Question:\\nWhat is the Cartesian product of A ...</td>\n",
       "      <td>Student answer: 0</td>\n",
       "      <td>86</td>\n",
       "      <td>4</td>\n",
       "      <td>787</td>\n",
       "      <td>What is the Cartesian product of A = {1, 2} an...</td>\n",
       "    </tr>\n",
       "    <tr>\n",
       "      <th>10</th>\n",
       "      <td>Question:\\nIf A × B = {(p, x), (p, y), (q, x),...</td>\n",
       "      <td>Student answer: 1</td>\n",
       "      <td>86</td>\n",
       "      <td>8</td>\n",
       "      <td>791</td>\n",
       "      <td>If A × B = {(p, x), (p, y), (q, x), (q, y)}, t...</td>\n",
       "    </tr>\n",
       "    <tr>\n",
       "      <th>11</th>\n",
       "      <td>Question:\\nIf A = {2, 3, 4, 5}, B = {4, 5, 6, ...</td>\n",
       "      <td>Student answer: 1</td>\n",
       "      <td>86</td>\n",
       "      <td>9</td>\n",
       "      <td>792</td>\n",
       "      <td>If A = {2, 3, 4, 5}, B = {4, 5, 6, 7}, C = {6,...</td>\n",
       "    </tr>\n",
       "    <tr>\n",
       "      <th>15</th>\n",
       "      <td>Question:\\nIf A = {2, 3, 4, 5}, B = {4, 5, 6, ...</td>\n",
       "      <td>Student answer: 3</td>\n",
       "      <td>86</td>\n",
       "      <td>13</td>\n",
       "      <td>796</td>\n",
       "      <td>If A = {2, 3, 4, 5}, B = {4, 5, 6, 7}, C = {6,...</td>\n",
       "    </tr>\n",
       "    <tr>\n",
       "      <th>21</th>\n",
       "      <td>Question:\\nConsider a database that stores nam...</td>\n",
       "      <td>Student answer: 1</td>\n",
       "      <td>31</td>\n",
       "      <td>95</td>\n",
       "      <td>7873</td>\n",
       "      <td>Consider a database that stores names, address...</td>\n",
       "    </tr>\n",
       "  </tbody>\n",
       "</table>\n",
       "</div>"
      ],
      "text/plain": [
       "                                                input             output  \\\n",
       "6   Question:\\nWhat is the Cartesian product of A ...  Student answer: 0   \n",
       "10  Question:\\nIf A × B = {(p, x), (p, y), (q, x),...  Student answer: 1   \n",
       "11  Question:\\nIf A = {2, 3, 4, 5}, B = {4, 5, 6, ...  Student answer: 1   \n",
       "15  Question:\\nIf A = {2, 3, 4, 5}, B = {4, 5, 6, ...  Student answer: 3   \n",
       "21  Question:\\nConsider a database that stores nam...  Student answer: 1   \n",
       "\n",
       "    student_id  question_id  interact_id  \\\n",
       "6           86            4          787   \n",
       "10          86            8          791   \n",
       "11          86            9          792   \n",
       "15          86           13          796   \n",
       "21          31           95         7873   \n",
       "\n",
       "                                               q_text  \n",
       "6   What is the Cartesian product of A = {1, 2} an...  \n",
       "10  If A × B = {(p, x), (p, y), (q, x), (q, y)}, t...  \n",
       "11  If A = {2, 3, 4, 5}, B = {4, 5, 6, 7}, C = {6,...  \n",
       "15  If A = {2, 3, 4, 5}, B = {4, 5, 6, 7}, C = {6,...  \n",
       "21  Consider a database that stores names, address...  "
      ]
     },
     "execution_count": 7,
     "metadata": {},
     "output_type": "execute_result"
    }
   ],
   "source": [
    "datasets_fmt[VALIDATION].head()"
   ]
  },
  {
   "cell_type": "markdown",
   "metadata": {},
   "source": [
    "# Dynamic few-shot prompting"
   ]
  },
  {
   "cell_type": "markdown",
   "metadata": {},
   "source": [
    "## Create example selector\n",
    "\n",
    "NOTE: I need OpenAI credits to use the OpenAI embeddings."
   ]
  },
  {
   "cell_type": "code",
   "execution_count": 8,
   "metadata": {},
   "outputs": [],
   "source": [
    "import time\n",
    "from pinecone import Pinecone, ServerlessSpec\n",
    "from langchain_ollama import OllamaEmbeddings\n",
    "from langchain_pinecone import PineconeVectorStore\n",
    "\n",
    "\n",
    "index_name = \"llama3\"  # change if desired\n",
    "\n",
    "pc = Pinecone(api_key=os.environ.get(\"PINECONE_API_KEY\"))\n",
    "\n",
    "EMBEDDINGS_DIM = {\"llama3\": 4096}\n",
    "\n",
    "if not pc.has_index(index_name):\n",
    "    pc.create_index(\n",
    "        name=index_name,\n",
    "        dimension=EMBEDDINGS_DIM[model_cfg.NAME],\n",
    "        metric=\"cosine\",\n",
    "        spec=ServerlessSpec(cloud=\"aws\", region=\"us-east-1\"),\n",
    "    )\n",
    "    while not pc.describe_index(index_name).status[\"ready\"]:\n",
    "        time.sleep(1)\n",
    "\n",
    "index = pc.Index(index_name)\n",
    "\n",
    "embeddings = OllamaEmbeddings(model=\"llama3\")  # TODO: make dynamic\n",
    "\n",
    "vector_store = PineconeVectorStore(index=index, embedding=embeddings, namespace=\"dbe_kt22\")"
   ]
  },
  {
   "cell_type": "code",
   "execution_count": null,
   "metadata": {},
   "outputs": [
    {
     "name": "stdout",
     "output_type": "stream",
     "text": [
      "[Document(metadata={'question_id': '3'}, page_content='The set that consists of all odd positive integers less than 10 is represented by _____________.'), Document(metadata={'question_id': '4'}, page_content='What is the Cartesian product of A = {1, 2} and B = {a, b}?'), Document(metadata={'question_id': '5'}, page_content='The Cartesian product B x A is always equal to the Cartesian product A x B. Is it true or false?'), Document(metadata={'question_id': '2'}, page_content='A __________ is a collection of distinct elements.\\r\\n\\r\\n\\r\\n'), Document(metadata={'question_id': '6'}, page_content='The cardinality of a set is the number of elements of the set. What is the cardinality of the set of odd positive integers less than 10?'), Document(metadata={'question_id': '7'}, page_content='Which of the following two sets are equal?'), Document(metadata={'question_id': '10'}, page_content='If A = {2, 3, 4, 5}, B = {4, 5, 6, 7}, C = {6, 7, 8, 9}, D = {8, 9, 10, 11}, then A - (A ∩ B)=________.'), Document(metadata={'question_id': '11'}, page_content='If A = {2, 3, 4, 5}, B = {4, 5, 6, 7}, C = {6, 7, 8, 9}, D = {8, 9, 10, 11}, then (A ∪ B) ∪ C=_________.'), Document(metadata={'question_id': '14'}, page_content='If A and B are two sets, and A × B consists of 6 elements: If three elements of A × B are (2, 5) (3, 7) (4, 7) then A × B=____.'), Document(metadata={'question_id': '92'}, page_content='In ER diagram, weak entity is represented by a______________.'), Document(metadata={'question_id': '93'}, page_content='Consider a database that stores names, addresses and unique IDs of employees in a fitness centre. The employees are classified into three categories: trainers, administrators and technicians. Each trainer has one or more specialities, e.g., weight gain, weight loss, strength building, etc. An administrator can register new members and be reached through a landline phone number. Each member is identified by an email address. The fitness centre organises fitness classes for members. Each class has a name, a start date, an end date, and a daily time slot. No two fitness classes have the same daily time slot, and for each fitness class the start date must be before the end date. A member may choose to participate in one or more fitness classes and may also choose one of the trainers as their personal trainer. Each fitness class is attended by one or more members and instructed by only one trainer. Not all trainers deliver fitness classes. After receiving the approval from an administrator, a member may choose to add multiple associate members who will have partial access to the services provided by the fitness centre, and an associate number (i.e., 1, 2, . . .) and the name of each associate member are recorded in the database. The database keeps track of equipment available in the fitness centre. Each piece of equipment has a unique ID and must have one of the following three status types: new, working or broken. Each technician has a mobile phone number. Technicians maintain equipment in the fitness centre and the database records the date of each maintenance event. Each piece of equipment should be maintained at least twice a year.</br>\\r\\n</br>\\r\\nWhich of the following can be modelled as an entity type?'), Document(metadata={'question_id': '94'}, page_content='Consider a database that stores names, addresses and unique IDs of employees in a fitness centre. The employees are classified into three categories: trainers, administrators and technicians. Each trainer has one or more specialities, e.g., weight gain, weight loss, strength building, etc. An administrator can register new members and be reached through a landline phone number. Each member is identified by an email address. The fitness centre organises fitness classes for members. Each class has a name, a start date, an end date, and a daily time slot. No two fitness classes have the same daily time slot, and for each fitness class the start date must be before the end date. A member may choose to participate in one or more fitness classes and may also choose one of the trainers as their personal trainer. Each fitness class is attended by one or more members and instructed by only one trainer. Not all trainers deliver fitness classes. After receiving the approval from an administrator, a member may choose to add multiple associate members who will have partial access to the services provided by the fitness centre, and an associate number (i.e., 1, 2, . . .) and the name of each associate member are recorded in the database. The database keeps track of equipment available in the fitness centre. Each piece of equipment has a unique ID and must have one of the following three status types: new, working or broken. Each technician has a mobile phone number. Technicians maintain equipment in the fitness centre and the database records the date of each maintenance event. Each piece of equipment should be maintained at least twice a year.</br>\\r\\n</br>\\r\\nWhich of the following can be modelled as an entity type?'), Document(metadata={'question_id': '97'}, page_content='Consider a database that stores names, addresses and unique IDs of employees in a fitness centre. The employees are classified into three categories: trainers, administrators and technicians. Each trainer has one or more specialities, e.g., weight gain, weight loss, strength building, etc. An administrator can register new members and be reached through a landline phone number. Each member is identified by an email address. The fitness centre organises fitness classes for members. Each class has a name, a start date, an end date, and a daily time slot. No two fitness classes have the same daily time slot, and for each fitness class the start date must be before the end date. A member may choose to participate in one or more fitness classes and may also choose one of the trainers as their personal trainer. Each fitness class is attended by one or more members and instructed by only one trainer. Not all trainers deliver fitness classes. After receiving the approval from an administrator, a member may choose to add multiple associate members who will have partial access to the services provided by the fitness centre, and an associate number (i.e., 1, 2, . . .) and the name of each associate member are recorded in the database. The database keeps track of equipment available in the fitness centre. Each piece of equipment has a unique ID and must have one of the following three status types: new, working or broken. Each technician has a mobile phone number. Technicians maintain equipment in the fitness centre and the database records the date of each maintenance event. Each piece of equipment should be maintained at least twice a year.</br>\\r\\n</br>\\r\\nWhich of the following can be modelled as a weak entity type?'), Document(metadata={'question_id': '98'}, page_content='Consider a database that stores names, addresses and unique IDs of employees in a fitness centre. The employees are classified into three categories: trainers, administrators and technicians. Each trainer has one or more specialities, e.g., weight gain, weight loss, strength building, etc. An administrator can register new members and be reached through a landline phone number. Each member is identified by an email address. The fitness centre organises fitness classes for members. Each class has a name, a start date, an end date, and a daily time slot. No two fitness classes have the same daily time slot, and for each fitness class the start date must be before the end date. A member may choose to participate in one or more fitness classes and may also choose one of the trainers as their personal trainer. Each fitness class is attended by one or more members and instructed by only one trainer. Not all trainers deliver fitness classes. After receiving the approval from an administrator, a member may choose to add multiple associate members who will have partial access to the services provided by the fitness centre, and an associate number (i.e., 1, 2, . . .) and the name of each associate member are recorded in the database. The database keeps track of equipment available in the fitness centre. Each piece of equipment has a unique ID and must have one of the following three status types: new, working or broken. Each technician has a mobile phone number. Technicians maintain equipment in the fitness centre and the database records the date of each maintenance event. Each piece of equipment should be maintained at least twice a year.</br>\\r\\n</br>\\r\\nWhich of the following can be modelled as a key attribute?\\r\\n'), Document(metadata={'question_id': '101'}, page_content='Consider a database that stores names, addresses and unique IDs of employees in a fitness centre. The employees are classified into three categories: trainers, administrators and technicians. Each trainer has one or more specialities, e.g., weight gain, weight loss, strength building, etc. An administrator can register new members and be reached through a landline phone number. Each member is identified by an email address. The fitness centre organises fitness classes for members. Each class has a name, a start date, an end date, and a daily time slot. No two fitness classes have the same daily time slot, and for each fitness class the start date must be before the end date. A member may choose to participate in one or more fitness classes and may also choose one of the trainers as their personal trainer. Each fitness class is attended by one or more members and instructed by only one trainer. Not all trainers deliver fitness classes. After receiving the approval from an administrator, a member may choose to add multiple associate members who will have partial access to the services provided by the fitness centre, and an associate number (i.e., 1, 2, . . .) and the name of each associate member are recorded in the database. The database keeps track of equipment available in the fitness centre. Each piece of equipment has a unique ID and must have one of the following three status types: new, working or broken. Each technician has a mobile phone number. Technicians maintain equipment in the fitness centre and the database records the date of each maintenance event. Each piece of equipment should be maintained at least twice a year.</br>\\r\\n</br>\\r\\nSuppose that \"participate\" is a relationship type between two entity types \"member\" and \"fitness class\". What is the participation constraint on \"member\" in \"participate\"?'), Document(metadata={'question_id': '102'}, page_content='Consider a database that stores names, addresses and unique IDs of employees in a fitness centre. The employees are classified into three categories: trainers, administrators and technicians. Each trainer has one or more specialities, e.g., weight gain, weight loss, strength building, etc. An administrator can register new members and be reached through a landline phone number. Each member is identified by an email address. The fitness centre organises fitness classes for members. Each class has a name, a start date, an end date, and a daily time slot. No two fitness classes have the same daily time slot, and for each fitness class the start date must be before the end date. A member may choose to participate in one or more fitness classes and may also choose one of the trainers as their personal trainer. Each fitness class is attended by one or more members and instructed by only one trainer. Not all trainers deliver fitness classes. After receiving the approval from an administrator, a member may choose to add multiple associate members who will have partial access to the services provided by the fitness centre, and an associate number (i.e., 1, 2, . . .) and the name of each associate member are recorded in the database. The database keeps track of equipment available in the fitness centre. Each piece of equipment has a unique ID and must have one of the following three status types: new, working or broken. Each technician has a mobile phone number. Technicians maintain equipment in the fitness centre and the database records the date of each maintenance event. Each piece of equipment should be maintained at least twice a year.</br>\\r\\n</br>\\r\\nSuppose that \"participate\" is a relationship type between two entity types \"member\" and \"fitness class\". What is the participation constraint on \"fitness class\" in \"participate\"?\\r\\n'), Document(metadata={'question_id': '108'}, page_content='Consider a database that stores names, addresses and unique IDs of employees in a fitness centre. The employees are classified into three categories: trainers, administrators and technicians. Each trainer has one or more specialities, e.g., weight gain, weight loss, strength building, etc. An administrator can register new members and be reached through a landline phone number. Each member is identified by an email address. The fitness centre organises fitness classes for members. Each class has a name, a start date, an end date, and a daily time slot. No two fitness classes have the same daily time slot, and for each fitness class the start date must be before the end date. A member may choose to participate in one or more fitness classes and may also choose one of the trainers as their personal trainer. Each fitness class is attended by one or more members and instructed by only one trainer. Not all trainers deliver fitness classes. After receiving the approval from an administrator, a member may choose to add multiple associate members who will have partial access to the services provided by the fitness centre, and an associate number (i.e., 1, 2, . . .) and the name of each associate member are recorded in the database. The database keeps track of equipment available in the fitness centre. Each piece of equipment has a unique ID and must have one of the following three status types: new, working or broken. Each technician has a mobile phone number. Technicians maintain equipment in the fitness centre and the database records the date of each maintenance event. Each piece of equipment should be maintained at least twice a year.</br>\\r\\n</br>\\r\\nWhich of the following statements can be modelled by the ER diagram?'), Document(metadata={'question_id': '91'}, page_content='Which constraint can be captured by the ER diagram?'), Document(metadata={'question_id': '109'}, page_content='Which of the following is a trival FD?'), Document(metadata={'question_id': '110'}, page_content='R={A,B,C,D} and Σ={A→ B, B→ C, D→ABC}. The closure of A is '), Document(metadata={'question_id': '111'}, page_content='R={A,B,C,D} and Σ={A→ B, B→ C, D→ABC}. Is the following statement true or false? A is a SK of R'), Document(metadata={'question_id': '112'}, page_content=' R={A,B,C,D} and Σ={A→ B, B→ C, D→ABC}. Is the following statement true or false? Σ ⊨  A→ C'), Document(metadata={'question_id': '114'}, page_content='R={A,B,C,D} and Σ={A→ B, B→ C, D→ABC}. Is the following statement true or false? D is a SK of R'), Document(metadata={'question_id': '115'}, page_content='R={A,B,C,D} and Σ={A→ B, B→ C, D→ABC}. Is the following statement true or false? Σ ⊨ D→ AC'), Document(metadata={'question_id': '120'}, page_content='R={A,B,C}, Σ1={A→ B, AB→ C} and Σ2={A→ B, A→ C}. Is the following statement true or false? Σ1 and Σ2 are equivalent '), Document(metadata={'question_id': '122'}, page_content='R={A,B,C}, Σ1={A→ B, AB→ C} and Σ2={A→ B, A→ C}. Is the following statement true or false?  Σ2 is a minimal cover of Σ1 '), Document(metadata={'question_id': '180'}, page_content='Which technology is not used to enforce confidentiality of database security?'), Document(metadata={'question_id': '130'}, page_content='R={A, B, C} and Σ = {A→B, B→C}. The decomposition of R into R1 = {A, B} and R2 = {B, C}'), Document(metadata={'question_id': '131'}, page_content='R={A, B, C} and Σ = {A→B, B→C, A→C}. The decomposition of R into R1 = {A, B} and R2 = {A, C}'), Document(metadata={'question_id': '133'}, page_content='Which of the following is correct? '), Document(metadata={'question_id': '135'}, page_content='R={A,B,C}, Σ={A→ BC, BC→ A}. Which of the following is correct?  '), Document(metadata={'question_id': '136'}, page_content='R={A,B,C}, Σ={A→ B, B→ C}. Which of the following is correct?  '), Document(metadata={'question_id': '137'}, page_content='R={A,B,C,D}, Σ={AB→ CD, BC→ A}. Which of the following is correct?  '), Document(metadata={'question_id': '139'}, page_content='Which of the following is correct about BCNF?'), Document(metadata={'question_id': '142'}, page_content='Which of the following is correct?'), Document(metadata={'question_id': '143'}, page_content='Which of the following is correct?'), Document(metadata={'question_id': '148'}, page_content='How many rows will be in the result for the following relational algebra expression?<br> \\r\\n<img src=\"http://latex.codecogs.com/gif.latex?\\\\large \\\\bf \\\\color{red} {\\\\pi_{CourseNo}(Study)}\" border=\"0\"/>'), Document(metadata={'question_id': '150'}, page_content='How many rows will be in the result for the following relational algebra expression?<br> \\r\\n<img src=\"http://latex.codecogs.com/gif.latex?\\\\large \\\\bf \\\\color{red} {\\\\pi_{StudentID}(\\\\sigma_{CourseNo=\\'COMP2400\\'}(Study))\\\\cup \\\\pi_{StudentID}(\\\\sigma_{CourseNo=\\'STAT2001\\'}(Study))}\" border=\"0\"/>'), Document(metadata={'question_id': '151'}, page_content='How many rows will be in the result for the following relational algebra expression?<br> \\r\\n<img src=\"http://latex.codecogs.com/gif.latex?\\\\large \\\\bf \\\\color{red} {\\\\pi_{CourseNo}(\\\\sigma_{StudentID=102}(Study))- \\\\pi_{CourseNo}(\\\\sigma_{StudentID=103}(Study))}\" border=\"0\"/>'), Document(metadata={'question_id': '154'}, page_content='How many rows will be in the result for the following relational algebra expression?<br> \\r\\n<img src=\"http://latex.codecogs.com/gif.latex?\\\\large \\\\bf \\\\color{red} {\\\\pi_{Course.CourseNo,Enrol.StudentID}(Course\\\\times Enrol)}\" border=\"0\"/>'), Document(metadata={'question_id': '36'}, page_content='In the relational data model, a table is considered as____________.'), Document(metadata={'question_id': '37'}, page_content='_________ is the sets of all possible values for an attribute.'), Document(metadata={'question_id': '39'}, page_content='The term _______ is used to refer to a row in the relational data model.'), Document(metadata={'question_id': '40'}, page_content='Consider a relation schema <font  color=\"blue\">Course(courseID,courseName,semester)</font>. Here the courseID, courseName and semester are __________.'), Document(metadata={'question_id': '43'}, page_content='In the relational data model, a _________ is used to enforce referential integrity between two tables.'), Document(metadata={'question_id': '44'}, page_content='Choose the correct statement regarding superkeys'), Document(metadata={'question_id': '45'}, page_content='If a relation has a foreign key, then it is called a ______ relation of the foreign key dependency.'), Document(metadata={'question_id': '46'}, page_content='If {a,b} is a superkey in R(a,b,c), then________________.'), Document(metadata={'question_id': '156'}, page_content='How many rows will be in the result for the following relational algebra expression?<br>\\r\\n <img src=\"http://latex.codecogs.com/gif.latex?\\\\large \\\\bf \\\\color{red} {Course\\\\bowtie Enrol}\" border=\"0\"/>'), Document(metadata={'question_id': '157'}, page_content='How many rows will be in the result for the following relational algebra expression?<br>\\r\\n <img src=\"http://latex.codecogs.com/gif.latex?\\\\large \\\\bf \\\\color{red} {Course\\\\bowtie Course}\" border=\"0\"/>'), Document(metadata={'question_id': '158'}, page_content='How many rows will be in the result for the following relational algebra expression?<br> \\r\\n<img src=\"http://latex.codecogs.com/gif.latex?\\\\large \\\\bf \\\\color{red} {\\\\sigma_{Year = 2018}(Course\\\\bowtie_{Course.CourseNo=Enrol.CourseNo} Enrol)}\" border=\"0\"/>'), Document(metadata={'question_id': '159'}, page_content='How many rows will be in the result for the following relational algebra expression?<br> \\r\\n<img src=\"http://latex.codecogs.com/gif.latex?\\\\large \\\\bf \\\\color{red} {Course\\\\bowtie_{Course.CourseNo\\\\neq Enrol.CourseNo} Enrol}\" border=\"0\"/>'), Document(metadata={'question_id': '160'}, page_content='How many rows will be in the result for the following relational algebra expression?<br> \\r\\n<img src=\"http://latex.codecogs.com/gif.latex?\\\\large \\\\bf \\\\color{red} {\\\\pi_{C1.CourseNo,C2.CourseNo}(\\\\rho_{C1}(Course)\\\\times\\\\rho_{C2} (Course))}\" border=\"0\"/>'), Document(metadata={'question_id': '161'}, page_content='How many rows will be in the result for the following relational algebra expression?<br>\\r\\n <img src=\"http://latex.codecogs.com/gif.latex?\\\\large \\\\large \\\\bf \\\\color{red} {\\\\rho_{E1}(Enrol)\\\\bowtie_{E1.CourseNo=E2.CourseNo}\\\\rho_{E2}(Enrol)}\" border=\"0\"/>'), Document(metadata={'question_id': '8'}, page_content='If A × B = {(p, x), (p, y), (q, x), (q, y)}, then A = _____and B = ______.'), Document(metadata={'question_id': '9'}, page_content='If A = {2, 3, 4, 5}, B = {4, 5, 6, 7}, C = {6, 7, 8, 9}, D = {8, 9, 10, 11}, then A - B=___________.'), Document(metadata={'question_id': '12'}, page_content='If A = {2, 3, 4, 5}, B = {4, 5, 6, 7}, C = {6, 7, 8, 9}, D = {8, 9, 10, 11}, then (A ∪ B) ∩ C=___________.'), Document(metadata={'question_id': '15'}, page_content='Set A, B, and C are defined as follows: A = {2,3,4,5,6,7, 8, 9}, B = {3,5,7}, C = {3,5,7,9}. Select true or false for the following statement. \\r\\n(A ∪ C) ⊂ B =__________.'), Document(metadata={'question_id': '16'}, page_content='Set A, B, and C are defined as follows: A = {2,3,4,5,6,7, 8, 9}, B = {3,5,7}, C = {3,5,7,9}. Select true or false for the following statement.\\r\\nB ⊂ (A ∪ B)=_________.'), Document(metadata={'question_id': '17'}, page_content='Set A, B, and C are defined as follows: A = {2,3,4,5,6,7, 8, 9}, B = {3,5,7}, C = {3,5,7,9}. Select true or false for the following statement.\\r\\nB ⊄ (A ∩ C)=____________.'), Document(metadata={'question_id': '19'}, page_content='If S = {1,2} and T = {1,2,3}, then S x S =_______.'), Document(metadata={'question_id': '20'}, page_content='If S = {1,2} and T = {1,2,3}, then S x (T - S) =____________.'), Document(metadata={'question_id': '21'}, page_content='If S = {1,2} and T = {1,2,3}, then (S x T) - (S x S) is________.'), Document(metadata={'question_id': '23'}, page_content='In which of the following set definitions is A - B equal to B – A?'), Document(metadata={'question_id': '24'}, page_content='The shaded area of the figure is best described by _________'), Document(metadata={'question_id': '28'}, page_content='The cardinality of a set, |X|, is the number of elements of the set X. If |A| = 3 and |B| = 2. then |A x B| =__________.'), Document(metadata={'question_id': '31'}, page_content='If A = {1,2}, B = {a,b}, C = {1,2,3}, and D = {a,b,c}, then A ⊆ A x B=__________.'), Document(metadata={'question_id': '32'}, page_content='If A = {1,2}, B = {a,b}, C = {1,2,3}, and D = {a,b,c}, then B ⊆ B x B =_________.'), Document(metadata={'question_id': '33'}, page_content='If A = {1,2}, B = {a,b}, C = {1,2,3}, and D = {a,b,c}, then (A x A) ⊆ (C x C) =____________.'), Document(metadata={'question_id': '34'}, page_content='If A = {1,2}, B = {a,b}, C = {1,2,3}, and D = {a,b,c}, then A x A ⊆ A x C =__________.'), Document(metadata={'question_id': '30'}, page_content='If A = {1,2}, B = {a,b}, C = {1,2,3}, and D = {a,b,c}, then (C x D)  –  (A x B) = _________.'), Document(metadata={'question_id': '38'}, page_content='An attribute is a __________ in a table in the relational data model.'), Document(metadata={'question_id': '42'}, page_content='Which one of the following is a set of one or more attributes taken collectively to uniquely identify a tuple?'), Document(metadata={'question_id': '162'}, page_content='How many rows will be in the result for the following relational algebra expression?<br> \\r\\n<img src=\"http://latex.codecogs.com/gif.latex?\\\\large \\\\bf \\\\color{red} {\\\\pi_{E1.StudentID,E2.StudentID}(\\\\rho_{E1}(Enrol)\\\\bowtie_{(E1.CourseNo=E2.CourseNo)\\\\wedge(E1.StudentID\\\\neq E2.StudentID)}\\\\rho_{E2}(Enrol))}\" border=\"0\"/>'), Document(metadata={'question_id': '165'}, page_content='Consider the following database schema:<br> \\r\\n<br> \\r\\nMovie(title, production year, country, run time, major genre)<br> \\r\\nprimary key : {title, production year}<br> \\r\\n<br> \\r\\nPerson(id, first name, last name, year born)<br> \\r\\nprimary key : {id}<br> \\r\\n<br> \\r\\nDirector(id, title, production year)<br> \\r\\nprimary key : {title, production year}<br> \\r\\nforeign keys : [title, production year] ⊆ Movie[title, production year], [id] ⊆ Person[id]<br> \\r\\n<br> \\r\\nWriter(id, title, production year, credits)<br> \\r\\nprimary key : {id, title, production year}<br> \\r\\nforeign keys : [title, production year] ⊆ Movie[title, production year], [id] ⊆ Person[id]<br> \\r\\n<br>\\r\\nAre the following two RA expressions equivalent?<br>\\r\\n<br>\\r\\n<img src=\"http://latex.codecogs.com/gif.latex?\\\\bf \\\\large \\\\color{red} {\\\\pi_{title}(\\\\pi_{title,production year}(Movie\\\\bowtie Writer))}\" border=\"0\"/><br>\\r\\n<img src=\"http://latex.codecogs.com/gif.latex?\\\\bf \\\\large \\\\color{red} {\\\\pi_{title,production year} {(\\\\pi_{title}(Movie\\\\bowtie Writer))}}\" border=\"0\"/>'), Document(metadata={'question_id': '166'}, page_content='Consider the following database schema:<br> \\r\\n<br> \\r\\nMovie(title, production year, country, run time, major genre)<br> \\r\\nprimary key : {title, production year}<br> \\r\\n<br> \\r\\nPerson(id, first name, last name, year born)<br> \\r\\nprimary key : {id}<br> \\r\\n<br> \\r\\nDirector(id, title, production year)<br> \\r\\nprimary key : {title, production year}<br> \\r\\nforeign keys : [title, production year] ⊆ Movie[title, production year], [id] ⊆ Person[id]<br> \\r\\n<br> \\r\\nWriter(id, title, production year, credits)<br> \\r\\nprimary key : {id, title, production year}<br> \\r\\nforeign keys : [title, production year] ⊆ Movie[title, production year], [id] ⊆ Person[id]<br> \\r\\n<br>\\r\\nAre the following two RA expressions equivalent?<br>\\r\\n<br>\\r\\n<img src=\"http://latex.codecogs.com/gif.latex?\\\\bf \\\\large \\\\color{red} {\\\\pi_{title,production year}(\\\\sigma_{last name=\\'Cameron\\'}(Person)\\\\bowtie Director)}\" border=\"0\"/><br>\\r\\n<img src=\"http://latex.codecogs.com/gif.latex?\\\\bf \\\\large \\\\color{red} {\\\\pi_{title,production year}(\\\\sigma_{last name=\\'Cameron\\'}(Person)\\\\bowtie \\\\pi_{title,production year}Director)}\" border=\"0\"/>'), Document(metadata={'question_id': '167'}, page_content='Consider the following database schema:<br> \\r\\n<br> \\r\\nMovie(title, production year, country, run time, major genre)<br> \\r\\nprimary key : {title, production year}<br> \\r\\n<br> \\r\\nPerson(id, first name, last name, year born)<br> \\r\\nprimary key : {id}<br> \\r\\n<br> \\r\\nDirector(id, title, production year)<br> \\r\\nprimary key : {title, production year}<br> \\r\\nforeign keys : [title, production year] ⊆ Movie[title, production year], [id] ⊆ Person[id]<br> \\r\\n<br> \\r\\nWriter(id, title, production year, credits)<br> \\r\\nprimary key : {id, title, production year}<br> \\r\\nforeign keys : [title, production year] ⊆ Movie[title, production year], [id] ⊆ Person[id]<br> \\r\\n<br>\\r\\nAre the following two RA expressions equivalent?<br>\\r\\n<br>\\r\\n<img src=\"http://latex.codecogs.com/gif.latex?\\\\bf \\\\large \\\\color{red} {\\\\sigma_{title=\\' Jurassic Park\\'  \\\\wedge \\r\\n year born=1945}(Director\\\\bowtie Person)}\" border=\"0\"/><br>\\r\\n<img src=\"http://latex.codecogs.com/gif.latex?\\\\bf \\\\large \\\\color{red} {\\\\sigma_{title=\\' Jurassic Park\\'}(Director)\\\\bowtie \\\\sigma_{year born=1945} (Person)}\" border=\"0\"/>'), Document(metadata={'question_id': '146'}, page_content='How many rows will be in the result for the following relational algebra expression?<br> \\r\\n<img src=\"http://latex.codecogs.com/gif.latex?\\\\large \\\\bf \\\\color{red} {\\\\pi_{StudentID,Name}(Study)}\" border=\"0\"/>'), Document(metadata={'question_id': '149'}, page_content='How many rows will be in the result for the following relational algebra expression?<br>\\r\\n <img src=\"http://latex.codecogs.com/gif.latex?\\\\large \\\\bf \\\\color{red} {\\\\pi_{CourseNo}(\\\\sigma_{StudentID = 102}(Study)\\\\cup\\\\sigma_{StudentID = 103}(Study))}\" border=\"0\"/>'), Document(metadata={'question_id': '199'}, page_content='Which of the following is responsible for ensuring the property isolation of database\\r\\ntransactions?'), Document(metadata={'question_id': '200'}, page_content='Given two transactions <img src=\"http://latex.codecogs.com/gif.latex? T_{1}\" border=\"0\"/> and <img src=\"http://latex.codecogs.com/gif.latex? T_{2}\" border=\"0\"/> , which of the following statements is true?'), Document(metadata={'question_id': '201'}, page_content='Which transaction isolation level does not allow dirty reads but does allow unrepeatable reads and phantom reads?'), Document(metadata={'question_id': '203'}, page_content='What operation(s) can a transaction perform if this transaction acquires an exclusive\\r\\nlock?'), Document(metadata={'question_id': '205'}, page_content='Which of the following problems occurs when a transaction re-reads a table and\\r\\nfinds new rows that were inserted into a table by other transactions since its prior read?'), Document(metadata={'question_id': '207'}, page_content='Which properties are ensured by the transaction manager through logging?'), Document(metadata={'question_id': '209'}, page_content='Consider two transactions <img src=\"http://latex.codecogs.com/gif.latex?T_{1}\" border=\"0\"/> and <img src=\"http://latex.codecogs.com/gif.latex?T_{2}\" border=\"0\"/>, and the following schedule in which A and B are two records.<br>\\r\\n<br>\\r\\n<center><table style=\"padding: 20px;text-align: center;width: 30%;\" border=\"1\">\\r\\n\\r\\n  <tr>\\r\\n    <th><center><img src=\"http://latex.codecogs.com/gif.latex?T_{1}\" border=\"0\"/></th>\\r\\n    <th><center><img src=\"http://latex.codecogs.com/gif.latex?T_{2}\" border=\"0\"/></th>\\r\\n  </tr>\\r\\n  <tr>\\r\\n    <td> read(B) </td>\\r\\n    <td> </td>\\r\\n  </tr>\\r\\n  <tr>\\r\\n    <td>  </td>\\r\\n    <td> read(A)</td>\\r\\n  </tr>\\r\\n <tr>\\r\\n    <td> </td>\\r\\n    <td> write(A) </td>\\r\\n  </tr>\\r\\n\\r\\n<tr>\\r\\n    <td> read(A) </td>\\r\\n    <td>  </td>\\r\\n  </tr>\\r\\n<tr>\\r\\n    <td>  </td>\\r\\n    <td> read(B)</td>\\r\\n  </tr>\\r\\n<tr>\\r\\n    <td>  </td>\\r\\n    <td>write(B) </td>\\r\\n  </tr>\\r\\n<tr>\\r\\n    <td>commit  </td>\\r\\n    <td> </td>\\r\\n  </tr>\\r\\n<tr>\\r\\n    <td>  </td>\\r\\n    <td>Abort  </td>\\r\\n  </tr>\\r\\n</table></center>\\r\\n<br>\\r\\nWhich of the following problems may occur in this schedule?'), Document(metadata={'question_id': '211'}, page_content='Consider the table Worker(name, payrate, hours) with name as the primary key and the\\r\\nfollowing two concurrent transactions:<br>\\r\\n<br>\\r\\n<img src=\"http://latex.codecogs.com/gif.latex?T_{1}\" border=\"0\"/>:<br>\\r\\n<br>\\r\\nBegin Transaction;<br>\\r\\nupdate Worker set payrate = 1.2*payrate where name = ‘Tom\\';<br>\\r\\nupdate Worker set payrate = 1.5*payrate where name = ‘Tom\\';<br>\\r\\nCommit;<br>\\r\\n<br>\\r\\n<img src=\"http://latex.codecogs.com/gif.latex?T_{2}\" border=\"0\"/>:<br>\\r\\n<br>\\r\\nBegin Transaction;<br>\\r\\nupdate Worker set payrate = payrate+20 where name = ‘Tom\\';<br>\\r\\nupdate Worker set payrate = payrate+10 where name = ‘Tom\\';<br>\\r\\nCommit;<br>\\r\\n<br>\\r\\nAssume Tom’s pay rate is 20 before the transactions <img src=\"http://latex.codecogs.com/gif.latex?T_{1}\" border=\"0\"/> and <img src=\"http://latex.codecogs.com/gif.latex?T_{2}\" border=\"0\"/> begin.<br>\\r\\n<br>\\r\\nIf the transaction isolation level is “serializable”, what are the possible values for Tom\\'s\\r\\npay rate after executing these two transactions?'), Document(metadata={'question_id': '212'}, page_content='Consider the table Worker(name, payrate, hours) with name as the primary key and the\\r\\nfollowing two concurrent transactions:<br>\\r\\n<br>\\r\\n<img src=\"http://latex.codecogs.com/gif.latex?T_{1}\" border=\"0\"/>:<br>\\r\\n<br>\\r\\nBegin Transaction;<br>\\r\\nupdate Worker set payrate = 1.2*payrate where name = ‘Tom\\';<br>\\r\\nupdate Worker set payrate = 1.5*payrate where name = ‘Tom\\';<br>\\r\\nCommit;<br>\\r\\n<br>\\r\\n<img src=\"http://latex.codecogs.com/gif.latex?T_{2}\" border=\"0\"/>:<br>\\r\\n<br>\\r\\nBegin Transaction;<br>\\r\\nupdate Worker set payrate = payrate+20 where name = ‘Tom\\';<br>\\r\\nupdate Worker set payrate = payrate+10 where name = ‘Tom\\';<br>\\r\\nCommit;<br>\\r\\n<br>\\r\\nAssume Tom’s pay rate is 20 before the transactions <img src=\"http://latex.codecogs.com/gif.latex?T_{1}\" border=\"0\"/> and <img src=\"http://latex.codecogs.com/gif.latex?T_{2}\" border=\"0\"/> begin.<br>\\r\\n<br>\\r\\nIf the transaction isolation level is “read committed”, what are the possible values for\\r\\nTom’s pay rate after executing these two transactions?'), Document(metadata={'question_id': '181'}, page_content='If we wish to grant a privilege to a user and also allow the user to pass the privilege on to other users, which of the following should we append to the appropriate grant command?'), Document(metadata={'question_id': '182'}, page_content='Which of the following is a characteristic of Mandatory Access Control (MAC)?'), Document(metadata={'question_id': '186'}, page_content='For Discretionary Access Control (DAC), which of the following statements is true?'), Document(metadata={'question_id': '187'}, page_content='Which of the following is an inherent flaw in Discretionary Access Control (DAC)?'), Document(metadata={'question_id': '190'}, page_content='You work as a database administrator at ToyWorld. They manage database security using a Role Based Access Control (RBAC) model. There are three types of resources, including files, printers, and mailboxes, and four departments with distinct functions: Sales, Marketing, Management, and Production in ToyWorld. Each department needs access to different resources. Each user has a workstation. Which roles should you create to support this RBAC model?'), Document(metadata={'question_id': '191'}, page_content='What is an authentication method?'), Document(metadata={'question_id': '193'}, page_content='Assuming that Linda is the owner of the relation Event, after completing the following\\r\\nthree actions, which of the following statements is correct?<br>\\r\\nStep | By | Action<br>\\r\\n1 | Linda| GRANT select TO Amy, Peter ON Event WITH GRANT OPTION;<br>\\r\\n2 |Amy| GRANT select TO Peter ON Event;<br>\\r\\n3 |Linda| REVOKE select ON Event FROM Amy CASCADE;<br>'), Document(metadata={'question_id': '197'}, page_content='What is a covert channel?'), Document(metadata={'question_id': '198'}, page_content='An internet banking system requires a user to enter their password, then the system\\r\\nsends an SMS to the user’s registered mobile phone, containing another sequence of\\r\\ncharacters, and the user must enter this as well. Which of the following terms describes\\r\\nthis example of authentication?'), Document(metadata={'question_id': '164'}, page_content='Consider the following database schema:<br> \\r\\n<br> \\r\\nMovie(title, production year, country, run time, major genre)<br> \\r\\nprimary key : {title, production year}<br> \\r\\n<br> \\r\\nPerson(id, first name, last name, year born)<br> \\r\\nprimary key : {id}<br> \\r\\n<br> \\r\\nDirector(id, title, production year)<br> \\r\\nprimary key : {title, production year}<br> \\r\\nforeign keys : [title, production year] ⊆ Movie[title, production year], [id] ⊆ Person[id]<br> \\r\\n<br> \\r\\nWriter(id, title, production year, credits)<br> \\r\\nprimary key : {id, title, production year}<br> \\r\\nforeign keys : [title, production year] ⊆ Movie[title, production year], [id] ⊆ Person[id]<br> \\r\\n<br>\\r\\nAre the following two RA expressions equivalent?<br>\\r\\n<br>\\r\\n<img src=\"http://latex.codecogs.com/gif.latex?\\\\bf \\\\large \\\\color{red} {\\\\pi_{title,credits}(Movie\\\\bowtie Writer)}\" border=\"0\"/><br>\\r\\n<img src=\"http://latex.codecogs.com/gif.latex?\\\\bf \\\\large \\\\color{red} { ({\\\\pi_{title,credits}(Movie))\\\\bowtie (Writer)}}\" border=\"0\"/>'), Document(metadata={'question_id': '168'}, page_content='Consider the following database schema:<br> \\r\\n<br> \\r\\nMovie(title, production year, country, run time, major genre)<br> \\r\\nprimary key : {title, production year}<br> \\r\\n<br> \\r\\nPerson(id, first name, last name, year born)<br> \\r\\nprimary key : {id}<br> \\r\\n<br> \\r\\nDirector(id, title, production year)<br> \\r\\nprimary key : {title, production year}<br> \\r\\nforeign keys : [title, production year] ⊆ Movie[title, production year], [id] ⊆ Person[id]<br> \\r\\n<br> \\r\\nWriter(id, title, production year, credits)<br> \\r\\nprimary key : {id, title, production year}<br> \\r\\nforeign keys : [title, production year] ⊆ Movie[title, production year], [id] ⊆ Person[id]<br> \\r\\n<br>\\r\\nWhich of the following RAs will output the first and last names of the directors who have directed movies produced in USA?<br>\\r\\n<br>\\r\\nA: <img src=\"http://latex.codecogs.com/gif.latex?\\\\bf \\\\large \\\\color{red} {\\\\pi_{firstname,lastname}(\\\\sigma_{country=\\' USA\\'}((Movie\\\\bowtie Director)\\\\bowtie Person))}\" border=\"0\"/><br>\\r\\nB: <img src=\"http://latex.codecogs.com/gif.latex?\\\\bf \\\\large \\\\color{red} {\\\\pi_{firstname,lastname}(\\\\sigma_{country=\\' USA\\'}((Movie\\\\bowtie Person)\\\\bowtie Director ))}\" border=\"0\"/>'), Document(metadata={'question_id': '169'}, page_content='Consider the following database schema:<br> \\r\\n<br> \\r\\nMovie(title, production year, country, run time, major genre)<br> \\r\\nprimary key : {title, production year}<br> \\r\\n<br> \\r\\nPerson(id, first name, last name, year born)<br> \\r\\nprimary key : {id}<br> \\r\\n<br> \\r\\nDirector(id, title, production year)<br> \\r\\nprimary key : {title, production year}<br> \\r\\nforeign keys : [title, production year] ⊆ Movie[title, production year], [id] ⊆ Person[id]<br> \\r\\n<br> \\r\\nWriter(id, title, production year, credits)<br> \\r\\nprimary key : {id, title, production year}<br> \\r\\nforeign keys : [title, production year] ⊆ Movie[title, production year], [id] ⊆ Person[id]<br> \\r\\n<br>\\r\\nWhich of the following RAs will output the first and last names of the writers who were born in 1970 and have written movies produced in 2010?<br>\\r\\n<br>\\r\\nA: <img src=\"http://latex.codecogs.com/gif.latex?\\\\bf \\\\large \\\\color{red} {\\\\pi_{firstname,lastname}(\\\\sigma_{yearborn=1970}(Writer\\\\bowtie Person)\\\\bowtie \\\\sigma_{productionyear=2010}(Movie ))}\" border=\"0\"/><br>\\r\\nB: <img src=\"http://latex.codecogs.com/gif.latex?\\\\bf \\\\large \\\\color{red} {\\\\pi_{firstname,lastname}(\\\\sigma_{yearborn=1970 \\\\wedge production year=2010}(Writer\\\\bowtie Person\\\\bowtie Movie ))}\" border=\"0\"/>'), Document(metadata={'question_id': '170'}, page_content='Consider the following database schema:<br> \\r\\n<br> \\r\\nMovie(title, production year, country, run time, major genre)<br> \\r\\nprimary key : {title, production year}<br> \\r\\n<br> \\r\\nPerson(id, first name, last name, year born)<br> \\r\\nprimary key : {id}<br> \\r\\n<br> \\r\\nDirector(id, title, production year)<br> \\r\\nprimary key : {title, production year}<br> \\r\\nforeign keys : [title, production year] ⊆ Movie[title, production year], [id] ⊆ Person[id]<br> \\r\\n<br> \\r\\nWriter(id, title, production year, credits)<br> \\r\\nprimary key : {id, title, production year}<br> \\r\\nforeign keys : [title, production year] ⊆ Movie[title, production year], [id] ⊆ Person[id]<br> \\r\\n<br>\\r\\nWhich of the following RAs will output the first and last names of the directors who have never written any movies?<br>\\r\\n<br>\\r\\nA: <img src=\"http://latex.codecogs.com/gif.latex?\\\\bf \\\\large \\\\color{red} {\\\\pi_{firstname,lastname}(Person \\\\bowtie (Director-Writer))}\" border=\"0\"/><br>\\r\\nB: <img src=\"http://latex.codecogs.com/gif.latex?\\\\bf \\\\large \\\\color{red} {\\\\pi_{firstname,lastname}(Director \\\\bowtie Person)-\\\\pi_{firstname,lastname}(Writer\\\\bowtie Person)}\" border=\"0\"/>'), Document(metadata={'question_id': '171'}, page_content='Consider the following database schema:<br> \\r\\n<br> \\r\\nMovie(title, production year, country, run time, major genre)<br> \\r\\nprimary key : {title, production year}<br> \\r\\n<br> \\r\\nPerson(id, first name, last name, year born)<br> \\r\\nprimary key : {id}<br> \\r\\n<br> \\r\\nDirector(id, title, production year)<br> \\r\\nprimary key : {title, production year}<br> \\r\\nforeign keys : [title, production year] ⊆ Movie[title, production year], [id] ⊆ Person[id]<br> \\r\\n<br> \\r\\nWriter(id, title, production year, credits)<br> \\r\\nprimary key : {id, title, production year}<br> \\r\\nforeign keys : [title, production year] ⊆ Movie[title, production year], [id] ⊆ Person[id]<br> \\r\\n<br>\\r\\nWhich of the following RAs will output the first and last names of the directors who have never written any movies?<br>\\r\\n<br>\\r\\nA: <img src=\"http://latex.codecogs.com/gif.latex?\\\\bf \\\\large \\\\color{red} {\\\\pi_{firstname,lastname}(Person \\\\bowtie (Director\\\\bowtie _{Director.id \\\\neq Writer.id}Writer))}\" border=\"0\"/><br>\\r\\nB: <img src=\"http://latex.codecogs.com/gif.latex?\\\\bf \\\\large \\\\color{red} {\\\\pi_{firstname,lastname}(Person \\\\bowtie (\\\\pi_{id}(Director)- \\\\pi_{id}(Writer)))}\" border=\"0\"/>'), Document(metadata={'question_id': '173'}, page_content='Consider the following database schema:<br> \\r\\n<br> \\r\\nMovie(title, production year, country, run time, major genre)<br> \\r\\nprimary key : {title, production year}<br> \\r\\n<br> \\r\\nPerson(id, first name, last name, year born)<br> \\r\\nprimary key : {id}<br> \\r\\n<br> \\r\\nDirector(id, title, production year)<br> \\r\\nprimary key : {title, production year}<br> \\r\\nforeign keys : [title, production year] ⊆ Movie[title, production year], [id] ⊆ Person[id]<br> \\r\\n<br> \\r\\nWriter(id, title, production year, credits)<br> \\r\\nprimary key : {id, title, production year}<br> \\r\\nforeign keys : [title, production year] ⊆ Movie[title, production year], [id] ⊆ Person[id]<br> \\r\\n<br>\\r\\nWhich of the following RAs will give you the ids of the directors who have directed both comedy movies and action movies?<br>\\r\\n<br>\\r\\nA: <img src=\"http://latex.codecogs.com/gif.latex?\\\\bf \\\\large \\\\color{red} {\\\\pi_{id}(Director\\\\bowtie(\\\\sigma_{major genre=\\' comedy\\'}(Movie)\\\\cap\\\\sigma_{major genre=\\' action\\'}(Movie)) )}\" border=\"0\"/><br>\\r\\nB: <img src=\"http://latex.codecogs.com/gif.latex?\\\\bf \\\\large \\\\color{red} {\\\\pi_{id}(\\\\sigma_{major genre=\\' comedy\\'}(Director\\\\bowtie Movie))\\\\cap\\\\pi_{id}(\\\\sigma_{major genre=\\' action\\'}(Director\\\\bowtie Movie)) }\" border=\"0\"/>'), Document(metadata={'question_id': '177'}, page_content='Consider the following database schema:<br> \\r\\n<br> \\r\\nMovie(title, production year, country, run time, major genre)<br> \\r\\nprimary key : {title, production year}<br> \\r\\n<br> \\r\\nPerson(id, first name, last name, year born)<br> \\r\\nprimary key : {id}<br> \\r\\n<br> \\r\\nDirector(id, title, production year)<br> \\r\\nprimary key : {title, production year}<br> \\r\\nforeign keys : [title, production year] ⊆ Movie[title, production year], [id] ⊆ Person[id]<br> \\r\\n<br> \\r\\nWriter(id, title, production year, credits)<br> \\r\\nprimary key : {id, title, production year}<br> \\r\\nforeign keys : [title, production year] ⊆ Movie[title, production year], [id] ⊆ Person[id]<br> \\r\\n<br>\\r\\nWhich of the following RAs output the titles and production years of the movies which were written by writers born after 1980?<br>\\r\\n<br>\\r\\nA: <img src=\"http://latex.codecogs.com/gif.latex?\\\\bf \\\\large \\\\color{red} {\\\\pi_{title,production year} (Movie\\\\bowtie (Writer\\\\bowtie (\\\\sigma_{year born>1980}(Person)))) }\" border=\"0\"/><br>\\r\\nB: <img src=\"http://latex.codecogs.com/gif.latex?\\\\bf \\\\large \\\\color{red} {\\\\pi_{title,production year}(Writer\\\\bowtie (\\\\sigma_{year born>1980}(Person))) }\" border=\"0\"/>'), Document(metadata={'question_id': '153'}, page_content='How many rows will be in the result for the following relational algebra expression?<br> \\r\\n<img src=\"http://latex.codecogs.com/gif.latex?\\\\large \\\\bf \\\\color{red} {Course\\\\times Enrol}\" border=\"0\"/>'), Document(metadata={'question_id': '132'}, page_content='R={A, B, C} and Σ = {A→B, B→C, A→C}. The decomposition of R into R1 = {A, B} and R2 = {B, C}'), Document(metadata={'question_id': '140'}, page_content='Which of the following is correct about 3NF?'), Document(metadata={'question_id': '141'}, page_content='Which of the following is correct?'), Document(metadata={'question_id': '116'}, page_content='R={A,B,C}, Σ1={A→ B, B→ C} and Σ2={A→ C, B→ C}. Is the following statement true or false? Σ1 and Σ2 are equivalent '), Document(metadata={'question_id': '118'}, page_content='R={A,B,C}, Σ1={A→ B, B→ C} and Σ2={A→ C, B→ C}. Is the following statement true or false? Σ2 ⊨  Σ1 '), Document(metadata={'question_id': '121'}, page_content='R={A,B,C}, Σ1={A→ B, AB→ C} and Σ2={A→ B, B→ C}. Is the following statement true or false? Σ2 is a minimal cover of Σ1 '), Document(metadata={'question_id': '123'}, page_content='R={A,B,C}, Σ={A→ B, AB→ C}. Is the following statement true or false? A is a CK of R '), Document(metadata={'question_id': '125'}, page_content='R={A,B,C}, Σ={A→ B, AB→ C}. Is the following statement true or false?  A is the only CK of R '), Document(metadata={'question_id': '128'}, page_content='R={A,B,C, D}, Σ={A→ B, B→ AD, CD→AB}. Is the following statement true or false?  C must be part of each CK of R.'), Document(metadata={'question_id': '95'}, page_content='Consider a database that stores names, addresses and unique IDs of employees in a fitness centre. The employees are classified into three categories: trainers, administrators and technicians. Each trainer has one or more specialities, e.g., weight gain, weight loss, strength building, etc. An administrator can register new members and be reached through a landline phone number. Each member is identified by an email address. The fitness centre organises fitness classes for members. Each class has a name, a start date, an end date, and a daily time slot. No two fitness classes have the same daily time slot, and for each fitness class the start date must be before the end date. A member may choose to participate in one or more fitness classes and may also choose one of the trainers as their personal trainer. Each fitness class is attended by one or more members and instructed by only one trainer. Not all trainers deliver fitness classes. After receiving the approval from an administrator, a member may choose to add multiple associate members who will have partial access to the services provided by the fitness centre, and an associate number (i.e., 1, 2, . . .) and the name of each associate member are recorded in the database. The database keeps track of equipment available in the fitness centre. Each piece of equipment has a unique ID and must have one of the following three status types: new, working or broken. Each technician has a mobile phone number. Technicians maintain equipment in the fitness centre and the database records the date of each maintenance event. Each piece of equipment should be maintained at least twice a year.</br>\\r\\n</br>\\r\\nWhich of the following can be modelled as an attribute?\\r\\n'), Document(metadata={'question_id': '99'}, page_content='Consider a database that stores names, addresses and unique IDs of employees in a fitness centre. The employees are classified into three categories: trainers, administrators and technicians. Each trainer has one or more specialities, e.g., weight gain, weight loss, strength building, etc. An administrator can register new members and be reached through a landline phone number. Each member is identified by an email address. The fitness centre organises fitness classes for members. Each class has a name, a start date, an end date, and a daily time slot. No two fitness classes have the same daily time slot, and for each fitness class the start date must be before the end date. A member may choose to participate in one or more fitness classes and may also choose one of the trainers as their personal trainer. Each fitness class is attended by one or more members and instructed by only one trainer. Not all trainers deliver fitness classes. After receiving the approval from an administrator, a member may choose to add multiple associate members who will have partial access to the services provided by the fitness centre, and an associate number (i.e., 1, 2, . . .) and the name of each associate member are recorded in the database. The database keeps track of equipment available in the fitness centre. Each piece of equipment has a unique ID and must have one of the following three status types: new, working or broken. Each technician has a mobile phone number. Technicians maintain equipment in the fitness centre and the database records the date of each maintenance event. Each piece of equipment should be maintained at least twice a year.</br>\\r\\n</br>\\r\\nWhich of the following best models the relationship between \"employee\", and \"trainers\"/\"administrators\"/\"technicians\"?'), Document(metadata={'question_id': '105'}, page_content='Consider a database that stores names, addresses and unique IDs of employees in a fitness centre. The employees are classified into three categories: trainers, administrators and technicians. Each trainer has one or more specialities, e.g., weight gain, weight loss, strength building, etc. An administrator can register new members and be reached through a landline phone number. Each member is identified by an email address. The fitness centre organises fitness classes for members. Each class has a name, a start date, an end date, and a daily time slot. No two fitness classes have the same daily time slot, and for each fitness class the start date must be before the end date. A member may choose to participate in one or more fitness classes and may also choose one of the trainers as their personal trainer. Each fitness class is attended by one or more members and instructed by only one trainer. Not all trainers deliver fitness classes. After receiving the approval from an administrator, a member may choose to add multiple associate members who will have partial access to the services provided by the fitness centre, and an associate number (i.e., 1, 2, . . .) and the name of each associate member are recorded in the database. The database keeps track of equipment available in the fitness centre. Each piece of equipment has a unique ID and must have one of the following three status types: new, working or broken. Each technician has a mobile phone number. Technicians maintain equipment in the fitness centre and the database records the date of each maintenance event. Each piece of equipment should be maintained at least twice a year.</br>\\r\\n</br>\\r\\nSuppose that \"instruct\" is a relationship type between two entity types \"trainer\" and \"fitness class\". What is the participation constraint on \"fitness class\" in \"instruct\"?'), Document(metadata={'question_id': '107'}, page_content='Consider a database that stores names, addresses and unique IDs of employees in a fitness centre. The employees are classified into three categories: trainers, administrators and technicians. Each trainer has one or more specialities, e.g., weight gain, weight loss, strength building, etc. An administrator can register new members and be reached through a landline phone number. Each member is identified by an email address. The fitness centre organises fitness classes for members. Each class has a name, a start date, an end date, and a daily time slot. No two fitness classes have the same daily time slot, and for each fitness class the start date must be before the end date. A member may choose to participate in one or more fitness classes and may also choose one of the trainers as their personal trainer. Each fitness class is attended by one or more members and instructed by only one trainer. Not all trainers deliver fitness classes. After receiving the approval from an administrator, a member may choose to add multiple associate members who will have partial access to the services provided by the fitness centre, and an associate number (i.e., 1, 2, . . .) and the name of each associate member are recorded in the database. The database keeps track of equipment available in the fitness centre. Each piece of equipment has a unique ID and must have one of the following three status types: new, working or broken. Each technician has a mobile phone number. Technicians maintain equipment in the fitness centre and the database records the date of each maintenance event. Each piece of equipment should be maintained at least twice a year.</br>\\r\\n</br>\\r\\nIf we model \"administrator\" as an entity type, which of the following is its key attribute?'), Document(metadata={'question_id': '57'}, page_content='The ________ clause is used to list the attributes desired in the result of a query.'), Document(metadata={'question_id': '58'}, page_content='In SQL, which of the following is included in DML (Data Manipulation Language)?'), Document(metadata={'question_id': '59'}, page_content='In SQL, which command is used to add new rows to a table?'), Document(metadata={'question_id': '60'}, page_content='What is the syntax to add a new tuple to a relation? (Consider D as the relation and (a, b, c) as the new tuple)'), Document(metadata={'question_id': '62'}, page_content='The _____ operation combines two relations by merging pairs of matching tuples, one from each relation, into a single tuple.'), Document(metadata={'question_id': '64'}, page_content='What will be the output of the following query?  </br>\\r\\n<font color=\"blue\">SELECT COUNT</font>(*) </br>\\r\\n<font color=\"blue\">FROM</font> person;'), Document(metadata={'question_id': '65'}, page_content='Which of the following statement correctly creates the relation schema Enrol(StudentID:<font color=\"blue\"> INT</font>, CourseNo: <font color=\"blue\"> STRING</font>, Semester: <font color=\"blue\"> STRING</font>)?'), Document(metadata={'question_id': '66'}, page_content='If {StudentID, CourseNo, Semester} is the primary key for  the relation schema Enrol, then the entity integrity constraints guarantee ___________.'), Document(metadata={'question_id': '67'}, page_content='What referential integrity constraints do the following statements define? </br>\\r\\n<font color=\"blue\">CREATE TABLE </font>Student(StudentID<font color=\"blue\"> INT  PRIMARY KEY</font>, Name <font color=\"blue\">VARCHAR</font>(50)); </br>\\r\\n<font color=\"blue\">CREATE TABLE</font> Enrol (StudentID<font color=\"blue\"> INT</font>, CourseNo <font color=\"blue\">VARCHAR</font>(20), Semester<font color=\"blue\"> VARCHAR</font>(50),<font color=\"blue\"> FOREIGN KEY</font>(StudentID) <font color=\"blue\">REFERENCES</font> Student(StudentID));'), Document(metadata={'question_id': '72'}, page_content='How many rows will be in the result for the following Select statement?</br>\\r\\n<font color=\"blue\">SELECT</font> CourseNo </br>\\r\\n<font color=\"blue\">FROM</font> Study </br>\\r\\n<font color=\"blue\">WHERE</font> (StudentID = 102) <font color=\"blue\">OR</font> (StudentID = 103);'), Document(metadata={'question_id': '73'}, page_content='What is the query result for the following Select statement? </br>\\r\\n<font color=\"blue\">SELECT COUNT</font>(units),<font color=\"blue\"> MIN</font>(units)  </br>\\r\\n<font color=\"blue\">FROM</font>  Study;'), Document(metadata={'question_id': '74'}, page_content='How many rows will be in the query result for the following Select statement?</br>\\r\\n<font color=\"blue\">SELECT</font> StudentID, <font color=\"blue\">COUNT</font>(*)</br>\\r\\n<font color=\"blue\">FROM</font> Study</br>\\r\\n<font color=\"blue\">GROUP BY</font> StudentID;'), Document(metadata={'question_id': '75'}, page_content='How many rows will be in the result for the following Select statement? </br>\\r\\n<font color=\"blue\">SELECT</font> CourseNo, <font color=\"blue\">COUNT</font>(*) </br>\\r\\n<font color=\"blue\">FROM</font> Study </br>\\r\\n<font color=\"blue\"> GROUP BY</font> CourseNo </br>\\r\\n<font color=\"blue\"> Having COUNT</font>(*) > 1;'), Document(metadata={'question_id': '77'}, page_content='How many rows will be in the result for the following Select statement?</br>\\r\\n<font color=\"blue\">SELECT</font> CourseNo</br> <font color=\"blue\">FROM</font> Study</br>\\r\\n<font color=\"blue\">WHERE</font> StudentID=102</br>\\r\\n<font color=\"blue\">EXCEPT</font></br>\\r\\n<font color=\"blue\">SELECT</font> CourseNo </br><font color=\"blue\">FROM</font> Study</br>\\r\\n<font color=\"blue\">WHERE</font> StudentID=103;'), Document(metadata={'question_id': '79'}, page_content='How many rows will be in the query result for the following Select statement?\\r\\n</br><font color=\"blue\">SELECT</font> *</br>\\r\\n<font color=\"blue\">FROM</font> Course <font color=\"blue\">INNER JOIN</font> Enrol <font color=\"blue\">ON</font> Course.CourseNo=Enrol.CourseNo;'), Document(metadata={'question_id': '80'}, page_content='How many rows will be in the query result for the following Select statement?</br>\\r\\n<font color=\"blue\">SELECT</font> *</br>\\r\\n<font color=\"blue\">FROM</font> Course <font color=\"blue\">NATURAL JOIN</font> Enrol;'), Document(metadata={'question_id': '82'}, page_content='How many rows will be in the query result for the following Select statement?</br>\\r\\n<font color=\"blue\">SELECT</font> *</br>\\r\\n<font color=\"blue\">FROM</font> Course, Enrol</br>\\r\\n<font color=\"blue\">WHERE</font> Course.CourseNo=Enrol.CourseNo <font color=\"blue\">AND</font> Year = 2018;'), Document(metadata={'question_id': '83'}, page_content='How many rows will be in the query result for the following Select statement?</br>\\r\\n<font color=\"blue\">SELECT</font> *</br>\\r\\n<font color=\"blue\">FROM</font> Enrol e</br>\\r\\n<font color=\"blue\">WHERE EXISTS</font> (<font color=\"blue\">SELECT </font>*</br>\\r\\n                                                    <font color=\"blue\">FROM</font> Course c</br>\\r\\n                                                           <font color=\"blue\">WHERE</font> c.CourseNo=e.CourseNo);'), Document(metadata={'question_id': '84'}, page_content='How many rows will be in the query result for the following Select statement?</br>\\r\\n<font color=\"blue\">SELECT</font> *</br>\\r\\n<font color=\"blue\">FROM</font> Course c</br>\\r\\n<font color=\"blue\">WHERE EXISTS</font> (<font color=\"blue\">SELECT</font> *</br>\\r\\n                         <font color=\"blue\"> FROM</font> Enrol e</br>\\r\\n                         <font color=\"blue\"> WHERE</font> c.CourseNo=e.CourseNo);'), Document(metadata={'question_id': '47'}, page_content='If {a,b} is a superkey in R(a,b,c), then'), Document(metadata={'question_id': '48'}, page_content='If {a,b} is a candidate key in R(a,b,c), then___________.'), Document(metadata={'question_id': '49'}, page_content='If {a} is a superkey key in R(a,b,c), then_______________.'), Document(metadata={'question_id': '53'}, page_content='Which of the following commands is used to remove relation schema R from a database?'), Document(metadata={'question_id': '55'}, page_content=' The command <font  color=\"blue\">“CREATE TABLE”</font> belongs to  ________.'), Document(metadata={'question_id': '18'}, page_content='Let A = {1, 2, 3} and B = {1, 2, 5}, then (A - B) ∪ (B - A)=  _______.'), Document(metadata={'question_id': '22'}, page_content='If A = {1, 2, 3} and A ∩ B = {2, 3}, then the number of elements in B cannot be________.'), Document(metadata={'question_id': '25'}, page_content='The shaded area of the figure is best described by'), Document(metadata={'question_id': '27'}, page_content='The shaded area of the figure is best described by'), Document(metadata={'question_id': '29'}, page_content='The cardinality of a set, |X|, is the number of elements of the set X. If |A| = 10, |B| = 5, and |A ∩ B| = 2, then \\r\\n|A U B|=__________.'), Document(metadata={'question_id': '13'}, page_content='If A = {2, 3, 4, 5}, B = {4, 5, 6, 7}, C = {6, 7, 8, 9}, D = {8, 9, 10, 11}, then (A - D) ∩ (B - C)=__________.'), Document(metadata={'question_id': '26'}, page_content='The shaded area of the figure is best described by'), Document(metadata={'question_id': '51'}, page_content='Which of the following data types is not supported in PostgreSQL?'), Document(metadata={'question_id': '52'}, page_content='Which of the following commands is used to create a new relation in PostgreSQL?'), Document(metadata={'question_id': '54'}, page_content='Which of the following commands can be used to remove attribute A from a relation R?'), Document(metadata={'question_id': '69'}, page_content='How many rows will be in the query result for the following Select statement?</br>\\r\\n <font color=\"blue\">SELECT</font> *</br>\\r\\n<font color=\"blue\"> FROM</font> Study </br>\\r\\n<font color=\"blue\">WHERE</font> Name = \\'Tom\\';'), Document(metadata={'question_id': '71'}, page_content='How many rows will be in the result for the following Select statement?</br>\\r\\n<font color=\"blue\">SELECT DISTINCT</font> CourseNo </br>\\r\\n<font color=\"blue\">FROM</font> Study;'), Document(metadata={'question_id': '76'}, page_content='How many rows will be in the result for the following Select statement?</br>\\r\\n<font color=\"blue\">SELECT</font> StudentID</br>\\r\\n<font color=\"blue\">FROM</font> Study</br>\\r\\n<font color=\"blue\">WHERE</font> CourseNo=\\'COMP2400\\'</br>\\r\\n<font color=\"blue\">UNION</font></br>\\r\\n<font color=\"blue\">SELECT</font> StudentID</br>\\r\\n<font color=\"blue\">FROM</font> Study</br>\\r\\n<font color=\"blue\">WHERE</font> CourseNo=\\'STAT2001\\';'), Document(metadata={'question_id': '78'}, page_content='How many rows will be in the query result for the following Select statement?</br>\\r\\n<font color=\"blue\">SELECT</font> *</br>\\r\\n<font color=\"blue\">FROM</font> Course, Enrol;'), Document(metadata={'question_id': '35'}, page_content='If A = {1,2}, B = {a,b}, C = {1,2,3}, and D = {a,b,c}, then A x B ⊆ C x D=_________.'), Document(metadata={'question_id': '96'}, page_content='Consider a database that stores names, addresses and unique IDs of employees in a fitness centre. The employees are classified into three categories: trainers, administrators and technicians. Each trainer has one or more specialities, e.g., weight gain, weight loss, strength building, etc. An administrator can register new members and be reached through a landline phone number. Each member is identified by an email address. The fitness centre organises fitness classes for members. Each class has a name, a start date, an end date, and a daily time slot. No two fitness classes have the same daily time slot, and for each fitness class the start date must be before the end date. A member may choose to participate in one or more fitness classes and may also choose one of the trainers as their personal trainer. Each fitness class is attended by one or more members and instructed by only one trainer. Not all trainers deliver fitness classes. After receiving the approval from an administrator, a member may choose to add multiple associate members who will have partial access to the services provided by the fitness centre, and an associate number (i.e., 1, 2, . . .) and the name of each associate member are recorded in the database. The database keeps track of equipment available in the fitness centre. Each piece of equipment has a unique ID and must have one of the following three status types: new, working or broken. Each technician has a mobile phone number. Technicians maintain equipment in the fitness centre and the database records the date of each maintenance event. Each piece of equipment should be maintained at least twice a year.</br>\\r\\n</br>\\r\\nWhich of the following can be modelled as an attribute?\\r\\n'), Document(metadata={'question_id': '100'}, page_content='Consider a database that stores names, addresses and unique IDs of employees in a fitness centre. The employees are classified into three categories: trainers, administrators and technicians. Each trainer has one or more specialities, e.g., weight gain, weight loss, strength building, etc. An administrator can register new members and be reached through a landline phone number. Each member is identified by an email address. The fitness centre organises fitness classes for members. Each class has a name, a start date, an end date, and a daily time slot. No two fitness classes have the same daily time slot, and for each fitness class the start date must be before the end date. A member may choose to participate in one or more fitness classes and may also choose one of the trainers as their personal trainer. Each fitness class is attended by one or more members and instructed by only one trainer. Not all trainers deliver fitness classes. After receiving the approval from an administrator, a member may choose to add multiple associate members who will have partial access to the services provided by the fitness centre, and an associate number (i.e., 1, 2, . . .) and the name of each associate member are recorded in the database. The database keeps track of equipment available in the fitness centre. Each piece of equipment has a unique ID and must have one of the following three status types: new, working or broken. Each technician has a mobile phone number. Technicians maintain equipment in the fitness centre and the database records the date of each maintenance event. Each piece of equipment should be maintained at least twice a year.</br>\\r\\n</br>\\r\\nWhat is the cardinality ratio of the relationship between \"member\" and \"fitness class\"?\\r\\n'), Document(metadata={'question_id': '106'}, page_content='Consider a database that stores names, addresses and unique IDs of employees in a fitness centre. The employees are classified into three categories: trainers, administrators and technicians. Each trainer has one or more specialities, e.g., weight gain, weight loss, strength building, etc. An administrator can register new members and be reached through a landline phone number. Each member is identified by an email address. The fitness centre organises fitness classes for members. Each class has a name, a start date, an end date, and a daily time slot. No two fitness classes have the same daily time slot, and for each fitness class the start date must be before the end date. A member may choose to participate in one or more fitness classes and may also choose one of the trainers as their personal trainer. Each fitness class is attended by one or more members and instructed by only one trainer. Not all trainers deliver fitness classes. After receiving the approval from an administrator, a member may choose to add multiple associate members who will have partial access to the services provided by the fitness centre, and an associate number (i.e., 1, 2, . . .) and the name of each associate member are recorded in the database. The database keeps track of equipment available in the fitness centre. Each piece of equipment has a unique ID and must have one of the following three status types: new, working or broken. Each technician has a mobile phone number. Technicians maintain equipment in the fitness centre and the database records the date of each maintenance event. Each piece of equipment should be maintained at least twice a year.</br>\\r\\n</br>\\r\\nEach trainer has one or more specialities, e.g., weight gain, weight loss, strength building, etc. What is the best way to model the \"speciality\"of \"trainer\"?'), Document(metadata={'question_id': '119'}, page_content='R={A,B,C}, Σ1={A→ B, AB→ C} and Σ2={A→ B, B→ C}. Is the following statement true or false? Σ1 and Σ2 are equivalent '), Document(metadata={'question_id': '124'}, page_content='R={A,B,C}, Σ={A→ B, AB→ C}. Is the following statement true or false?  AB is a CK of R '), Document(metadata={'question_id': '126'}, page_content='R={A,B,C}, Σ={A→ B, B→ C, C→A}. Is the following statement true or false?  A is the only CK of R '), Document(metadata={'question_id': '127'}, page_content='R={A,B,C}, Σ={A→ B, B→ C, C→A}. Is the following statement true or false?  A, B and C are all prime attributes.'), Document(metadata={'question_id': '129'}, page_content='R={A,B,C, D}, Σ={A→BCD, CD→AB}. Is the following statement true or false?  A is the only CK of R.'), Document(metadata={'question_id': '134'}, page_content='R={A, B, C} and Σ = {A→BC}. Which of the following is correct?  '), Document(metadata={'question_id': '138'}, page_content='R={A,B,C,D}, Σ={AB→ CD, C→ A}. Which of the following is correct?  '), Document(metadata={'question_id': '68'}, page_content='How many rows will be in the query result for the following Select statement?</br>\\r\\n <font color=\"blue\"> SELECT</font> StudentID, Name</br>\\r\\n <font color=\"blue\"> FROM </font>Study;'), Document(metadata={'question_id': '70'}, page_content='How many rows will be in the query result for the following Select statement?</br>\\r\\n<font color=\"blue\">SELECT</font> * </br>\\r\\n<font color=\"blue\">FROM</font> Study </br>\\r\\n<font color=\"blue\">WHERE</font> lower(Name) = \\'tom\\';'), Document(metadata={'question_id': '85'}, page_content='How many rows will be in the query result for the following Select statement?</br>\\r\\n<font color=\"blue\">SELECT</font> *</br>\\r\\n<font color=\"blue\">FROM</font> Enrol e</br>\\r\\n<font color=\"blue\">WHERE</font> e.CourseNo <font color=\"blue\">IN</font> (<font color=\"blue\">SELECT</font> c.CourseNo</br>\\r\\n                          \\t        <font color=\"blue\"> FROM</font> Course c</br>\\r\\n\\t\\t        <font color=\"blue\"> WHERE</font> CourseName = ‘Relational Databases’);'), Document(metadata={'question_id': '87'}, page_content='Which of the following Select statement correctly list the CourseNo and the corresponding number of students enrolled for all courses in 2019?'), Document(metadata={'question_id': '147'}, page_content='How many rows will be in the result for the following relational algebra expression?<br> \\r\\n<img src=\"http://latex.codecogs.com/gif.latex?\\\\large \\\\bf \\\\color{red} {\\\\sigma_{name=\\' Fran\\'}(Study)}\" border=\"0\"/>'), Document(metadata={'question_id': '152'}, page_content='How many rows will be in the result for the following relational algebra expression?<br> \\r\\n<img src=\"http://latex.codecogs.com/gif.latex?\\\\large \\\\bf \\\\color{red} {\\\\pi_{CourseNo}(\\\\sigma_{StudentID=102}(Study)- \\\\sigma_{StudentID=103}(Study))}\" border=\"0\"/>'), Document(metadata={'question_id': '163'}, page_content='Consider the following database schema:<br> \\r\\n<br> \\r\\nMovie(title, production year, country, run time, major genre)<br> \\r\\nprimary key : {title, production year}<br> \\r\\n<br> \\r\\nPerson(id, first name, last name, year born)<br> \\r\\nprimary key : {id}<br> \\r\\n<br> \\r\\nDirector(id, title, production year)<br> \\r\\nprimary key : {title, production year}<br> \\r\\nforeign keys : [title, production year] ⊆ Movie[title, production year], [id] ⊆ Person[id]<br> \\r\\n<br> \\r\\nWriter(id, title, production year, credits)<br> \\r\\nprimary key : {id, title, production year}<br> \\r\\nforeign keys : [title, production year] ⊆ Movie[title, production year], [id] ⊆ Person[id]<br> \\r\\n<br>\\r\\nAre the following two RA expressions equivalent?<br>\\r\\n<br>\\r\\n<img src=\"http://latex.codecogs.com/gif.latex?\\\\color{red} {\\\\bf \\\\large \\\\sigma_{title=\\'TheCove\\'}(\\\\sigma_{production year=2007}(Movie))}\" border=\"0\"/><br>\\r\\n<img src=\"http://latex.codecogs.com/gif.latex?\\\\color{red} {\\\\bf \\\\large \\\\sigma_{production year=2007}(\\\\sigma_{title=\\'TheCove\\'}(Movie))}\" border=\"0\"/>\\r\\n'), Document(metadata={'question_id': '176'}, page_content='Consider the following database schema:<br> \\r\\n<br> \\r\\nMovie(title, production year, country, run time, major genre)<br> \\r\\nprimary key : {title, production year}<br> \\r\\n<br> \\r\\nPerson(id, first name, last name, year born)<br> \\r\\nprimary key : {id}<br> \\r\\n<br> \\r\\nDirector(id, title, production year)<br> \\r\\nprimary key : {title, production year}<br> \\r\\nforeign keys : [title, production year] ⊆ Movie[title, production year], [id] ⊆ Person[id]<br> \\r\\n<br> \\r\\nWriter(id, title, production year, credits)<br> \\r\\nprimary key : {id, title, production year}<br> \\r\\nforeign keys : [title, production year] ⊆ Movie[title, production year], [id] ⊆ Person[id]<br> \\r\\n<br>\\r\\nWhich of the following RAs output the ids of the directors who have directed any comedy or action movies?<br>\\r\\n<br>\\r\\nA: <img src=\"http://latex.codecogs.com/gif.latex?\\\\bf \\\\large \\\\color{red} {\\\\pi_{id}(Director\\\\bowtie (\\\\sigma_{major genre=\\' comedy\\'}(Movie)\\\\cup\\\\sigma_{major genre=\\' action\\'}(Movie))) }\" border=\"0\"/><br>\\r\\nB: <img src=\"http://latex.codecogs.com/gif.latex?\\\\bf \\\\large \\\\color{red} {\\\\pi_{id} (\\\\sigma_{major genre=\\' comedy\\'}(Director\\\\bowtie Movie))\\\\cup\\\\pi_{id}(\\\\sigma_{major genre=\\' action\\'}(Director\\\\bowtie Movie)) }\" border=\"0\"/>'), Document(metadata={'question_id': '178'}, page_content='Consider the following database schema:<br> \\r\\n<br> \\r\\nMovie(title, production year, country, run time, major genre)<br> \\r\\nprimary key : {title, production year}<br> \\r\\n<br> \\r\\nPerson(id, first name, last name, year born)<br> \\r\\nprimary key : {id}<br> \\r\\n<br> \\r\\nDirector(id, title, production year)<br> \\r\\nprimary key : {title, production year}<br> \\r\\nforeign keys : [title, production year] ⊆ Movie[title, production year], [id] ⊆ Person[id]<br> \\r\\n<br> \\r\\nWriter(id, title, production year, credits)<br> \\r\\nprimary key : {id, title, production year}<br> \\r\\nforeign keys : [title, production year] ⊆ Movie[title, production year], [id] ⊆ Person[id]<br> \\r\\n<br>\\r\\nWhich of the following RAs output the titles and production years of the movies which were written by writers born after 1980?<br>\\r\\n<br>\\r\\nA: <img src=\"http://latex.codecogs.com/gif.latex?\\\\bf \\\\large \\\\color{red} {\\\\pi_{title,production year}(Writer\\\\bowtie (\\\\sigma_{year born>1980}(Person))) }\" border=\"0\"/><br>\\r\\nB: <img src=\"http://latex.codecogs.com/gif.latex?\\\\bf \\\\large \\\\color{red} {\\\\pi_{title,production year}(\\\\pi_{title,production year}(Writer)\\\\bowtie (\\\\sigma_{year born>1980}(Person))) }\" border=\"0\"/>'), Document(metadata={'question_id': '202'}, page_content='What is the correctness criterion for concurrent transactions?'), Document(metadata={'question_id': '206'}, page_content='Which of the following are the advantages of concurrent transactions?'), Document(metadata={'question_id': '208'}, page_content='Consider two transactions <img src=\"http://latex.codecogs.com/gif.latex?T_{1}\" border=\"0\"/> and <img src=\"http://latex.codecogs.com/gif.latex?T_{2}\" border=\"0\"/> , and the following schedule in which A and B are two records.<br>\\r\\n<br>\\r\\n<center><table style=\"padding: 20px;text-align: center;width: 30%;\" border=\"1\">\\r\\n\\r\\n  <tr>\\r\\n    <th><center><img src=\"http://latex.codecogs.com/gif.latex?T_{1}\" border=\"0\"/></th>\\r\\n    <th><center><img src=\"http://latex.codecogs.com/gif.latex?T_{2}\" border=\"0\"/></th>\\r\\n  </tr>\\r\\n  <tr>\\r\\n    <td> read(A) </td>\\r\\n    <td> </td>\\r\\n  </tr>\\r\\n  <tr>\\r\\n    <td> write(A) </td>\\r\\n    <td> </td>\\r\\n  </tr>\\r\\n <tr>\\r\\n    <td> </td>\\r\\n    <td> read(A) </td>\\r\\n  </tr>\\r\\n<tr>\\r\\n    <td> </td>\\r\\n    <td> write(A) </td>\\r\\n  </tr>\\r\\n<tr>\\r\\n    <td> read(B) </td>\\r\\n    <td>  </td>\\r\\n  </tr>\\r\\n<tr>\\r\\n    <td>  </td>\\r\\n    <td> commit </td>\\r\\n  </tr>\\r\\n<tr>\\r\\n    <td> abort  </td>\\r\\n    <td> </td>\\r\\n  </tr>\\r\\n</table></center>\\r\\n<br>\\r\\nWhich of the following problems may occur in this schedule?'), Document(metadata={'question_id': '204'}, page_content='For the two-phase locking protocol, which of the following statements is true?'), Document(metadata={'question_id': '217'}, page_content='Consider the following two transactions <img src=\"http://latex.codecogs.com/gif.latex?T_{1}\" border=\"0\"/> and <img src=\"http://latex.codecogs.com/gif.latex?T_{2}\" border=\"0\"/>, which transfer money between\\r\\ndifferent accounts. If the transaction isolation level is “read uncommitted”, which of the\\r\\nfollowing schedules is not serializable?<br>\\r\\n<html>\\r\\n<head>\\r\\n<meta name=\"viewport\" content=\"width=device-width, initial-scale=1\">\\r\\n<style>\\r\\n* {\\r\\n  box-sizing: border-box;\\r\\n}\\r\\n.column {\\r\\n  float: left;\\r\\n  width: 20%;\\r\\n  padding:9px;\\r\\n  height: 400px; \\r\\n}\\r\\n.row:after {\\r\\n  content: \"\";\\r\\n  display: table;\\r\\n  clear: both;\\r\\n}\\r\\n</style>\\r\\n</head>\\r\\n<body>\\r\\n<div class=\"row\"display= \"table\">\\r\\n  <div class=\"column\" >\\r\\n    <h2>1</h2>\\r\\n   <table style=\"padding: 20px;text-align: center;width: 90%;\" border=\"1\">\\r\\n\\r\\n  <tr>\\r\\n    <th><center><img src=\"http://latex.codecogs.com/gif.latex?T_{1}\" border=\"0\"/></th>\\r\\n    <th><center><img src=\"http://latex.codecogs.com/gif.latex?T_{2}\" border=\"0\"/></th>\\r\\n  </tr>\\r\\n  <tr>\\r\\n    <td> read(A) </td>\\r\\n    <td> </td>\\r\\n  </tr>\\r\\n  <tr>\\r\\n    <td> A=A-10</td>\\r\\n    <td> </td>\\r\\n  </tr>\\r\\n <tr>\\r\\n    <td> write(A)</td>\\r\\n    <td> </td>\\r\\n  </tr>\\r\\n\\r\\n<tr>\\r\\n    <td> read(B) </td>\\r\\n    <td>  </td>\\r\\n  </tr>\\r\\n<tr>\\r\\n    <td> B=B+10 </td>\\r\\n    <td> </td>\\r\\n  </tr>\\r\\n<tr>\\r\\n    <td>write(B)  </td>\\r\\n    <td> </td>\\r\\n  </tr>\\r\\n<tr>\\r\\n    <td>commit  </td>\\r\\n    <td> </td>\\r\\n  </tr>\\r\\n<tr>\\r\\n    <td>  </td>\\r\\n    <td> read(B)</td>\\r\\n  </tr>\\r\\n<tr>\\r\\n    <td>  </td>\\r\\n    <td>B=B-20 </td>\\r\\n  </tr>\\r\\n<tr>\\r\\n    <td>  </td>\\r\\n    <td>write(B) </td>\\r\\n  </tr>\\r\\n<tr>\\r\\n    <td>  </td>\\r\\n    <td>read(D) </td>\\r\\n  </tr>\\r\\n<tr>\\r\\n    <td>  </td>\\r\\n    <td>D=D+20 </td>\\r\\n  </tr>\\r\\n<tr>\\r\\n    <td>  </td>\\r\\n    <td>write(D) </td>\\r\\n  </tr>\\r\\n<tr>\\r\\n    <td>  </td>\\r\\n    <td>commit </td>\\r\\n  </tr>\\r\\n</table>\\r\\n  </div>\\r\\n  <div class=\"column\" >\\r\\n    <h2>2</h2>\\r\\n<table style=\"padding: 20px;text-align: center;width: 90%;\" border=\"1\">\\r\\n\\r\\n  <tr>\\r\\n    <th><center><img src=\"http://latex.codecogs.com/gif.latex?T_{1}\" border=\"0\"/></th>\\r\\n    <th><center><img src=\"http://latex.codecogs.com/gif.latex?T_{2}\" border=\"0\"/></th>\\r\\n  </tr>\\r\\n  <tr>\\r\\n    <td> read(A) </td>\\r\\n    <td> </td>\\r\\n  </tr>\\r\\n  <tr>\\r\\n    <td> </td>\\r\\n    <td>read(B) </td>\\r\\n  </tr>\\r\\n <tr>\\r\\n    <td> A=A-10</td>\\r\\n    <td> </td>\\r\\n  </tr>\\r\\n\\r\\n<tr>\\r\\n    <td>  </td>\\r\\n    <td>  B=B-20</td>\\r\\n  </tr>\\r\\n<tr>\\r\\n    <td> write(A) </td>\\r\\n    <td> </td>\\r\\n  </tr>\\r\\n<tr>\\r\\n    <td>  </td>\\r\\n    <td>write(B) </td>\\r\\n  </tr>\\r\\n<tr>\\r\\n    <td>read(B) </td>\\r\\n    <td> </td>\\r\\n  </tr>\\r\\n<tr>\\r\\n    <td>  </td>\\r\\n    <td> read(D)</td>\\r\\n  </tr>\\r\\n<tr>\\r\\n    <td>  B=B+10</td>\\r\\n    <td> </td>\\r\\n  </tr>\\r\\n<tr>\\r\\n    <td> write(B) </td>\\r\\n    <td></td>\\r\\n  </tr>\\r\\n<tr>\\r\\n    <td> commit </td>\\r\\n    <td></td>\\r\\n  </tr>\\r\\n<tr>\\r\\n    <td>  </td>\\r\\n    <td>D=D+20 </td>\\r\\n  </tr>\\r\\n<tr>\\r\\n    <td>  </td>\\r\\n    <td>write(D) </td>\\r\\n  </tr>\\r\\n<tr>\\r\\n    <td>  </td>\\r\\n    <td>commit </td>\\r\\n  </tr>\\r\\n</table>\\r\\n  </div>\\r\\n<div class=\"column\" >\\r\\n    <h2>3</h2>\\r\\n   <table style=\"padding: 20px;text-align: center;width: 90%;\" border=\"1\">\\r\\n\\r\\n  <tr>\\r\\n    <th><center><img src=\"http://latex.codecogs.com/gif.latex?T_{1}\" border=\"0\"/></th>\\r\\n    <th><center><img src=\"http://latex.codecogs.com/gif.latex?T_{2}\" border=\"0\"/></th>\\r\\n  </tr>\\r\\n  <tr>\\r\\n    <td> read(A) </td>\\r\\n    <td> </td>\\r\\n  </tr>\\r\\n  <tr>\\r\\n    <td>A=A-10 </td>\\r\\n    <td> </td>\\r\\n  </tr>\\r\\n <tr>\\r\\n    <td> </td>\\r\\n    <td>read(B) </td>\\r\\n  </tr>\\r\\n\\r\\n<tr>\\r\\n    <td>  write(A)</td>\\r\\n    <td> </td>\\r\\n  </tr>\\r\\n<tr>\\r\\n    <td> read(B) </td>\\r\\n    <td> </td>\\r\\n  </tr>\\r\\n<tr>\\r\\n    <td>  </td>\\r\\n    <td>B=B-20 </td>\\r\\n  </tr>\\r\\n<tr>\\r\\n    <td> </td>\\r\\n    <td> write(B)</td>\\r\\n  </tr>\\r\\n<tr>\\r\\n    <td>  B=B+10</td>\\r\\n    <td> </td>\\r\\n  </tr>\\r\\n<tr>\\r\\n    <td>  </td>\\r\\n    <td>read(D) </td>\\r\\n  </tr>\\r\\n<tr>\\r\\n    <td> write(B) </td>\\r\\n    <td></td>\\r\\n  </tr>\\r\\n<tr>\\r\\n    <td> commit </td>\\r\\n    <td></td>\\r\\n  </tr>\\r\\n<tr>\\r\\n    <td>  </td>\\r\\n    <td>D=D+20 </td>\\r\\n  </tr>\\r\\n<tr>\\r\\n    <td>  </td>\\r\\n    <td>write(D) </td>\\r\\n  </tr>\\r\\n<tr>\\r\\n    <td>  </td>\\r\\n    <td>commit </td>\\r\\n  </tr>\\r\\n</table>\\r\\n  </div>\\r\\n</div>\\r\\n</body>\\r\\n</html>\\r\\n'), Document(metadata={'question_id': '218'}, page_content='Consider two transactions <img src=\"http://latex.codecogs.com/gif.latex?T_{1}\" border=\"0\"/> and <img src=\"http://latex.codecogs.com/gif.latex?T_{2}\" border=\"0\"/> which are executed in the schedule below:<br>\\r\\n<br>\\r\\n<center><table style=\"padding: 20px;text-align: center;width: 30%;\" border=\"1\">\\r\\n\\r\\n  <tr>\\r\\n    <th><center><img src=\"http://latex.codecogs.com/gif.latex?T_{1}\" border=\"0\"/></th>\\r\\n    <th><center><img src=\"http://latex.codecogs.com/gif.latex?T_{2}\" border=\"0\"/></th>\\r\\n  </tr>\\r\\n  <tr>\\r\\n    <td> </td>\\r\\n    <td> read(D)</td>\\r\\n  </tr>\\r\\n  <tr>\\r\\n    <td>  </td>\\r\\n    <td>write(D) </td>\\r\\n  </tr>\\r\\n <tr>\\r\\n    <td> read(A)</td>\\r\\n    <td>  </td>\\r\\n  </tr>\\r\\n<tr>\\r\\n    <td> write(A)</td>\\r\\n    <td>  </td>\\r\\n  </tr>\\r\\n\\r\\n<tr>\\r\\n    <td>  </td>\\r\\n    <td> commit </td>\\r\\n  </tr>\\r\\n<tr>\\r\\n    <td> read(B) </td>\\r\\n    <td>  </td>\\r\\n  </tr>\\r\\n<tr>\\r\\n    <td> write(B) </td>\\r\\n    <td> </td>\\r\\n  </tr>\\r\\n<tr>\\r\\n    <td> abort </td>\\r\\n    <td> </td>\\r\\n  </tr>\\r\\n</table></center>\\r\\n<br>\\r\\nAfter executing abort from <img src=\"http://latex.codecogs.com/gif.latex?T_{1}\" border=\"0\"/> , what will the transaction manager do?'), Document(metadata={'question_id': '192'}, page_content='Assuming that Linda is the owner of the relation Event, after completing the following\\r\\nthree actions, which of the following statements is correct?<br>\\r\\nStep | By | Action<br>\\r\\n1 | Linda| GRANT select TO Amy ON Event WITH GRANT OPTION;<br>\\r\\n2 |Amy| GRANT select TO Peter ON Event;<br>\\r\\n3 |Linda| REVOKE GRANT OPTION FOR select ON Event FROM Amy CASCADE;<br>\\r\\n'), Document(metadata={'question_id': '194'}, page_content='What is the objective of database security which says that people shouldn’t change\\r\\ndata unless they are supposed to change it, and they also shouldn’t change data in ways\\r\\ndifferent from how they are supposed to change it.'), Document(metadata={'question_id': '183'}, page_content='Which of the following statements are not correct?'), Document(metadata={'question_id': '184'}, page_content='Which of the following is used to avoid cascading of revoking privileges?'), Document(metadata={'question_id': '195'}, page_content='Which Bell-LaPadula rule prevents lower-level subjects from retrieving information\\r\\nfrom objects with a higher security level?'), Document(metadata={'question_id': '41'}, page_content='The order of tuples in a relation is ____. The order of attributes in a relation is _________.'), Document(metadata={'question_id': '117'}, page_content='R={A,B,C}, Σ1={A→ B, B→ C} and Σ2={A→ C, B→ C}. Is the following statement true or false? Σ1 ⊨  Σ2 '), Document(metadata={'question_id': '172'}, page_content='Consider the following database schema:<br> \\r\\n<br> \\r\\nMovie(title, production year, country, run time, major genre)<br> \\r\\nprimary key : {title, production year}<br> \\r\\n<br> \\r\\nPerson(id, first name, last name, year born)<br> \\r\\nprimary key : {id}<br> \\r\\n<br> \\r\\nDirector(id, title, production year)<br> \\r\\nprimary key : {title, production year}<br> \\r\\nforeign keys : [title, production year] ⊆ Movie[title, production year], [id] ⊆ Person[id]<br> \\r\\n<br> \\r\\nWriter(id, title, production year, credits)<br> \\r\\nprimary key : {id, title, production year}<br> \\r\\nforeign keys : [title, production year] ⊆ Movie[title, production year], [id] ⊆ Person[id]<br> \\r\\n<br>\\r\\nWhich of the following RAs will output the ids of the writers who have written movies produced in year 2000 but not in year 2010?<br>\\r\\n<br>\\r\\nA: <img src=\"http://latex.codecogs.com/gif.latex?\\\\bf \\\\large \\\\color{red} {\\\\pi_{id}(\\\\sigma_{productionyear=2000}(Writer)-\\\\sigma_{productionyear=2010}(Writer))}\" border=\"0\"/><br>\\r\\nB: <img src=\"http://latex.codecogs.com/gif.latex?\\\\bf \\\\large \\\\color{red} {\\\\pi_{id}(\\\\sigma_{productionyear=2000\\\\wedge productionyear\\\\neq 2010}(Writer))}\" border=\"0\"/>'), Document(metadata={'question_id': '175'}, page_content='Consider the following database schema:<br> \\r\\n<br> \\r\\nMovie(title, production year, country, run time, major genre)<br> \\r\\nprimary key : {title, production year}<br> \\r\\n<br> \\r\\nPerson(id, first name, last name, year born)<br> \\r\\nprimary key : {id}<br> \\r\\n<br> \\r\\nDirector(id, title, production year)<br> \\r\\nprimary key : {title, production year}<br> \\r\\nforeign keys : [title, production year] ⊆ Movie[title, production year], [id] ⊆ Person[id]<br> \\r\\n<br> \\r\\nWriter(id, title, production year, credits)<br> \\r\\nprimary key : {id, title, production year}<br> \\r\\nforeign keys : [title, production year] ⊆ Movie[title, production year], [id] ⊆ Person[id]<br> \\r\\n<br>\\r\\nWhich of the following RAs will output the ids of the directors who have directed any comedy or action movies?<br>\\r\\n<br>\\r\\nA: <img src=\"http://latex.codecogs.com/gif.latex?\\\\bf \\\\large \\\\color{red} {\\\\pi_{id}(Director\\\\bowtie (\\\\sigma_{major genre=\\' comedy\\'\\\\vee major genre=\\' action\\'}(Movie))) }\" border=\"0\"/><br>\\r\\nB: <img src=\"http://latex.codecogs.com/gif.latex?\\\\bf \\\\large \\\\color{red} {\\\\pi_{id}(Director\\\\bowtie (\\\\sigma_{major genre=\\' comedy\\'}(Movie)\\\\cup\\\\sigma_{major genre=\\' action\\'}(Movie))) }\" border=\"0\"/>'), Document(metadata={'question_id': '219'}, page_content='Consider two transactions <img src=\"http://latex.codecogs.com/gif.latex?T_{1}\" border=\"0\"/> and <img src=\"http://latex.codecogs.com/gif.latex?T_{2}\" border=\"0\"/> which are executed in the schedule below:<br>\\r\\n<br>\\r\\n<center><table style=\"padding: 20px;text-align: center;width: 30%;\" border=\"1\">\\r\\n\\r\\n  <tr>\\r\\n    <th><center><img src=\"http://latex.codecogs.com/gif.latex?T_{1}\" border=\"0\"/></th>\\r\\n    <th><center><img src=\"http://latex.codecogs.com/gif.latex?T_{2}\" border=\"0\"/></th>\\r\\n  </tr>\\r\\n  <tr>\\r\\n    <td> </td>\\r\\n    <td> read(D)</td>\\r\\n  </tr>\\r\\n  <tr>\\r\\n    <td>  </td>\\r\\n    <td>write(D) </td>\\r\\n  </tr>\\r\\n <tr>\\r\\n    <td> read(A)</td>\\r\\n    <td>  </td>\\r\\n  </tr>\\r\\n<tr>\\r\\n    <td> write(A)</td>\\r\\n    <td>  </td>\\r\\n  </tr>\\r\\n\\r\\n<tr>\\r\\n    <td>  </td>\\r\\n    <td> commit </td>\\r\\n  </tr>\\r\\n<tr>\\r\\n    <td> read(B) </td>\\r\\n    <td>  </td>\\r\\n  </tr>\\r\\n<tr>\\r\\n    <td> write(B) </td>\\r\\n    <td> </td>\\r\\n  </tr>\\r\\n<tr>\\r\\n    <td> abort </td>\\r\\n    <td> </td>\\r\\n  </tr>\\r\\n</table></center>\\r\\n<br>\\r\\nIf the database server goes down right after executing commit from <img src=\"http://latex.codecogs.com/gif.latex?T_{2}\" border=\"0\"/>and no changes\\r\\nhave been written to disk yet, what will a transaction manager do after the database server\\r\\nis up later?'), Document(metadata={'question_id': '179'}, page_content='In SQL, which of the following cannot be granted privileges using the GRANT command?'), Document(metadata={'question_id': '188'}, page_content='Which of the following are used to make access decisions in Mandatory Access Control (MAC)?'), Document(metadata={'question_id': '189'}, page_content='Which of the following can potentially cause a SQL injection attack?'), Document(metadata={'question_id': '196'}, page_content='Which of the following is not true regarding Trojan horse attacks?'), Document(metadata={'question_id': '50'}, page_content='Which of the following is true?'), Document(metadata={'question_id': '56'}, page_content='The basic data type char(n) is a _____-length character string and varchar(n) is _____-length character string.'), Document(metadata={'question_id': '63'}, page_content='What will be the output of the following query? </br>            \\r\\n<font color=\"blue\">SELECT </font> * </br>    \\r\\n<font color=\"blue\">FROM </font> person;'), Document(metadata={'question_id': '86'}, page_content='How many rows, columns will be in the query result for the following Select statement?</br>\\r\\n<font color=\"blue\">SELECT</font> *</br>\\r\\n<font color=\"blue\">FROM</font> Course c</br>\\r\\n<font color=\"blue\">WHERE NOT EXISTS</font> (<font color=\"blue\">SELECT</font> *</br>\\r\\n                                                     <font color=\"blue\">FROM</font> Enrol e</br>\\r\\n                 <font color=\"blue\">WHERE</font> c.CourseNo=e.CourseNo);'), Document(metadata={'question_id': '103'}, page_content='Consider a database that stores names, addresses and unique IDs of employees in a fitness centre. The employees are classified into three categories: trainers, administrators and technicians. Each trainer has one or more specialities, e.g., weight gain, weight loss, strength building, etc. An administrator can register new members and be reached through a landline phone number. Each member is identified by an email address. The fitness centre organises fitness classes for members. Each class has a name, a start date, an end date, and a daily time slot. No two fitness classes have the same daily time slot, and for each fitness class the start date must be before the end date. A member may choose to participate in one or more fitness classes and may also choose one of the trainers as their personal trainer. Each fitness class is attended by one or more members and instructed by only one trainer. Not all trainers deliver fitness classes. After receiving the approval from an administrator, a member may choose to add multiple associate members who will have partial access to the services provided by the fitness centre, and an associate number (i.e., 1, 2, . . .) and the name of each associate member are recorded in the database. The database keeps track of equipment available in the fitness centre. Each piece of equipment has a unique ID and must have one of the following three status types: new, working or broken. Each technician has a mobile phone number. Technicians maintain equipment in the fitness centre and the database records the date of each maintenance event. Each piece of equipment should be maintained at least twice a year.</br>\\r\\n</br>\\r\\nWhat is the cardinality ratio of the relationship between \"trainer\" and \"fitness class\"?\\r\\n'), Document(metadata={'question_id': '113'}, page_content='R={A,B,C,D} and Σ={A→ B, B→ C, D→ABC}. The closure of D is '), Document(metadata={'question_id': '155'}, page_content='How many rows will be in the result for the following relational algebra expression?<br> \\r\\n<img src=\"http://latex.codecogs.com/gif.latex?\\\\large \\\\bf \\\\color{red} {Course\\\\bowtie_{Course.CourseNo=Enrol.CourseNo} Enrol}\" border=\"0\"/>'), Document(metadata={'question_id': '174'}, page_content='Consider the following database schema:<br> \\r\\n<br> \\r\\nMovie(title, production year, country, run time, major genre)<br> \\r\\nprimary key : {title, production year}<br> \\r\\n<br> \\r\\nPerson(id, first name, last name, year born)<br> \\r\\nprimary key : {id}<br> \\r\\n<br> \\r\\nDirector(id, title, production year)<br> \\r\\nprimary key : {title, production year}<br> \\r\\nforeign keys : [title, production year] ⊆ Movie[title, production year], [id] ⊆ Person[id]<br> \\r\\n<br> \\r\\nWriter(id, title, production year, credits)<br> \\r\\nprimary key : {id, title, production year}<br> \\r\\nforeign keys : [title, production year] ⊆ Movie[title, production year], [id] ⊆ Person[id]<br> \\r\\n<br>\\r\\nWhich of the following RAs will give you the ids of the directors who have directed both comedy movies and action movies?<br>\\r\\n<br>\\r\\nA: <img src=\"http://latex.codecogs.com/gif.latex?\\\\bf \\\\large \\\\color{red} {\\\\pi_{id}(Director\\\\bowtie (\\\\sigma_{major genre=\\' comedy\\'\\\\wedge  major genre=\\' action\\'}(Movie))) }\" border=\"0\"/><br>\\r\\nB: <img src=\"http://latex.codecogs.com/gif.latex?\\\\bf \\\\large \\\\color{red} {\\\\pi_{id}(Director\\\\bowtie (\\\\sigma_{major genre=\\' comedy\\'}(Movie)\\\\cap\\\\sigma_{major genre=\\' action\\'}(Movie))) }\" border=\"0\"/>'), Document(metadata={'question_id': '210'}, page_content='Consider two transactions <img src=\"http://latex.codecogs.com/gif.latex?T_{1}\" border=\"0\"/> and <img src=\"http://latex.codecogs.com/gif.latex?T_{2}\" border=\"0\"/>, and the following schedule in which A and B are two records.<br>\\r\\n<br>\\r\\n<center><table style=\"padding: 20px;text-align: center;width: 30%;\" border=\"1\">\\r\\n\\r\\n  <tr>\\r\\n    <th><center><img src=\"http://latex.codecogs.com/gif.latex?T_{1}\" border=\"0\"/></th>\\r\\n    <th><center><img src=\"http://latex.codecogs.com/gif.latex?T_{2}\" border=\"0\"/></th>\\r\\n  </tr>\\r\\n  <tr>\\r\\n    <td> read(A) </td>\\r\\n    <td> </td>\\r\\n  </tr>\\r\\n  <tr>\\r\\n    <td>  </td>\\r\\n    <td> read(A)</td>\\r\\n  </tr>\\r\\n <tr>\\r\\n    <td> </td>\\r\\n    <td> write(A) </td>\\r\\n  </tr>\\r\\n\\r\\n<tr>\\r\\n    <td> read(B) </td>\\r\\n    <td>  </td>\\r\\n  </tr>\\r\\n<tr>\\r\\n    <td> write(A) </td>\\r\\n    <td> </td>\\r\\n  </tr>\\r\\n\\r\\n    <td>commit  </td>\\r\\n    <td> </td>\\r\\n  </tr>\\r\\n<tr>\\r\\n    <td>  </td>\\r\\n    <td>commit  </td>\\r\\n  </tr>\\r\\n</table></center>\\r\\n<br>\\r\\nWhich of the following problems may occur in this schedule?'), Document(metadata={'question_id': '213'}, page_content='Consider the table Worker(name, payrate, hours) with name as the primary key and the\\r\\nfollowing two concurrent transactions:<br>\\r\\n<br>\\r\\n<img src=\"http://latex.codecogs.com/gif.latex?T_{1}\" border=\"0\"/>:<br>\\r\\n<br>\\r\\nBegin Transaction;<br>\\r\\nupdate Worker set payrate = 1.2*payrate where name = ‘Tom\\';<br>\\r\\nupdate Worker set payrate = 1.5*payrate where name = ‘Tom\\';<br>\\r\\nCommit;<br>\\r\\n<br>\\r\\n<img src=\"http://latex.codecogs.com/gif.latex?T_{2}\" border=\"0\"/>:<br>\\r\\n<br>\\r\\nBegin Transaction;<br>\\r\\nupdate Worker set payrate = payrate+20 where name = ‘Tom\\';<br>\\r\\nupdate Worker set payrate = payrate+10 where name = ‘Tom\\';<br>\\r\\nCommit;<br>\\r\\n<br>\\r\\nAssume Tom’s pay rate is 20 before the transactions <img src=\"http://latex.codecogs.com/gif.latex?T_{1}\" border=\"0\"/> and <img src=\"http://latex.codecogs.com/gif.latex?T_{2}\" border=\"0\"/> begin.<br>\\r\\n<br>\\r\\nIf the transaction isolation level is “read uncommitted”, what are the possible values\\r\\nfor Tom’s pay rate after executing these two transactions?'), Document(metadata={'question_id': '214'}, page_content=\"Consider the table Worker(name, payrate, hours) with name as the primary key and\\r\\nthe following transaction:<br>\\r\\n<br>\\r\\nBegin transaction;<br>\\r\\nupdate Worker set hours = 20 where name = ‘Tom';<br>\\r\\nupdate Worker set payrate = 1.5*payrate where name = ‘Tom';<br>\\r\\nCommit;<br>\\r\\nRollback;<br>\\r\\n<br>\\r\\nWhat does Rollback do?\"), Document(metadata={'question_id': '216'}, page_content='Consider two transactions <img src=\"http://latex.codecogs.com/gif.latex?T_{1}\" border=\"0\"/> and <img src=\"http://latex.codecogs.com/gif.latex?T_{2}\" border=\"0\"/>, and the following schedules in which A and B are two records. Which of the following schedules can result in a deadlock?<br>\\r\\n<br>\\r\\n<html>\\r\\n<head>\\r\\n<meta name=\"viewport\" content=\"width=device-width, initial-scale=1\">\\r\\n<style>\\r\\n* {\\r\\n  box-sizing: border-box;\\r\\n}\\r\\n.column {\\r\\n  float: left;\\r\\n  width: 20%;\\r\\n  padding: 10px;\\r\\n  height: 300px; \\r\\n}\\r\\n.row:after {\\r\\n  content: \"\";\\r\\n  display: table;\\r\\n  clear: both;\\r\\n}\\r\\n</style>\\r\\n</head>\\r\\n<body>\\r\\n<div class=\"row\"display= \"table\">\\r\\n  <div class=\"column\" >\\r\\n    <h2>1</h2>\\r\\n   <table style=\"padding: 20px;text-align: center;width: 30%;\" border=\"1\">\\r\\n\\r\\n  <tr>\\r\\n    <th><center><img src=\"http://latex.codecogs.com/gif.latex?T_{1}\" border=\"0\"/></th>\\r\\n    <th><center><img src=\"http://latex.codecogs.com/gif.latex?T_{2}\" border=\"0\"/></th>\\r\\n  </tr>\\r\\n  <tr>\\r\\n    <td> read(A) </td>\\r\\n    <td> </td>\\r\\n  </tr>\\r\\n  <tr>\\r\\n    <td> write(A) </td>\\r\\n    <td> </td>\\r\\n  </tr>\\r\\n <tr>\\r\\n    <td> </td>\\r\\n    <td> read(A) </td>\\r\\n  </tr>\\r\\n\\r\\n<tr>\\r\\n    <td>  </td>\\r\\n    <td> write(A) </td>\\r\\n  </tr>\\r\\n<tr>\\r\\n    <td>  </td>\\r\\n    <td>commit </td>\\r\\n  </tr>\\r\\n\\r\\n    <td>commit  </td>\\r\\n    <td> </td>\\r\\n  </tr>\\r\\n</table>\\r\\n  </div>\\r\\n  <div class=\"column\" >\\r\\n    <h2>2</h2>\\r\\n   <table style=\"padding: 20px;text-align: center;width: 30%;\" border=\"1\">\\r\\n\\r\\n  <tr>\\r\\n    <th><center><img src=\"http://latex.codecogs.com/gif.latex?T_{1}\" border=\"0\"/></th>\\r\\n    <th><center><img src=\"http://latex.codecogs.com/gif.latex?T_{2}\" border=\"0\"/></th>\\r\\n  </tr>\\r\\n<tr>\\r\\n    <td> read(A) </td>\\r\\n    <td> </td>\\r\\n  </tr>\\r\\n  <tr>\\r\\n    <td>  </td>\\r\\n    <td> read(B)</td>\\r\\n  </tr>\\r\\n <tr>\\r\\n    <td> </td>\\r\\n    <td> write(A)</td>\\r\\n  </tr>\\r\\n\\r\\n<tr>\\r\\n    <td> write(B) </td>\\r\\n    <td>  </td>\\r\\n  </tr>\\r\\n<tr>\\r\\n    <td>  </td>\\r\\n    <td>commit </td>\\r\\n  </tr>\\r\\n\\r\\n    <td>commit  </td>\\r\\n    <td> </td>\\r\\n  </tr>\\r\\n</table>\\r\\n  </div>\\r\\n<div class=\"column\" >\\r\\n    <h2>3</h2>\\r\\n   <table style=\"padding: 20px;text-align: center;width: 30%;\" border=\"1\">\\r\\n\\r\\n  <tr>\\r\\n    <th><center><img src=\"http://latex.codecogs.com/gif.latex?T_{1}\" border=\"0\"/></th>\\r\\n    <th><center><img src=\"http://latex.codecogs.com/gif.latex?T_{2}\" border=\"0\"/></th>\\r\\n  </tr>\\r\\n  <tr>\\r\\n    <td> read(A) </td>\\r\\n    <td> </td>\\r\\n  </tr>\\r\\n  <tr>\\r\\n    <td>  </td>\\r\\n    <td> write(B)</td>\\r\\n  </tr>\\r\\n <tr>\\r\\n    <td> </td>\\r\\n    <td> read(A) </td>\\r\\n  </tr>\\r\\n\\r\\n<tr>\\r\\n    <td> write(B) </td>\\r\\n    <td>  </td>\\r\\n  </tr>\\r\\n<tr>\\r\\n    <td>  </td>\\r\\n    <td> commit</td>\\r\\n  </tr>\\r\\n\\r\\n    <td>commit  </td>\\r\\n    <td> </td>\\r\\n  </tr>\\r\\n</table>\\r\\n  </div>\\r\\n<div class=\"column\" >\\r\\n    <h2>4</h2>\\r\\n   <table style=\"padding: 20px;text-align: center;width: 30%;\" border=\"1\">\\r\\n\\r\\n  <tr>\\r\\n    <th><center><img src=\"http://latex.codecogs.com/gif.latex?T_{1}\" border=\"0\"/></th>\\r\\n    <th><center><img src=\"http://latex.codecogs.com/gif.latex?T_{2}\" border=\"0\"/></th>\\r\\n  </tr>\\r\\n  <tr>\\r\\n    <td> read(A) </td>\\r\\n    <td> </td>\\r\\n  </tr>\\r\\n  <tr>\\r\\n    <td>  </td>\\r\\n    <td> read(A)</td>\\r\\n  </tr>\\r\\n <tr>\\r\\n    <td> </td>\\r\\n    <td> write(A) </td>\\r\\n  </tr>\\r\\n\\r\\n<tr>\\r\\n    <td> write(B) </td>\\r\\n    <td>  </td>\\r\\n  </tr>\\r\\n<tr>\\r\\n    <td>  </td>\\r\\n    <td> commit</td>\\r\\n  </tr>\\r\\n\\r\\n    <td>commit  </td>\\r\\n    <td> </td>\\r\\n  </tr>\\r\\n</table>\\r\\n  </div>\\r\\n</div>\\r\\n</body>\\r\\n</html>\\r\\n\\r\\n'), Document(metadata={'question_id': '104'}, page_content='Consider a database that stores names, addresses and unique IDs of employees in a fitness centre. The employees are classified into three categories: trainers, administrators and technicians. Each trainer has one or more specialities, e.g., weight gain, weight loss, strength building, etc. An administrator can register new members and be reached through a landline phone number. Each member is identified by an email address. The fitness centre organises fitness classes for members. Each class has a name, a start date, an end date, and a daily time slot. No two fitness classes have the same daily time slot, and for each fitness class the start date must be before the end date. A member may choose to participate in one or more fitness classes and may also choose one of the trainers as their personal trainer. Each fitness class is attended by one or more members and instructed by only one trainer. Not all trainers deliver fitness classes. After receiving the approval from an administrator, a member may choose to add multiple associate members who will have partial access to the services provided by the fitness centre, and an associate number (i.e., 1, 2, . . .) and the name of each associate member are recorded in the database. The database keeps track of equipment available in the fitness centre. Each piece of equipment has a unique ID and must have one of the following three status types: new, working or broken. Each technician has a mobile phone number. Technicians maintain equipment in the fitness centre and the database records the date of each maintenance event. Each piece of equipment should be maintained at least twice a year.</br>\\r\\n</br>\\r\\nSuppose that \"instruct\" is a relationship type between two entity types \"trainer\" and \"fitness class\". What is the participation constraint on \"trainer\" in \"instruct\"?\\r\\n'), Document(metadata={'question_id': '61'}, page_content='Which of the following commands do we use to delete all the tuples from a relation (R)?'), Document(metadata={'question_id': '81'}, page_content='How many rows will be in the query result for the following Select statement?</br>\\r\\n<font color=\"blue\">SELECT</font> *</br>\\r\\n<font color=\"blue\">FROM</font> Course <font color=\"blue\">LEFT JOIN</font> Enrol <font color=\"blue\">ON</font> Course.CourseNo=Enrol.CourseNo;'), Document(metadata={'question_id': '185'}, page_content='Which of the following is true regarding views?')]\n",
      "['3', '4', '5', '2', '6', '7', '10', '11', '14', '92', '93', '94', '97', '98', '101', '102', '108', '91', '109', '110', '111', '112', '114', '115', '120', '122', '180', '130', '131', '133', '135', '136', '137', '139', '142', '143', '148', '150', '151', '154', '36', '37', '39', '40', '43', '44', '45', '46', '156', '157', '158', '159', '160', '161', '8', '9', '12', '15', '16', '17', '19', '20', '21', '23', '24', '28', '31', '32', '33', '34', '30', '38', '42', '162', '165', '166', '167', '146', '149', '199', '200', '201', '203', '205', '207', '209', '211', '212', '181', '182', '186', '187', '190', '191', '193', '197', '198', '164', '168', '169', '170', '171', '173', '177', '153', '132', '140', '141', '116', '118', '121', '123', '125', '128', '95', '99', '105', '107', '57', '58', '59', '60', '62', '64', '65', '66', '67', '72', '73', '74', '75', '77', '79', '80', '82', '83', '84', '47', '48', '49', '53', '55', '18', '22', '25', '27', '29', '13', '26', '51', '52', '54', '69', '71', '76', '78', '35', '96', '100', '106', '119', '124', '126', '127', '129', '134', '138', '68', '70', '85', '87', '147', '152', '163', '176', '178', '202', '206', '208', '204', '217', '218', '192', '194', '183', '184', '195', '41', '117', '172', '175', '219', '179', '188', '189', '196', '50', '56', '63', '86', '103', '113', '155', '174', '210', '213', '214', '216', '104', '61', '81', '185']\n"
     ]
    }
   ],
   "source": [
    "# # prepare data for vector store\n",
    "# vector_input_df = datasets[TRAIN].drop_duplicates(subset=\"question_id\")\n",
    "\n",
    "# vector_input_doc = [\n",
    "#     Document(\n",
    "#         page_content=row[\"q_text\"],\n",
    "#         metadata={\n",
    "#             \"question_id\": str(row[\"question_id\"]),\n",
    "#         },\n",
    "#     )\n",
    "#     for _, row in vector_input_df.iterrows()\n",
    "# ]\n",
    "# vector_input_id = vector_input_df[\"question_id\"].astype(str).tolist()\n",
    "\n",
    "# print(vector_input_doc)\n",
    "# len(vector_input_doc)\n",
    "# print(vector_input_id)"
   ]
  },
  {
   "cell_type": "code",
   "execution_count": null,
   "metadata": {},
   "outputs": [],
   "source": [
    "# _ = vector_store.add_documents(documents=vector_input_doc, ids=vector_input_id)"
   ]
  },
  {
   "cell_type": "code",
   "execution_count": null,
   "metadata": {},
   "outputs": [],
   "source": [
    "# \"llama-text-embed-v2\""
   ]
  },
  {
   "cell_type": "code",
   "execution_count": null,
   "metadata": {},
   "outputs": [],
   "source": [
    "# vector_store.delete(delete_all=True)"
   ]
  },
  {
   "cell_type": "code",
   "execution_count": null,
   "metadata": {},
   "outputs": [],
   "source": [
    "from langchain_core.example_selectors.base import BaseExampleSelector\n",
    "from langchain_pinecone import PineconeVectorStore\n",
    "from langchain_openai import OpenAIEmbeddings\n",
    "from pinecone import Pinecone\n",
    "\n",
    "\n",
    "def get_vector_store(\n",
    "    index_name: str, embedding_name: str, namespace: str\n",
    ") -> PineconeVectorStore:\n",
    "    \"\"\"Get the Pinecode vector store.\n",
    "\n",
    "    Parameters\n",
    "    ----------\n",
    "    index_name : str\n",
    "        Index name\n",
    "    embedding_name : str\n",
    "        Embedding name\n",
    "    namespace : str\n",
    "        Index namespace\n",
    "\n",
    "    Returns\n",
    "    -------\n",
    "    PineconeVectorStore\n",
    "        The Pinecone vector store.\n",
    "\n",
    "    Raises\n",
    "    ------\n",
    "    ValueError\n",
    "        If the index does not exist.\n",
    "    \"\"\"\n",
    "    pc = Pinecone(api_key=os.environ.get(\"PINECONE_API_KEY\"))\n",
    "    existing_indexes = [index_info[\"name\"] for index_info in pc.list_indexes()]\n",
    "    if index_name not in existing_indexes:\n",
    "        raise ValueError(f\"Index {index_name} does not exist.\")\n",
    "    index = pc.Index(index_name)\n",
    "    embeddings = OllamaEmbeddings(\n",
    "        model=embedding_name\n",
    "    )  # TODO: how to handle different embedding providers?\n",
    "    vector_store = PineconeVectorStore(\n",
    "        index=index, embedding=embeddings, namespace=namespace\n",
    "    )\n",
    "    logger.info(\n",
    "        f\"Loaded Pinecone vector store\", index_name=index_name, namespace=namespace\n",
    "    )\n",
    "    return vector_store\n",
    "\n",
    "\n",
    "EMBEDDING_NAMES = {\"llama3\": \"llama3\"}\n",
    "\n",
    "\n",
    "class StudentIDSemanticExampleSelector(BaseExampleSelector):\n",
    "    \"\"\"Filter examples of the same student_id and select based on semantic similarity.\"\"\"\n",
    "\n",
    "    def __init__(\n",
    "        self, examples: list, k: int, index_name: str, model_name: str, namespace: str\n",
    "    ) -> None:\n",
    "        \"\"\"Initialize the example selector.\n",
    "\n",
    "        Parameters\n",
    "        ----------\n",
    "        k : int\n",
    "            k-shot prompting\n",
    "        index_name : str\n",
    "            The name of the Pinecone index.\n",
    "        model_name : str\n",
    "            The name of the LLM.\n",
    "        namespace : str\n",
    "            The namespace of the Pinecone index.\n",
    "        \"\"\"\n",
    "        self.examples = examples\n",
    "        self.k = k\n",
    "\n",
    "        embedding_name = EMBEDDING_NAMES[model_name]\n",
    "        self.vectorstore = get_vector_store(\n",
    "            index_name=index_name, embedding_name=embedding_name, namespace=namespace\n",
    "        )\n",
    "\n",
    "    def add_example(self, example: list) -> None:\n",
    "        self.examples.append(example)\n",
    "\n",
    "    def select_examples(self, input_variables: dict) -> list[dict[str, str]]:\n",
    "        \"\"\"Select examples based on semantic similarity.\n",
    "\n",
    "        Parameters\n",
    "        ----------\n",
    "        input_variables : dict[str, str]\n",
    "            A dict containing info about a single observation.\n",
    "\n",
    "        Returns\n",
    "        -------\n",
    "        list[dict[str, str]]\n",
    "            The selected examples.\n",
    "        \"\"\"\n",
    "        # information of target observation\n",
    "        student_id = input_variables[\"student_id\"]\n",
    "        question_id = input_variables[\"question_id\"]\n",
    "        q_text = input_variables[\"q_text\"]\n",
    "\n",
    "        # find all questions answered by this student\n",
    "        student_interactions = [\n",
    "            interact\n",
    "            for interact in self.examples\n",
    "            if interact[\"student_id\"] == student_id\n",
    "        ]\n",
    "        q_answered = set([interact[\"question_id\"] for interact in student_interactions])\n",
    "        q_answered = list(\n",
    "            map(str, q_answered - {question_id})\n",
    "        )  # NOTE: remove current question_id\n",
    "        print(f\"{q_answered=}\")  # TODO: remove\n",
    "\n",
    "        # semantic search on question text\n",
    "        results = self.vectorstore.similarity_search(\n",
    "            query=q_text,\n",
    "            k=self.k,\n",
    "            filter={\"question_id\": {\"$in\": q_answered}},\n",
    "        )\n",
    "        question_ids_selected = list(\n",
    "            map(int, [res.metadata[\"question_id\"] for res in results])\n",
    "        )\n",
    "        print(f\"{question_ids_selected=}\")  # TODO: remove\n",
    "\n",
    "        # find interactions of selected question_ids and student_id\n",
    "        interactions_selected = [\n",
    "            interact\n",
    "            for interact in self.examples\n",
    "            if (\n",
    "                interact[\"question_id\"] in question_ids_selected\n",
    "                and interact[\"student_id\"] == student_id\n",
    "            )\n",
    "        ]\n",
    "        # if a Q has multiple interactions, randomly select one\n",
    "        if len(interactions_selected) > self.k:\n",
    "            # find duplicate Q IDs\n",
    "            question_ids_interacted = np.array(\n",
    "                [interact[\"question_id\"] for interact in interactions_selected]\n",
    "            )\n",
    "            unique, counts = np.unique(question_ids_interacted, return_counts=True)\n",
    "            duplicate_q_ids = unique[np.where(counts > 1)]\n",
    "\n",
    "            # sample from duplicate Q IDs\n",
    "            for q_id in duplicate_q_ids:\n",
    "                # find indexes to remove\n",
    "                idxs = np.where(question_ids_interacted == q_id)[0].tolist()\n",
    "                idx_to_remove = random.sample(idxs, len(idxs) - 1)\n",
    "                for idx in idx_to_remove:\n",
    "                    interactions_selected.pop(idx)\n",
    "        if len(interactions_selected) < self.k:\n",
    "            raise NotImplementedError(\n",
    "                \"TODO: do we randomly select interactions or leave them empty?\"\n",
    "            )\n",
    "            # TODO\n",
    "\n",
    "        return interactions_selected\n",
    "        # NOTE: can decide to only return input and output\n",
    "        # return [\n",
    "        #     {\"input\": interact[\"input\"], \"output\": interact[\"output\"]}\n",
    "        #     for interact in interactions_selected\n",
    "        # ]"
   ]
  },
  {
   "cell_type": "code",
   "execution_count": 71,
   "metadata": {},
   "outputs": [
    {
     "name": "stdout",
     "output_type": "stream",
     "text": [
      "\u001b[2m2025-03-27 11:34:28\u001b[0m [\u001b[32m\u001b[1minfo     \u001b[0m] \u001b[1mLoaded Pinecone vector store  \u001b[0m \u001b[36mindex_name\u001b[0m=\u001b[35mllama3\u001b[0m \u001b[36mnamespace\u001b[0m=\u001b[35mdbe_kt22\u001b[0m\n",
      "q_answered=['2', '3', '36', '37', '6', '7', '39', '40', '10', '11', '43', '44', '14', '45', '46']\n",
      "question_ids_selected=[6, 7]\n"
     ]
    },
    {
     "data": {
      "text/plain": [
       "[{'input': 'Question:\\nThe cardinality of a set is the number of elements of the set. What is the cardinality of the set of odd positive integers less than 10?\\n\\nOptions:\\n1. 3\\n2. 5\\n3. 10\\n4. 20\\n\\nCorrect answer: 1',\n",
       "  'output': 'Student answer: 1',\n",
       "  'student_id': 86,\n",
       "  'question_id': 6,\n",
       "  'interact_id': 789,\n",
       "  'q_text': 'The cardinality of a set is the number of elements of the set. What is the cardinality of the set of odd positive integers less than 10?'},\n",
       " {'input': 'Question:\\nWhich of the following two sets are equal?\\n\\nOptions:\\n1. A = {1, 2} and B = {1}\\n2. A = {1, 2} and B = {1, 2, 3}\\n3. A = {1, 2, 4} and B = {1, 2, 3}\\n4. A = {1, 2, 3} and B = {2, 1, 3}\\n\\nCorrect answer: 3',\n",
       "  'output': 'Student answer: 3',\n",
       "  'student_id': 86,\n",
       "  'question_id': 7,\n",
       "  'interact_id': 790,\n",
       "  'q_text': 'Which of the following two sets are equal?'}]"
      ]
     },
     "execution_count": 71,
     "metadata": {},
     "output_type": "execute_result"
    }
   ],
   "source": [
    "example_selector = StudentIDSemanticExampleSelector(\n",
    "    examples=list_train,\n",
    "    k=2,\n",
    "    index_name=\"llama3\",\n",
    "    model_name=model_cfg.NAME,\n",
    "    namespace=\"dbe_kt22\",\n",
    ")\n",
    "example_selector.select_examples(list_val[0])"
   ]
  },
  {
   "cell_type": "markdown",
   "metadata": {},
   "source": [
    "___"
   ]
  },
  {
   "cell_type": "code",
   "execution_count": null,
   "metadata": {},
   "outputs": [],
   "source": [
    "# examples = list_train[:10]\n",
    "# to_vectorize = [example[\"input\"] for example in examples]\n",
    "# # embeddings = OpenAIEmbeddings()\n",
    "# embeddings = OllamaEmbeddings(model=\"llama3\")\n",
    "# vectorstore = Chroma.from_texts(\n",
    "#     texts=to_vectorize,\n",
    "#     embedding=embeddings,\n",
    "#     metadatas=examples,\n",
    "#     persist_directory=os.path.join(\"output\", \"vectorstore\", \"chroma_langchain_db\"),\n",
    "# )"
   ]
  },
  {
   "cell_type": "code",
   "execution_count": null,
   "metadata": {},
   "outputs": [],
   "source": [
    "# NOTE: texts depend on the example formatter used"
   ]
  },
  {
   "cell_type": "code",
   "execution_count": null,
   "metadata": {},
   "outputs": [],
   "source": [
    "# vectorstore"
   ]
  },
  {
   "cell_type": "code",
   "execution_count": null,
   "metadata": {},
   "outputs": [],
   "source": [
    "# example_selector = SemanticSimilarityExampleSelector(\n",
    "#     vectorstore=vectorstore,\n",
    "#     k=1\n",
    "# )\n",
    "# example_selector.select_examples({\"input\": list_val[0][\"input\"]})"
   ]
  },
  {
   "cell_type": "code",
   "execution_count": null,
   "metadata": {},
   "outputs": [],
   "source": [
    "# example_selector = SemanticSimilarityExampleSelector(\n",
    "#     vectorstore=vectorstore,\n",
    "#     k=2,\n",
    "# )\n",
    "\n",
    "# # The prompt template will load examples by passing the input do the `select_examples` method\n",
    "# example_selector.select_examples({\"input\": \"horse\"})"
   ]
  },
  {
   "cell_type": "code",
   "execution_count": null,
   "metadata": {},
   "outputs": [],
   "source": [
    "# # Create the selector with k=3 for 3-shot prompting\n",
    "# example_selector = RandomExampleSelector(examples=list_train, k=3)\n",
    "# example_selector.select_examples({})"
   ]
  },
  {
   "cell_type": "code",
   "execution_count": null,
   "metadata": {},
   "outputs": [],
   "source": [
    "# # Select examples of a specific student\n",
    "# example_selector = StudentIDExampleSelector(examples=list_train, k=3)\n",
    "# example_selector.select_examples({\"student_id\": 395})"
   ]
  },
  {
   "cell_type": "markdown",
   "metadata": {},
   "source": [
    "## Create prompt template"
   ]
  },
  {
   "cell_type": "code",
   "execution_count": null,
   "metadata": {},
   "outputs": [],
   "source": [
    "# Pydantic\n",
    "class MCQAnswer(BaseModel):\n",
    "    \"\"\"Answer to a multiple-choice question.\"\"\"\n",
    "\n",
    "    explanation: str = Field(\n",
    "        description=\"Misconception if incorrectly answered; motivation if correctly answered\"\n",
    "    )\n",
    "    student_answer: int = Field(\n",
    "        description=\"The student's answer to the question, as an integer (1-4)\"\n",
    "    )\n",
    "    # difficulty: str = Field(description=\"The difficulty level of the question\")"
   ]
  },
  {
   "cell_type": "code",
   "execution_count": null,
   "metadata": {},
   "outputs": [],
   "source": [
    "# Define the few-shot prompt.\n",
    "few_shot_prompt = FewShotChatMessagePromptTemplate(\n",
    "    # The input variables select the values to pass to the example_selector\n",
    "    input_variables=[\"student_id\"],  # TODO: do not hardcode\n",
    "    example_selector=example_selector,\n",
    "    # Define how each example will be formatted.\n",
    "    # In this case, each example will become 2 messages:\n",
    "    # 1 human, and 1 AI\n",
    "    example_prompt=ChatPromptTemplate.from_messages(\n",
    "        [(\"human\", \"{input}\"), (\"ai\", \"{output}\")]\n",
    "    ),\n",
    ")\n",
    "\n",
    "out = few_shot_prompt.invoke(input=list_val[0]).to_messages()\n",
    "print(len(out))\n",
    "print(out)"
   ]
  },
  {
   "cell_type": "code",
   "execution_count": null,
   "metadata": {},
   "outputs": [],
   "source": [
    "system_prompt_raw = (\n",
    "    \"You are a student working on {exam_type}, containing multiple choice questions. \"\n",
    "    \"You are shown a set of questions that you answered earlier in the exam, together with the correct answers and your student answers. \"\n",
    "    \"Analyse your responses to the questions and identify the possible misconceptions that led to answering incorrectly. \"\n",
    "    \"Inspect the new question and think how you would answer it as a student. \"\n",
    "    \"If you answer incorrectly, explain which misconception leads to selecting that answer. \"\n",
    "    \"If you answer correctly, explain why you think the answer is correct. \"\n",
    "    \"Provide your answer as an integer in the range 1-4. \"\n",
    ")\n",
    "# Set up a parser (not used if model supports structured output)\n",
    "parser = PydanticOutputParser(pydantic_object=MCQAnswer)\n",
    "if not SUPPORTS_STRUCTURED_OUTPUT:\n",
    "    system_prompt_raw += \"Wrap the output in `json` tags\\n{format_instructions}\"\n",
    "\n",
    "\n",
    "final_prompt = ChatPromptTemplate.from_messages(\n",
    "    [\n",
    "        (\"system\", system_prompt_raw),\n",
    "        few_shot_prompt,\n",
    "        (\"human\", \"{input}\"),\n",
    "    ]\n",
    ").partial(\n",
    "    format_instructions=parser.get_format_instructions(),\n",
    "    exam_type=\"a database systems exam (Department of Computer Science)\",\n",
    ")\n",
    "\n",
    "# print(\n",
    "#     final_prompt.invoke(\n",
    "#         input=list_val[0],\n",
    "#     ).to_string()\n",
    "# )\n",
    "out = final_prompt.invoke(input=list_val[0]).to_messages()\n",
    "print(len(out))\n",
    "print(out)"
   ]
  },
  {
   "cell_type": "markdown",
   "metadata": {},
   "source": [
    "# Model"
   ]
  },
  {
   "cell_type": "code",
   "execution_count": null,
   "metadata": {},
   "outputs": [],
   "source": [
    "# model\n",
    "model = build_model(model_cfg=model_cfg)\n",
    "if SUPPORTS_STRUCTURED_OUTPUT:\n",
    "    model = model.with_structured_output(MCQAnswer, include_raw=True)\n",
    "\n",
    "# chain\n",
    "chain = final_prompt | model\n",
    "# if not SUPPORTS_STRUCTURED_OUTPUT:\n",
    "#     chain = chain.pipe(parser)"
   ]
  },
  {
   "cell_type": "code",
   "execution_count": null,
   "metadata": {},
   "outputs": [],
   "source": [
    "from prompt.json_schema import validate_output\n",
    "\n",
    "# run model in batch\n",
    "preds_raw = chain.batch(list_val[:10])\n",
    "if SUPPORTS_STRUCTURED_OUTPUT:\n",
    "    # get all raw outputs\n",
    "    preds_raw = [output[\"raw\"] for output in preds_raw]\n",
    "preds_validated = validate_output(preds_raw, schema=MCQAnswer)"
   ]
  },
  {
   "cell_type": "code",
   "execution_count": null,
   "metadata": {},
   "outputs": [],
   "source": [
    "y_val_pred = np.array([output.student_answer for output in preds_validated])\n",
    "y_val_pred"
   ]
  },
  {
   "cell_type": "code",
   "execution_count": null,
   "metadata": {},
   "outputs": [],
   "source": [
    "y_val_student = datasets[VALIDATION][\"student_option_id\"].to_numpy()[:10]\n",
    "y_val_student\n"
   ]
  },
  {
   "cell_type": "code",
   "execution_count": null,
   "metadata": {},
   "outputs": [],
   "source": [
    "y_val_true = datasets[VALIDATION][\"correct_option_id\"].to_numpy()[:10]\n",
    "y_val_true"
   ]
  },
  {
   "cell_type": "code",
   "execution_count": null,
   "metadata": {},
   "outputs": [],
   "source": [
    "acc_student_pred = accuracy_score(y_true=y_val_student, y_pred=y_val_pred)\n",
    "acc_true_student = accuracy_score(y_true=y_val_true, y_pred=y_val_student)\n",
    "acc_true_pred = accuracy_score(y_true=y_val_true, y_pred=y_val_pred)\n",
    "\n",
    "print(f\"{acc_student_pred = }\")\n",
    "print(f\"{acc_true_student = }\")\n",
    "print(f\"{acc_true_pred = }\")"
   ]
  },
  {
   "cell_type": "code",
   "execution_count": null,
   "metadata": {},
   "outputs": [],
   "source": [
    "# TODO: add func to only print input (also printing output can be confusing)\n",
    "def print_example(example: dict) -> None:\n",
    "    \"\"\"Print single example.\n",
    "\n",
    "    Parameters\n",
    "    ----------\n",
    "    example : dict\n",
    "        Example dictionary with 'input' and 'output' keys.\n",
    "    \"\"\"\n",
    "    text = (\n",
    "        \"#\" * 40\n",
    "        + f\"\\nINPUT\\n\"\n",
    "        + \"#\" * 40\n",
    "        + f\"\\n{example['input']}\\n\"\n",
    "        + \"#\" * 40\n",
    "        + f\"\\nOUTPUT\\n\"\n",
    "        + \"#\" * 40\n",
    "        + f\"\\n{example['output']}\\n\"\n",
    "    )\n",
    "    print(text)\n",
    "\n",
    "\n",
    "print_example(list_val[0])"
   ]
  },
  {
   "cell_type": "code",
   "execution_count": null,
   "metadata": {},
   "outputs": [],
   "source": []
  }
 ],
 "metadata": {
  "kernelspec": {
   "display_name": "llm_virtual_pretesting",
   "language": "python",
   "name": "python3"
  },
  "language_info": {
   "codemirror_mode": {
    "name": "ipython",
    "version": 3
   },
   "file_extension": ".py",
   "mimetype": "text/x-python",
   "name": "python",
   "nbconvert_exporter": "python",
   "pygments_lexer": "ipython3",
   "version": "3.12.9"
  }
 },
 "nbformat": 4,
 "nbformat_minor": 2
}
