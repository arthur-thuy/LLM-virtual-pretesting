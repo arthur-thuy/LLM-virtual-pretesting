{
 "cells": [
  {
   "cell_type": "markdown",
   "metadata": {},
   "source": [
    "# Imports"
   ]
  },
  {
   "cell_type": "code",
   "execution_count": 72,
   "metadata": {},
   "outputs": [
    {
     "data": {
      "text/plain": [
       "True"
      ]
     },
     "execution_count": 72,
     "metadata": {},
     "output_type": "execute_result"
    }
   ],
   "source": [
    "# standard library imports\n",
    "import os\n",
    "import random\n",
    "from typing import Callable\n",
    "\n",
    "# related third party imports\n",
    "import dotenv\n",
    "import pandas as pd\n",
    "import numpy as np\n",
    "import structlog\n",
    "from langchain_chroma import Chroma\n",
    "from langchain_core.example_selectors import SemanticSimilarityExampleSelector\n",
    "from langchain_openai import OpenAIEmbeddings, ChatOpenAI\n",
    "from langchain_ollama import OllamaEmbeddings\n",
    "from langchain_core.prompts import (\n",
    "    ChatPromptTemplate,\n",
    "    FewShotChatMessagePromptTemplate,\n",
    "    PromptTemplate,\n",
    "    SystemMessagePromptTemplate,\n",
    ")\n",
    "from langchain_core.output_parsers import PydanticOutputParser\n",
    "from langchain_ollama import ChatOllama\n",
    "from pydantic import BaseModel, Field, ValidationError\n",
    "from yacs.config import CfgNode\n",
    "from sklearn.metrics import accuracy_score\n",
    "\n",
    "# local application/library specific imports\n",
    "from example_selector.example_selector import (\n",
    "    RandomExampleSelector,\n",
    "    StudentIDRandomExampleSelector,\n",
    ")\n",
    "from data_loader.data_loader import DataLoader\n",
    "from tools.constants import SILVER_DIR, TRAIN, VALIDATION, TEST, MODEL_STRUCTURED_OUTPUT\n",
    "from prompt.few_shot_prompt import (\n",
    "    df_to_listdict,\n",
    ")\n",
    "from model.build import build_model\n",
    "from example_formatter.build import build_example_formatter\n",
    "\n",
    "logger = structlog.get_logger()\n",
    "\n",
    "# Reload the variables in your '.env' file (override the existing variables)\n",
    "dotenv.load_dotenv(\"../.env\", override=True)"
   ]
  },
  {
   "cell_type": "code",
   "execution_count": null,
   "metadata": {},
   "outputs": [],
   "source": [
    "### INPUTS ###\n",
    "MODEL_NAME = \"llama3\"  # \"olmo2:7b\"  # \"gpt-4o-mini\"  # \"llama3.2\"\n",
    "MODEL_PROVIDER = \"ollama\"  # \"openai\"  # \n",
    "SUPPORTS_STRUCTURED_OUTPUT = MODEL_STRUCTURED_OUTPUT[MODEL_NAME]"
   ]
  },
  {
   "cell_type": "code",
   "execution_count": 74,
   "metadata": {},
   "outputs": [],
   "source": [
    "model_cfg = CfgNode(\n",
    "    {\n",
    "        \"NAME\": MODEL_NAME,\n",
    "        \"PROVIDER\": MODEL_PROVIDER,\n",
    "        \"TEMPERATURE\": 0.5,\n",
    "        \"MAX_TOKENS\": None,\n",
    "        \"TIMEOUT\": None,\n",
    "        \"MAX_RETRIES\": None,\n",
    "    }\n",
    ")\n",
    "example_formatter_cfg = CfgNode(\n",
    "    {\n",
    "        \"NAME\": \"A\"\n",
    "    }\n",
    ")"
   ]
  },
  {
   "cell_type": "markdown",
   "metadata": {},
   "source": [
    "# Data"
   ]
  },
  {
   "cell_type": "code",
   "execution_count": 75,
   "metadata": {},
   "outputs": [
    {
     "name": "stdout",
     "output_type": "stream",
     "text": [
      "\u001b[2m2025-03-26 16:59:18\u001b[0m [\u001b[32m\u001b[1minfo     \u001b[0m] \u001b[1mSet seed (42)                 \u001b[0m\n",
      "\u001b[2m2025-03-26 16:59:18\u001b[0m [\u001b[32m\u001b[1minfo     \u001b[0m] \u001b[1mCreating train split          \u001b[0m \u001b[36mnum_interactions\u001b[0m=\u001b[35m1967\u001b[0m\n",
      "\u001b[2m2025-03-26 16:59:18\u001b[0m [\u001b[32m\u001b[1minfo     \u001b[0m] \u001b[1mCreating validation split     \u001b[0m \u001b[36mnum_interactions\u001b[0m=\u001b[35m492\u001b[0m\n",
      "\u001b[2m2025-03-26 16:59:18\u001b[0m [\u001b[32m\u001b[1minfo     \u001b[0m] \u001b[1mCreating test split           \u001b[0m \u001b[36mnum_interactions\u001b[0m=\u001b[35m820\u001b[0m\n"
     ]
    }
   ],
   "source": [
    "# load data\n",
    "data_loader = DataLoader(read_dir=SILVER_DIR, dataset_name=\"dbe_kt22\", join_key=\"question_id\")\n",
    "datasets = data_loader.split_data(train_size=0.6, test_size=0.25, seed=42)\n"
   ]
  },
  {
   "cell_type": "code",
   "execution_count": 76,
   "metadata": {},
   "outputs": [],
   "source": [
    "\n",
    "# # dataframes\n",
    "# df_train = apply_prompt_fmt(\n",
    "#     df=dataset[TRAIN], input_fmt=human_format_input, output_fmt=human_format_output\n",
    "# )\n",
    "# df_val = apply_prompt_fmt(\n",
    "#     df=dataset[VALIDATION], input_fmt=human_format_input, output_fmt=human_format_output\n",
    "# )\n",
    "# df_test = apply_prompt_fmt(\n",
    "#     df=dataset[TEST], input_fmt=human_format_input, output_fmt=human_format_output\n",
    "# )\n",
    "\n",
    "# # list of dicts\n",
    "# list_train = df_to_listdict(df_train)\n",
    "# list_val = df_to_listdict(df_val)\n",
    "# list_test = df_to_listdict(df_test)"
   ]
  },
  {
   "cell_type": "code",
   "execution_count": 77,
   "metadata": {},
   "outputs": [
    {
     "name": "stdout",
     "output_type": "stream",
     "text": [
      "\u001b[2m2025-03-26 16:59:18\u001b[0m [\u001b[32m\u001b[1minfo     \u001b[0m] \u001b[1mBuilding example formatter    \u001b[0m \u001b[36mname\u001b[0m=\u001b[35mA\u001b[0m \u001b[36msplits\u001b[0m=\u001b[35m['train', 'validation', 'test']\u001b[0m\n"
     ]
    }
   ],
   "source": [
    "# dataframes\n",
    "datasets_fmt = build_example_formatter(\n",
    "    example_formatter_cfg=example_formatter_cfg,\n",
    "    datasets=datasets,\n",
    ")\n",
    "\n",
    "# list of dicts\n",
    "list_train = df_to_listdict(datasets_fmt[TRAIN])\n",
    "list_val = df_to_listdict(datasets_fmt[VALIDATION])\n",
    "list_test = df_to_listdict(datasets_fmt[TEST])  # noqa"
   ]
  },
  {
   "cell_type": "code",
   "execution_count": 78,
   "metadata": {},
   "outputs": [
    {
     "data": {
      "text/html": [
       "<div>\n",
       "<style scoped>\n",
       "    .dataframe tbody tr th:only-of-type {\n",
       "        vertical-align: middle;\n",
       "    }\n",
       "\n",
       "    .dataframe tbody tr th {\n",
       "        vertical-align: top;\n",
       "    }\n",
       "\n",
       "    .dataframe thead th {\n",
       "        text-align: right;\n",
       "    }\n",
       "</style>\n",
       "<table border=\"1\" class=\"dataframe\">\n",
       "  <thead>\n",
       "    <tr style=\"text-align: right;\">\n",
       "      <th></th>\n",
       "      <th>input</th>\n",
       "      <th>output</th>\n",
       "      <th>student_id</th>\n",
       "      <th>question_id</th>\n",
       "      <th>interact_id</th>\n",
       "    </tr>\n",
       "  </thead>\n",
       "  <tbody>\n",
       "    <tr>\n",
       "      <th>6</th>\n",
       "      <td>Question:\\nWhat is the Cartesian product of A ...</td>\n",
       "      <td>Student answer: 0</td>\n",
       "      <td>86</td>\n",
       "      <td>4</td>\n",
       "      <td>787</td>\n",
       "    </tr>\n",
       "    <tr>\n",
       "      <th>10</th>\n",
       "      <td>Question:\\nIf A × B = {(p, x), (p, y), (q, x),...</td>\n",
       "      <td>Student answer: 1</td>\n",
       "      <td>86</td>\n",
       "      <td>8</td>\n",
       "      <td>791</td>\n",
       "    </tr>\n",
       "    <tr>\n",
       "      <th>11</th>\n",
       "      <td>Question:\\nIf A = {2, 3, 4, 5}, B = {4, 5, 6, ...</td>\n",
       "      <td>Student answer: 1</td>\n",
       "      <td>86</td>\n",
       "      <td>9</td>\n",
       "      <td>792</td>\n",
       "    </tr>\n",
       "    <tr>\n",
       "      <th>15</th>\n",
       "      <td>Question:\\nIf A = {2, 3, 4, 5}, B = {4, 5, 6, ...</td>\n",
       "      <td>Student answer: 3</td>\n",
       "      <td>86</td>\n",
       "      <td>13</td>\n",
       "      <td>796</td>\n",
       "    </tr>\n",
       "    <tr>\n",
       "      <th>21</th>\n",
       "      <td>Question:\\nConsider a database that stores nam...</td>\n",
       "      <td>Student answer: 1</td>\n",
       "      <td>31</td>\n",
       "      <td>95</td>\n",
       "      <td>7873</td>\n",
       "    </tr>\n",
       "  </tbody>\n",
       "</table>\n",
       "</div>"
      ],
      "text/plain": [
       "                                                input             output  \\\n",
       "6   Question:\\nWhat is the Cartesian product of A ...  Student answer: 0   \n",
       "10  Question:\\nIf A × B = {(p, x), (p, y), (q, x),...  Student answer: 1   \n",
       "11  Question:\\nIf A = {2, 3, 4, 5}, B = {4, 5, 6, ...  Student answer: 1   \n",
       "15  Question:\\nIf A = {2, 3, 4, 5}, B = {4, 5, 6, ...  Student answer: 3   \n",
       "21  Question:\\nConsider a database that stores nam...  Student answer: 1   \n",
       "\n",
       "    student_id  question_id  interact_id  \n",
       "6           86            4          787  \n",
       "10          86            8          791  \n",
       "11          86            9          792  \n",
       "15          86           13          796  \n",
       "21          31           95         7873  "
      ]
     },
     "execution_count": 78,
     "metadata": {},
     "output_type": "execute_result"
    }
   ],
   "source": [
    "datasets_fmt[VALIDATION].head()"
   ]
  },
  {
   "cell_type": "markdown",
   "metadata": {},
   "source": [
    "# Dynamic few-shot prompting"
   ]
  },
  {
   "cell_type": "markdown",
   "metadata": {},
   "source": [
    "## Create example selector\n",
    "\n",
    "NOTE: I need OpenAI credits to use the OpenAI embeddings."
   ]
  },
  {
   "cell_type": "code",
   "execution_count": null,
   "metadata": {},
   "outputs": [],
   "source": [
    "import time\n",
    "from pinecone import Pinecone, ServerlessSpec\n",
    "from langchain_ollama import OllamaEmbeddings\n",
    "from langchain_pinecone import PineconeVectorStore\n",
    "\n",
    "\n",
    "index_name = \"llama3\"  # change if desired\n",
    "\n",
    "pc = Pinecone(api_key=os.environ.get(\"PINECONE_API_KEY\"))\n",
    "\n",
    "EMBEDDINGS_DIM = {\"llama3\": 4096}\n",
    "\n",
    "if not pc.has_index(index_name):\n",
    "    pc.create_index(\n",
    "        name=index_name,\n",
    "        dimension=EMBEDDINGS_DIM[model_cfg.NAME],\n",
    "        metric=\"cosine\",\n",
    "        spec=ServerlessSpec(cloud=\"aws\", region=\"us-east-1\"),\n",
    "    )\n",
    "    while not pc.describe_index(index_name).status[\"ready\"]:\n",
    "        time.sleep(1)\n",
    "\n",
    "index = pc.Index(index_name)\n",
    "\n",
    "embeddings = OllamaEmbeddings(model=\"llama3\")  # TODO: make dynamic\n",
    "\n",
    "vector_store = PineconeVectorStore(index=index, embedding=embeddings, namespace=\"dbe_kt22\")"
   ]
  },
  {
   "cell_type": "code",
   "execution_count": 80,
   "metadata": {},
   "outputs": [],
   "source": [
    "vector_input_df = datasets_fmt[TRAIN].head(100)"
   ]
  },
  {
   "cell_type": "code",
   "execution_count": 81,
   "metadata": {},
   "outputs": [
    {
     "data": {
      "text/html": [
       "<div>\n",
       "<style scoped>\n",
       "    .dataframe tbody tr th:only-of-type {\n",
       "        vertical-align: middle;\n",
       "    }\n",
       "\n",
       "    .dataframe tbody tr th {\n",
       "        vertical-align: top;\n",
       "    }\n",
       "\n",
       "    .dataframe thead th {\n",
       "        text-align: right;\n",
       "    }\n",
       "</style>\n",
       "<table border=\"1\" class=\"dataframe\">\n",
       "  <thead>\n",
       "    <tr style=\"text-align: right;\">\n",
       "      <th></th>\n",
       "      <th>input</th>\n",
       "      <th>output</th>\n",
       "      <th>student_id</th>\n",
       "      <th>question_id</th>\n",
       "      <th>interact_id</th>\n",
       "    </tr>\n",
       "  </thead>\n",
       "  <tbody>\n",
       "    <tr>\n",
       "      <th>1</th>\n",
       "      <td>Question:\\nThe set that consists of all odd po...</td>\n",
       "      <td>Student answer: 0</td>\n",
       "      <td>76</td>\n",
       "      <td>3</td>\n",
       "      <td>751</td>\n",
       "    </tr>\n",
       "    <tr>\n",
       "      <th>2</th>\n",
       "      <td>Question:\\nWhat is the Cartesian product of A ...</td>\n",
       "      <td>Student answer: 0</td>\n",
       "      <td>76</td>\n",
       "      <td>4</td>\n",
       "      <td>752</td>\n",
       "    </tr>\n",
       "    <tr>\n",
       "      <th>3</th>\n",
       "      <td>Question:\\nThe Cartesian product B x A is alwa...</td>\n",
       "      <td>Student answer: 1</td>\n",
       "      <td>76</td>\n",
       "      <td>5</td>\n",
       "      <td>753</td>\n",
       "    </tr>\n",
       "    <tr>\n",
       "      <th>4</th>\n",
       "      <td>Question:\\nA __________ is a collection of dis...</td>\n",
       "      <td>Student answer: 3</td>\n",
       "      <td>86</td>\n",
       "      <td>2</td>\n",
       "      <td>785</td>\n",
       "    </tr>\n",
       "    <tr>\n",
       "      <th>5</th>\n",
       "      <td>Question:\\nThe set that consists of all odd po...</td>\n",
       "      <td>Student answer: 0</td>\n",
       "      <td>86</td>\n",
       "      <td>3</td>\n",
       "      <td>786</td>\n",
       "    </tr>\n",
       "    <tr>\n",
       "      <th>...</th>\n",
       "      <td>...</td>\n",
       "      <td>...</td>\n",
       "      <td>...</td>\n",
       "      <td>...</td>\n",
       "      <td>...</td>\n",
       "    </tr>\n",
       "    <tr>\n",
       "      <th>163</th>\n",
       "      <td>Question:\\nWhat operation(s) can a transaction...</td>\n",
       "      <td>Student answer: 1</td>\n",
       "      <td>411</td>\n",
       "      <td>203</td>\n",
       "      <td>30621</td>\n",
       "    </tr>\n",
       "    <tr>\n",
       "      <th>165</th>\n",
       "      <td>Question:\\nWhich of the following problems occ...</td>\n",
       "      <td>Student answer: 2</td>\n",
       "      <td>411</td>\n",
       "      <td>205</td>\n",
       "      <td>30638</td>\n",
       "    </tr>\n",
       "    <tr>\n",
       "      <th>167</th>\n",
       "      <td>Question:\\nWhich properties are ensured by the...</td>\n",
       "      <td>Student answer: 2</td>\n",
       "      <td>411</td>\n",
       "      <td>207</td>\n",
       "      <td>30663</td>\n",
       "    </tr>\n",
       "    <tr>\n",
       "      <th>169</th>\n",
       "      <td>Question:\\nConsider two transactions &lt;img src=...</td>\n",
       "      <td>Student answer: 2</td>\n",
       "      <td>411</td>\n",
       "      <td>209</td>\n",
       "      <td>30689</td>\n",
       "    </tr>\n",
       "    <tr>\n",
       "      <th>171</th>\n",
       "      <td>Question:\\nConsider the table Worker(name, pay...</td>\n",
       "      <td>Student answer: 2</td>\n",
       "      <td>411</td>\n",
       "      <td>211</td>\n",
       "      <td>30714</td>\n",
       "    </tr>\n",
       "  </tbody>\n",
       "</table>\n",
       "<p>100 rows × 5 columns</p>\n",
       "</div>"
      ],
      "text/plain": [
       "                                                 input             output  \\\n",
       "1    Question:\\nThe set that consists of all odd po...  Student answer: 0   \n",
       "2    Question:\\nWhat is the Cartesian product of A ...  Student answer: 0   \n",
       "3    Question:\\nThe Cartesian product B x A is alwa...  Student answer: 1   \n",
       "4    Question:\\nA __________ is a collection of dis...  Student answer: 3   \n",
       "5    Question:\\nThe set that consists of all odd po...  Student answer: 0   \n",
       "..                                                 ...                ...   \n",
       "163  Question:\\nWhat operation(s) can a transaction...  Student answer: 1   \n",
       "165  Question:\\nWhich of the following problems occ...  Student answer: 2   \n",
       "167  Question:\\nWhich properties are ensured by the...  Student answer: 2   \n",
       "169  Question:\\nConsider two transactions <img src=...  Student answer: 2   \n",
       "171  Question:\\nConsider the table Worker(name, pay...  Student answer: 2   \n",
       "\n",
       "     student_id  question_id  interact_id  \n",
       "1            76            3          751  \n",
       "2            76            4          752  \n",
       "3            76            5          753  \n",
       "4            86            2          785  \n",
       "5            86            3          786  \n",
       "..          ...          ...          ...  \n",
       "163         411          203        30621  \n",
       "165         411          205        30638  \n",
       "167         411          207        30663  \n",
       "169         411          209        30689  \n",
       "171         411          211        30714  \n",
       "\n",
       "[100 rows x 5 columns]"
      ]
     },
     "execution_count": 81,
     "metadata": {},
     "output_type": "execute_result"
    }
   ],
   "source": [
    "vector_input_df"
   ]
  },
  {
   "cell_type": "code",
   "execution_count": 82,
   "metadata": {},
   "outputs": [],
   "source": [
    "from langchain_core.documents import Document\n",
    "\n",
    "vector_input_doc = [\n",
    "    Document(\n",
    "        page_content=row[\"input\"],\n",
    "        metadata={\n",
    "            \"student_id\": row[\"student_id\"],\n",
    "            \"question_id\": row[\"question_id\"],\n",
    "            \"output\": row[\"output\"],\n",
    "        },\n",
    "    )\n",
    "    for _, row in vector_input_df.iterrows()\n",
    "]\n",
    "vector_input_id = vector_input_df[\"interact_id\"].astype(str).tolist()"
   ]
  },
  {
   "cell_type": "code",
   "execution_count": 83,
   "metadata": {},
   "outputs": [
    {
     "data": {
      "text/plain": [
       "100"
      ]
     },
     "execution_count": 83,
     "metadata": {},
     "output_type": "execute_result"
    }
   ],
   "source": [
    "len(vector_input_doc)"
   ]
  },
  {
   "cell_type": "code",
   "execution_count": 87,
   "metadata": {},
   "outputs": [],
   "source": [
    "# _ = vector_store.add_documents(documents=vector_input_doc, ids=vector_input_id)"
   ]
  },
  {
   "cell_type": "code",
   "execution_count": 88,
   "metadata": {},
   "outputs": [],
   "source": [
    "# \"llama-text-embed-v2\""
   ]
  },
  {
   "cell_type": "code",
   "execution_count": 89,
   "metadata": {},
   "outputs": [],
   "source": [
    "# vector_store.delete(delete_all=True)"
   ]
  },
  {
   "cell_type": "code",
   "execution_count": 119,
   "metadata": {},
   "outputs": [],
   "source": [
    "from langchain_core.example_selectors.base import BaseExampleSelector\n",
    "from langchain_pinecone import PineconeVectorStore\n",
    "from langchain_openai import OpenAIEmbeddings\n",
    "from pinecone import Pinecone\n",
    "\n",
    "\n",
    "def get_vector_store(\n",
    "    index_name: str, embedding_name: str, namespace: str\n",
    ") -> PineconeVectorStore:\n",
    "    \"\"\"Get the Pinecode vector store.\n",
    "\n",
    "    Parameters\n",
    "    ----------\n",
    "    index_name : str\n",
    "        Index name\n",
    "    embedding_name : str\n",
    "        Embedding name\n",
    "    namespace : str\n",
    "        Index namespace\n",
    "\n",
    "    Returns\n",
    "    -------\n",
    "    PineconeVectorStore\n",
    "        The Pinecone vector store.\n",
    "\n",
    "    Raises\n",
    "    ------\n",
    "    ValueError\n",
    "        If the index does not exist.\n",
    "    \"\"\"\n",
    "    pc = Pinecone(api_key=os.environ.get(\"PINECONE_API_KEY\"))\n",
    "    existing_indexes = [index_info[\"name\"] for index_info in pc.list_indexes()]\n",
    "    if index_name not in existing_indexes:\n",
    "        raise ValueError(f\"Index {index_name} does not exist.\")\n",
    "    index = pc.Index(index_name)\n",
    "    embeddings = OllamaEmbeddings(\n",
    "        model=embedding_name\n",
    "    )  # TODO: how to handle different embedding providers?\n",
    "    vector_store = PineconeVectorStore(index=index, embedding=embeddings, namespace=namespace)\n",
    "    logger.info(\n",
    "        f\"Loaded Pinecone vector store\", index_name=index_name, namespace=namespace\n",
    "    )\n",
    "    return vector_store\n",
    "\n",
    "\n",
    "EMBEDDING_NAMES = {\"llama3\": \"llama3\"}\n",
    "\n",
    "\n",
    "class StudentIDSemanticExampleSelector(BaseExampleSelector):\n",
    "    \"\"\"Filter examples of the same student_id and select based on semantic similarity.\"\"\"\n",
    "\n",
    "    def __init__(\n",
    "        self, k: int, index_name: str, model_name: str, namespace: str\n",
    "    ) -> None:\n",
    "        \"\"\"Initialize the example selector.\n",
    "\n",
    "        Parameters\n",
    "        ----------\n",
    "        k : int\n",
    "            k-shot prompting\n",
    "        index_name : str\n",
    "            The name of the Pinecone index.\n",
    "        model_name : str\n",
    "            The name of the LLM.\n",
    "        namespace : str\n",
    "            The namespace of the Pinecone index.\n",
    "        \"\"\"\n",
    "        self.k = k\n",
    "\n",
    "        embedding_name = EMBEDDING_NAMES[model_name]\n",
    "        self.vectorstore = get_vector_store(\n",
    "            index_name=index_name, embedding_name=embedding_name, namespace=namespace\n",
    "        )\n",
    "\n",
    "    def add_example(self, example):\n",
    "        # NOTE:\n",
    "        raise NotImplementedError\n",
    "\n",
    "    def select_examples(self, input_variables: dict) -> list[dict[str, str]]:\n",
    "        \"\"\"Select examples based on semantic similarity.\n",
    "\n",
    "        Parameters\n",
    "        ----------\n",
    "        input_variables : dict[str, str]\n",
    "            A dict containing info about a single observation.\n",
    "\n",
    "        Returns\n",
    "        -------\n",
    "        list[dict[str, str]]\n",
    "            The selected examples.\n",
    "        \"\"\"\n",
    "        # student_id of target student\n",
    "        student_id = input_variables[\"student_id\"]\n",
    "        input = input_variables[\"input\"]\n",
    "\n",
    "        results = self.vectorstore.similarity_search(\n",
    "            query=input,\n",
    "            k=self.k,\n",
    "            filter={\"student_id\": student_id},\n",
    "        )\n",
    "        return [\n",
    "            {\"input\": res.page_content, \"output\": res.metadata[\"output\"]}\n",
    "            for res in results\n",
    "        ]"
   ]
  },
  {
   "cell_type": "code",
   "execution_count": 120,
   "metadata": {},
   "outputs": [],
   "source": [
    "# example_selector = SemanticSimilarityExampleSelector(\n",
    "#     examples=list_train, k=1\n",
    "# )\n",
    "# example_selector.select_examples({\"input\": list_val[0][\"input\"]})"
   ]
  },
  {
   "cell_type": "code",
   "execution_count": 95,
   "metadata": {},
   "outputs": [
    {
     "name": "stdout",
     "output_type": "stream",
     "text": [
      "* Question:\n",
      "If {a,b} is a superkey in R(a,b,c), then________________.\n",
      "\n",
      "Options:\n",
      "1. {a,b,c} must not be a candidate key\n",
      "2. {a,b,c} must be a primary key\n",
      "3. {a,b,c} must not be a superkey\n",
      "\n",
      "Correct answer: 0 [{'output': 'Student answer: 2', 'question_id': 46.0, 'student_id': 86.0}]\n",
      "* Question:\n",
      "The set that consists of all odd positive integers less than 10 is represented by _____________.\n",
      "\n",
      "Options:\n",
      "1. {1, 3, 5, 7, 9}\n",
      "2. {1, 5, 7, 9, 11}\n",
      "3. {1, 2, 5, 9}\n",
      "4. {1, 2, 3}\n",
      "\n",
      "Correct answer: 0 [{'output': 'Student answer: 0', 'question_id': 3.0, 'student_id': 86.0}]\n"
     ]
    }
   ],
   "source": [
    "results = vector_store.similarity_search(\n",
    "    list_val[0][\"input\"],\n",
    "    k=2,\n",
    "    filter={\"student_id\": list_val[0][\"student_id\"]},\n",
    ")\n",
    "for res in results:\n",
    "    print(f\"* {res.page_content} [{res.metadata}]\")"
   ]
  },
  {
   "cell_type": "code",
   "execution_count": 121,
   "metadata": {},
   "outputs": [
    {
     "name": "stdout",
     "output_type": "stream",
     "text": [
      "\u001b[2m2025-03-26 17:05:42\u001b[0m [\u001b[32m\u001b[1minfo     \u001b[0m] \u001b[1mLoaded Pinecone vector store  \u001b[0m \u001b[36mindex_name\u001b[0m=\u001b[35mllama3\u001b[0m \u001b[36mnamespace\u001b[0m=\u001b[35mdbe_kt22\u001b[0m\n"
     ]
    },
    {
     "data": {
      "text/plain": [
       "[{'input': 'Question:\\nIf {a,b} is a superkey in R(a,b,c), then________________.\\n\\nOptions:\\n1. {a,b,c} must not be a candidate key\\n2. {a,b,c} must be a primary key\\n3. {a,b,c} must not be a superkey\\n\\nCorrect answer: 0',\n",
       "  'output': 'Student answer: 2'},\n",
       " {'input': 'Question:\\nThe set that consists of all odd positive integers less than 10 is represented by _____________.\\n\\nOptions:\\n1. {1, 3, 5, 7, 9}\\n2. {1, 5, 7, 9, 11}\\n3. {1, 2, 5, 9}\\n4. {1, 2, 3}\\n\\nCorrect answer: 0',\n",
       "  'output': 'Student answer: 0'}]"
      ]
     },
     "execution_count": 121,
     "metadata": {},
     "output_type": "execute_result"
    }
   ],
   "source": [
    "example_selector = StudentIDSemanticExampleSelector(\n",
    "    k=2,\n",
    "    index_name=\"llama3\",\n",
    "    model_name=model_cfg.NAME,\n",
    "    namespace=\"dbe_kt22\",\n",
    ")\n",
    "example_selector.select_examples(list_val[0])"
   ]
  },
  {
   "cell_type": "markdown",
   "metadata": {},
   "source": [
    "___"
   ]
  },
  {
   "cell_type": "code",
   "execution_count": 106,
   "metadata": {},
   "outputs": [],
   "source": [
    "# examples = list_train[:10]\n",
    "# to_vectorize = [example[\"input\"] for example in examples]\n",
    "# # embeddings = OpenAIEmbeddings()\n",
    "# embeddings = OllamaEmbeddings(model=\"llama3\")\n",
    "# vectorstore = Chroma.from_texts(\n",
    "#     texts=to_vectorize,\n",
    "#     embedding=embeddings,\n",
    "#     metadatas=examples,\n",
    "#     persist_directory=os.path.join(\"output\", \"vectorstore\", \"chroma_langchain_db\"),\n",
    "# )"
   ]
  },
  {
   "cell_type": "code",
   "execution_count": 107,
   "metadata": {},
   "outputs": [],
   "source": [
    "# NOTE: texts depend on the example formatter used"
   ]
  },
  {
   "cell_type": "code",
   "execution_count": 108,
   "metadata": {},
   "outputs": [],
   "source": [
    "# vectorstore"
   ]
  },
  {
   "cell_type": "code",
   "execution_count": 109,
   "metadata": {},
   "outputs": [],
   "source": [
    "# example_selector = SemanticSimilarityExampleSelector(\n",
    "#     vectorstore=vectorstore,\n",
    "#     k=1\n",
    "# )\n",
    "# example_selector.select_examples({\"input\": list_val[0][\"input\"]})"
   ]
  },
  {
   "cell_type": "code",
   "execution_count": 110,
   "metadata": {},
   "outputs": [],
   "source": [
    "# example_selector = SemanticSimilarityExampleSelector(\n",
    "#     vectorstore=vectorstore,\n",
    "#     k=2,\n",
    "# )\n",
    "\n",
    "# # The prompt template will load examples by passing the input do the `select_examples` method\n",
    "# example_selector.select_examples({\"input\": \"horse\"})"
   ]
  },
  {
   "cell_type": "code",
   "execution_count": 111,
   "metadata": {},
   "outputs": [],
   "source": [
    "# # Create the selector with k=3 for 3-shot prompting\n",
    "# example_selector = RandomExampleSelector(examples=list_train, k=3)\n",
    "# example_selector.select_examples({})"
   ]
  },
  {
   "cell_type": "code",
   "execution_count": 112,
   "metadata": {},
   "outputs": [],
   "source": [
    "# # Select examples of a specific student\n",
    "# example_selector = StudentIDExampleSelector(examples=list_train, k=3)\n",
    "# example_selector.select_examples({\"student_id\": 395})"
   ]
  },
  {
   "cell_type": "markdown",
   "metadata": {},
   "source": [
    "## Create prompt template"
   ]
  },
  {
   "cell_type": "code",
   "execution_count": 122,
   "metadata": {},
   "outputs": [],
   "source": [
    "# Pydantic\n",
    "class MCQAnswer(BaseModel):\n",
    "    \"\"\"Answer to a multiple-choice question.\"\"\"\n",
    "\n",
    "    explanation: str = Field(\n",
    "        description=\"Misconception if incorrectly answered; motivation if correctly answered\"\n",
    "    )\n",
    "    student_answer: int = Field(\n",
    "        description=\"The student's answer to the question, as an integer (1-4)\"\n",
    "    )\n",
    "    # difficulty: str = Field(description=\"The difficulty level of the question\")"
   ]
  },
  {
   "cell_type": "code",
   "execution_count": 123,
   "metadata": {},
   "outputs": [
    {
     "name": "stdout",
     "output_type": "stream",
     "text": [
      "4\n",
      "[HumanMessage(content='Question:\\nIf {a,b} is a superkey in R(a,b,c), then________________.\\n\\nOptions:\\n1. {a,b,c} must not be a candidate key\\n2. {a,b,c} must be a primary key\\n3. {a,b,c} must not be a superkey\\n\\nCorrect answer: 0', additional_kwargs={}, response_metadata={}), AIMessage(content='Student answer: 2', additional_kwargs={}, response_metadata={}), HumanMessage(content='Question:\\nThe set that consists of all odd positive integers less than 10 is represented by _____________.\\n\\nOptions:\\n1. {1, 3, 5, 7, 9}\\n2. {1, 5, 7, 9, 11}\\n3. {1, 2, 5, 9}\\n4. {1, 2, 3}\\n\\nCorrect answer: 0', additional_kwargs={}, response_metadata={}), AIMessage(content='Student answer: 0', additional_kwargs={}, response_metadata={})]\n"
     ]
    }
   ],
   "source": [
    "# Define the few-shot prompt.\n",
    "few_shot_prompt = FewShotChatMessagePromptTemplate(\n",
    "    # The input variables select the values to pass to the example_selector\n",
    "    input_variables=[\"student_id\"],  # TODO: do not hardcode\n",
    "    example_selector=example_selector,\n",
    "    # Define how each example will be formatted.\n",
    "    # In this case, each example will become 2 messages:\n",
    "    # 1 human, and 1 AI\n",
    "    example_prompt=ChatPromptTemplate.from_messages(\n",
    "        [(\"human\", \"{input}\"), (\"ai\", \"{output}\")]\n",
    "    ),\n",
    ")\n",
    "\n",
    "out = few_shot_prompt.invoke(input=list_val[0]).to_messages()\n",
    "print(len(out))\n",
    "print(out)"
   ]
  },
  {
   "cell_type": "code",
   "execution_count": 124,
   "metadata": {},
   "outputs": [
    {
     "name": "stdout",
     "output_type": "stream",
     "text": [
      "6\n",
      "[SystemMessage(content='You are a student working on a database systems exam (Department of Computer Science), containing multiple choice questions. You are shown a set of questions that you answered earlier in the exam, together with the correct answers and your student answers. Analyse your responses to the questions and identify the possible misconceptions that led to answering incorrectly. Inspect the new question and think how you would answer it as a student. If you answer incorrectly, explain which misconception leads to selecting that answer. If you answer correctly, explain why you think the answer is correct. Provide your answer as an integer in the range 1-4. Wrap the output in `json` tags\\nThe output should be formatted as a JSON instance that conforms to the JSON schema below.\\n\\nAs an example, for the schema {\"properties\": {\"foo\": {\"title\": \"Foo\", \"description\": \"a list of strings\", \"type\": \"array\", \"items\": {\"type\": \"string\"}}}, \"required\": [\"foo\"]}\\nthe object {\"foo\": [\"bar\", \"baz\"]} is a well-formatted instance of the schema. The object {\"properties\": {\"foo\": [\"bar\", \"baz\"]}} is not well-formatted.\\n\\nHere is the output schema:\\n```\\n{\"description\": \"Answer to a multiple-choice question.\", \"properties\": {\"explanation\": {\"description\": \"Misconception if incorrectly answered; motivation if correctly answered\", \"title\": \"Explanation\", \"type\": \"string\"}, \"student_answer\": {\"description\": \"The student\\'s answer to the question, as an integer (1-4)\", \"title\": \"Student Answer\", \"type\": \"integer\"}}, \"required\": [\"explanation\", \"student_answer\"]}\\n```', additional_kwargs={}, response_metadata={}), HumanMessage(content='Question:\\nIf {a,b} is a superkey in R(a,b,c), then________________.\\n\\nOptions:\\n1. {a,b,c} must not be a candidate key\\n2. {a,b,c} must be a primary key\\n3. {a,b,c} must not be a superkey\\n\\nCorrect answer: 0', additional_kwargs={}, response_metadata={}), AIMessage(content='Student answer: 2', additional_kwargs={}, response_metadata={}), HumanMessage(content='Question:\\nThe set that consists of all odd positive integers less than 10 is represented by _____________.\\n\\nOptions:\\n1. {1, 3, 5, 7, 9}\\n2. {1, 5, 7, 9, 11}\\n3. {1, 2, 5, 9}\\n4. {1, 2, 3}\\n\\nCorrect answer: 0', additional_kwargs={}, response_metadata={}), AIMessage(content='Student answer: 0', additional_kwargs={}, response_metadata={}), HumanMessage(content='Question:\\nWhat is the Cartesian product of A = {1, 2} and B = {a, b}?\\n\\nOptions:\\n1. {(1, a), (2, a), (1, b), (2, b)}\\n2. {(1, a), (1, b), (2, a), (b, b)}\\n3. {(a, 1), (a, 2), (b, 1), (b, 2)}\\n4. {(1, 1), (2, 2), (a, a), (b, b)}\\n\\nCorrect answer: 0', additional_kwargs={}, response_metadata={})]\n"
     ]
    }
   ],
   "source": [
    "system_prompt_raw = (\n",
    "    \"You are a student working on {exam_type}, containing multiple choice questions. \"\n",
    "    \"You are shown a set of questions that you answered earlier in the exam, together with the correct answers and your student answers. \"\n",
    "    \"Analyse your responses to the questions and identify the possible misconceptions that led to answering incorrectly. \"\n",
    "    \"Inspect the new question and think how you would answer it as a student. \"\n",
    "    \"If you answer incorrectly, explain which misconception leads to selecting that answer. \"\n",
    "    \"If you answer correctly, explain why you think the answer is correct. \"\n",
    "    \"Provide your answer as an integer in the range 1-4. \"\n",
    ")\n",
    "# Set up a parser (not used if model supports structured output)\n",
    "parser = PydanticOutputParser(pydantic_object=MCQAnswer)\n",
    "if not SUPPORTS_STRUCTURED_OUTPUT:\n",
    "    system_prompt_raw += \"Wrap the output in `json` tags\\n{format_instructions}\"\n",
    "\n",
    "\n",
    "final_prompt = ChatPromptTemplate.from_messages(\n",
    "    [\n",
    "        (\"system\", system_prompt_raw),\n",
    "        few_shot_prompt,\n",
    "        (\"human\", \"{input}\"),\n",
    "    ]\n",
    ").partial(\n",
    "    format_instructions=parser.get_format_instructions(),\n",
    "    exam_type=\"a database systems exam (Department of Computer Science)\",\n",
    ")\n",
    "\n",
    "# print(\n",
    "#     final_prompt.invoke(\n",
    "#         input=list_val[0],\n",
    "#     ).to_string()\n",
    "# )\n",
    "out = final_prompt.invoke(input=list_val[0]).to_messages()\n",
    "print(len(out))\n",
    "print(out)"
   ]
  },
  {
   "cell_type": "markdown",
   "metadata": {},
   "source": [
    "# Model"
   ]
  },
  {
   "cell_type": "code",
   "execution_count": 125,
   "metadata": {},
   "outputs": [
    {
     "name": "stdout",
     "output_type": "stream",
     "text": [
      "\u001b[2m2025-03-26 17:05:53\u001b[0m [\u001b[32m\u001b[1minfo     \u001b[0m] \u001b[1mBuilding model                \u001b[0m \u001b[36mname\u001b[0m=\u001b[35mllama3\u001b[0m \u001b[36mprovider\u001b[0m=\u001b[35mollama\u001b[0m\n"
     ]
    }
   ],
   "source": [
    "# model\n",
    "model = build_model(model_cfg=model_cfg)\n",
    "if SUPPORTS_STRUCTURED_OUTPUT:\n",
    "    model = model.with_structured_output(MCQAnswer, include_raw=True)\n",
    "\n",
    "# chain\n",
    "chain = final_prompt | model\n",
    "# if not SUPPORTS_STRUCTURED_OUTPUT:\n",
    "#     chain = chain.pipe(parser)"
   ]
  },
  {
   "cell_type": "code",
   "execution_count": 127,
   "metadata": {},
   "outputs": [
    {
     "name": "stdout",
     "output_type": "stream",
     "text": [
      "\u001b[2m2025-03-26 17:06:05\u001b[0m [\u001b[32m\u001b[1minfo     \u001b[0m] \u001b[1mValidating outputs            \u001b[0m\n"
     ]
    }
   ],
   "source": [
    "from prompt.json_schema import validate_output\n",
    "\n",
    "# run model in batch\n",
    "preds_raw = chain.batch(list_val[:10])\n",
    "if SUPPORTS_STRUCTURED_OUTPUT:\n",
    "    # get all raw outputs\n",
    "    preds_raw = [output[\"raw\"] for output in preds_raw]\n",
    "preds_validated = validate_output(preds_raw, schema=MCQAnswer)"
   ]
  },
  {
   "cell_type": "code",
   "execution_count": 128,
   "metadata": {},
   "outputs": [
    {
     "data": {
      "text/plain": [
       "array([0, 1, 1, 3, 2, 1, 1, 0, 1, 0])"
      ]
     },
     "execution_count": 128,
     "metadata": {},
     "output_type": "execute_result"
    }
   ],
   "source": [
    "y_val_pred = np.array([output.student_answer for output in preds_validated])\n",
    "y_val_pred"
   ]
  },
  {
   "cell_type": "code",
   "execution_count": 129,
   "metadata": {},
   "outputs": [
    {
     "data": {
      "text/plain": [
       "array([0, 1, 1, 3, 1, 1, 1, 0, 1, 0])"
      ]
     },
     "execution_count": 129,
     "metadata": {},
     "output_type": "execute_result"
    }
   ],
   "source": [
    "y_val_student = datasets[VALIDATION][\"student_option_id\"].to_numpy()[:10]\n",
    "y_val_student\n"
   ]
  },
  {
   "cell_type": "code",
   "execution_count": 130,
   "metadata": {},
   "outputs": [
    {
     "data": {
      "text/plain": [
       "array([0, 1, 1, 3, 1, 1, 1, 0, 1, 0])"
      ]
     },
     "execution_count": 130,
     "metadata": {},
     "output_type": "execute_result"
    }
   ],
   "source": [
    "y_val_true = datasets[VALIDATION][\"correct_option_id\"].to_numpy()[:10]\n",
    "y_val_true"
   ]
  },
  {
   "cell_type": "code",
   "execution_count": 131,
   "metadata": {},
   "outputs": [
    {
     "name": "stdout",
     "output_type": "stream",
     "text": [
      "acc_student_pred = 0.9\n",
      "acc_true_student = 1.0\n",
      "acc_true_pred = 0.9\n"
     ]
    }
   ],
   "source": [
    "acc_student_pred = accuracy_score(y_true=y_val_student, y_pred=y_val_pred)\n",
    "acc_true_student = accuracy_score(y_true=y_val_true, y_pred=y_val_student)\n",
    "acc_true_pred = accuracy_score(y_true=y_val_true, y_pred=y_val_pred)\n",
    "\n",
    "print(f\"{acc_student_pred = }\")\n",
    "print(f\"{acc_true_student = }\")\n",
    "print(f\"{acc_true_pred = }\")"
   ]
  },
  {
   "cell_type": "code",
   "execution_count": 132,
   "metadata": {},
   "outputs": [
    {
     "name": "stdout",
     "output_type": "stream",
     "text": [
      "########################################\n",
      "INPUT\n",
      "########################################\n",
      "Question:\n",
      "What is the Cartesian product of A = {1, 2} and B = {a, b}?\n",
      "\n",
      "Options:\n",
      "1. {(1, a), (2, a), (1, b), (2, b)}\n",
      "2. {(1, a), (1, b), (2, a), (b, b)}\n",
      "3. {(a, 1), (a, 2), (b, 1), (b, 2)}\n",
      "4. {(1, 1), (2, 2), (a, a), (b, b)}\n",
      "\n",
      "Correct answer: 0\n",
      "########################################\n",
      "OUTPUT\n",
      "########################################\n",
      "Student answer: 0\n",
      "\n"
     ]
    }
   ],
   "source": [
    "# TODO: add func to only print input (also printing output can be confusing)\n",
    "def print_example(example: dict) -> None:\n",
    "    \"\"\"Print single example.\n",
    "\n",
    "    Parameters\n",
    "    ----------\n",
    "    example : dict\n",
    "        Example dictionary with 'input' and 'output' keys.\n",
    "    \"\"\"\n",
    "    text = (\n",
    "        \"#\" * 40\n",
    "        + f\"\\nINPUT\\n\"\n",
    "        + \"#\" * 40\n",
    "        + f\"\\n{example['input']}\\n\"\n",
    "        + \"#\" * 40\n",
    "        + f\"\\nOUTPUT\\n\"\n",
    "        + \"#\" * 40\n",
    "        + f\"\\n{example['output']}\\n\"\n",
    "    )\n",
    "    print(text)\n",
    "\n",
    "\n",
    "print_example(list_val[0])"
   ]
  },
  {
   "cell_type": "code",
   "execution_count": null,
   "metadata": {},
   "outputs": [],
   "source": []
  }
 ],
 "metadata": {
  "kernelspec": {
   "display_name": "llm_virtual_pretesting",
   "language": "python",
   "name": "python3"
  },
  "language_info": {
   "codemirror_mode": {
    "name": "ipython",
    "version": 3
   },
   "file_extension": ".py",
   "mimetype": "text/x-python",
   "name": "python",
   "nbconvert_exporter": "python",
   "pygments_lexer": "ipython3",
   "version": "3.12.9"
  }
 },
 "nbformat": 4,
 "nbformat_minor": 2
}
