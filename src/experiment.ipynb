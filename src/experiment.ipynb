{
 "cells": [
  {
   "cell_type": "code",
   "execution_count": 1,
   "metadata": {},
   "outputs": [
    {
     "data": {
      "text/plain": [
       "True"
      ]
     },
     "execution_count": 1,
     "metadata": {},
     "output_type": "execute_result"
    }
   ],
   "source": [
    "import os\n",
    "import random\n",
    "from pprint import pprint\n",
    "\n",
    "import dotenv\n",
    "import pandas as pd\n",
    "from langchain_chroma import Chroma\n",
    "from langchain_core.example_selectors import SemanticSimilarityExampleSelector\n",
    "from langchain_openai import OpenAIEmbeddings, ChatOpenAI\n",
    "from langchain_core.example_selectors.base import BaseExampleSelector\n",
    "from langchain_core.prompts import (\n",
    "    ChatPromptTemplate,\n",
    "    FewShotChatMessagePromptTemplate,\n",
    "    PromptTemplate,\n",
    ")\n",
    "from pydantic import BaseModel, Field, ValidationError\n",
    "\n",
    "\n",
    "from tools.data_manager import CupaDatamanager\n",
    "from tools.constants import WRITE_DIR, DICT_CEFR_DESCRIPTIONS\n",
    "\n",
    "# Reload the variables in your '.env' file (override the existing variables)\n",
    "dotenv.load_dotenv(\"../.env\", override=True)"
   ]
  },
  {
   "cell_type": "code",
   "execution_count": 2,
   "metadata": {},
   "outputs": [
    {
     "name": "stderr",
     "output_type": "stream",
     "text": [
      "/home/abthuy/Documents/PhD research/LLM-virtual-pretesting/src/tools/data_manager/_cupa_data_manager.py:168: FutureWarning: The behavior of DataFrame concatenation with empty or all-NA entries is deprecated. In a future version, this will no longer exclude empty or all-NA columns when determining the result dtypes. To retain the old behavior, exclude the relevant entries before the concat operation.\n",
      "  out_df = pd.concat([out_df, new_row_df], ignore_index=True)\n"
     ]
    },
    {
     "name": "stdout",
     "output_type": "stream",
     "text": [
      "\u001b[2m2025-03-13 13:10:57\u001b[0m [\u001b[32m\u001b[1minfo     \u001b[0m] \u001b[1mReading entire dataset        \u001b[0m \u001b[36mnum_contexts\u001b[0m=\u001b[35m120\u001b[0m \u001b[36mnum_questions\u001b[0m=\u001b[35m795\u001b[0m\n",
      "\u001b[2m2025-03-13 13:10:57\u001b[0m [\u001b[32m\u001b[1minfo     \u001b[0m] \u001b[1mCreating train split          \u001b[0m \u001b[36mnum_contexts\u001b[0m=\u001b[35m72\u001b[0m \u001b[36mnum_questions\u001b[0m=\u001b[35m481\u001b[0m\n",
      "\u001b[2m2025-03-13 13:10:57\u001b[0m [\u001b[32m\u001b[1minfo     \u001b[0m] \u001b[1mCreating dev split            \u001b[0m \u001b[36mnum_contexts\u001b[0m=\u001b[35m18\u001b[0m \u001b[36mnum_questions\u001b[0m=\u001b[35m121\u001b[0m\n",
      "\u001b[2m2025-03-13 13:10:57\u001b[0m [\u001b[32m\u001b[1minfo     \u001b[0m] \u001b[1mCreating test split           \u001b[0m \u001b[36mnum_contexts\u001b[0m=\u001b[35m30\u001b[0m \u001b[36mnum_questions\u001b[0m=\u001b[35m193\u001b[0m\n"
     ]
    }
   ],
   "source": [
    "cupa_data_dir = \"../data/raw/CUPA\"\n",
    "cupa_dm = CupaDatamanager()\n",
    "dataset = cupa_dm.get_cupa_dataset(cupa_data_dir, WRITE_DIR, save_dataset=False)"
   ]
  },
  {
   "cell_type": "code",
   "execution_count": 3,
   "metadata": {},
   "outputs": [
    {
     "data": {
      "text/html": [
       "<div>\n",
       "<style scoped>\n",
       "    .dataframe tbody tr th:only-of-type {\n",
       "        vertical-align: middle;\n",
       "    }\n",
       "\n",
       "    .dataframe tbody tr th {\n",
       "        vertical-align: top;\n",
       "    }\n",
       "\n",
       "    .dataframe thead th {\n",
       "        text-align: right;\n",
       "    }\n",
       "</style>\n",
       "<table border=\"1\" class=\"dataframe\">\n",
       "  <thead>\n",
       "    <tr style=\"text-align: right;\">\n",
       "      <th></th>\n",
       "      <th>correct_answer</th>\n",
       "      <th>options</th>\n",
       "      <th>option_0</th>\n",
       "      <th>option_1</th>\n",
       "      <th>option_2</th>\n",
       "      <th>option_3</th>\n",
       "      <th>question</th>\n",
       "      <th>context</th>\n",
       "      <th>context_id</th>\n",
       "      <th>q_id</th>\n",
       "      <th>split</th>\n",
       "      <th>difficulty</th>\n",
       "    </tr>\n",
       "  </thead>\n",
       "  <tbody>\n",
       "    <tr>\n",
       "      <th>0</th>\n",
       "      <td>0</td>\n",
       "      <td>[to reinforce the concerns already felt by som...</td>\n",
       "      <td>to reinforce the concerns already felt by some...</td>\n",
       "      <td>to remind readers to beware of false promises</td>\n",
       "      <td>to explain that such sites often have a hidden...</td>\n",
       "      <td>to show that the risks of internet use are som...</td>\n",
       "      <td>Why does the writer describe a website about p...</td>\n",
       "      <td>Some time ago a website highlighted the risks ...</td>\n",
       "      <td>1</td>\n",
       "      <td>1_Q1</td>\n",
       "      <td>None</td>\n",
       "      <td>83.030000</td>\n",
       "    </tr>\n",
       "    <tr>\n",
       "      <th>1</th>\n",
       "      <td>1</td>\n",
       "      <td>[they got fired from their jobs, navigated cel...</td>\n",
       "      <td>they got fired from their jobs</td>\n",
       "      <td>navigated celebritys temptations and perils</td>\n",
       "      <td>scroll off our collective screen</td>\n",
       "      <td>are doomed to repost it</td>\n",
       "      <td>Which phrase echoes the image introduced in th...</td>\n",
       "      <td>Some time ago a website highlighted the risks ...</td>\n",
       "      <td>1</td>\n",
       "      <td>1_Q2</td>\n",
       "      <td>None</td>\n",
       "      <td>78.060000</td>\n",
       "    </tr>\n",
       "    <tr>\n",
       "      <th>2</th>\n",
       "      <td>1</td>\n",
       "      <td>[He is concerned by the risks they took., He a...</td>\n",
       "      <td>He is concerned by the risks they took.</td>\n",
       "      <td>He appreciates their unprecedented achievements.</td>\n",
       "      <td>He admires their technical skills.</td>\n",
       "      <td>He is impressed by the extent of their coopera...</td>\n",
       "      <td>What is the writers attitude to the online pio...</td>\n",
       "      <td>Some time ago a website highlighted the risks ...</td>\n",
       "      <td>1</td>\n",
       "      <td>1_Q3</td>\n",
       "      <td>None</td>\n",
       "      <td>77.020000</td>\n",
       "    </tr>\n",
       "    <tr>\n",
       "      <th>3</th>\n",
       "      <td>0</td>\n",
       "      <td>[He was unusually innovative in his approach.,...</td>\n",
       "      <td>He was unusually innovative in his approach.</td>\n",
       "      <td>His work was popular for the wrong reasons.</td>\n",
       "      <td>He inspired others writing in different fields...</td>\n",
       "      <td>His work displayed considerable literary skill.</td>\n",
       "      <td>What does the writer suggest about Justin Hall...</td>\n",
       "      <td>Some time ago a website highlighted the risks ...</td>\n",
       "      <td>1</td>\n",
       "      <td>1_Q4</td>\n",
       "      <td>None</td>\n",
       "      <td>72.860000</td>\n",
       "    </tr>\n",
       "    <tr>\n",
       "      <th>4</th>\n",
       "      <td>2</td>\n",
       "      <td>[People usually dislike exhibitionists., Someo...</td>\n",
       "      <td>People usually dislike exhibitionists.</td>\n",
       "      <td>Someones life can be a form of art.</td>\n",
       "      <td>Being too open may be counterproductive.</td>\n",
       "      <td>Relationships are always a private matter.</td>\n",
       "      <td>What point is exemplified by the references to...</td>\n",
       "      <td>Some time ago a website highlighted the risks ...</td>\n",
       "      <td>1</td>\n",
       "      <td>1_Q5</td>\n",
       "      <td>None</td>\n",
       "      <td>77.020000</td>\n",
       "    </tr>\n",
       "    <tr>\n",
       "      <th>...</th>\n",
       "      <td>...</td>\n",
       "      <td>...</td>\n",
       "      <td>...</td>\n",
       "      <td>...</td>\n",
       "      <td>...</td>\n",
       "      <td>...</td>\n",
       "      <td>...</td>\n",
       "      <td>...</td>\n",
       "      <td>...</td>\n",
       "      <td>...</td>\n",
       "      <td>...</td>\n",
       "      <td>...</td>\n",
       "    </tr>\n",
       "    <tr>\n",
       "      <th>785</th>\n",
       "      <td>1</td>\n",
       "      <td>[complain about a badly organised summer camp,...</td>\n",
       "      <td>complain about a badly organised summer camp</td>\n",
       "      <td>describe how children get on at a summer camp</td>\n",
       "      <td>explain how to apply for a job at a summer camp</td>\n",
       "      <td>advise children how to behave away from home</td>\n",
       "      <td>What is the writer trying to do in this text?</td>\n",
       "      <td>At the summer camp where I work, I really enjo...</td>\n",
       "      <td>119</td>\n",
       "      <td>119_Q1</td>\n",
       "      <td>None</td>\n",
       "      <td>63.000000</td>\n",
       "    </tr>\n",
       "    <tr>\n",
       "      <th>786</th>\n",
       "      <td>3</td>\n",
       "      <td>[At camp, most prefer swimming to table-tennis...</td>\n",
       "      <td>At camp, most prefer swimming to table-tennis.</td>\n",
       "      <td>If they dont enjoy climbing they can play tabl...</td>\n",
       "      <td>With help, most people become excellent table-...</td>\n",
       "      <td>Most of them already know how to play table-te...</td>\n",
       "      <td>What does the writer say about the children an...</td>\n",
       "      <td>At the summer camp where I work, I really enjo...</td>\n",
       "      <td>119</td>\n",
       "      <td>119_Q2</td>\n",
       "      <td>None</td>\n",
       "      <td>86.389999</td>\n",
       "    </tr>\n",
       "    <tr>\n",
       "      <th>787</th>\n",
       "      <td>2</td>\n",
       "      <td>[The youngest ones find it hardest to be away ...</td>\n",
       "      <td>The youngest ones find it hardest to be away f...</td>\n",
       "      <td>They complain about the food when they phone t...</td>\n",
       "      <td>They soon find that being at camp is enjoyable.</td>\n",
       "      <td>Few of them seem grateful to the staff.</td>\n",
       "      <td>What does the writer say about children who go...</td>\n",
       "      <td>At the summer camp where I work, I really enjo...</td>\n",
       "      <td>119</td>\n",
       "      <td>119_Q3</td>\n",
       "      <td>None</td>\n",
       "      <td>63.369999</td>\n",
       "    </tr>\n",
       "    <tr>\n",
       "      <th>788</th>\n",
       "      <td>1</td>\n",
       "      <td>[They should visit their children instead of p...</td>\n",
       "      <td>They should visit their children instead of ph...</td>\n",
       "      <td>They don't need to keep on phoning the camp.</td>\n",
       "      <td>They shouldn't allow their children to bring p...</td>\n",
       "      <td>They feel worse after speaking on the phone.</td>\n",
       "      <td>What does the writer think about some parents?</td>\n",
       "      <td>At the summer camp where I work, I really enjo...</td>\n",
       "      <td>119</td>\n",
       "      <td>119_Q4</td>\n",
       "      <td>None</td>\n",
       "      <td>57.910000</td>\n",
       "    </tr>\n",
       "    <tr>\n",
       "      <th>789</th>\n",
       "      <td>0</td>\n",
       "      <td>[I hated it at first when they made me put on ...</td>\n",
       "      <td>I hated it at first when they made me put on o...</td>\n",
       "      <td>It's so unfair  everyone else can use their mo...</td>\n",
       "      <td>I've made some good friends but we're all bore...</td>\n",
       "      <td>I was really frightened every time we went roc...</td>\n",
       "      <td>Which postcard might a child at the camp send ...</td>\n",
       "      <td>At the summer camp where I work, I really enjo...</td>\n",
       "      <td>119</td>\n",
       "      <td>119_Q5</td>\n",
       "      <td>None</td>\n",
       "      <td>75.650002</td>\n",
       "    </tr>\n",
       "  </tbody>\n",
       "</table>\n",
       "<p>481 rows × 12 columns</p>\n",
       "</div>"
      ],
      "text/plain": [
       "    correct_answer                                            options  \\\n",
       "0                0  [to reinforce the concerns already felt by som...   \n",
       "1                1  [they got fired from their jobs, navigated cel...   \n",
       "2                1  [He is concerned by the risks they took., He a...   \n",
       "3                0  [He was unusually innovative in his approach.,...   \n",
       "4                2  [People usually dislike exhibitionists., Someo...   \n",
       "..             ...                                                ...   \n",
       "785              1  [complain about a badly organised summer camp,...   \n",
       "786              3  [At camp, most prefer swimming to table-tennis...   \n",
       "787              2  [The youngest ones find it hardest to be away ...   \n",
       "788              1  [They should visit their children instead of p...   \n",
       "789              0  [I hated it at first when they made me put on ...   \n",
       "\n",
       "                                              option_0  \\\n",
       "0    to reinforce the concerns already felt by some...   \n",
       "1                       they got fired from their jobs   \n",
       "2              He is concerned by the risks they took.   \n",
       "3         He was unusually innovative in his approach.   \n",
       "4               People usually dislike exhibitionists.   \n",
       "..                                                 ...   \n",
       "785       complain about a badly organised summer camp   \n",
       "786     At camp, most prefer swimming to table-tennis.   \n",
       "787  The youngest ones find it hardest to be away f...   \n",
       "788  They should visit their children instead of ph...   \n",
       "789  I hated it at first when they made me put on o...   \n",
       "\n",
       "                                              option_1  \\\n",
       "0        to remind readers to beware of false promises   \n",
       "1          navigated celebritys temptations and perils   \n",
       "2     He appreciates their unprecedented achievements.   \n",
       "3          His work was popular for the wrong reasons.   \n",
       "4                  Someones life can be a form of art.   \n",
       "..                                                 ...   \n",
       "785      describe how children get on at a summer camp   \n",
       "786  If they dont enjoy climbing they can play tabl...   \n",
       "787  They complain about the food when they phone t...   \n",
       "788       They don't need to keep on phoning the camp.   \n",
       "789  It's so unfair  everyone else can use their mo...   \n",
       "\n",
       "                                              option_2  \\\n",
       "0    to explain that such sites often have a hidden...   \n",
       "1                     scroll off our collective screen   \n",
       "2                   He admires their technical skills.   \n",
       "3    He inspired others writing in different fields...   \n",
       "4             Being too open may be counterproductive.   \n",
       "..                                                 ...   \n",
       "785    explain how to apply for a job at a summer camp   \n",
       "786  With help, most people become excellent table-...   \n",
       "787    They soon find that being at camp is enjoyable.   \n",
       "788  They shouldn't allow their children to bring p...   \n",
       "789  I've made some good friends but we're all bore...   \n",
       "\n",
       "                                              option_3  \\\n",
       "0    to show that the risks of internet use are som...   \n",
       "1                              are doomed to repost it   \n",
       "2    He is impressed by the extent of their coopera...   \n",
       "3     His work displayed considerable literary skill.    \n",
       "4           Relationships are always a private matter.   \n",
       "..                                                 ...   \n",
       "785       advise children how to behave away from home   \n",
       "786  Most of them already know how to play table-te...   \n",
       "787            Few of them seem grateful to the staff.   \n",
       "788       They feel worse after speaking on the phone.   \n",
       "789  I was really frightened every time we went roc...   \n",
       "\n",
       "                                              question  \\\n",
       "0    Why does the writer describe a website about p...   \n",
       "1    Which phrase echoes the image introduced in th...   \n",
       "2    What is the writers attitude to the online pio...   \n",
       "3    What does the writer suggest about Justin Hall...   \n",
       "4    What point is exemplified by the references to...   \n",
       "..                                                 ...   \n",
       "785      What is the writer trying to do in this text?   \n",
       "786  What does the writer say about the children an...   \n",
       "787  What does the writer say about children who go...   \n",
       "788     What does the writer think about some parents?   \n",
       "789  Which postcard might a child at the camp send ...   \n",
       "\n",
       "                                               context context_id    q_id  \\\n",
       "0    Some time ago a website highlighted the risks ...          1    1_Q1   \n",
       "1    Some time ago a website highlighted the risks ...          1    1_Q2   \n",
       "2    Some time ago a website highlighted the risks ...          1    1_Q3   \n",
       "3    Some time ago a website highlighted the risks ...          1    1_Q4   \n",
       "4    Some time ago a website highlighted the risks ...          1    1_Q5   \n",
       "..                                                 ...        ...     ...   \n",
       "785  At the summer camp where I work, I really enjo...        119  119_Q1   \n",
       "786  At the summer camp where I work, I really enjo...        119  119_Q2   \n",
       "787  At the summer camp where I work, I really enjo...        119  119_Q3   \n",
       "788  At the summer camp where I work, I really enjo...        119  119_Q4   \n",
       "789  At the summer camp where I work, I really enjo...        119  119_Q5   \n",
       "\n",
       "    split  difficulty  \n",
       "0    None   83.030000  \n",
       "1    None   78.060000  \n",
       "2    None   77.020000  \n",
       "3    None   72.860000  \n",
       "4    None   77.020000  \n",
       "..    ...         ...  \n",
       "785  None   63.000000  \n",
       "786  None   86.389999  \n",
       "787  None   63.369999  \n",
       "788  None   57.910000  \n",
       "789  None   75.650002  \n",
       "\n",
       "[481 rows x 12 columns]"
      ]
     },
     "execution_count": 3,
     "metadata": {},
     "output_type": "execute_result"
    }
   ],
   "source": [
    "# load data\n",
    "dataset[\"train\"]"
   ]
  },
  {
   "cell_type": "code",
   "execution_count": 4,
   "metadata": {},
   "outputs": [],
   "source": [
    "def human_format_input(row) -> str:\n",
    "    return f\"Context:\\n{row.context}\\nQuestion: {row.question}\\nOptions:\\n1. {row.option_0}\\n2. {row.option_1}\\n3. {row.option_2}\\n4. {row.option_3}\"\n",
    "\n",
    "def human_format_output(row) -> str:\n",
    "    return f\"Question difficulty: {row.difficulty}\""
   ]
  },
  {
   "cell_type": "code",
   "execution_count": 5,
   "metadata": {},
   "outputs": [
    {
     "data": {
      "text/html": [
       "<div>\n",
       "<style scoped>\n",
       "    .dataframe tbody tr th:only-of-type {\n",
       "        vertical-align: middle;\n",
       "    }\n",
       "\n",
       "    .dataframe tbody tr th {\n",
       "        vertical-align: top;\n",
       "    }\n",
       "\n",
       "    .dataframe thead th {\n",
       "        text-align: right;\n",
       "    }\n",
       "</style>\n",
       "<table border=\"1\" class=\"dataframe\">\n",
       "  <thead>\n",
       "    <tr style=\"text-align: right;\">\n",
       "      <th></th>\n",
       "      <th>input</th>\n",
       "      <th>output</th>\n",
       "    </tr>\n",
       "  </thead>\n",
       "  <tbody>\n",
       "    <tr>\n",
       "      <th>0</th>\n",
       "      <td>Context:\\nSome time ago a website highlighted ...</td>\n",
       "      <td>Question difficulty: 83.03</td>\n",
       "    </tr>\n",
       "    <tr>\n",
       "      <th>1</th>\n",
       "      <td>Context:\\nSome time ago a website highlighted ...</td>\n",
       "      <td>Question difficulty: 78.06</td>\n",
       "    </tr>\n",
       "    <tr>\n",
       "      <th>2</th>\n",
       "      <td>Context:\\nSome time ago a website highlighted ...</td>\n",
       "      <td>Question difficulty: 77.02</td>\n",
       "    </tr>\n",
       "    <tr>\n",
       "      <th>3</th>\n",
       "      <td>Context:\\nSome time ago a website highlighted ...</td>\n",
       "      <td>Question difficulty: 72.86</td>\n",
       "    </tr>\n",
       "    <tr>\n",
       "      <th>4</th>\n",
       "      <td>Context:\\nSome time ago a website highlighted ...</td>\n",
       "      <td>Question difficulty: 77.02</td>\n",
       "    </tr>\n",
       "  </tbody>\n",
       "</table>\n",
       "</div>"
      ],
      "text/plain": [
       "                                               input  \\\n",
       "0  Context:\\nSome time ago a website highlighted ...   \n",
       "1  Context:\\nSome time ago a website highlighted ...   \n",
       "2  Context:\\nSome time ago a website highlighted ...   \n",
       "3  Context:\\nSome time ago a website highlighted ...   \n",
       "4  Context:\\nSome time ago a website highlighted ...   \n",
       "\n",
       "                       output  \n",
       "0  Question difficulty: 83.03  \n",
       "1  Question difficulty: 78.06  \n",
       "2  Question difficulty: 77.02  \n",
       "3  Question difficulty: 72.86  \n",
       "4  Question difficulty: 77.02  "
      ]
     },
     "execution_count": 5,
     "metadata": {},
     "output_type": "execute_result"
    }
   ],
   "source": [
    "examples_df = pd.DataFrame()\n",
    "examples_df[\"input\"] = dataset[\"train\"].apply(human_format_input, axis=1)\n",
    "examples_df[\"output\"] = dataset[\"train\"].apply(human_format_output, axis=1)\n",
    "examples_df.head()"
   ]
  },
  {
   "cell_type": "code",
   "execution_count": 6,
   "metadata": {},
   "outputs": [],
   "source": [
    "# try with first 20 examples\n",
    "examples_df = examples_df.head(20)\n",
    "few_shot_list = [{\"input\": row[\"input\"], \"output\": row[\"output\"]} for _, row in examples_df.iterrows()]"
   ]
  },
  {
   "cell_type": "markdown",
   "metadata": {},
   "source": [
    "# Dynamic few-shot prompting"
   ]
  },
  {
   "cell_type": "markdown",
   "metadata": {},
   "source": [
    "## Create example selector\n",
    "\n",
    "NOTE: I need OpenAI credits to use the OpenAI embeddings."
   ]
  },
  {
   "cell_type": "code",
   "execution_count": 33,
   "metadata": {},
   "outputs": [],
   "source": [
    "# examples = few_shot_list\n",
    "# to_vectorize = [\" \".join(example.values()) for example in examples]\n",
    "# embeddings = OpenAIEmbeddings()\n",
    "# vectorstore = Chroma.from_texts(to_vectorize, embeddings, metadatas=examples)"
   ]
  },
  {
   "cell_type": "code",
   "execution_count": 34,
   "metadata": {},
   "outputs": [],
   "source": [
    "# example_selector = SemanticSimilarityExampleSelector(\n",
    "#     vectorstore=vectorstore,\n",
    "#     k=2,\n",
    "# )\n",
    "\n",
    "# # The prompt template will load examples by passing the input do the `select_examples` method\n",
    "# example_selector.select_examples({\"input\": \"horse\"})"
   ]
  },
  {
   "cell_type": "code",
   "execution_count": 35,
   "metadata": {},
   "outputs": [
    {
     "data": {
      "text/plain": [
       "[{'input': 'Context:\\nFrom around 2015, after years of sales growth, major publishers started to report that sales of ebooks had flattened out, or even fallen in some cases, introducing new doubts about the long-term potential of ebooks in the publishing industry. One anonymous publishing executive even admitted recently that the ebooks hype may have driven unwise investment, with his company losing too much confidence in the power of the word on the page. Yet despite the obvious conclusion that digital and print can easily coexist in the market, the question of whether the ebook will kill the print book still continues to surface. It doesnt matter if the intention is to predict or dismiss this possibility; what is significant is the fact that the potential disappearance of the book does not cease to stimulate our imagination or provoke intense debate.\\nWhy is this idea so powerful? Why do we frame the encounter between ebooks and print books in terms of a struggle, even if all the evidence is to the contrary? The answers to these questions go beyond ebooks and tell us much more about the mixture of exhilaration and fear we feel about innovation and change in general. In my research, I have discussed how the idea of one medium killing another has often followed the unveiling of new technologies. Even before the advent of digital technologies, critics have predicted the demise of existing media. After television was invented, for instance, many claimed radio would die. But radio ended up surviving by finding new uses; people started listening in cars, during train rides and on factory floors.\\nEven the idea of the disappearing book isnt new, either. As early as 1894, there was speculation that the introduction of the phonograph would spell the demise of books: Theyd be replaced by what we today call audiobooks. This sort of thing has happened time after time. Movies, radio, television, hyperlinks and smartphones  all, at one time or another, have apparently conspired to destroy print books as a source of culture and entertainment. Some claimed the end of books would result in cultural regression and decline. Others, envisioning utopian digital futures, overstated the advantages of ebooks. It is not by chance then that the idea of the death of the book surfaces in moments of technological change. This narrative, in fact, perfectly conveys the mixture of hopes and fears that characterises our deepest reactions to technological change.\\nTo understand why these reactions are so common, one has to consider that we create emotional bonds with different media as they become a core part of our life. Numerous studies have shown how we develop a close connection with objects such as books, televisions and computers, even to the extent of giving a name to our car or shouting at our laptop for not working properly. Consequently, the emergence of a new technology  like e-readers  doesnt just indicate economic and social change. It also causes us to adjust our bond with something that has become an integral part of our day-to-day life.\\nAs a result, as technology moves on, we find ourselves longing for what we used to know, but no longer have. And its why entire industries develop around retro products and older technologies. The spread of the printing press in 15th-century Europe, for example, made people seek out original manuscripts. The shift from silent to sound movie in the 1920s stimulated nostalgia for the older form. The same happened in the shift from analog to digital photography, and from vinyl records to CDs. Not surprisingly, e-readers stimulated a new appreciation for the material quality of old books  and even for their often unpleasant smell. This should provide some reassurance to those who still worry about the disappearance of print books.\\nYet the idea of the disappearing medium will continue to provide an appealing narrative about both the transformative power of technology and our aversion to change. In fact, one of the strategies we employ in order to make sense of change is the use of narrative patterns that are commonly available and easily recognisable, such as narratives of tragedy and ending. Easy to remember and to spread, the story of the death of the book mirrors both our enthusiasm for what lies ahead, as well as our fear of losing parts of our intimate world  and finally, of ourselves.\\nQuestion: In the third paragraph, what is the writer implying with the phrase have apparently conspired?\\nOptions:\\n1. There has long been a deliberate strategy to replace books.\\n2. The conflict between books and other media is a recent development.\\n3. Eliminating books from popular culture will almost certainly prove impossible.\\n4. It may be untrue that books have been threatened by new technology.',\n",
       "  'output': 'Question difficulty: 96.13'}]"
      ]
     },
     "execution_count": 35,
     "metadata": {},
     "output_type": "execute_result"
    }
   ],
   "source": [
    "class RandomExampleSelector(BaseExampleSelector):\n",
    "    def __init__(self, examples):\n",
    "        self.examples = examples\n",
    "\n",
    "    def add_example(self, example):\n",
    "        self.examples.append(example)\n",
    "\n",
    "    def select_examples(self, input_variables):\n",
    "        random_match = random.choice(self.examples)\n",
    "        return [random_match]\n",
    "\n",
    "example_selector = RandomExampleSelector(examples=few_shot_list)\n",
    "example_selector.select_examples({})"
   ]
  },
  {
   "cell_type": "markdown",
   "metadata": {},
   "source": [
    "## Create prompt template"
   ]
  },
  {
   "cell_type": "code",
   "execution_count": 36,
   "metadata": {},
   "outputs": [
    {
     "data": {
      "text/plain": [
       "'You are a student working on an English reading comprehension exam, containing multiple choice questions. You will be asked to provide the difficulty level of the question.'"
      ]
     },
     "execution_count": 36,
     "metadata": {},
     "output_type": "execute_result"
    }
   ],
   "source": [
    "system_prompt_template = PromptTemplate.from_template(\n",
    "    \"You are a student working on {exam_type}, containing multiple choice questions. \"\n",
    "    \"You will be asked to provide the difficulty level of the question.\"\n",
    ")\n",
    "\n",
    "system_prompt_input = system_prompt_template.format(exam_type=\"an English reading comprehension exam\")\n",
    "system_prompt_input"
   ]
  },
  {
   "cell_type": "code",
   "execution_count": 37,
   "metadata": {},
   "outputs": [
    {
     "name": "stdout",
     "output_type": "stream",
     "text": [
      "[HumanMessage(content='Context:\\nSome time ago a website highlighted the risks of public check-ins  online announcements of your whereabouts. The sites point was blunt: you may think you are just telling the world, Hey, Im at this place  but you are also advertising your out-and-about-ness to all kinds of people everywhere  not all of them people you might like to bump into. This appeared to confirm the growing awareness that there might be a downside to all the frantic sharing the web has enabled. The vast new opportunities to publish any and every aspect of our lives to a potentially global audience hold out all sorts of tantalising possibilities: Wealth! Fame! So we plunge into the maelstrom of the internet, tossing confessions, personal photos and stories into the digital vortex. Too late we realise that the water is crowded and treacherous  and we are lost. \\nDepressing? Perhaps, but dont give up. This future has a map, drawn for us years ago by a reckless group of online pioneers. In the early days of the web, they sailed these waters and located all the treacherous shoals. They got fired from their jobs, found and lost friends and navigated celebritys temptations and perils  all long before the invention of social networking. These pioneers, the first wave of what we now call bloggers, have already been where the rest of us seem to be going. Before their tales scroll off our collective screen, its worth spending a little time with them. After all, those who cannot learn from history are doomed to repost it. \\nIn January 1994, Justin Hall, a 19-year-old student, began posting to the WWW, as it was then known, something inhabited mostly by grad students, scientists and a handful of precocious teens like him. The web had been invented at Cern, the international physics lab in Switzerland, so researchers could more easily share their work. Hall saw something else: an opportunity to share his life. Link by link, he built a hypertext edifice of autobiography, a dense thicket of verbal self-exposure leavened with photos and art. In January 1996, on a dare, he began posting a daily blog, and readers flocked to the spectacle of a reckless young man pushing the boundaries of this new medium in every direction at once.\\nHalls ethos was absolute: cross his path and you could appear on his site; no topic was taboo. Certainly, this was the work of an exhibitionist, but there was also a rigour and beauty to his project that only a snob would refuse to call art. One day though, visitors to Halls site discovered his home page gone, replaced with a single anguished video titled Dark Night. His story tumbled out; hed fallen spectacularly in love, but when he started writing about it on his site he was told either the blog goes, or I do. Hed published his life on the internet and, Hall protested, it makes people not trust me. The blog went, but the dilemma persists. Sharing online is great. But if you expect your song of yourself to make people want to be with you, youll be disappointed. \\nIn 2002, Heather Armstrong, a young web worker in Los Angeles, had a blog called Dooce. Occasionally, she wrote about her job at a software company. One day an anonymous colleague sent the address of Armstrongs blog to every vice president at her company  including some whom shed mocked  and that was the end of her job. Those who study the peculiar social patterns of the networked world have a term to describe what was at work here. They call it the online distribution effect: that feeling so many of us have that we can get away with saying things online that wed never dream of saying in person. But the web isnt some king of alternative reality where we can let our hair down without worrying about repercussions. Our digital lives are interwoven with our real lives. When we pretend otherwise, we risk making terrible, life-changing mistakes.\\nArmstrongs saga had a happy ending. Though she was upset by the experience and stopped blogging for several months afterwards, she ended up getting married and restarting her blog with a focus on her new family. Today she is a star in the burgeoning ranks of mommy bloggers and her writing supports her household. Once a poster-child for the wages of web indiscretion, she has become a virtuoso of managed self-revelation. What Armstrong has figured out is something we would all do well to remember: the web may allow us to say anything, but that doesnt mean we should.\\nQuestion: According to the fifth paragraph, what big mistake did Heather Armstrong make?\\nOptions:\\n1. She encouraged her readers to share her blog with others. \\n2. She confused reality with fiction.\\n3. She gave misleading information about her job.\\n4. She forgot that actions have consequences.', additional_kwargs={}, response_metadata={}), AIMessage(content='Question difficulty: 78.06', additional_kwargs={}, response_metadata={})]\n"
     ]
    }
   ],
   "source": [
    "# Define the few-shot prompt.\n",
    "few_shot_prompt = FewShotChatMessagePromptTemplate(\n",
    "    # The input variables select the values to pass to the example_selector\n",
    "    input_variables=[\"input\"],\n",
    "    example_selector=example_selector,\n",
    "    # Define how each example will be formatted.\n",
    "    # In this case, each example will become 2 messages:\n",
    "    # 1 human, and 1 AI\n",
    "    example_prompt=ChatPromptTemplate.from_messages(\n",
    "        [(\"human\", \"{input}\"), (\"ai\", \"{output}\")]\n",
    "    ),\n",
    ")\n",
    "\n",
    "print(few_shot_prompt.invoke(input=\"What's 3 🦜 3?\").to_messages())"
   ]
  },
  {
   "cell_type": "code",
   "execution_count": null,
   "metadata": {},
   "outputs": [
    {
     "name": "stdout",
     "output_type": "stream",
     "text": [
      "messages=[SystemMessage(content='You are a student working on an English reading comprehension exam, containing multiple choice questions. You will be asked to provide the difficulty level of the question.', additional_kwargs={}, response_metadata={}), HumanMessage(content='Context:\\nAt its most abstract, science shades into philosophy; at its most practical it cures disease. It has eased our lives and threatened our existence. It aspires, but in some very basic way fails, to understand the ant and the origins of the universe, the infinitesimal atom and the mind-bludgeoning immensity of the cosmos. It has laid its hand on the shoulders of poets and politicians, philosophers and charlatans. Its beauty is often apparent only to the initiated, its perils are generally misunderstood, its importance has been both over and underestimated, and its fallibility, and that of those who create it, is often glossed over or malevolently exaggerated.\\nThe attempt to explain the physical universe has been characterized by perpetual conflict. Established theories have continually been modified or violently overthrown, and as in the history of music, innovations tend to be ridiculed only to become, in time, the new dogma. The struggle between old and new has rarely been dignified. Scientists come in many colors, of which the green of jealousy and the purple of rage are fashionable shades. The essence of scientific history has been conflict.\\nThis book presents science as a series of ideas that changed the course not only of science itself but often of whole areas of human thought. Science, of course, has its practical benefits, but they will not be our primary concern. This is not a book about non-stick frying pans. We will be looking at ideas  admiring their beauty, occasionally standing awestruck before the towers of imagination, but always being prepared to doubt; always being aware not only of the ingenuity but also of the deep limitations, and the repeatedly demonstrable inertia, of the human mind.\\nScience, by its nature, is changeable. There is always some scientist, somewhere, who is disproving an explanation that another scientist has proposed. Usually these shifts of interpretation leave the fabric of society undisturbed. Occasionally, however, real revolutions tear down part of our system of established beliefs. Thus, in the seventeenth century, science presented us with a mechanical universe, a giant inexorable clock. Three centuries later, physics has questioned some basic assumptions, leading us into a shadowy maze where we affect the universe by the act of observing it and are ignorant of the true meaning of our most basic concepts.\\nSome see the fragility of scientific theory as an indication of a basic inability of science to explain the universe. But scientific change is almost always accompanied by an increase in our ability to rationalize and predict the course of nature. The seventeenth-century English scientist Isaac Newton could explain far more than the Ancient Greek polymath Aristotle, and Albert Einstein, the father of modern physics, more than Newton. Science frequently stumbles, but it gets up and carries on. The road is long. It is prudent to recall that at the end of the nineteenth century the general opinion amongst physicists was that nothing of any great import remained to be done in physics. And then came radioactivity, X-rays, the discovery of the electron and the nucleus, a couple of hundred new fundamental particles, quantum mechanics and relativity, antimatter, dark matter, black holes, chaos, the Big Bang, and so on. Biology has been no less prolific. At present, there are again voices proclaiming the imminent arrival of a theory of everything, a complete explanation of the origins of the universe and workings of the cosmos. Maybe.\\nScience is not a harmless intellectual pastime. In the last two centuries we have moved from being simply observers of nature to being, in a modest but growing way, its controllers. Concomitantly, we have occasionally disturbed the balance of nature in ways that we did not always understand. Science has to be watched. Non-scientists can no longer afford to stand to one side, ignorant of the meaning of advances that will determine the kind of world that their children will inhabit  and the kind of children that they will have. Science has become part of the human races way of conceiving of and manipulating its future. The manipulation of the future is not a question to be left to  philosophers. The answers can affect the national budget, the health of your next child  even the long-term prospects for life on this planet.\\nQuestion: What is the writer suggesting with the word maybe in line 36?\\nOptions:\\n1. In future we may make fewer significant discoveries in biology than in physics.\\n2. It may be unwise for humans to attempt to control natural processes.\\n3. We may never find the answers to some fundamental questions.\\n4. Recent developments in physics may have dangerous implications for humanity.', additional_kwargs={}, response_metadata={}), AIMessage(content='Question difficulty: 53.55', additional_kwargs={}, response_metadata={}), HumanMessage(content=\"What's 3 🦜 3?\", additional_kwargs={}, response_metadata={})]\n"
     ]
    }
   ],
   "source": [
    "final_prompt = ChatPromptTemplate.from_messages(\n",
    "    [\n",
    "        (\"system\", system_prompt_input),\n",
    "        few_shot_prompt,\n",
    "        (\"human\", \"{input}\"),\n",
    "    ]\n",
    ")\n",
    "\n",
    "print(final_prompt.invoke(input=\"What's 3 🦜 3?\"))"
   ]
  },
  {
   "cell_type": "markdown",
   "metadata": {},
   "source": [
    "## Use with a chat model"
   ]
  },
  {
   "cell_type": "code",
   "execution_count": null,
   "metadata": {},
   "outputs": [
    {
     "data": {
      "text/plain": [
       "{'input': 'Context:\\nAt its most abstract, science shades into philosophy; at its most practical it cures disease. It has eased our lives and threatened our existence. It aspires, but in some very basic way fails, to understand the ant and the origins of the universe, the infinitesimal atom and the mind-bludgeoning immensity of the cosmos. It has laid its hand on the shoulders of poets and politicians, philosophers and charlatans. Its beauty is often apparent only to the initiated, its perils are generally misunderstood, its importance has been both over and underestimated, and its fallibility, and that of those who create it, is often glossed over or malevolently exaggerated.\\nThe attempt to explain the physical universe has been characterized by perpetual conflict. Established theories have continually been modified or violently overthrown, and as in the history of music, innovations tend to be ridiculed only to become, in time, the new dogma. The struggle between old and new has rarely been dignified. Scientists come in many colors, of which the green of jealousy and the purple of rage are fashionable shades. The essence of scientific history has been conflict.\\nThis book presents science as a series of ideas that changed the course not only of science itself but often of whole areas of human thought. Science, of course, has its practical benefits, but they will not be our primary concern. This is not a book about non-stick frying pans. We will be looking at ideas  admiring their beauty, occasionally standing awestruck before the towers of imagination, but always being prepared to doubt; always being aware not only of the ingenuity but also of the deep limitations, and the repeatedly demonstrable inertia, of the human mind.\\nScience, by its nature, is changeable. There is always some scientist, somewhere, who is disproving an explanation that another scientist has proposed. Usually these shifts of interpretation leave the fabric of society undisturbed. Occasionally, however, real revolutions tear down part of our system of established beliefs. Thus, in the seventeenth century, science presented us with a mechanical universe, a giant inexorable clock. Three centuries later, physics has questioned some basic assumptions, leading us into a shadowy maze where we affect the universe by the act of observing it and are ignorant of the true meaning of our most basic concepts.\\nSome see the fragility of scientific theory as an indication of a basic inability of science to explain the universe. But scientific change is almost always accompanied by an increase in our ability to rationalize and predict the course of nature. The seventeenth-century English scientist Isaac Newton could explain far more than the Ancient Greek polymath Aristotle, and Albert Einstein, the father of modern physics, more than Newton. Science frequently stumbles, but it gets up and carries on. The road is long. It is prudent to recall that at the end of the nineteenth century the general opinion amongst physicists was that nothing of any great import remained to be done in physics. And then came radioactivity, X-rays, the discovery of the electron and the nucleus, a couple of hundred new fundamental particles, quantum mechanics and relativity, antimatter, dark matter, black holes, chaos, the Big Bang, and so on. Biology has been no less prolific. At present, there are again voices proclaiming the imminent arrival of a theory of everything, a complete explanation of the origins of the universe and workings of the cosmos. Maybe.\\nScience is not a harmless intellectual pastime. In the last two centuries we have moved from being simply observers of nature to being, in a modest but growing way, its controllers. Concomitantly, we have occasionally disturbed the balance of nature in ways that we did not always understand. Science has to be watched. Non-scientists can no longer afford to stand to one side, ignorant of the meaning of advances that will determine the kind of world that their children will inhabit  and the kind of children that they will have. Science has become part of the human races way of conceiving of and manipulating its future. The manipulation of the future is not a question to be left to  philosophers. The answers can affect the national budget, the health of your next child  even the long-term prospects for life on this planet.\\nQuestion: What is the writers main purpose in the first paragraph?\\nOptions:\\n1. to defend science against its detractors\\n2. to emphasise the practical benefits of science\\n3. to outline the inherent contradictions of scientific enquiry\\n4. to call for a more interdisciplinary approach to science'}"
      ]
     },
     "execution_count": 29,
     "metadata": {},
     "output_type": "execute_result"
    }
   ],
   "source": [
    "test_example = {\"input\": examples_df.loc[21, \"input\"]}\n",
    "test_example"
   ]
  },
  {
   "cell_type": "code",
   "execution_count": 30,
   "metadata": {},
   "outputs": [
    {
     "data": {
      "text/plain": [
       "AIMessage(content='Question difficulty: 60.75', additional_kwargs={'refusal': None}, response_metadata={'token_usage': {'completion_tokens': 8, 'prompt_tokens': 1916, 'total_tokens': 1924, 'completion_tokens_details': {'accepted_prediction_tokens': 0, 'audio_tokens': 0, 'reasoning_tokens': 0, 'rejected_prediction_tokens': 0}, 'prompt_tokens_details': {'audio_tokens': 0, 'cached_tokens': 0}}, 'model_name': 'gpt-4o-mini-2024-07-18', 'system_fingerprint': 'fp_06737a9306', 'finish_reason': 'stop', 'logprobs': None}, id='run-39101db3-65a2-4cde-aaa8-bd39b0276089-0', usage_metadata={'input_tokens': 1916, 'output_tokens': 8, 'total_tokens': 1924, 'input_token_details': {'audio': 0, 'cache_read': 0}, 'output_token_details': {'audio': 0, 'reasoning': 0}})"
      ]
     },
     "execution_count": 30,
     "metadata": {},
     "output_type": "execute_result"
    }
   ],
   "source": [
    "chain = final_prompt | ChatOpenAI(model=\"gpt-4o-mini\", temperature=0.0)\n",
    "\n",
    "chain.invoke(test_example)"
   ]
  },
  {
   "cell_type": "markdown",
   "metadata": {},
   "source": [
    "___\n",
    "Ask to find zero-shot misconceptions"
   ]
  },
  {
   "cell_type": "code",
   "execution_count": 7,
   "metadata": {},
   "outputs": [
    {
     "data": {
      "text/plain": [
       "'You are a student working on an English reading comprehension exam, containing multiple choice questions. You are currently at CEFR level B2, which means that you can understand the main ideas of complex text on both concrete and abstract topics, including technical discussions in his/her field of specialisation; can interact with a degree of fluency and spontaneity that makes regular interaction with native speakers quite possible without strain for either party; can produce clear, detailed text on a wide range of subjects and explain a viewpoint on a topical issue giving the advantages and disadvantages of various options. What misconceptions could you have about the question that could lead to answering it incorrectly? For each answer option, explain the possible misconception that could lead to selecting that option. Furthermore, provide the answer that you think is correct (as an integer in the range 1-4).'"
      ]
     },
     "execution_count": 7,
     "metadata": {},
     "output_type": "execute_result"
    }
   ],
   "source": [
    "system_prompt_template = PromptTemplate.from_template(\n",
    "    \"You are a student working on {exam_type}, containing multiple choice questions. \"\n",
    "    \"You are currently at CEFR level {level}, which means that you {level_description} \"\n",
    "    \"What misconceptions could you have about the question that could lead to answering it incorrectly? \"\n",
    "    \"For each answer option, explain the possible misconception that could lead to selecting that option. \"\n",
    "    \"Furthermore, provide the answer that you think is correct (as an integer in the range 1-4).\"\n",
    ")\n",
    "\n",
    "system_prompt_input = system_prompt_template.format(\n",
    "    exam_type=\"an English reading comprehension exam\",\n",
    "    level=\"B2\",\n",
    "    level_description=DICT_CEFR_DESCRIPTIONS[\"B2\"],\n",
    ")\n",
    "system_prompt_input"
   ]
  },
  {
   "cell_type": "code",
   "execution_count": 8,
   "metadata": {},
   "outputs": [
    {
     "data": {
      "text/plain": [
       "{'input': 'Context:\\nAt its most abstract, science shades into philosophy; at its most practical it cures disease. It has eased our lives and threatened our existence. It aspires, but in some very basic way fails, to understand the ant and the origins of the universe, the infinitesimal atom and the mind-bludgeoning immensity of the cosmos. It has laid its hand on the shoulders of poets and politicians, philosophers and charlatans. Its beauty is often apparent only to the initiated, its perils are generally misunderstood, its importance has been both over and underestimated, and its fallibility, and that of those who create it, is often glossed over or malevolently exaggerated.\\nThe attempt to explain the physical universe has been characterized by perpetual conflict. Established theories have continually been modified or violently overthrown, and as in the history of music, innovations tend to be ridiculed only to become, in time, the new dogma. The struggle between old and new has rarely been dignified. Scientists come in many colors, of which the green of jealousy and the purple of rage are fashionable shades. The essence of scientific history has been conflict.\\nThis book presents science as a series of ideas that changed the course not only of science itself but often of whole areas of human thought. Science, of course, has its practical benefits, but they will not be our primary concern. This is not a book about non-stick frying pans. We will be looking at ideas  admiring their beauty, occasionally standing awestruck before the towers of imagination, but always being prepared to doubt; always being aware not only of the ingenuity but also of the deep limitations, and the repeatedly demonstrable inertia, of the human mind.\\nScience, by its nature, is changeable. There is always some scientist, somewhere, who is disproving an explanation that another scientist has proposed. Usually these shifts of interpretation leave the fabric of society undisturbed. Occasionally, however, real revolutions tear down part of our system of established beliefs. Thus, in the seventeenth century, science presented us with a mechanical universe, a giant inexorable clock. Three centuries later, physics has questioned some basic assumptions, leading us into a shadowy maze where we affect the universe by the act of observing it and are ignorant of the true meaning of our most basic concepts.\\nSome see the fragility of scientific theory as an indication of a basic inability of science to explain the universe. But scientific change is almost always accompanied by an increase in our ability to rationalize and predict the course of nature. The seventeenth-century English scientist Isaac Newton could explain far more than the Ancient Greek polymath Aristotle, and Albert Einstein, the father of modern physics, more than Newton. Science frequently stumbles, but it gets up and carries on. The road is long. It is prudent to recall that at the end of the nineteenth century the general opinion amongst physicists was that nothing of any great import remained to be done in physics. And then came radioactivity, X-rays, the discovery of the electron and the nucleus, a couple of hundred new fundamental particles, quantum mechanics and relativity, antimatter, dark matter, black holes, chaos, the Big Bang, and so on. Biology has been no less prolific. At present, there are again voices proclaiming the imminent arrival of a theory of everything, a complete explanation of the origins of the universe and workings of the cosmos. Maybe.\\nScience is not a harmless intellectual pastime. In the last two centuries we have moved from being simply observers of nature to being, in a modest but growing way, its controllers. Concomitantly, we have occasionally disturbed the balance of nature in ways that we did not always understand. Science has to be watched. Non-scientists can no longer afford to stand to one side, ignorant of the meaning of advances that will determine the kind of world that their children will inhabit  and the kind of children that they will have. Science has become part of the human races way of conceiving of and manipulating its future. The manipulation of the future is not a question to be left to  philosophers. The answers can affect the national budget, the health of your next child  even the long-term prospects for life on this planet.\\nQuestion: What is the writers main purpose in the first paragraph?\\nOptions:\\n1. to defend science against its detractors\\n2. to emphasise the practical benefits of science\\n3. to outline the inherent contradictions of scientific enquiry\\n4. to call for a more interdisciplinary approach to science'}"
      ]
     },
     "execution_count": 8,
     "metadata": {},
     "output_type": "execute_result"
    }
   ],
   "source": [
    "test_example = {\"input\": examples_df.loc[21, \"input\"]}\n",
    "test_example"
   ]
  },
  {
   "cell_type": "code",
   "execution_count": 9,
   "metadata": {},
   "outputs": [
    {
     "name": "stdout",
     "output_type": "stream",
     "text": [
      "messages=[SystemMessage(content='You are a student working on an English reading comprehension exam, containing multiple choice questions. You are currently at CEFR level B2, which means that you can understand the main ideas of complex text on both concrete and abstract topics, including technical discussions in his/her field of specialisation; can interact with a degree of fluency and spontaneity that makes regular interaction with native speakers quite possible without strain for either party; can produce clear, detailed text on a wide range of subjects and explain a viewpoint on a topical issue giving the advantages and disadvantages of various options. What misconceptions could you have about the question that could lead to answering it incorrectly? For each answer option, explain the possible misconception that could lead to selecting that option. Furthermore, provide the answer that you think is correct (as an integer in the range 1-4).', additional_kwargs={}, response_metadata={}), HumanMessage(content=\"What's 3 🦜 3?\", additional_kwargs={}, response_metadata={})]\n"
     ]
    }
   ],
   "source": [
    "final_prompt = ChatPromptTemplate.from_messages(\n",
    "    [\n",
    "        (\"system\", system_prompt_input),\n",
    "        (\"human\", \"{input}\"),\n",
    "    ]\n",
    ")\n",
    "\n",
    "print(final_prompt.invoke(input=\"What's 3 🦜 3?\"))"
   ]
  },
  {
   "cell_type": "code",
   "execution_count": 10,
   "metadata": {},
   "outputs": [],
   "source": [
    "# Pydantic\n",
    "class MCQAnalysis(BaseModel):\n",
    "    \"\"\"Analysis of an multiple-choice question.\"\"\"\n",
    "\n",
    "    option_1: str = Field(description=\"Misconception in option 1\")\n",
    "    option_2: str = Field(description=\"Misconception in option 2\")\n",
    "    option_3: str = Field(description=\"Misconception in option 3\")\n",
    "    option_4: str = Field(description=\"Misconception in option 4\")\n",
    "    student_answer: int = Field(\n",
    "        description=\"The student's answer to the question, as an integer (1-4)\"\n",
    "    )\n",
    "    # difficulty: str = Field(description=\"The difficulty level of the question\")"
   ]
  },
  {
   "cell_type": "code",
   "execution_count": 11,
   "metadata": {},
   "outputs": [
    {
     "data": {
      "text/plain": [
       "MCQAnalysis(option_1='A misconception could be that the writer is primarily focused on defending science against criticism, rather than exploring its complexities and contradictions.', option_2='One might mistakenly think that the writer is emphasizing the practical benefits of science, when in fact the paragraph discusses both its practical and abstract aspects without prioritizing one over the other.', option_3='A common misconception could be that the writer is merely outlining contradictions, while the main focus is on the broader complexities and dualities of science rather than just contradictions.', option_4='One might assume that the writer is advocating for an interdisciplinary approach, but the paragraph does not explicitly call for this; it rather reflects on the multifaceted nature of science itself.', student_answer=3)"
      ]
     },
     "execution_count": 11,
     "metadata": {},
     "output_type": "execute_result"
    }
   ],
   "source": [
    "model = ChatOpenAI(model=\"gpt-4o-mini\", temperature=0.0).with_structured_output(\n",
    "    MCQAnalysis\n",
    ")\n",
    "chain = final_prompt | model\n",
    "\n",
    "test_output = chain.invoke(test_example)\n",
    "test_output"
   ]
  },
  {
   "cell_type": "code",
   "execution_count": 16,
   "metadata": {},
   "outputs": [
    {
     "data": {
      "text/plain": [
       "MCQAnalysis(option_1='defend science against its detractors', option_2='emphasise the practical benefits of science', option_3='outline the inherent contradictions of scientific enquiry', option_4='call for a more interdisciplinary approach to science', student_answer=3)"
      ]
     },
     "execution_count": 16,
     "metadata": {},
     "output_type": "execute_result"
    }
   ],
   "source": [
    "from langchain_ollama import ChatOllama\n",
    "\n",
    "model = ChatOllama(\n",
    "    model=\"llama3.2\",\n",
    "    temperature=0.1,\n",
    ").with_structured_output(MCQAnalysis)\n",
    "chain = final_prompt | model\n",
    "\n",
    "test_output = chain.invoke(test_example)\n",
    "test_output"
   ]
  }
 ],
 "metadata": {
  "kernelspec": {
   "display_name": "llm_virtual_pretesting",
   "language": "python",
   "name": "python3"
  },
  "language_info": {
   "codemirror_mode": {
    "name": "ipython",
    "version": 3
   },
   "file_extension": ".py",
   "mimetype": "text/x-python",
   "name": "python",
   "nbconvert_exporter": "python",
   "pygments_lexer": "ipython3",
   "version": "3.12.9"
  }
 },
 "nbformat": 4,
 "nbformat_minor": 2
}
