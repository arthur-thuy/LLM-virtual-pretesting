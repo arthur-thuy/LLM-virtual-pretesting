{
 "cells": [
  {
   "cell_type": "code",
   "execution_count": 2,
   "metadata": {},
   "outputs": [
    {
     "name": "stdout",
     "output_type": "stream",
     "text": [
      "The sky appears blue because of a phenomenon called scattering, which occurs when sunlight interacts with tiny molecules of gases in the Earth's atmosphere.\n",
      "\n",
      "Here's what happens:\n",
      "\n",
      "1. Sunlight enters the Earth's atmosphere and consists of a spectrum of colors, including red, orange, yellow, green, blue, indigo, and violet.\n",
      "2. When sunlight travels through the atmosphere, it encounters tiny molecules of gases such as nitrogen (N2) and oxygen (O2).\n",
      "3. These molecules scatter the light in all directions, but they scatter shorter (blue) wavelengths more than longer (red) wavelengths. This is known as Rayleigh scattering, named after the British physicist Lord Rayleigh, who first described it.\n",
      "4. Since blue light has a shorter wavelength, it is scattered more easily and travels further through the atmosphere before being absorbed or reaching our eyes from other directions.\n",
      "5. As a result of this scattering, the blue color is dispersed throughout the sky, making it appear blue to our eyes.\n",
      "\n",
      "The color of the sky can also be affected by other factors, such as:\n",
      "\n",
      "* Atmospheric conditions: Pollution, dust, and water vapor in the atmosphere can scatter light and change its apparent color.\n",
      "* Time of day: During sunrise and sunset, the sun's rays have to travel longer distances through the atmosphere, scattering shorter wavelengths (like blue) even more, which is why the sky often appears red during these times.\n",
      "* Atmospheric pressure and temperature: Changes in atmospheric pressure and temperature can also affect the way light is scattered, leading to variations in the apparent color of the sky.\n",
      "\n",
      "So, in summary, the sky appears blue because of the scattering of sunlight by tiny molecules of gases in the atmosphere, which favors shorter (blue) wavelengths over longer (red) wavelengths.\n"
     ]
    }
   ],
   "source": [
    "from ollama import chat\n",
    "from ollama import ChatResponse\n",
    "\n",
    "response: ChatResponse = chat(model='llama3.2', messages=[\n",
    "  {\n",
    "    'role': 'user',\n",
    "    'content': 'Why is the sky blue?',\n",
    "  },\n",
    "])\n",
    "# print(response['message']['content'])\n",
    "# or access fields directly from the response object\n",
    "print(response.message.content)"
   ]
  }
 ],
 "metadata": {
  "kernelspec": {
   "display_name": "llm_virtual_pretesting",
   "language": "python",
   "name": "python3"
  },
  "language_info": {
   "codemirror_mode": {
    "name": "ipython",
    "version": 3
   },
   "file_extension": ".py",
   "mimetype": "text/x-python",
   "name": "python",
   "nbconvert_exporter": "python",
   "pygments_lexer": "ipython3",
   "version": "3.12.9"
  }
 },
 "nbformat": 4,
 "nbformat_minor": 2
}
