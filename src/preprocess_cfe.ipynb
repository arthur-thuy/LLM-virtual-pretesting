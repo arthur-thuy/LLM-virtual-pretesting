{
 "cells": [
  {
   "cell_type": "code",
   "execution_count": 51,
   "id": "c98252b2",
   "metadata": {},
   "outputs": [],
   "source": [
    "data_as_string = \"\"\"<?xml version=\"1.0\" encoding=\"UTF-8\"?>\n",
    "<learner><head sortkey=\"TR798*0100*2000*01\">\n",
    "  <candidate><personnel><language>Chinese</language><age>16-20</age></personnel><score>24.0</score></candidate>\n",
    "  <text>\n",
    "     <answer1>\n",
    "       <question_number>1</question_number>\n",
    "       <exam_score>3.2</exam_score>\n",
    "         <coded_answer>\n",
    "          <p>Dear Mr Ryan<NS type=\"RP\"><i>.</i><c>,</c></NS></p>\n",
    "          <p>Thanks for <NS type=\"DD\"><i>you</i><c>your</c></NS> letter. I am so <NS type=\"RJ\"><i>exciting</i><c>excited</c></NS> that I have won the first prize. I will give you all <NS type=\"MD\"><c>the</c></NS> information you need and ask some questions.</p>\n",
    "          <p>I <NS type=\"TV\"><i>could</i><c>can</c></NS> only travel <NS type=\"RT\"><i>on</i><c>in</c></NS> July. As you know, I am a student and the nearest holiday is <NS type=\"MD\"><c>the</c></NS> summer holiday. But I have booked a flight <NS type=\"UT\"><i>to</i></NS> home at the beginning of <NS type=\"S\"><i>Auguest</i><c>August</c></NS>. And also I would like to go <NS type=\"RT\"><i>on</i><c>in</c></NS> summer.</p>\n",
    "          <p><NS type=\"MT\"><i>The</i><c>Concerning the</c></NS> accommodation<NS type=\"MP\"><c>,</c></NS> I would like to <NS type=\"RV\"><i>live</i><c>stay</c></NS> in tents<NS type=\"RP\"><i>. Because</i><c>, because</c></NS> I <NS type=\"TV\"><i>never <NS type=\"RV\"><i>live</i><c>stay</c></NS></i><c>have never stayed</c></NS> in <NS type=\"MD\"><c>a</c></NS> <NS type=\"AGN\"><i>tents</i><c>tent</c></NS> before. I think it <NS type=\"TV\"><i>is</i><c>will be</c></NS> great and I want to try it.</p>\n",
    "          <p>I like doing sports. I would like to play basketball and golf when I am at the Camp. I play basketball a lot and I am a member of our college <NS type=\"RN\"><i>term</i><c>team</c></NS>. But I am not very good at golf.</p>\n",
    "          <p>And also I want to ask some questions. What clothes should I <NS type=\"TV\"><i>taken</i><c>take</c></NS>? How much money should I <NS type=\"TV\"><i>taken</i><c>take</c></NS>? And how <NS type=\"TV\"><i>could</i><c>can</c></NS> we meet at the airport? I am looking forward <NS type=\"MT\"><c>to</c></NS> your reply.</p>\n",
    "          <p>Yours sincerely.</p>\n",
    "         </coded_answer>\n",
    "     </answer1>\n",
    "     <answer2>\n",
    "       <question_number>2</question_number>\n",
    "       <exam_score>2.3</exam_score>\n",
    "         <coded_answer>\n",
    "          <p>As our class is going to <NS type=\"RV\"><i>mark</i><c>make</c></NS> a short video about daily life at college, I <NS type=\"TV\"><i>write</i><c>am writing</c></NS> this report to suggest some lessons and activities which should be filmed.</p>\n",
    "          <p>1. English lesson. Because <NS type=\"UQ\"><i>all</i></NS> students in <NS type=\"MD\"><c>the</c></NS> English class are from all over the world<NS type=\"RP\"><i>. We</i><c>, we</c></NS> can talk <NS type=\"MT\"><c>about</c></NS> everybody's <NS type=\"FN\"><i>feeling</i><c>feelings</c></NS> <NS type=\"MT\"><c>about</c></NS> living and <NS type=\"FV\"><i>study</i><c>studying</c></NS> <NS type=\"RT\"><i>at</i><c>in</c></NS> a foreign country.</p>\n",
    "          <p>2. Computing lesson and computer room. <NS type=\"S\"><i>Nowdays</i><c>Nowadays</c></NS> <NS type=\"MD\"><c>the</c></NS> <NS type=\"RP\"><i>internet</i><c>Internet</c></NS> <NS type=\"RV\"><i>makes</i><c>brings</c></NS> us closer and closer. We can get all <NS type=\"UA\"><i>what</i></NS> we want on <NS type=\"MD\"><c>the</c></NS> <NS type=\"RP\"><i>internet</i><c>Internet</c></NS>. It's one of the most important things in our life now.</p>\n",
    "          <p>3. <NS type=\"S\"><i>Liabrary</i><c>Library</c></NS>. We not only borrow books from <NS type=\"MD\"><c>a</c></NS> <NS type=\"S\"><i>liabrary</i><c>library</c></NS> but also study at <NS type=\"MD\"><c>a</c></NS> <NS type=\"S\"><i>liabrary</i><c>library</c></NS>. <NS type=\"MD\"><i>Library</i><c>The library</c></NS> is very important in our daily life.</p>\n",
    "          <p>4. Canteen. <NS type=\"RP\"><i>Everyday</i><c>Every day</c></NS> we go to <NS type=\"MD\"><c>the</c></NS> canteen <NS type=\"FV\"><i>have</i><c>to have</c></NS> lunch, no matter <NS type=\"MC\"><c>whether</c></NS> you <NS type=\"TV\"><i>bought</i><c>buy</c></NS> food from there or you take your own food.</p>\n",
    "          <p>5. Football. What do you do after class? <NS type=\"DN\"><i>Joging</i><c>Jogging</c></NS> or <NS type=\"UV\"><i>doing</i></NS> some sports? You can't forget football.</p>\n",
    "          <p><NS type=\"AGA\"><i>These</i><c>This</c></NS> <NS type=\"AGV\"><i>are</i><c>is</c></NS> what I think should be filmed. If any of you have other <NS type=\"FN\"><i>suggestion</i><c>suggestions</c></NS>, we can discuss <NS type=\"MA\"><c>this</c></NS> again. But I think these five <NS type=\"AGN\"><i>lesson</i><c>lessons</c></NS> or activities are <NS type=\"MD\"><c>the</c></NS> most common in our daily life at college.</p>\n",
    "         </coded_answer>\n",
    "     </answer2>\n",
    "  </text>\n",
    "</head></learner>\"\"\""
   ]
  },
  {
   "cell_type": "code",
   "execution_count": 52,
   "id": "321aa419",
   "metadata": {},
   "outputs": [],
   "source": [
    "from bs4 import BeautifulSoup"
   ]
  },
  {
   "cell_type": "code",
   "execution_count": 5,
   "id": "845df3e9",
   "metadata": {},
   "outputs": [
    {
     "name": "stdout",
     "output_type": "stream",
     "text": [
      "Dear Mr Ryan . , Thanks for you your letter. I am so exciting excited that I have won the first prize. I will give you all the information you need and ask some questions. I could can only travel on in July. As you know, I am a student and the nearest holiday is the summer holiday. But I have booked a flight to home at the beginning of Auguest August . And also I would like to go on in summer. The Concerning the accommodation , I would like to live stay in tents . Because , because I never live stay have never stayed in a tents tent before. I think it is will be great and I want to try it. I like doing sports. I would like to play basketball and golf when I am at the Camp. I play basketball a lot and I am a member of our college term team . But I am not very good at golf. And also I want to ask some questions. What clothes should I taken take ? How much money should I taken take ? And how could can we meet at the airport? I am looking forward to your reply. Yours sincerely.\n"
     ]
    }
   ],
   "source": [
    "# Parse XML using BeautifulSoup with 'xml' parser\n",
    "soup = BeautifulSoup(data_as_string, 'xml')\n",
    "\n",
    "# Find the <coded_answer> tag inside <answer1>\n",
    "coded_answer = soup.find('answer1').find('coded_answer')\n",
    "\n",
    "# Extract and clean text\n",
    "text = coded_answer.get_text(separator=' ', strip=True)\n",
    "\n",
    "print(text)"
   ]
  },
  {
   "cell_type": "code",
   "execution_count": 6,
   "id": "39d56e59",
   "metadata": {},
   "outputs": [
    {
     "data": {
      "text/plain": [
       "'TR798*0100*2000*01'"
      ]
     },
     "execution_count": 6,
     "metadata": {},
     "output_type": "execute_result"
    }
   ],
   "source": [
    "# Find the <coded_answer> tag inside <answer1>\n",
    "# coded_answer = soup.find('learner').find('head')\n",
    "\n",
    "soup.learner.head[\"sortkey\"]\n",
    "\n",
    "\n",
    "# # Extract and clean text\n",
    "# text = coded_answer.get_text(separator=' ', strip=True)\n",
    "\n",
    "# print(text)"
   ]
  },
  {
   "cell_type": "code",
   "execution_count": 7,
   "id": "e51a1200",
   "metadata": {},
   "outputs": [
    {
     "name": "stdout",
     "output_type": "stream",
     "text": [
      "Dear Mr Ryan .\n",
      "Thanks for you letter. I am so exciting that I have won the first prize. I will give you all information you need and ask some questions.\n",
      "I could only travel on July. As you know, I am a student and the nearest holiday is summer holiday. But I have booked a flight to home at the beginning of Auguest . And also I would like to go on summer.\n",
      "The accommodation I would like to live in tents . Because I never livestay in tents before. I think it is great and I want to try it.\n",
      "I like doing sports. I would like to play basketball and golf when I am at the Camp. I play basketball a lot and I am a member of our college term . But I am not very good at golf.\n",
      "And also I want to ask some questions. What clothes should I taken ? How much money should I taken ? And how could we meet at the airport? I am looking forward your reply.\n",
      "Yours sincerely.\n"
     ]
    }
   ],
   "source": [
    "# Parse XML using BeautifulSoup with 'xml' parser\n",
    "soup = BeautifulSoup(data_as_string, 'xml')\n",
    "\n",
    "# Find the <coded_answer> tag inside <answer1>\n",
    "coded_answer = soup.find('answer1').find('coded_answer')\n",
    "\n",
    "# Prepare cleaned paragraphs\n",
    "cleaned_paragraphs = []\n",
    "\n",
    "for p in coded_answer.find_all(\"p\"):\n",
    "    # Replace each <NS> tag with its <c> content\n",
    "    for ns in p.find_all(\"NS\"):\n",
    "        # c_tag = ns.find(\"c\")\n",
    "        # ns.replace_with(c_tag.get_text() if c_tag else \"\")\n",
    "        i_tag = ns.find(\"i\")\n",
    "        ns.replace_with(i_tag.get_text() if i_tag else \"\")\n",
    "\n",
    "    # Append cleaned paragraph text\n",
    "    cleaned_paragraphs.append(p.get_text(separator=\" \", strip=True))\n",
    "\n",
    "# Join paragraphs with newlines\n",
    "cleaned_text = \"\\n\".join(cleaned_paragraphs)\n",
    "print(cleaned_text)"
   ]
  },
  {
   "cell_type": "code",
   "execution_count": 54,
   "id": "663e735a",
   "metadata": {},
   "outputs": [
    {
     "name": "stdout",
     "output_type": "stream",
     "text": [
      "Dear Mr Ryan . <RP \",\">\n",
      "Thanks for you <DD \"your\"> letter. I am so exciting <RJ \"excited\"> that I have won the first prize. I will give you all <MD \"the\"> information you need and ask some questions.\n",
      "I could <TV \"can\"> only travel on <RT \"in\"> July. As you know, I am a student and the nearest holiday is <MD \"the\"> summer holiday. But I have booked a flight to <UT \"\"> home at the beginning of Auguest <S \"August\"> . And also I would like to go on <RT \"in\"> summer.\n",
      "The <MT \"Concerning the\"> accommodation <MP \",\"> I would like to live <RV \"stay\"> in tents . Because <RP \", because\"> I never livestay <TV \"stay\"> in <MD \"a\"> tents <AGN \"tent\"> before. I think it is <TV \"will be\"> great and I want to try it.\n",
      "I like doing sports. I would like to play basketball and golf when I am at the Camp. I play basketball a lot and I am a member of our college term <RN \"team\"> . But I am not very good at golf.\n",
      "And also I want to ask some questions. What clothes should I taken <TV \"take\"> ? How much money should I taken <TV \"take\"> ? And how could <TV \"can\"> we meet at the airport? I am looking forward <MT \"to\"> your reply.\n",
      "Yours sincerely.\n"
     ]
    }
   ],
   "source": [
    "# Parse XML using BeautifulSoup with 'xml' parser\n",
    "soup = BeautifulSoup(data_as_string, 'xml')\n",
    "\n",
    "# Find the <coded_answer> tag inside <answer1>\n",
    "coded_answer = soup.find('answer1').find('coded_answer')\n",
    "\n",
    "# Process each paragraph\n",
    "transformed_paragraphs = []\n",
    "\n",
    "for p in coded_answer.find_all('p'):\n",
    "    for ns in p.find_all('NS'):\n",
    "        ns_type = ns.get('type')\n",
    "        incorrect = ns.find('i')\n",
    "        correct = ns.find('c')\n",
    "        # Prepare formatted correction string\n",
    "        # correction = f' ({ns_type} \"{incorrect.get_text() if incorrect else \"\"}\"->\"{correct.get_text() if correct else \"\"}\")'\n",
    "        correction = f'{incorrect.get_text() if incorrect else \"\"} <{ns_type} \"{correct.get_text() if correct else \"\"}\">'\n",
    "        # print(correction)\n",
    "        ns.replace_with(correction)\n",
    "\n",
    "    transformed_paragraphs.append(p.get_text(separator=\" \", strip=True))\n",
    "\n",
    "# Join with newlines\n",
    "transformed_text = \"\\n\".join(transformed_paragraphs)\n",
    "print(transformed_text)"
   ]
  },
  {
   "cell_type": "code",
   "execution_count": 91,
   "id": "20988350",
   "metadata": {},
   "outputs": [],
   "source": [
    "import os\n",
    "from typing import Any\n",
    "import pandas as pd\n",
    "from bs4 import BeautifulSoup\n",
    "from pathlib import Path\n",
    "\n",
    "\n",
    "def extract_xml_data_bs(xml_file_path) -> dict[str, Any]:\n",
    "    \"\"\"\n",
    "    Extract data from XML using BeautifulSoup.\n",
    "    \"\"\"\n",
    "    with open(xml_file_path, \"r\", encoding=\"utf-8\") as file:\n",
    "        content = file.read()\n",
    "\n",
    "    soup = BeautifulSoup(content, \"xml\")\n",
    "\n",
    "    data = {\n",
    "        \"filename\": os.path.basename(xml_file_path),\n",
    "        \"exam_code\": Path(xml_file_path).parent.name,\n",
    "    }\n",
    "    data[\"sortkey\"] = soup.learner.head[\"sortkey\"]\n",
    "\n",
    "    # Extract coded_answer from answer1\n",
    "    answer1 = soup.find(\"answer1\")\n",
    "    data[\"answer1_response\"] = str(answer1.find(\"coded_answer\"))\n",
    "    answer1_score = answer1.find(\"exam_score\")\n",
    "    data[\"answer1_score\"] = answer1_score.get_text() if answer1_score else None\n",
    "\n",
    "    # Extract coded_answer from answer2\n",
    "    answer2 = soup.find(\"answer2\")\n",
    "    if answer2 is None:\n",
    "        data[\"answer2_response\"] = None\n",
    "        data[\"answer2_score\"] = None\n",
    "    else:\n",
    "        data[\"answer2_response\"] = str(answer2.find(\"coded_answer\"))\n",
    "        answer2_score = answer2.find(\"exam_score\")\n",
    "        data[\"answer2_score\"] = answer2_score.get_text() if answer2_score else None\n",
    "\n",
    "    # Extract candidate info\n",
    "    candidate = soup.find(\"candidate\")\n",
    "    data[\"student_score\"] = float(candidate.find(\"score\").get_text())\n",
    "    data[\"student_language\"] = candidate.find(\"language\").get_text()\n",
    "    data[\"student_age\"] = (\n",
    "        candidate.find(\"age\").get_text() if candidate.find(\"age\") else None\n",
    "    )\n",
    "\n",
    "    return data\n",
    "\n",
    "\n",
    "def xml_folder_to_dataframe_bs(folder_path):\n",
    "    \"\"\"\n",
    "    Convert XML files to DataFrame using BeautifulSoup.\n",
    "    \"\"\"\n",
    "    xml_files = []\n",
    "    exam_codes = os.listdir(folder_path)\n",
    "    for exam_code in exam_codes:\n",
    "        xml_files.extend(list(Path(folder_path).glob(f\"{exam_code}/*.xml\")))\n",
    "\n",
    "    # print(xml_files)\n",
    "\n",
    "    if not xml_files:\n",
    "        print(f\"No XML files found in {folder_path}\")\n",
    "        return pd.DataFrame()\n",
    "\n",
    "    data_list = []\n",
    "    for xml_file in xml_files:\n",
    "        data = extract_xml_data_bs(xml_file)\n",
    "        data_list.append(data)\n",
    "\n",
    "    return pd.DataFrame(data_list)\n",
    "\n",
    "\n",
    "# Usage\n",
    "df_raw = xml_folder_to_dataframe_bs(\"../data/bronze/cfe/dataset\")"
   ]
  },
  {
   "cell_type": "code",
   "execution_count": 92,
   "id": "92ead060",
   "metadata": {},
   "outputs": [
    {
     "data": {
      "application/vnd.microsoft.datawrangler.viewer.v0+json": {
       "columns": [
        {
         "name": "index",
         "rawType": "int64",
         "type": "integer"
        },
        {
         "name": "filename",
         "rawType": "object",
         "type": "string"
        },
        {
         "name": "exam_code",
         "rawType": "object",
         "type": "string"
        },
        {
         "name": "sortkey",
         "rawType": "object",
         "type": "string"
        },
        {
         "name": "answer1_response",
         "rawType": "object",
         "type": "string"
        },
        {
         "name": "answer1_score",
         "rawType": "float64",
         "type": "float"
        },
        {
         "name": "answer2_response",
         "rawType": "object",
         "type": "string"
        },
        {
         "name": "answer2_score",
         "rawType": "float64",
         "type": "float"
        },
        {
         "name": "student_score",
         "rawType": "float64",
         "type": "float"
        },
        {
         "name": "student_language",
         "rawType": "object",
         "type": "string"
        },
        {
         "name": "student_age",
         "rawType": "object",
         "type": "string"
        }
       ],
       "ref": "5fae6233-d340-4feb-9b87-e8b7ed737af1",
       "rows": [
        [
         "0",
         "doc3042.xml",
         "0100_2001_6",
         "TE35*0100*2001*01",
         "<coded_answer>\n<p>Dear Mrs. Smith,</p>\n<p>In reply to your letter, I would like to answer your questions and give you more information.</p>\n<p>Firstly, the hotel in which the group is going to stay is <NS type=\"MD\"><c>the</c></NS> 'Palace Hotel'. Secondly, the easiest way to travel from the hotel to the conference is by a local bus. There is a bus stop in front of the hotel and <NS type=\"MD\"><c>a</c></NS> no.31 or 3 will take you directly to the conference. Thirdly, the end-of-conference party <NS type=\"TV\"><i>would</i><c>will</c></NS> be a small disco, with a variety of drinks and food provided. Therefore, you <NS type=\"TV\"><i>could</i><c>can</c></NS> wear something quite casual.</p>\n<p>Lastly, on the last day, I would suggest you <NS type=\"FV\"><i>to visit</i><c>visit</c></NS> the Edinburgh Castle and the National Scottish Museum, as both of them are very interesting and have <NS type=\"RD\"><i>the</i><c>a</c></NS> student discount.</p>\n<p>I hope this letter <NS type=\"RV\"><i>should</i><c>can</c></NS> help you with enough information.</p>\n<p>Yours sincerely,</p>\n</coded_answer>",
         "4.3",
         "<coded_answer>\n<p>Could modern people live without a light bulb? Well, I don't think so. <NS type=\"MD\"><i>Only</i><c>The only</c></NS> people who could live without <NS type=\"RA\"><i>it</i><c>one</c></NS><NS type=\"UP\"><i>,</i></NS> <NS type=\"RV\"><i>must</i><c>would</c></NS> be extremely weird or <NS type=\"UA\"><i>somebody</i></NS> in a very difficult situation!</p>\n<p>We are nearly always surrounded by <NS type=\"UD\"><i>the</i></NS> 'man-made' light. With it, we read, study, walk, and so on. In the past people relied on the sunlight, moonlight and the light from fire. These were, however, very unreliable when the weather was bad and when the fuel ran out. They had to read, study and walk in the dark. Today, this kind of thing hardly <NS type=\"MY\"><c>ever</c></NS> happens! Well, unless there <NS type=\"X\"><i>wasn't</i><c>is</c></NS> <NS type=\"RA\"><i>anything</i><c>something</c></NS> wrong with the power supply.</p>\n<p>I remember when I was about 5, I visited a museum with my family. While I was in <NS type=\"MD\"><c>the</c></NS> toilet, all the <NS type=\"AGN\"><i>light</i><c>lights</c></NS> <NS type=\"RV\"><i>was turned</i><c>went</c></NS> off! I screamed and cried since I'd never experienced being in <NS type=\"UD\"><i>a</i></NS> complete darkness before. When the light was turned on again, I realised how important even a single light bulb <NS type=\"RV\"><i>would</i><c>can</c></NS> be, and I was sure I <NS type=\"TV\"><i>can</i><c>could</c></NS> never, ever live without <NS type=\"RA\"><i>it</i><c>one</c></NS>.</p>\n</coded_answer>",
         "5.1",
         "34.0",
         "Japanese",
         "16-20"
        ],
        [
         "1",
         "doc3163.xml",
         "0100_2001_6",
         "TE70*0100*2001*01",
         "<coded_answer>\n<p>Chêne-Bourg, Tuesday 12th June.</p>\n<p>Dear Mrs Smith,</p>\n<p>it is with great regret that I hear of Mr Brown's illness, and <NS type=\"MA\"><c>I</c></NS> hope to see him soon in <NS type=\"UD\"><i>an</i></NS> excellent health. Nevertheless, I am both pleased and honoured to expect you and your group in the context of our international meeting.</p>\n<p>We have made arrangements for you to stay at the Palace Hotel. Furthermore, since it is located between the airport and our location, a <NS type=\"W\"><i>bus shuttle</i><c>shuttle bus</c></NS> has been organised to <NS type=\"RV\"><i>pick</i><c>take</c></NS> all our guests from the hotel to the conference room.</p>\n<p>The end-of-conference party is to be held <NS type=\"RT\"><i>at</i><c>in</c></NS> the 'Royal Room' of the hotel, which has an outstanding reputation for its quality and seriousness. Therefore, all <NS type=\"MD\"><c>the</c></NS> guests will be asked to wear the <NS type=\"RJ\"><i>corresponding</i><c>appropriate</c></NS> clothes in order to be <NS type=\"RV\">accepted</NS>.</p>\n<p>As for the three hours of free time, I strongly suggest you <NS type=\"W\"><i><NS type=\"FV\"><i>to <NS type=\"UP\"><i>check-in</i><c>check in</c></NS></i><c>check in</c></NS> your <NS type=\"CN\"><i><NS type=\"S\"><i>lugages</i><c>luggages</c></NS></i><c>luggage</c></NS></i><c>check your luggage in</c></NS> at the airport and then, after a <NS type=\"DJ\"><i>five-minutes</i><c>five-minute</c></NS> bus ride, spend your time in the marvellous 'Old City'.</p>\n<p>Best Regards,</p>\n</coded_answer>",
         "4.1",
         "<coded_answer>\n<p>My fair Mobile Phone.</p>\n<p>The technological revolution taking place today can be directly linked to the amazing evolution of our <NS type=\"RN\"><i>communication</i><c>communications</c></NS> <NS type=\"RN\"><i>abilities</i><c>technology</c></NS> <NS type=\"RT\"><i>throughout</i><c>over</c></NS> <NS type=\"RD\"><i>those</i><c>the</c></NS> last <NS type=\"MQ\"><c>few</c></NS> years. The inevitable invention symbolizing this aspect in our <NS type=\"RJ\"><i>ordinary</i><c>daily</c></NS> life is, of course, the mobile phone.</p>\n<p>It is clear and irrefutable that the use of this invention has <NS type=\"S\"><i>becomed</i><c>become</c></NS> a necessary <NS type=\"RN\">condition</NS> in some professional activities. <NS type=\"R\">Trades, politicians and taxi drivers are but a few examples of such needs</NS>. However, the <NS type=\"RJ\"><i>common</i><c>average</c></NS> man seems to ignore how important and useful a mobile phone becomes<NS type=\"UP\"><i>,</i></NS> when in the hands of a high-school student.</p>\n<p>It <NS type=\"W\"><i>becomes then</i><c>then becomes</c></NS> a real obsession for the average <NS type=\"FN\"><i>students</i><c>student</c></NS>, as <NS type=\"S\"><i>e</i><c>he</c></NS> uses it before the lessons, during the lessons, during lunch and, especially, during examinations... Nevertheless, it is also a common mistake to believe that the sole purpose of such <NS type=\"UD\"><i><NS type=\"FD\"><i>an</i><c>a</c></NS></i></NS> usage is to communicate information during an exam, since its major role is actually to allow the student and the parents to discuss <NS type=\"R\">during <NS type=\"RP\"><i>everyday's</i><c>every day's</c></NS> courses</NS>. <NS type=\"MD\"><i>Bottom</i><c>The bottom</c></NS> line is that any teacher complaining about this situation should confiscate not the student's phone, but his parents'!</p>\n</coded_answer>",
         "2.3",
         "26.0",
         "Greek",
         "16-20"
        ],
        [
         "2",
         "doc3116.xml",
         "0100_2001_6",
         "TE58*0100*2001*01",
         "<coded_answer>\n<p>To: Mrs. Smith</p>\n<p>Thank you for your letter, which arrived on <NS type=\"MD\"><c>the</c></NS> second<NS type=\"R\"><i>.</i><c> of</c></NS> June. I am very pleased to help to organize this Conference in our College, which will <NS type=\"TV\"><i>hold</i><c>be held</c></NS> at <NS type=\"MD\"><c>the</c></NS> Conference Centre at Bromley College starting on 20th June for 3 days. <NS type=\"RP\"><i>please</i><c>Please</c></NS> find <NS type=\"MD\"><c>the</c></NS> information <NS type=\"DA\"><i>your</i><c>you</c></NS> <NS type=\"RV\"><i>required</i><c>requested</c></NS> <NS type=\"RY\">as follows</NS>:</p>\n<p>We have booked the hotel for the group. <NS type=\"R\"><i>Called</i><c>It is the</c></NS> \"<NS type=\"RP\"><i>palace</i><c>Palace</c></NS> Hotel\"<NS type=\"MP\"><c>,</c></NS> which is about 10 miles away from our College<NS type=\"RP\"><i>, the</i><c>. The</c></NS> hotel will have a coach to pick the group up from the airport on <NS type=\"MD\"><c>the</c></NS> 19th of June and then take the group to <NS type=\"MD\"><c>the</c></NS> Conference and return to <NS type=\"MD\"><c>the</c></NS> hotel every day.</p>\n<p>Regarding <NS type=\"UT\"><i>to</i></NS> the end-of-conference party<NS type=\"RP\"><i>. We</i><c>, we</c></NS> have <NS type=\"IV\"><i>planed</i><c>planned</c></NS> a barbecue <NS type=\"RT\"><i>at</i><c>for</c></NS> 5 oo pm<NS type=\"UP\"><i>.</i></NS> on our most idyllic <NS type=\"RN\"><i>play</i><c>playing</c></NS> field<NS type=\"MP\"><c>,</c></NS> which <NS type=\"TV\"><i>is <NS type=\"RP\"><i>over looking</i><c>overlooking</c></NS></i><c>overlooks</c></NS> the endless Countryside and farms. At 7:00pm<NS type=\"UP\"><i>.</i></NS> we can move to our student hall to <NS type=\"R\">have a <NS type=\"RN\"><i>disc</i><c>disco</c></NS> dance</NS> until 10:00pm.</p>\n<p><NS type=\"RT\"><i>On</i><c>For</c></NS> the last day, we have arranged a small party in the hotel<NS type=\"RP\"><i>, then</i><c>. Then</c></NS> we all set <NS type=\"RY\"><i>up</i><c>off</c></NS> to <NS type=\"RV\"><i>have</i><c>go on</c></NS> a sightseeing <NS type=\"M\"><c>tour of</c></NS> Bromley town <NS type=\"SA\"><i>center</i><c>centre</c></NS> for about two hours before you leave for <NS type=\"MD\"><c>the</c></NS> airport. Bromley town <NS type=\"SA\"><i>center</i><c>centre</c></NS> is the most beautiful shopping centre in South East London. There are many <NS type=\"RJ\"><i>historical</i><c>historic</c></NS> buildings <NS type=\"UV\"><i>remain</i></NS>. I think the students will enjoy this sightseeing <NS type=\"MN\"><c>tour</c></NS>.</p>\n<p>If <NS type=\"R\">any further discussion</NS>, please let me know.</p>\n<p>Yours<NS type=\"UP\"><i>.</i></NS> sincerely,</p>\n</coded_answer>",
         "4.3",
         "<coded_answer>\n<p><NS type=\"R\">How wonderful \"light\"</NS></p>\n<p>We need light every day, not just <NS type=\"MT\"><c>at</c></NS> <NS type=\"RP\"><i>night time</i><c>nighttime</c></NS>. We need <NS type=\"RN\"><NS type=\"RP\"><i>lamp light</i><c>lamplight</c></NS></NS> in offices <NS type=\"RC\"><i>or</i><c>and</c></NS> schools <NS type=\"RC\"><i>or</i><c>and</c></NS> <NS type=\"RQ\"><i>some</i><c>other</c></NS> places during the <NS type=\"RP\"><i>day time</i><c>daytime</c></NS>. How <NS type=\"AS\"><i>is the wonderful life</i><c>wonderful life is</c></NS> <NS type=\"RT\"><i>after</i><c>since</c></NS> <NS type=\"MD\"><c>the</c></NS> invention <NS type=\"R\"><i>the</i><c>of</c></NS> <NS type=\"MJ\"><c>electric</c></NS> light. Here we <NS type=\"TV\"><i>just talk</i><c>are just talking</c></NS> about <NS type=\"R\">the light we invented</NS> apart from <NS type=\"DJ\"><i>nature</i><c>natural</c></NS> light.</p>\n<p>When I was small, we lived in <NS type=\"R\">country yard</NS><NS type=\"RP\"><i>,</i><c>.</c></NS> I <NS type=\"TV\"><i>remembered</i><c>remember</c></NS>, we used to have oil lamps which <NS type=\"R\">used a cotton string dipping in the oil in the small bottle and made it burned the tip of the cotton string</NS> to give us light during the <NS type=\"RN\"><i><NS type=\"RP\"><i>night time</i><c>nighttime</c></NS></i><c>night</c></NS><NS type=\"RP\"><i>, it</i><c>. It</c></NS> <NS type=\"RV\"><i>was</i><c>gave</c></NS> very little light <NS type=\"UT\"><i>on</i></NS>, and <NS type=\"M\"><c>there were</c></NS> many things we couldn't do <NS type=\"RT\"><i>under</i><c>in</c></NS> the <NS type=\"M\"><c>light from the</c></NS> oil lamps because the light <NS type=\"R\">range was very small</NS>. There was <NS type=\"RY\"><i>no</i><c>not</c></NS> any light outside our house, <NS type=\"MC\"><c>and</c></NS> no light on the road or field either. I was always very scared <NS type=\"RY\">whenever</NS> or wherever <NS type=\"M\"><c>I was</c></NS><NS type=\"RP\"><i>.</i><c>,</c></NS> because most places<NS type=\"R\"><NS type=\"UP\"><i>. Covered</i><c> covered</c></NS> by dark, dark and dark</NS>. This <NS type=\"DJ\"><i>scaring</i><c>scary</c></NS> dark is still affecting my life now. I never <NS type=\"TV\"><i>stayed</i><c>stay</c></NS> out after dark today except <NS type=\"R\">accompanying by</NS> my family.</p>\n<p>What a <NS type=\"FJ\"><i>biggest</i><c>big</c></NS> person <NS type=\"U\"><i>on the earth</i></NS><NS type=\"W\"><i>, who invented the light, Einstein was</i><c> Einstein was, who invented light</c></NS>. He created another <NS type=\"RN\"><i><NS type=\"RP\"><i>day time</i><c>daytime</c></NS></i><c>day</c></NS> after sunset<NS type=\"RP\"><i>, people</i><c>. People</c></NS> use it to do anything they want to do<NS type=\"RP\"><i>,</i><c>.</c></NS> We believe we can't live without light today, <NS type=\"RY\"><i>specially</i><c>especially</c></NS> in <NS type=\"MD\"><c>the</c></NS> city <NS type=\"UN\"><i>life</i></NS><NS type=\"RP\"><i>, we</i><c>. We</c></NS> have a long time to spend <NS type=\"RT\"><i>for</i><c>on</c></NS> <NS type=\"RD\"><i>the</i><c>our</c></NS> activities after <NS type=\"MD\"><c>the</c></NS> Sun <NS type=\"TV\"><i>going</i><c>goes</c></NS> to bed. <NS type=\"UA\"><i>Which we</i><c>We</c></NS> <NS type=\"S\"><i>definately</i><c>definitely</c></NS> need light to <NS type=\"RV\">keep on</NS>. <NS type=\"ID\"><i>I dare to say</i><c>I dare say</c></NS>, without light, our life <NS type=\"TV\"><i>will</i><c>would</c></NS> go into a dark, dark hell.</p>\n</coded_answer>",
         "3.2",
         "29.0",
         "Chinese",
         "41-50"
        ],
        [
         "3",
         "doc2868.xml",
         "0100_2001_6",
         "TE5*0100*2001*01",
         "<coded_answer>\n<p>Dear Mrs Maria Smith,</p>\n<p>as the leader of the conference-organisation, I'm glad if I can help you. My <NS type=\"RV\"><i>wish</i><c>hope</c></NS> is that nothing goes wrong. So you have to know more details about our conference.</p>\n<p>Your hotel is called Palace Hotel and it is <NS type=\"RV\"><i>placed</i><c>located</c></NS> in the city centre. As far as I know<NS type=\"MP\"><c>,</c></NS> this hotel is very comfortable. There is also a subway-station near Palace Hotel. Our college is not <NS type=\"RY\"><i>much</i><c>very</c></NS> far away. You only have to take the subway-train. After three stations you have arrived <NS type=\"MT\"><c>at</c></NS> Brooklyn street. When you come out of the subway you see our college.</p>\n<p>The conference starts at 6 o'clock and ends at 8 o'clock. The students have prepared a music <NS type=\"SA\"><i>program</i><c>programme</c></NS> for the end-of-conference party. There will also be an international buffet. So don't eat too much before you come. And please don't worry about clothes. There are not any rules.</p>\n<p>In our city there is a big adventure swimming park. I think you should visit Water World on your last day. You will have a lot of <NS type=\"RN\"><i>fund</i><c>fun</c></NS>, <NS type=\"L\">I can tell you</NS>. If you need any further information please call me. My number is: 793354</p>\n<p>Yours faithfully,</p>\n</coded_answer>",
         "3.3",
         "<coded_answer>\n<p>The telephone is a very important invention, which has affected our lives. It is a way for people to communicate although they are <NS type=\"RT\"><i>at</i><c>in</c></NS> two different places. People use the telephone every day and it is one of the most important things in daily life.</p>\n<p>In my opinion people need a telephone. For example a telephone is very important in <NS type=\"DN\"><i>job-life</i><c>professional life</c></NS>. Nowadays<NS type=\"MP\"><c>,</c></NS> there are no companies which do not have a telephone. Also it is <NS type=\"SX\"><i>god</i><c>good</c></NS> for people's safety. You can call the police if you are in danger or the ambulance if you are injured.</p>\n<p><NS type=\"UD\"><i>The people</i><c>People</c></NS> <NS type=\"W\"><i>use the telephone also</i><c>also use the telephone</c></NS> <NS type=\"RT\"><i>for</i><c>in</c></NS> their personal life. For example<NS type=\"MP\"><c>,</c></NS> when you want to talk to your family or to your friends who live far away. Another aspect is that people have more time if they have a telephone. They are able to give and receive <NS type=\"CN\"><i>informations</i><c>information</c></NS> very quickly.</p>\n<p>This invention has made our lives easier and <NS type=\"RJ\"><NS type=\"IJ\"><i>quickier</i><c>quicker</c></NS></NS>. The telephone has <NS type=\"W\"><i>made my own life also</i><c>also made my own life</c></NS> easy and <NS type=\"RJ\">quick</NS>. <NS type=\"R\">It makes something possible you <NS type=\"RP\"><i>can not</i><c>cannot</c></NS> do.</NS> Finally<NS type=\"MP\"><c>,</c></NS> I would say that the telephone is very efficient for people.</p>\n</coded_answer>",
         "3.3",
         "29.0",
         "Greek",
         "16-20"
        ],
        [
         "4",
         "doc2994.xml",
         "0100_2001_6",
         "TE22*0100*2001*01",
         "<coded_answer>\n<p>Dear Mrs Smith,</p>\n<p>First of all I'm sorry to hear that Richard Brown is ill. As you are the leader of <NS type=\"RD\"><i>a</i><c>the</c></NS> group instead of him, I'm delighted to give <NS type=\"MA\"><c>you</c></NS> all the information you have asked for.</p>\n<p>The Palace Hotel has been booked for the group, and<NS type=\"MP\"><c>,</c></NS> from there to the conference, we have organized <NS type=\"UT\"><i>with</i></NS> the hotel's bus service to take the <NS type=\"FN\"><i>student</i><c>students</c></NS> to the conference. We will meet <NS type=\"RT\"><i>at</i><c>in</c></NS> the lobby at 9.00 AM.</p>\n<p>The conference party will last <NS type=\"RT\"><i>at</i><c>until</c></NS> 1.00 AM, but <NS type=\"RP\"><i>every body</i><c>everybody</c></NS> <NS type=\"AGV\"><i>do</i><c>does</c></NS> not need to stay until the end. There will be a bus taking students who do not <NS type=\"RV\"><i>need</i><c>want</c></NS> to stay at the party until the end. The bus will be <NS type=\"R\">service</NS> at 9.30 PM and 11.30 PM<NS type=\"MP\"><c>,</c></NS> then at the end of the party <NS type=\"MA\"><c>there</c></NS> will be the last one. Everybody <NS type=\"AGV\"><i>are</i><c>is</c></NS> free to dress for the party but <NS type=\"TV\"><i>be considering</i><c>consider</c></NS> <NS type=\"MA\"><c>what</c></NS> <NS type=\"TV\"><i>to be</i><c>is</c></NS> appropriate.</p>\n<p>On the last day at noon, you could go to the craft centre <NS type=\"RP\"><i>near by</i><c>nearby</c></NS> the Airport. There are lots of <NS type=\"AGN\"><i>thing</i><c>things</c></NS> there you will enjoy watching or buying for friends.</p>\n<p>If there is any information you need to know about the conference, please let me know. I look forward to <NS type=\"FV\"><i>see</i><c>seeing</c></NS> you at the conference.</p>\n<p>Yours sincerely,</p>\n</coded_answer>",
         "2.3",
         "<coded_answer>\n<p>Telephone saved my friendship</p>\n<p>It's very hard to decide which invention is the best. Because all of them are so important in <NS type=\"DJ\"><i>difference</i><c>different</c></NS> <NS type=\"FN\"><i>way</i><c>ways</c></NS>.</p>\n<p>As now <NS type=\"TV\"><i>I'm being</i><c>I'm</c></NS> away from home, <NS type=\"MD\"><c>the</c></NS> telephone is very important to me. Having <NS type=\"MD\"><c>a</c></NS> telephone I can call my mother<NS type=\"R\"><i>,</i><c> and</c></NS> my friends<NS type=\"MP\"><c>,</c></NS> which <NS type=\"RV\"><i><NS type=\"TV\"><i>helping</i><c>helps</c></NS></i><c>prevents</c></NS> me from <NS type=\"MV\"><c>feeling</c></NS> <NS type=\"RP\"><i>home sick</i><c>homesick</c></NS><NS type=\"RP\"><i>,</i><c>;</c></NS> not completely but I think it's better than <NS type=\"R\">other ways</NS>. To hear the voice <NS type=\"RT\"><i>from</i><c>of</c></NS> the person you love is <NS type=\"RD\"><i>the</i><c>a</c></NS> <NS type=\"S\"><i>feelling</i><c>feeling</c></NS> that <NS type=\"MV\"><c>is</c></NS> hard to describe<NS type=\"RP\"><i>,</i><c>;</c></NS> it's wonderful and so real<NS type=\"RP\"><i>, you</i><c>. You</c></NS> can imagine their face clearly.</p>\n<p>I had a problem with my best friend once when we <NS type=\"TV\"><i>keep</i><c>kept</c></NS> in <NS type=\"S\"><i>tuch</i><c>touch</c></NS> through e-mail. The problem <NS type=\"TV\"><i>is</i><c>was</c></NS> the language<NS type=\"RP\"><i>, we</i><c>. We</c></NS> used English but <NS type=\"X\"><i>we both were not</i><c>neither of us were</c></NS> very good at it <NS type=\"RT\"><i>by</i><c>at</c></NS> the time<NS type=\"MP\"><c>,</c></NS> which made us misunderstand each other. However, the problem <NS type=\"TV\"><i>solved</i><c>was solved</c></NS> by a telephone. We are now still <NS type=\"AGN\"><i>friend</i><c>friends</c></NS>. Thanks to the invention of the telephone.</p>\n</coded_answer>",
         "3.1",
         "20.0",
         "Thai",
         "26-30"
        ],
        [
         "5",
         "doc3278.xml",
         "0100_2001_6",
         "TE88*0100*2001*01",
         "<coded_answer>\n<p>Dear Mrs Smith,</p>\n<p>Thank you for your letter. I will try my best to answer the questions.</p>\n<p>First of all, we have already booked the <NS type=\"DJ\"><i>Five-Stars</i><c>Five-Star</c></NS> Hotel for your group. It is a modern hotel, near our college, and it is also very <NS type=\"S\"><i>convenent</i><c>convenient</c></NS> <NS type=\"R\"><i>to come from</i><c>for</c></NS> the airport. You can take <NS type=\"RQ\"><i>both</i><c>either</c></NS> <NS type=\"UT\"><i>by</i></NS> <NS type=\"AGN\"><i>buses</i><c>bus</c></NS> or taxies. The <NS type=\"S\"><i>nember</i><c>number</c></NS> 101 bus <NS type=\"RV\"><i>starts</i><c>leaves</c></NS> from the airport, <NS type=\"SX\"><i>than</i><c>then</c></NS> you can get off <NS type=\"RT\"><i>from</i><c>at</c></NS> <NS type=\"MD\"><c>the</c></NS> \"city college\" stop. It would be a great chance <NS type=\"W\"><i>to <NS type=\"RV\"><i><NS type=\"S\"><i>tark</i><c>take</c></NS> part in</i><c>attend</c></NS> the party for everyone</i><c>for everyone to attend the party</c></NS>. This is just a relaxing party, just <NS type=\"RT\"><i>for</i><c>so</c></NS> the members have a chance to relax and make friends. So I think you'd better <NS type=\"FV\"><i>to wear</i><c>wear</c></NS> a dress.</p>\n<p>Finally, about the <NS type=\"W\"><i>free three</i><c>three free</c></NS> hours, my personal <NS type=\"DN\"><i>prefer</i><c>preference</c></NS> <NS type=\"MV\"><c>is</c></NS> to go shopping. Our city has got the biggest <NS type=\"DN\"><i>shoping</i><c>shopping</c></NS> centre in South England<NS type=\"RP\"><i>, there</i><c>. There</c></NS> <NS type=\"RV\"><i>gathers</i><c>are</c></NS> so many shops. It <NS type=\"MV\"><c>is</c></NS> <NS type=\"S\"><i>worthes</i><c>worth</c></NS> <NS type=\"FV\"><i><NS type=\"S\"><i>tp</i><c>to</c></NS> spend</i><c>spending</c></NS> time and money on that.</p>\n<p>I look forward to seeing you!</p>\n<p>Yours sincerely</p>\n</coded_answer>",
         "2.2",
         "<coded_answer>\n<p><NS type=\"S\"><i>Nowdays</i><c>Nowadays</c></NS> people have become used to watching <NS type=\"UP\"><i><NS type=\"S\"><i>televesion's</i><c>television's</c></NS></i><c>television</c></NS> <NS type=\"SA\"><i>programs</i><c>programmes</c></NS> <NS type=\"RP\"><i>everyday</i><c>every day</c></NS>. The TV is so important that you can see <NS type=\"RA\"><i>it</i><c>one</c></NS> in every <NS type=\"RN\"><i>family</i><c>home</c></NS>, and it is <NS type=\"FD\"><i>a</i><c>an</c></NS> essential <NS type=\"RN\"><i>equipment</i><c>item</c></NS> for everyone.</p>\n<p>First of <NS type=\"S\"><i>al</i><c>all</c></NS>, in my opinion, TV has a great <NS type=\"DJ\"><i>education</i><c>educational</c></NS> <NS type=\"AGN\"><i>functions</i><c>function</c></NS>, and <NS type=\"MA\"><c>it</c></NS> also makes the world <NS type=\"UV\"><i>become</i></NS> <NS type=\"FJ\"><i>small</i><c>smaller</c></NS>. You can just sit at home <NS type=\"R\"><i>then</i><c>and</c></NS> you can know what is happening all over the world at <NS type=\"RD\"><i>the</i><c>that</c></NS> moment. I would rather <NS type=\"FV\"><i>watching</i><c>watch</c></NS> the news on TV <NS type=\"RP\"><i>in stead</i><c>instead</c></NS> of reading <NS type=\"R\"><i>in</i><c>a</c></NS> newspaper or <NS type=\"RV\"><i>hearing</i><c>listening</c></NS> <NS type=\"RT\"><i>on</i><c>to</c></NS> <NS type=\"MD\"><c>the</c></NS> radio because the news on TV <NS type=\"AGV\"><i>are</i><c>is</c></NS> <NS type=\"RJ\">vivid</NS>.</p>\n<p>Moreover, the TV is <NS type=\"UD\"><i>a</i></NS> great company for <NS type=\"UD\"><i>the</i></NS> people who live alone or feel alone. I <NS type=\"UV\"><i>would</i></NS> like to <NS type=\"RV\"><i>open</i><c>turn on</c></NS> <NS type=\"MD\"><c>the</c></NS> TV when I stay at home. Someone <NS type=\"AGV\"><i>are</i><c>is</c></NS> talking, <NS type=\"S\"><i>laughting</i><c>laughing</c></NS>, crying <NS type=\"R\">on there, so join them</NS><NS type=\"RP\"><i>, you</i><c>. You</c></NS> will feel much better than <NS type=\"M\"><i>just</i><c>you would just by</c></NS> yourself. Some TV <NS type=\"SA\"><i>programs</i><c>programmes</c></NS> are <NS type=\"S\"><i>enjouable</i><c>enjoyable</c></NS>!</p>\n<p>However, TV also has some disadvantages. You might just <NS type=\"FV\"><i>sitting</i><c>sit</c></NS> in front of <NS type=\"MD\"><c>the</c></NS> TV for hours <NS type=\"FV\"><i>learn</i><c>learning</c></NS> nothing, or no <NS type=\"RY\"><i>more</i><c>longer</c></NS> talk with your family. I think this is the <NS type=\"IJ\"><i>badest</i><c>worst</c></NS> influence in <NS type=\"UD\"><i>the</i></NS> society.</p>\n<p>In <NS type=\"S\"><i>clucsion</i><c>conclusion</c></NS>, <NS type=\"UD\"><i>the</i></NS> TV has both advantages and <NS type=\"S\"><i>disagvangtages</i><c>disadvantages</c></NS>, but on the whole <NS type=\"MD\"><c>the</c></NS> advantages <NS type=\"AGV\"><i>is</i><c>are</c></NS> greater than <NS type=\"MD\"><c>the</c></NS> disadvantages. So<NS type=\"U\"><i>, but</i></NS> on the whole, TV still is a wonderful and important invention <NS type=\"R\">on the world</NS>.</p>\n</coded_answer>",
         "2.2",
         "19.0",
         "Chinese",
         "26-30"
        ],
        [
         "6",
         "doc3117.xml",
         "0100_2001_6",
         "TE59*0100*2001*01",
         "<coded_answer>\n<p>Dear Mrs Smith,</p>\n<p>I am <NS type=\"IV\"><i>writting</i><c>writing</c></NS> <NS type=\"MT\"><c>to</c></NS> you to <NS type=\"RV\"><i>reply</i><c>answer</c></NS> your question about the conference in London. <NS type=\"RP\"><i>thank</i><c>Thank</c></NS> you for your letter. I am very <NS type=\"RJ\"><i>pleasant</i><c>pleased</c></NS> to know you decided to come to the \"<NS type=\"R\"><i>II</i><c>Second</c></NS> International <NS type=\"RP\"><i>conference</i><c>Conference</c></NS> <NS type=\"RT\"><i>of</i><c>on</c></NS> Human Rights\" which will be <NS type=\"RV\"><i>celebrated</i><c>held</c></NS> <NS type=\"RT\"><i>in</i><c>at</c></NS> Albert Hall <NS type=\"RP\"><i>college</i><c>College</c></NS> <NS type=\"MT\"><c>on</c></NS> <NS type=\"UJ\"><i>next</i></NS> 25 <NS type=\"UT\"><i>of</i></NS> June.</p>\n<p>I would like to inform you that the group you belong to<NS type=\"UP\"><i>,</i></NS> has been booked <NS type=\"RT\"><i>in</i><c>into</c></NS> <NS type=\"MD\"><c>the</c></NS> Palace Hotel<NS type=\"UP\"><i>,</i></NS> in the <NS type=\"SA\"><i>center</i><c>centre</c></NS> of London from the <NS type=\"MP\"><i>24</i><c>24th</c></NS> <NS type=\"MT\"><c>of</c></NS> June until <NS type=\"MD\"><c>the</c></NS> <NS type=\"MP\"><i>25</i><c>25th</c></NS> of June. The Albert Hall College, the building where <NS type=\"W\"><i>will be <NS type=\"RV\"><i>taken part</i><c>held</c></NS> the conference</i><c>the conference will be held</c></NS> is <NS type=\"RV\"><i>sited</i><c>situated</c></NS> near Green Park Avenue<NS type=\"RP\"><i>; <NS type=\"UC\"><i>so</i></NS><NS type=\"UP\"><i>,</i></NS> to</i><c>. To</c></NS> get <NS type=\"MT\"><c>to</c></NS> it from the Palace Hotel<NS type=\"MP\"><c>,</c></NS> you can take the <NS type=\"W\"><i>bus number 26</i><c>number 26 bus</c></NS>, otherwise, you can take the Picadilly Line from South Kensigton <NS type=\"RP\"><i>Station</i><c>station</c></NS> to <NS type=\"RP\"><i>green</i><c>Green</c></NS> Park station. It takes about 10 minutes<NS type=\"UP\"><i>.</i></NS> <NS type=\"UY\"><i>Therefore</i></NS>, that's the <NS type=\"RJ\"><i><NS type=\"FJ\"><i>faster</i><c>fastest</c></NS></i><c>quickest</c></NS> <NS type=\"RN\"><i>way</i><c>means</c></NS> of transport you can choose. The Conference will start at 9 am <NS type=\"RT\"><i>of</i><c>on</c></NS> 25 June and will finish about 6 pm <NS type=\"RT\"><i>in</i><c>on</c></NS> the same day. During the day <NS type=\"MA\"><c>you</c></NS> <NS type=\"AGV\"><i>is</i><c>are</c></NS> supposed <NS type=\"FV\"><i>having</i><c>to have</c></NS> a break of half <NS type=\"SX\"><i>and</i><c>an</c></NS> hour at 12 <NS type=\"R\"><i>p.m<NS type=\"MP\"><c>.</c></NS></i><c>noon</c></NS> and finally, <NS type=\"M\"><c>there will be</c></NS> a party for all the people who will be there. That will be a <NS type=\"RJ\"><i>smart</i><c>formal</c></NS> party and because of this, <NS type=\"R\"><i>it will be required a well-dressed and immaculate presence</i><c>you will be required to be smartly dressed</c></NS>. Ladies should wear an evening dress and <NS type=\"FN\"><i><NS type=\"S\"><i>gentlman</i><c>gentleman</c></NS></i><c>gentlemen</c></NS> a dark suit.</p>\n<p>As I can see from your letter, you will have about three hours before you catch your plane, so, I would suggest <NS type=\"MA\"><c>you</c></NS> <NS type=\"FV\"><i>to visit</i><c>visit</c></NS> <NS type=\"RP\"><i>The</i><c>the</c></NS> Tate Modern Museum, where you will <NS type=\"UV\"><i>can</i></NS> find several interesting pictures such as <NS type=\"UP\"><i>Dali's</i><c>Dalis</c></NS> <NS type=\"MC\"><c>and</c></NS> Warhols.</p>\n<p>If you need some more information or details about <NS type=\"SX\"><i>he</i><c>the</c></NS> conference, you can contact Alexia on 0033*** <NS type=\"UN\"><i>phone</i></NS>.</p>\n<p>I look forward to hearing from you.</p>\n<p> Yours sincerely,</p>\n</coded_answer>",
         "3.3",
         "<coded_answer>\n<p>Introduction</p>\n<p>The aim of this report is <NS type=\"FV\"><i>giving</i><c>to give</c></NS> some suggestions to a group of American students who <NS type=\"AGV\"><i>has</i><c>have</c></NS> just arrived in Rome and want some information about an interesting building to visit.</p>\n<p>Rome is a big city where they can find several moments and important buildings, for this reason I would suggest <NS type=\"RA\"><i>them</i><c>they</c></NS> <NS type=\"FV\"><i>to visit</i><c>visit</c></NS><NS type=\"MP\"><c>:</c></NS></p>\n<p>1) \"Fontana di Trevi\" sited in Trevis Square in the <NS type=\"SA\"><i>center</i><c>centre</c></NS> of Rome. That's a small square where there is a <NS type=\"W\"><i>fountain very big</i><c>very big fountain</c></NS>. It was built by <NS type=\"MD\"><c>the</c></NS> <NS type=\"W\"><i>Canovas architect</i><c>architect Canovas</c></NS> in 1638. That is the fountain <NS type=\"MT\"><c>in</c></NS> which <NS type=\"M\"/> <NS type=\"W\"><i>\"Dolce Vita\" film</i><c>the film \"Dolce Vita\"</c></NS> <NS type=\"UV\"><i>was</i></NS> <NS type=\"TV\"><i>taken place</i><c>took place</c></NS>.</p>\n<p>2) <NS type=\"ID\"><i>For other hand</i><c>On the other hand</c></NS>, there is <NS type=\"MD\"><c>the</c></NS> Villa Borghese <NS type=\"RP\"><i>Building</i><c>building</c></NS><NS type=\"RP\"><i>,</i><c>.</c></NS> That is a museum where they can find the most important sculptures and pictures of Antonio Canovas and, Bernini, who <NS type=\"RV\"><i>stayed</i><c>lived</c></NS> for a long time <NS type=\"UV\"><i>working</i></NS> in Rome.</p>\n<p>CONCLUSION</p>\n<p>I would recommend <NS type=\"MT\"><c>to</c></NS> them <NS type=\"RD\"><i>the</i><c>these</c></NS> buildings because:</p>\n<p>1) First of all, <NS type=\"RA\"><i>there</i><c>they</c></NS> are <NS type=\"RJ\"><i>sited</i><c>located</c></NS> in the <NS type=\"SA\"><i>center</i><c>centre</c></NS> of Rome so<NS type=\"UP\"><i>,</i></NS> they can take a bus to get <NS type=\"MT\"><c>to</c></NS> them <NS type=\"R\">move and around the city</NS>.</p>\n<p>2) Secondly, they can enjoy visiting museums, and afterwards they can <NS type=\"RV\"><i>take</i><c>have</c></NS> something to eat or to drink in the \"pizzerias' and restaurants near these famous places. In conclusion, they could combine art, <NS type=\"UD\"><i>the</i></NS> history and <NS type=\"UD\"><i>the</i></NS> <NS type=\"RN\"><i>night</i><c>nightlife</c></NS> <NS type=\"MT\"><c>by</c></NS> visiting <NS type=\"W\"><i>one only</i><c>only one</c></NS> place <NS type=\"MC\"><c>and</c></NS> without <NS type=\"FV\"><i>spend</i><c>spending</c></NS> much money.</p>\n</coded_answer>",
         "3.2",
         "28.0",
         "Spanish",
         "21-25"
        ],
        [
         "7",
         "doc2968.xml",
         "0100_2001_6",
         "TE12*0100*2001*01",
         "<coded_answer>\n<p>Dear Mrs Smith</p>\n<p>I am writing to answer your letter about the details of <NS type=\"MD\"><c>the</c></NS> international students conference.</p>\n<p><NS type=\"MD\"><c>The</c></NS> Palace Hotel has been booked and you should first walk from the hotel to the Town Hall railway station, which is <NS type=\"M\"><c>on the</c></NS> North City Line, <NS type=\"MA\"><c>which</c></NS> is <NS type=\"MD\"><c>the</c></NS> yellow line on the map. After getting on the train, you should get off at the Mountain station<NS type=\"MP\"><c>,</c></NS> which is <NS type=\"R\"><i>for twenty minutes</i><c>twenty minutes away</c></NS><NS type=\"RP\"><i>, <NS type=\"MA\"><c>it</c></NS></i><c>. It</c></NS> is <NS type=\"RT\"><i>in front of</i><c>opposite</c></NS> the conference <NS type=\"MN\"><c>venue</c></NS>.</p>\n<p>The conference which<NS type=\"MP\"><c>,</c></NS> will be held from 1 pm through 4 pm, is a formal party. You should wear formal clothes, and are going to play a game and enjoy <NS type=\"MD\"><c>a</c></NS> welcome drink together.</p>\n<p>Before catching our plane, we will be able to enjoy going shopping around the airport for three hours in the afternoon<NS type=\"RP\"><i>. Because</i><c>, because</c></NS> there are so many unique shops and you should buy good gifts for your parents</p>\n<p>Yours sincerely,</p>\n</coded_answer>",
         "3.2",
         "<coded_answer>\n<p>Dear Mr Wolf</p>\n<p>I am writing to answer your question about <NS type=\"U\"><i>the information on</i></NS> an interesting building to visit. I would like to introduce one building in my town.</p>\n<p>\"Sky Heaven\"<NS type=\"MP\"><c>,</c></NS> which is the name of the building, is <NS type=\"UT\"><i>for</i></NS> fifteen minutes from the centre of my town. This building <NS type=\"AGV\"><i>have</i><c>has</c></NS> a hundred <NS type=\"AGN\"><i>floor</i><c>floors</c></NS> and it takes <NS type=\"UT\"><i>for</i></NS> five minutes <NS type=\"MV\"><c>to go</c></NS> from the <NS type=\"SX\"><i>grand</i><c>ground</c></NS> to the top in the elevator. There are many <NS type=\"RN\"><i>facilities</i><c>attractions</c></NS> <NS type=\"R\"><i>which are</i><c>such as</c></NS> a museum, <NS type=\"FD\"><i>a</i><c>an</c></NS> exhibition and many gift shops where we might also enjoy going shopping.</p>\n<p>The reason for my recommendation is that Sky Heaven is the <NS type=\"RJ\"><i>highest</i><c>tallest</c></NS> building in the world. You should <NS type=\"RV\"><i>get</i><c>go</c></NS> <NS type=\"MT\"><c>to</c></NS> the top of the building and <NS type=\"RV\"><i>experience</i><c>enjoy</c></NS> <NS type=\"UQ\"><i>such</i></NS> <NS type=\"FD\"><i>a</i><c>an</c></NS> amazing view. Another reason is that there is a good museum, which <NS type=\"RV\"><NS type=\"AGV\"><i>tell</i><c>tells</c></NS></NS> you about the history of my town so easily and clearly. It <NS type=\"TV\"><i>is</i><c>will be</c></NS> a good experience for your students.</p>\n<p>I hope you will accept my recommendation and am looking forward to hearing from you soon.</p>\n<p>Yours sincerely, </p>\n</coded_answer>",
         "4.1",
         "26.0",
         "Japanese",
         "26-30"
        ],
        [
         "8",
         "doc3101.xml",
         "0100_2001_6",
         "TE55*0100*2001*01",
         "<coded_answer>\n<p>Dear Mrs Smith,</p>\n<p>Thank you very much for your letter. I <NS type=\"TV\"><i>would</i><c>will</c></NS> be very pleased if I can help you <NS type=\"R\"><i>answering</i><c>with</c></NS> all your enquiries.</p>\n<p>The hotel which your students' group has been booked into is the Palace Hotel. It is fairly easy to get there from the conference. I would <NS type=\"FV\"><i>suggested</i><c>suggest</c></NS> you <NS type=\"FV\"><i>to walk</i><c>walk</c></NS> along New Street, which is the one next to <NS type=\"MD\"><c>the</c></NS> river, and in 10 minutes you will see the hotel <NS type=\"RT\"><i>in</i><c>on</c></NS> your <NS type=\"MP\"><i>right hand</i><c>right-hand</c></NS> side. The hotel is just opposite <NS type=\"UT\"><i>to</i></NS> the City Hospital.</p>\n<p>As you <NS type=\"W\"><i>already possibly</i><c>possibly already</c></NS> know, the end-of-conference party will take place <NS type=\"RT\"><i>at</i><c>in</c></NS> the main reception room at the same hotel. You should be there by 7 o'clock in the evening. <NS type=\"FV\"><i>Answering</i><c>To answer</c></NS> your question, you should be fine wearing casual clothes. However, if you wish to dress smarter, there is no problem at all.</p>\n<p>With reference to the last afternoon, if I were you I would visit the City Museum. There are many interesting works of art by famous painters of this country. If you have any time left you ought to go to the High Street, where you could go shopping.</p>\n<p>Please, do not hesitate to contact me at the above address if you need any further information.</p>\n<p>I look forward to meeting you at the Conference.</p>\n<p>Yours sincerely,</p>\n</coded_answer>",
         "4.2",
         "<coded_answer>\n<p>INVENTIONS HAVE AFFECTED ALL OUR LIVES!</p>\n<p><NS type=\"W\"><i>The invention without <NS type=\"RQ\"><i>no</i><c>any</c></NS> doubt</i><c>Without any doubt the invention</c></NS><NS type=\"UP\"><i>,</i></NS> that has affected my own life <NS type=\"RY\"><i>by far</i><c>the most</c></NS> is the car. Cars have definitely changed all our lives, and I am not <NS type=\"RV\"><NS type=\"IV\"><i>refering</i><c>referring</c></NS></NS> only in a positive way, but in a negative way as well. Picture this: a big city such as London or New York with no cars on their streets. <NS type=\"TV\"><i>Could</i><c>Can</c></NS> you imagine it? To be honest, I can't. Cars are part of our daily lives. Traffic jams make people <NS type=\"RJ\"><i>nervous</i><c>irritable</c></NS>, <NS type=\"MC\"><c>and</c></NS> sometimes really upset and violent. But<NS type=\"UP\"><i>,</i></NS> <NS type=\"W\"><i>anyway, people use cars</i><c>people use cars, anyway</c></NS>.</p>\n<p>If we don't use them we suffer <NS type=\"RT\"><i>from</i><c>because of</c></NS> them. In my case I use public transport during the week to go to work but I could hardly imagine my weekends without my beloved car. I really need it to escape from the pollution, mainly caused by cars and <NS type=\"UQ\"><i>any</i></NS> other four-wheel <NS type=\"DJ\"><i>motored</i><c>motor</c></NS> <NS type=\"FN\"><i>vehicle</i><c>vehicles</c></NS>. Isn't that <NS type=\"RJ\"><i><NS type=\"DJ\"><i>contradictorious</i><c>contradictory</c></NS></i><c>ironic</c></NS>? To go to the countryside and <NS type=\"FV\"><i>being</i><c>be</c></NS> able to <NS type=\"DV\"><i>breath</i><c>breathe</c></NS> fresh, <NS type=\"DJ\"><i>non-polluted</i><c>unpolluted</c></NS> air, I use my car, which, <NS type=\"ID\"><i>as far as I am concerned</i><c>in my opinion</c></NS><NS type=\"MP\"><c>,</c></NS> does not help to maintain a clean <NS type=\"RN\"><i>air</i><c>atmosphere</c></NS> at all.</p>\n<p>Therefore I am thinking <NS type=\"RT\"><i>in</i><c>of</c></NS> selling my car, which has changed my life over the last 10 years, which has given me a kind of freedom, which has gone with me to all <NS type=\"AGN\"><i>sort</i><c>sorts</c></NS> of fantastic places, and <NS type=\"TV\"><i>change</i><c>changed</c></NS> my life for a new life: <NS type=\"S\"><i>whithout</i><c>without</c></NS> <NS type=\"MD\"><c>a</c></NS> car.</p>\n</coded_answer>",
         "5.2",
         "36.0",
         "Catalan",
         "21-25"
        ],
        [
         "9",
         "doc3070.xml",
         "0100_2001_6",
         "TE45*0100*2001*01",
         "<coded_answer>\n<p>Dear Mrs M. Smith,</p>\n<p>I am writing in order to reply to your letter and to give you all the information that you requested.</p>\n<p>First of all the hotel is the Palace Hotel, 82 Regent Street, so <NS type=\"UA\"><i>that</i></NS> it is very easy to reach the conference. In fact you can take the <NS type=\"W\"><i>bus number 3</i><c>number 3 bus</c></NS>; as you can see, the bus stop is just in front of the hotel, then you can get off immediately after the church that you pass, on your right <NS type=\"UN\"><i>hand</i></NS>.</p>\n<p>Secondly, we will have the party in the hotel at 8.00 o'clock and a buffet will be served at 8.30 p.m. It <NS type=\"TV\"><i>would</i><c>will</c></NS> <NS type=\"W\"><i>be also</i><c>also be</c></NS> possible to get some vegetarian food and drink cocktails free of charge. I would recommend your students <NS type=\"FV\"><i>to bring</i><c>bring</c></NS> their Identity <NS type=\"FN\"><i>Card</i><c>Cards</c></NS> to prove their age. What is more, I would suggest <NS type=\"FV\"><i>to wear</i><c>wearing</c></NS> very smart <NS type=\"RN\"><i>dress</i><c>clothes</c></NS> and for men <NS type=\"AS\"><i>it is <NS type=\"DJ\"><i><NS type=\"S\"><i>oblidged</i><c>obliged</c></NS></i><c>obligatory</c></NS> <NS type=\"RD\"><i>the</i><c>a</c></NS> tie</i><c>a tie is obligatory</c></NS>.</p>\n<p>Finally, if I were you I would go shopping <NS type=\"RT\"><i>to</i><c>in</c></NS> the City Centre <NS type=\"R\"><i>to spend</i><c>in</c></NS> your last hours. However, if <NS type=\"MP\"><i>you re</i><c>you're</c></NS> interested in <NS type=\"RP\"><i><NS type=\"SA\"><i>Archeology</i><c>Archaeology</c></NS></i><c>archaeology</c></NS> you should <NS type=\"S\"><i>vitis</i><c>visit</c></NS> the History Museum in Garden Square.</p>\n<p>I hope you will find my letter of interest and I look forward to seeing you.</p>\n<p>Yours Sincerely,</p>\n</coded_answer>",
         "5.1",
         "<coded_answer>\n<p>Have you ever thought <NS type=\"MT\"><c>of</c></NS> <NS type=\"FV\"><i>to live</i><c>living</c></NS> without your car?</p>\n<p>How can you manage your daily life without it?</p>\n<p><NS type=\"R\"><i>I</i><c>In</c></NS> the last <NS type=\"S\"><i>fourty</i><c>forty</c></NS> years people seem to <NS type=\"RV\"><i>be</i><c>have become</c></NS> completely addicted <NS type=\"RT\"><i>by</i><c>to</c></NS> using their <NS type=\"UJ\"><i>own</i></NS> car. It is said that the majority of <NS type=\"UD\"><i>the</i></NS> citizens <NS type=\"AGV\"><i>has</i><c>have</c></NS> got a car and unfortunately this is the reason why cities are <NS type=\"L\"><i>getting</i><c>becoming</c></NS> more polluted.</p>\n<p>On the other hand, this kind of <NS type=\"RN\">facility</NS> has made our life more comfortable and <NS type=\"FJ\"><i>easy</i><c>easier</c></NS>. In fact we can go everywhere sitting either with friends or with our family and <NS type=\"IV\"><i>carring</i><c>carrying</c></NS> <NS type=\"MD\"><c>our</c></NS> <NS type=\"S\"><i>lugguage</i><c>luggage</c></NS> and shopping bags. Cars are able to cover not only short distance but also can be used for long <NS type=\"FN\"><i>journey</i><c>journeys</c></NS>. For example, in the past it would had been extremely exhausting <NS type=\"FV\"><i>travelling</i><c>to travel</c></NS> <NS type=\"R\"><i>riding</i><c>on</c></NS> a <NS type=\"S\"><i>hourse</i><c>horse</c></NS> but nowadays we have lots of big and spacious cars and a wide range of <NS type=\"DN\"><i>optionals</i><c>options</c></NS> to choose <NS type=\"RT\"><i>with</i><c>from</c></NS>.</p>\n<p>However, I have to say that it has made people <NS type=\"UV\"><i>be</i></NS> lazy and at the same time stressed due to the traffic. On the other hand one of the main advantages is that we can save time and money as cars have <NS type=\"R\">long last</NS> and <NS type=\"S\"><i>allowe</i><c>allow</c></NS> us <NS type=\"RV\"><i><NS type=\"FV\"><i>travelling</i><c>to travel</c></NS></i><c>to get about</c></NS> quickly.</p>\n<p>That's why I couldn't <NS type=\"SX\"><i>image</i><c>imagine</c></NS> my life without <NS type=\"RA\"><i>it</i><c>one</c></NS>.</p>\n</coded_answer>",
         "3.3",
         "31.0",
         "Italian",
         "21-25"
        ],
        [
         "10",
         "doc3156.xml",
         "0100_2001_6",
         "TE67*0100*2001*01",
         "<coded_answer>\n<p><NS type=\"MJ\"><c>Dear</c></NS> Mrs Maria Smith,</p>\n<p>I'm pleased to be able to help you <NS type=\"RT\"><i>for</i><c>with</c></NS> the international student conference.</p>\n<p>The hotel <NS type=\"RT\"><i>in</i><c>into</c></NS> which the group has been booked <NS type=\"UT\"><i>to</i></NS> is the Palace <NS type=\"RP\"><i>hotel</i><c>Hotel</c></NS>, which is situated near the big bridge of Mont Blanc.</p>\n<p>To get from the hotel to the conference, you have to take the highway <NS type=\"MD\"><i><NS type=\"RP\"><i>indirection</i><c>in direction</c></NS></i><c>in the direction</c></NS> of Lausanne, and after nearly half an hour of driving you come out at the place which is <NS type=\"RV\">indicated</NS> with Coppet, Divonne. When you come out, just go <NS type=\"U\"><i>on your</i></NS> right, and then turn left to follow the <NS type=\"RN\"><i>indications</i><c>directions</c></NS> to the Châtaigneroie <NS type=\"RP\"><i>school</i><c>School</c></NS>.</p>\n<p>The end-of-conference party will take place at the same place. Some musicians will play classical music, and there will be many different drinks and food.</p>\n<p><NS type=\"RP\"><i>you</i><c>You</c></NS> should wear <NS type=\"UQ\"><i>some</i></NS> formal clothes, but not <NS type=\"DY\"><i>necessary</i><c>necessarily</c></NS> really pretty clothes<NS type=\"MP\"><c>.</c></NS></p>\n<p>For three hours, you could visit the museum of the Red Cross, which is very interesting.</p>\n<p>I hope that <NS type=\"AGD\"><i>these</i><c>this</c></NS> <NS type=\"CN\"><i>informations</i><c>information</c></NS> will help you<NS type=\"MP\"><c>.</c></NS></p>\n<p>Sincerely yours,</p>\n</coded_answer>",
         "4.1",
         "<coded_answer>\n<p>The <NS type=\"RJ\"><i>portable</i><c>mobile</c></NS> phone, a very useful invention!</p>\n<p>During all <NS type=\"MP\"><i>mankind</i><c>mankind's</c></NS> history, there were <NS type=\"RN\"><NS type=\"DN\"><i>discovers</i><c>discoverers</c></NS></NS> who tried to make human life better, but it is in the last century that <NS type=\"AS\"><i>there were the <NS type=\"IJ\"><i>most biggest</i><c>biggest</c></NS> discoveries made</i><c>the biggest discoveries were made</c></NS>.</p>\n<p>When the phone without <NS type=\"MD\"><c>a</c></NS> cable was invented, one wasn't sure if it would be a success or not. But the research went on, and the <NS type=\"RJ\"><i>portable</i><c>mobile</c></NS> phone is <NS type=\"W\"><i>getting always</i><c>always getting</c></NS> smaller and more useful.</p>\n<p>The <NS type=\"RJ\"><i>portable</i><c>mobile</c></NS> phone is an important invention, because nearly everybody has one, and so one can always call somebody if there is a problem.</p>\n<p>Moreover, some <NS type=\"RJ\"><i>portable</i><c>mobile</c></NS> phones have a connection to the <NS type=\"RP\"><i>web</i><c>Web</c></NS>, so it is easy to read <NS type=\"MD\"><c>the</c></NS> newspapers if one hasn't enough money to buy <NS type=\"AGA\"><i>it</i><c>them</c></NS>.</p>\n<p>Personally, the <NS type=\"RJ\"><i>portable</i><c>mobile</c></NS> phone has affected my own life, because when somebody is phoning <NS type=\"MA\"><c>me</c></NS> at home, I don't have to rush to <NS type=\"RV\"><i>take</i><c>get</c></NS> the phone, being afraid that <NS type=\"R\">it's too late</NS>.</p>\n<p>I recommend this extremely important invention to those who still don't have a <NS type=\"RJ\"><i>portable</i><c>mobile</c></NS> phone.</p>\n</coded_answer>",
         "4.2",
         "31.0",
         "French",
         "16-20"
        ],
        [
         "11",
         "doc3157.xml",
         "0100_2001_6",
         "TE68*0100*2001*01",
         "<coded_answer>\n<p>Dear Maria,</p>\n<p>I would be pleased to help you <NS type=\"RT\"><i>about</i><c>with</c></NS> all your questions and I will provide you <NS type=\"MT\"><c>with</c></NS> <NS type=\"RD\"><i>some</i><c>the</c></NS> information which you need as <NS type=\"RY\"><i>much</i><c>far</c></NS> as I can.</p>\n<p>I would like to inform you that Centeral Red Lion Hotel has been booked for the <NS type=\"S\"><i>accomadation</i><c>accommodation</c></NS> of the group and it will be quite easy to get <NS type=\"RP\"><i>every where</i><c>everywhere</c></NS> <NS type=\"W\"><i>from the hotel on foot</i><c>on foot from the hotel</c></NS> during your stay.</p>\n<p>As you know<NS type=\"MP\"><c>,</c></NS> <NS type=\"UC\"><i>that</i></NS> we <NS type=\"TV\"><i>arrange</i><c>are arranging</c></NS> an evening party on the third day of the week, we can say that <NS type=\"MA\"><c>it</c></NS> <NS type=\"MV\"><c>is</c></NS> a kind of relaxation time. Nothing will be <NS type=\"RJ\"><NS type=\"S\"><i>spacial</i><c>special</c></NS></NS>. <NS type=\"MD\"><i>Place</i><c>The place</c></NS> is <NS type=\"MD\"><c>the</c></NS> <NS type=\"RP\"><i>College</i><c>college</c></NS> garden. <NS type=\"MD\"><i>Time</i><c>The time</c></NS> is 7 pm. There is no need to bother <NS type=\"MY\"/> about <NS type=\"S\"><i>clouths</i><c>clothes</c></NS>. Everybody can <NS type=\"RV\"><i>put on</i><c>wear</c></NS> something casual.</p>\n<p><NS type=\"S\"><i>Befor</i><c>Before</c></NS> <NS type=\"MA\"><c>you</c></NS> <NS type=\"S\"><i>leav</i><c>leave</c></NS> <NS type=\"UT\"><i>from</i></NS> England<NS type=\"MP\"><c>,</c></NS> I suggest you <NS type=\"TV\"><i>to visit</i><c>visit</c></NS> the <NS type=\"S\"><i>cannals</i><c>canals</c></NS> and small villages around Basingstoke. You could <NS type=\"RV\"><i>find</i><c>have</c></NS> the <NS type=\"S\"><i>opportunaty</i><c>opportunity</c></NS> to see the country life.</p>\n<p>Yours sincerely,</p>\n</coded_answer>",
         "3.1",
         "<coded_answer>\n<p>Time flies</p>\n<p>I have to admit that whoever invented <NS type=\"UD\"><i>the</i></NS> cars and transportation vehicles <NS type=\"RV\"><i>did</i><c>came up with</c></NS> the most <NS type=\"RJ\">respectable</NS> <NS type=\"FN\"><i>invention</i><c>inventions</c></NS> of the <NS type=\"RN\"><i>word</i><c>world</c></NS>. I say that <NS type=\"AGA\"><i>it</i><c>they</c></NS> must be the most important <NS type=\"FN\"><i>thing</i><c>things</c></NS> for us because they <NS type=\"RV\">save</NS> our <NS type=\"CN\"><i>times</i><c>time</c></NS> passing so fast.</p>\n<p>Can you <NS type=\"RV\">deny</NS> how quickly we get somewhere by car or by bus<NS type=\"RP\"><i>.</i><c>?</c></NS> <NS type=\"M\"><i><NS type=\"RP\"><i>May be</i><c>Maybe</c></NS></i><c>It is maybe</c></NS> 10 times as quick as getting somewhere on foot. Try to imagine your life without having <NS type=\"RP\"><i>anyof</i><c>any of</c></NS> them. Wouldn't <NS type=\"MA\"><c>it</c></NS> be <NS type=\"S\"><i>unbarable</i><c>unbearable</c></NS> and <NS type=\"RJ\">painful</NS><NS type=\"RP\"><i>.</i><c>?</c></NS></p>\n<p><NS type=\"S\"><i>Ceartainly</i><c>Certainly</c></NS> it would be just like mine<NS type=\"UP\"><i>. Because</i><c> because</c></NS> I live in a rural area<NS type=\"MP\"><c>,</c></NS> far from any village, town, or city <NS type=\"SA\"><i>center</i><c>centre</c></NS>. <NS type=\"MV\"><i>The</i><c>To reach the</c></NS> nearest civilization takes me 1 hour on foot. I have no car, <NS type=\"MC\"><c>and</c></NS> no local bus service to use. Even <NS type=\"IV\"><i>comeing</i><c>coming</c></NS> to Basingstoke seems like <NS type=\"FD\"><i>a</i><c>an</c></NS> international journey to me. And <NS type=\"DY\"><i>ofcause</i><c>of course</c></NS> this stops me <NS type=\"CE\">everytime to live sociable life</NS>. But also I'm aware <NS type=\"UT\"><i>of</i></NS> that <NS type=\"UD\"><i>the</i></NS> time flies for me. I must do whatever I want <NS type=\"S\"><i>befor</i><c>before</c></NS> it is too late. And I have to confess the invention of the car was the most <NS type=\"DJ\"><i>usefull</i><c>useful</c></NS> invention for <NS type=\"UD\"><i>the</i></NS> humanity.</p>\n</coded_answer>",
         "2.2",
         "23.0",
         "Turkish",
         "21-25"
        ],
        [
         "12",
         "doc3074.xml",
         "0100_2001_6",
         "TE48*0100*2001*01",
         "<coded_answer>\n<p>Dear Mrs Maria Smith,</p>\n<p>I am <NS type=\"RJ\"><i>afraid</i><c>sorry</c></NS> to hear that Mr. Brown is ill<NS type=\"MP\"><c>.</c></NS> I hope it <NS type=\"TV\"><i>won't be</i><c>isn't</c></NS> <NS type=\"RJ\"><i>grave</i><c>serious</c></NS>. However, I will be glad to give you as much information as you need and I hope you will find it helpful.</p>\n<p><NS type=\"RP\"><i>the</i><c>The</c></NS> name of the hotel in which the group is going to stay <NS type=\"UT\"><i>in</i></NS> is <NS type=\"MD\"><c>the</c></NS> Palace Hotel<NS type=\"RP\"><i>, to</i><c>. To</c></NS> get there you must go to the centre of town<NS type=\"RP\"><i>, all</i><c>. All</c></NS> <NS type=\"MD\"><c>the</c></NS> buses <NS type=\"TV\"><i>are going</i><c>go</c></NS> there<NS type=\"RP\"><i>,</i><c>.</c></NS> Once you are in the centre<NS type=\"M\"><c>, the</c></NS> Palace Hotel is right in front of the tourism information office.</p>\n<p>For the end-of-conference party we have booked one of the halls of the hotel and they will provide us <NS type=\"MT\"><c>with</c></NS> <NS type=\"DJ\"><i>life</i><c>live</c></NS> music and <NS type=\"S\"><i>cattering</i><c>catering</c></NS>. Due the hotel <NS type=\"FV\"><i>is</i><c>being</c></NS> such an elegant place I would suggest <NS type=\"FV\"><i>to dress</i><c>dressing</c></NS> up in <NS type=\"DN\"><i>night clothes</i><c>evening dress</c></NS>.</p>\n<p>Finally, to fill your free afternoon I would <NS type=\"RY\"><i>hardly</i><c>definitely</c></NS> <NS type=\"S\"><i>recomend</i><c>recommend</c></NS> <NS type=\"FV\"><i>to visit</i><c>visiting</c></NS> the cathedral and <NS type=\"FV\"><i>have</i><c>having</c></NS> a walk <NS type=\"S\"><i>arround</i><c>around</c></NS> the old part of the city<NS type=\"RP\"><i>, if</i><c>. If</c></NS> you <NS type=\"RV\"><i>like</i><c>want</c></NS><NS type=\"MP\"><c>,</c></NS> it will be my pleasure to show you the <NS type=\"RN\"><i><NS type=\"S\"><i>souroundings</i><c>surroundings</c></NS></i><c>area</c></NS>.</p>\n<p>Yours sincerely,</p>\n</coded_answer>",
         "3.2",
         "<coded_answer>\n<p>Chairs are not only part of the <NS type=\"S\"><i>forniture</i><c>furniture</c></NS>, they are also objects of <NS type=\"RN\">decoration</NS> and you can even find some in museums <NS type=\"R\"><i>as</i><c>where they are</c></NS> art <NS type=\"RN\"><i>symbols</i><c>objects</c></NS>.</p>\n<p>Who could have invented such a useful item? In fact, nobody has got <NS type=\"RD\"><i>this</i><c>an</c></NS> <NS type=\"RN\"><i>clue</i><c>idea</c></NS>, but it must have been the most clever person on earth!</p>\n<p><NS type=\"RP\"><i>the</i><c>The</c></NS> world is packed with so many <NS type=\"S\"><i>tipes</i><c>types</c></NS> of chairs, from the common <NS type=\"S\"><i>woden</i><c>wooden</c></NS> ones to the most <NS type=\"DJ\"><i>sophisticate</i><c>sophisticated</c></NS> and <NS type=\"IJ\"><i>comfortables</i><c>comfortable</c></NS> <NS type=\"R\">others finding a <NS type=\"SX\"><i>baste</i><c>basic</c></NS> range of prices</NS>.</p>\n<p>From my point of view the chair is without a doubt the most <NS type=\"DJ\"><i>usefull</i><c>useful</c></NS> gadget ever invented. Some people use them in their work, others <NS type=\"TV\"><i>are wishing</i><c>wish</c></NS> to <NS type=\"RV\"><i>get</i><c>sit</c></NS> <NS type=\"MT\"><c>in</c></NS> one by the end of the day and for some other people a <NS type=\"RP\"><i><NS type=\"SX\"><i>while</i><c>wheel</c></NS> chair</i><c>wheelchair</c></NS> represents the <NS type=\"R\">possibility of <NS type=\"S\"><i>mouvement</i><c>movement</c></NS></NS>. Although <NS type=\"MA\"><c>it</c></NS> is worth <NS type=\"FV\"><i>to say</i><c>saying</c></NS> that not everybody can <NS type=\"RV\"><NS type=\"FV\"><i>chose</i><c>choose</c></NS></NS> his ideal chair there is a special one for each of us.</p>\n</coded_answer>",
         "3.1",
         "25.0",
         "Catalan",
         "21-25"
        ],
        [
         "13",
         "doc3068.xml",
         "0100_2001_6",
         "TE44*0100*2001*01",
         "<coded_answer>\n<p>Dear Mrs Smith</p>\n<p>I have received your letter, which was about <NS type=\"CE\">that you would like me to inform you</NS>.</p>\n<p>As you know, a hotel <NS type=\"UN\"><i>whose name</i></NS> <NS type=\"RV\"><i>is</i><c>called</c></NS> <NS type=\"MD\"><c>the</c></NS> Palace Hotel has been booked for your group. The best way to get from there to the conference is to take a taxi. I am afraid there are no buses to get there.</p>\n<p>We will have a great party at the end of the conference. The party will be formal, therefore you <NS type=\"TV\"><i>have</i><c>will have</c></NS> to wear formal clothes like a suit or a dress. As you know, it is not suitable to wear <NS type=\"UD\"><i>a</i></NS> <NS type=\"IN\"><i>jean</i><c>jeans</c></NS> or something <NS type=\"MJ\"><c>similar</c></NS>.</p>\n<p>On your last day you have <NS type=\"RD\"><i>an</i><c>the</c></NS> afternoon free. In my area there is a fantastic park, which is the most famous park in the country. You can find a lot of things to do or to see. You can visit the zoo or walk around the amazing lake in the park.</p>\n<p>I hope you will find all the details<NS type=\"UP\"><i>,</i></NS> which you would like to have in the letter. If you need any <NS type=\"MY\"><c>more</c></NS> information, please let me know.</p>\n<p><NS type=\"DA\"><i>Your</i><c>Yours</c></NS> <NS type=\"RP\"><i>Sincerely</i><c>sincerely</c></NS>,</p>\n</coded_answer>",
         "3.3",
         "<coded_answer>\n<p><NS type=\"MD\"><c>The</c></NS> Power Of Computurs.</p>\n<p>How much can a computer affect your life? I think it <NS type=\"RV\"><i>effects</i><c>affects</c></NS> <NS type=\"MA\"><c>you</c></NS> more than you think.</p>\n<p>When I was a child I always wanted to get the lyrics of the songs that I liked, but it was nearly impossible to have them. I felt <NS type=\"MD\"><c>the</c></NS> lack of them. I first bought a computer <NS type=\"R\"><i>as</i><c>when</c></NS> I was in university. It was <NS type=\"RY\"><i>so</i><c>very</c></NS> necessary for me because I wanted to be a computer programmer. <NS type=\"MT\"><c>At</c></NS> <NS type=\"RP\"><i>That</i><c>that</c></NS> time I <NS type=\"RV\"><i>met</i><c>entered</c></NS> the magic world of computers. Linking to the <NS type=\"RP\"><i>internet</i><c>Internet</c></NS> was so popular. <NS type=\"MD\"><c>The</c></NS> Internet was something amazing for me. Can you <NS type=\"RV\"><i>think</i><c>imagine</c></NS> you have every <NS type=\"MN\"><c>piece</c></NS> <NS type=\"MT\"><c>of</c></NS> information you need whenever you want <NS type=\"MA\"><c>it</c></NS>? Can you <NS type=\"RV\"><i>think</i><c>imagine</c></NS> you <NS type=\"MV\"><c>can</c></NS> contact <NS type=\"UT\"><i>with</i></NS> anyone who is from any country whenever you want <NS type=\"MT\"><c>to</c></NS>?</p>\n<p>I meet a lot of people on <NS type=\"MD\"><c>the</c></NS> <NS type=\"RP\"><i>internet</i><c>Internet</c></NS> and it really <NS type=\"AGV\"><i>interest</i><c>interests</c></NS> me. I learn a lot about their culture by speaking <NS type=\"MT\"><c>to</c></NS> them on <NS type=\"MD\"><c>the</c></NS> <NS type=\"RP\"><i>internet</i><c>Internet</c></NS>. I wasn't able to imagine this before. In addition <NS type=\"MT\"><c>to</c></NS> this, today companies can do nothing without a computer. Everything in this world <NS type=\"TV\"><i>works</i><c>will work</c></NS> with computers from now on.</p>\n<p>Computers <NS type=\"TV\"><i>changed</i><c>have changed</c></NS> my <NS type=\"RP\"><i>life style</i><c>lifestyle</c></NS>, my <NS type=\"FN\"><i>opinion</i><c>opinions</c></NS> about the world. And they <NS type=\"RV\"><i>effect</i><c>affect</c></NS> everyone's life directly or indirectly.</p>\n</coded_answer>",
         "3.2",
         "26.0",
         "Turkish",
         "21-25"
        ],
        [
         "14",
         "doc3099.xml",
         "0100_2001_6",
         "TE53*0100*2001*01",
         "<coded_answer>\n<p>Dear Mrs Smith<NS type=\"RP\"><i>:</i><c>,</c></NS></p>\n<p>I have received your letter which informs me you are now in charge of the group of students attending the international conference.</p>\n<p>It is my pleasure to help you with the information you need.</p>\n<p>Your group has been booked into The Palace Hotel, located on the <NS type=\"RP\"><i>High</i><c>high</c></NS> street, opposite <NS type=\"UT\"><i>to</i></NS> the <NS type=\"RP\"><i>Post Office</i><c>post office</c></NS>.</p>\n<p>The conference will be <NS type=\"TV\"><i>hold</i><c>held</c></NS> in The Royal Hall, and the best way to get there from the hotel is by bus. Take the 67 route and it will take you just in front of The Royal Hall.</p>\n<p>The end-of-conference party will be hold in Francescos Restaurant, just by The Royal Hall. You should wear casual clothes.</p>\n<p>About what you can do in the area <NS type=\"RT\"><i>for</i><c>in</c></NS> the free time you have, I would suggest you <NS type=\"TV\"><i>to visit</i><c>visit</c></NS> <NS type=\"RP\"><i>The</i><c>the</c></NS> Modern Art Museum which <NS type=\"W\"><i>has now</i><c>now has</c></NS> a new exhibition. Another suggestion could be to visit the zoo, or just walk through <NS type=\"UD\"><i>the</i></NS> Spring Gardens<NS type=\"MP\"><c>,</c></NS> which are beautiful <NS type=\"RT\"><i>in</i><c>at</c></NS> this time of the year.</p>\n<p>I hope all this information is helpful for you.</p>\n<p>Yours sincerely,</p>\n</coded_answer>",
         "5.1",
         "<coded_answer>\n<p>The <NS type=\"RP\"><i>Telephone</i><c>telephone</c></NS>: <NS type=\"RP\"><i>A</i><c>a</c></NS> great invention.</p>\n<p>Imagine your life without a telephone. Yes, I know, it is <NS type=\"RY\"><i>just</i><c>very</c></NS> hard to imagine our lives without this invention.</p>\n<p>Think about the people living <NS type=\"RT\"><i>in</i><c>at</c></NS> the time it was invented. <NS type=\"MA\"><i>Must</i><c>It must</c></NS> <NS type=\"TV\"><i>had been</i><c>have been</c></NS> such <NS type=\"FD\"><i>a</i><c>an</c></NS> exciting thing being able to talk to someone living thousands of miles <NS type=\"DY\"><i>for</i><c>away</c></NS>........ and now for us <NS type=\"MA\"><c>it</c></NS> is just as simple as <NS type=\"FV\"><i>dial</i><c>dialling</c></NS> a number and <NS type=\"FV\"><i>talk</i><c>talking</c></NS> to whoever we want to.</p>\n<p>Of course <NS type=\"MA\"><c>it</c></NS> is nice to have a phone conversation with friends or family, but the telephone is also very important for business and emergencies.</p>\n<p>For example, I work for a bank, and we need to have weekly meetings with our Director living 800 <NS type=\"SA\"><i>kilometers</i><c>kilometres</c></NS> <NS type=\"RY\"><i>far</i><c>away</c></NS>, and he doesn't have to come here, we just have a phone conference where everybody can <NS type=\"FV\"><i>talks</i><c>talk</c></NS>, and that is it!</p>\n<p>What about emergencies? A phone call in time for an ambulance can save the <NS type=\"FN\"><i>life</i><c>lives</c></NS> of many people having a heart attack.</p>\n<p>We sometimes don't realize the importance of some inventions we use in our everyday life.</p>\n<p>But think....<NS type=\"UP\"><i>,</i></NS> what would we do without them!</p>\n</coded_answer>",
         "5.1",
         "35.0",
         "Spanish",
         "21-25"
        ],
        [
         "15",
         "doc3252.xml",
         "0100_2001_6",
         "TE85*0100*2001*01",
         "<coded_answer>\n<p>Dear Mrs Smith,</p>\n<p>I <NS type=\"TV\"><i>have <NS type=\"S\"><i>recieved</i><c>received</c></NS></i><c>received</c></NS> your letter this morning. I am sorry to hear that Richard is ill and is unable to <NS type=\"RV\"><i>attempt</i><c>attend</c></NS> the conference; I am glad that you are able to be the leader of the group. I hope that <NS type=\"CD\"><i>these</i><c>the</c></NS> <NS type=\"CN\"><i>informations</i><c>information</c></NS> below <NS type=\"AGV\"><i>are</i><c>is</c></NS> very useful to you, during your <NS type=\"RN\"><i>attempt</i><c>attendance</c></NS> <NS type=\"RT\"><i>of</i><c>at</c></NS> <NS type=\"MD\"><c>the</c></NS> conference.</p>\n<p>I have booked a hotel not far <NS type=\"UY\"><i>off</i></NS> from our school. The hotel is called <NS type=\"MD\"><c>the</c></NS> Epsom Down Hotel. Your plane will arrive in England by 9:00. There will be a coach waiting for you, and the driver will be next to the information desk. You should arrive at the hotel by 11:00. You will <NS type=\"SX\"><i>than</i><c>then</c></NS> have an hour to check in and unpack all your luggage. The conference will start on time at 12:30, so I would suggest you <NS type=\"FV\"><i>to leave</i><c>leave</c></NS> <NS type=\"MD\"><c>the</c></NS> hotel by 12:00. The best way to get to the conference is to follow <NS type=\"UT\"><i>along</i></NS> the <NS type=\"RN\"><i>collage</i><c>college</c></NS> road and turn left toward the end<NS type=\"RP\"><i>, you</i><c>. You</c></NS> <NS type=\"SX\"><i>than</i><c>then</c></NS> keep going straight<NS type=\"RP\"><i>, you</i><c>. You</c></NS> will eventually see the main entrance <NS type=\"RT\"><i>of</i><c>to</c></NS> the <NS type=\"RN\"><i>collage</i><c>college</c></NS>. When you get into the college you can just ask any boys in the college where to go from then. They all <NS type=\"AGV\"><i>knows</i><c>know</c></NS> where the conference is and when.</p>\n<p>At the end of the conference, we will have a party. The party is to let all the students <NS type=\"FV\"><i><NS type=\"MV\"><c>to get</c></NS></i><c>get</c></NS> to know each other better. The party will be in the dance hall next to the conference room. I <NS type=\"TV\"><i>will</i><c>would</c></NS> <NS type=\"S\"><i>suggust</i><c>suggest</c></NS> <NS type=\"RA\"><i>them</i><c>they</c></NS> <NS type=\"FV\"><i>to wear</i><c>wear</c></NS> formal clothing, <NS type=\"RT\"><i>as in</i><c>such as</c></NS> tie, trousers and <NS type=\"S\"><i>blaser</i><c>blazer</c></NS>.</p>\n<p>For the afternoon free time on the last day<NS type=\"RP\"><i>. There</i><c>, there</c></NS> are a wide variety of choices <NS type=\"M\"><c>in the things</c></NS> that they can do. They can play tennis, do athletics, <NS type=\"FV\"><i>swimming</i><c>swim</c></NS>... and many other sports <NS type=\"RN\"><i><NS type=\"AGN\"><i>event</i><c>events</c></NS></i><c>activities</c></NS> in our school, if they want to. Or they can also visit <NS type=\"UD\"><i>the</i></NS> Epsom Town. There are shops which <NS type=\"DV\"><i>sales</i><c>sell</c></NS> <NS type=\"RN\"><i>cloths</i><c>clothes</c></NS>, <NS type=\"FN\"><i>foods</i><c>food</c></NS>, and books ... They can decide what they want to do<NS type=\"RP\"><i>, it's</i><c>. It's</c></NS> entirely up to them.</p>\n<p>I am looking forward to seeing you and <NS type=\"RV\"><i>hop</i><c>hope</c></NS> you have a safe flight over to England.</p>\n<p><NS type=\"DA\"><i>Your</i><c>Yours</c></NS> sincerely,</p>\n</coded_answer>",
         "5.1",
         "<coded_answer>\n<p>Dear group leader,</p>\n<p>Welcome to Taiwan. This report is <NS type=\"RV\">based</NS> on an interesting building, where you can take<NS type=\"UP\"><i>,</i></NS> <NS type=\"UT\"><i>for</i></NS> your students <NS type=\"UV\"><i>to visit</i></NS>. This building is situated in Taipei, the capital. The building is called <NS type=\"MD\"><c>the</c></NS> Chiang Kei-shek <NS type=\"S\"><i>Momerial</i><c>Memorial</c></NS> Hall. Nearly everyone knows where this building is, so if you have a chance, just ask the local people in Taipei about this building.</p>\n<p>The <NS type=\"RP\"><i><NS type=\"S\"><i>momerial</i><c>memorial</c></NS></i><c>Memorial</c></NS> Hall is surrounded by large playgrounds. As you go into the main Hall, you will see a huge statue of Chiang Kei-shek<NS type=\"RP\"><i>, this</i><c>. This</c></NS> is because the building is the <NS type=\"RN\"><NS type=\"S\"><i>rememberence</i><c>remembrance</c></NS></NS> of how <NS type=\"R\">well Chiang did in History</NS>. The statue is about 20 feet high. <NS type=\"U\"><i>Next to the</i><c>The</c></NS> statue is protected by <NS type=\"UD\"><i>the</i></NS> guards<NS type=\"RP\"><i>, the</i><c>. The</c></NS> guards will change every four hours.</p>\n<p>Apart from the main Hall, there are also lots of other <NS type=\"S\"><i>gallaries</i><c>galleries</c></NS>. In these <NS type=\"S\"><i>gallaries</i><c>galleries</c></NS> there are <NS type=\"RJ\">Historical</NS> paintings<NS type=\"R\"><i>,</i><c> and</c></NS> antique <NS type=\"CN\"><i>furnitures</i><c>furniture</c></NS> which Chiang used. These <NS type=\"AGN\"><i>treasure</i><c>treasures</c></NS> are very old, even older than the history of America. All these treasures were brought over to Taiwan by Chiang <NS type=\"R\">during the defeat in</NS> China. They are all <NS type=\"FV\"><i>been</i><c>being</c></NS> well <NS type=\"TV\"><i>look</i><c>looked</c></NS> after.</p>\n<p>As well as all the treasures, <NS type=\"AGN\"><i>statue</i><c>statues</c></NS> and <NS type=\"RJ\">historical</NS> paintings...<NS type=\"RP\"><i>There</i><c>there</c></NS> are also <NS type=\"UP\"><i><NS type=\"S\"><i>restaurent's</i><c>restaurant's</c></NS></i><c>restaurants</c></NS> and modern <NS type=\"S\"><i>gallaries</i><c>galleries</c></NS>. When you are tired after looking around you might want to buy drinks or something to eat, or if you are fed up with <NS type=\"RJ\">historical</NS> <NS type=\"FN\"><i>thing</i><c>things</c></NS>, you <NS type=\"S\"><i>migh</i><c>might</c></NS> as well just pop into the modern gallery to see things which are more modern.</p>\n<p>Finally, if you <NS type=\"RV\"><i>went</i><c>want</c></NS> to visit this building I <NS type=\"TV\"><i>will</i><c>would</c></NS> recommend you <NS type=\"FV\"><i>to stay</i><c>stay</c></NS> at a hotel not far from the <NS type=\"S\"><i>momerial</i><c>memorial</c></NS> Hall called <NS type=\"MD\"><c>the</c></NS> Hyatt Hotel. It only <NS type=\"AGV\"><i>take</i><c>takes</c></NS> about five minutes if you walk. I hope you will all have a great time in Taiwan and I hope you will enjoy the building. </p>\n</coded_answer>",
         "4.3",
         "36.0",
         "Chinese",
         "<16"
        ],
        [
         "16",
         "doc3231.xml",
         "0100_2001_6",
         "TE76*0100*2001*01",
         "<coded_answer>\n<p>Dear Mrs Smith,</p>\n<p>I'm writing in response to the letter we have received from you, in order to let you know all the information you have asked for.</p>\n<p>First of all, your group has been booked into the Palace Hotel, <NS type=\"W\"><i><NS type=\"UP\"><i>Main-Road</i><c>Main Road</c></NS> 21</i><c>21 Main Road</c></NS>, which is situated not far from our college. I'd suggest you <NS type=\"FV\"><i>to walk</i><c>walk</c></NS><NS type=\"RP\"><i>, it</i><c>. It</c></NS> will only take you about seven minutes. Just follow <NS type=\"UP\"><i>Main-Road</i><c>Main Road</c></NS> until <NS type=\"MA\"><c>you</c></NS> <NS type=\"TV\"><i>to reach</i><c>reach</c></NS> a junction, where you turn right and then walk along Denl-a-Lion Road. The college is a huge, yellow building - you can't miss it.</p>\n<p>Secondly, you have <NS type=\"RV\"><i>required</i><c>requested</c></NS> information about the end-of-conference party. It will begin at 6 o'clock p.m. and last until midnight. All the students will be provided with sacks and we have managed to book a band as well. The location of the party isn't fixed yet, but we will let you know after your arrival.</p>\n<p>There is no need <NS type=\"FV\"><i>putting</i><c>to put</c></NS> on special clothes for the party<NS type=\"RP\"><i>, casual</i><c>. Casual</c></NS> <NS type=\"R\"><i>ones</i><c>dress</c></NS> should do <NS type=\"R\"><i>it</i><c>just</c></NS> as well, <NS type=\"L\"><i>for</i><c>because</c></NS> we want everyone to feel comfortable.</p>\n<p>Last but not least I will give you some ideas <NS type=\"RT\"><i>of</i><c>about</c></NS> where to spend your free afternoon. I'd suggest you <NS type=\"FV\"><i>to visit</i><c>visit</c></NS> our local museum, as there is a marvellous exhibition there at the moment. Provided the weather is fine, you could also go swimming or make a tour <NS type=\"RT\"><i>through</i><c>of</c></NS> our beautiful town. (I could book a guide for you if you're interested<NS type=\"MP\"><c>.</c></NS>)</p>\n<p>Please write back or call me if there is any more information you need.</p>\n<p>I'm looking forward to meeting you and wish you all the best.</p>\n<p>Yours sincerely,</p>\n</coded_answer>",
         "5.2",
         "<coded_answer>\n<p>The telephone, a blessing.</p>\n<p>Who of you could imagine life without the telephone? Not being able to call your friend and ask if you can pop <NS type=\"RY\"><i>in</i><c>over</c></NS> for a moment? Not being able to lie to your mother-in-law and pretend you can't attend her garden party because of an illness, without having to look her in the eye? When Alexander Graham Bell first invented the telephone, he had no idea <NS type=\"UT\"><i>of</i></NS> how popular it would be one day. Its first <NS type=\"RN\"><i>appliance</i><c>application</c></NS> was <NS type=\"R\">in order</NS> to listen to a concert if you were not able to attend it in person. Nowadays, however, the whole world is connected by a telephone system and no one <NS type=\"TV\"><i>could</i><c>can</c></NS> imagine life without it.</p>\n<p>Take me, for example, I use it whenever there is a problem and I need some advice, or when I have to call off a meeting for any reason. I cannot always walk to the person and say \"Sorry, I must cancel our meeting\", because then it's too late anyway, isn't it?</p>\n<p>Life definitely wouldn't be the same without the invention of the telephone. We use it daily in order to get information or to pass it on.</p>\n<p>Just try to spend one week without using a telephone at all, and you will see that it is impossible to do so. So don't take the telephone for granted, but keep in mind that our modern way of life is mainly due to its invention.</p>\n</coded_answer>",
         "5.3",
         "40.0",
         "German",
         "16-20"
        ],
        [
         "17",
         "doc2951.xml",
         "0100_2001_6",
         "TE8*0100*2001*01",
         "<coded_answer>\n<p><NS type=\"MJ\"><c>Dear</c></NS> Mrs Smith,</p>\n<p>I received your letter this morning and I would like to thank you for your interest in the <NS type=\"RP\"><i>Conference</i><c>conference</c></NS>. I hope I can answer your questions.</p>\n<p><NS type=\"RY\"><i>At First</i><c>First</c></NS>, this international student conference has the <NS type=\"RN\"><i>intension</i><c>aim</c></NS> of <NS type=\"FV\"><i>explain</i><c>explaining</c></NS> to students how important <NS type=\"W\"><i>is <NS type=\"UD\"><i>the</i></NS> education</i><c>education is</c></NS>. In addition to this, we <NS type=\"TV\"><i>choose</i><c>have chosen</c></NS> the <NS type=\"S\"><i>luxuery</i><c>luxury</c></NS> Palace Hotel<NS type=\"MP\"><c>,</c></NS> which is comfortable enough and in a good location. The Palace Hotel is located in the centre of the city, so you can <NS type=\"RV\"><i>go</i><c>come</c></NS> by train, by bus or by car. I suggest you should go by train and <NS type=\"RV\"><i>go out</i><c>get off</c></NS> <NS type=\"RT\"><i>in</i><c>at</c></NS> <NS type=\"UD\"><i>the</i></NS> Museum Station. The <NS type=\"RP\"><i>Conference</i><c>conference</c></NS> will <NS type=\"RV\"><i>happen</i><c>be held</c></NS> in the <NS type=\"RP\"><i>Hotel</i><c>hotel</c></NS>, which is <NS type=\"R\">so much easier</NS>.</p>\n<p>The <NS type=\"RP\"><i>Conference</i><c>conference</c></NS>, <NS type=\"R\">not being modest</NS>, <NS type=\"UA\"><i>it</i></NS> is <NS type=\"UD\"><i>a</i></NS> quite well organized. It will <NS type=\"FV\"><i>starts</i><c>start</c></NS> at eight in the morning and will finish around five in the afternoon. I suggest you should wear something informal. Even though we want to make things as <NS type=\"FJ\"><i>more comfortable</i><c>comfortable</c></NS> as possible <NS type=\"RT\"><i>to</i><c>for</c></NS> our students.</p>\n<p>I am very happy that you want to know <NS type=\"MT\"><c>about</c></NS> my area, although I am afraid an afternoon is not enough. However, if you want, you can call me and I can show you some interesting places. I will be very glad. I look forward to hearing from you.</p>\n<p>Yours sincerely,</p>\n</coded_answer>",
         "2.3",
         "<coded_answer>\n<p><NS type=\"R\">Affecting Our <NS type=\"IN\"><i>Lifes</i><c>Lives</c></NS></NS></p>\n<p>Cars, boats, <NS type=\"S\"><i>motobikes</i><c>motorbikes</c></NS>, airplanes: Who <NS type=\"TV\"><i>did never use</i><c>has never used</c></NS> <NS type=\"AGA\"><i>this</i><c>them</c></NS> once? This is a good question. <NS type=\"UD\"><i>The <NS type=\"RN\"><i>humans</i><c>people</c></NS></i><c>People</c></NS> <NS type=\"W\"><i><NS type=\"AGV\"><i>seems</i><c>seem</c></NS> always</i><c>always seem</c></NS> <NS type=\"U\"><i>that they</i></NS> <NS type=\"FV\"><i>are</i><c>to be</c></NS> running and the fastest of <NS type=\"AGD\"><i>this</i><c>these</c></NS> inventions is certainly<NS type=\"UP\"><i>,</i></NS> the airplane.</p>\n<p>At First, when Santos Dummont invented the airplane, he probably didn't think how <NS type=\"UD\"><i>the</i></NS> people could transform his creation. In this world, where the nations fight to be the <NS type=\"FJ\"><i>better</i><c>best</c></NS> <NS type=\"R\">one couldn't be <NS type=\"S\"><i>diferent</i><c>different</c></NS></NS><NS type=\"RP\"><i>:</i><c>,</c></NS> the airplane became the most important thing in the war. Unfortunately, it was used to kill a lot of people.</p>\n<p>However, the invention of the airplane has brought us some <NS type=\"RN\">facilities</NS>. How could a person <NS type=\"RV\"><i>come</i><c>go</c></NS> from Brazil to Australia <NS type=\"M\"><c>without it</c></NS>? Maybe by boat, but it could take too long! The best way is <NS type=\"S\"><i>definetely</i><c>definitely</c></NS><NS type=\"UP\"><i>,</i></NS> by air. <NS type=\"RT\"><i>After</i><c>With</c></NS> this invention travel around the world is so much easier. Now, we have to say thanks and congratulate all the <NS type=\"RN\"><i>creators</i><c>inventors</c></NS> who invented <NS type=\"R\">facility things</NS> for us.</p>\n<p>So, the airplane is definitely an important invention, because it <NS type=\"AGV\"><i>have</i><c>has</c></NS> changed people's <NS type=\"FN\"><i>life</i><c>lives</c></NS> in wars. <NS type=\"UT\"><i>Until now</i><c>Now</c></NS>, it <NS type=\"TV\"><i>is being</i><c>is</c></NS> important in the transport of thousands and thousands of people around the world. Let's congratulate Santos Dummont!</p>\n</coded_answer>",
         "3.3",
         "25.0",
         "Portuguese",
         "16-20"
        ],
        [
         "18",
         "doc3298.xml",
         "0100_2001_6",
         "TE93*0100*2001*01",
         "<coded_answer>\n<p>Dear Mrs Maria Smith</p>\n<p><NS type=\"RP\"><i>thankyou</i><c>thank you</c></NS> for your letter, <NS type=\"S\"><i>wich</i><c>which</c></NS> arrived yesterday. I hope to give you<NS type=\"UP\"><i>,</i></NS> all the information <NS type=\"MA\"><c>you</c></NS> need and<NS type=\"MP\"><c>,</c></NS> please, if you want more information or <NS type=\"S\"><i>somenthing</i><c>something</c></NS> is not clear, please don't <NS type=\"S\"><i>esitate</i><c>hesitate</c></NS> to contact me again.</p>\n<p>The <NS type=\"RP\"><i>Hotel</i><c>hotel</c></NS> is near the station and is <NS type=\"TV\"><i>call</i><c>called</c></NS> \"Grand Placad\". When you <NS type=\"TV\"><i>arrived</i><c>arrive</c></NS> you take the train <NS type=\"RT\"><i>for</i><c>to</c></NS> Guildford and after <NS type=\"MA\"><c>that</c></NS> you <NS type=\"W\"><i>have just</i><c>just have</c></NS> <NS type=\"FV\"><i><NS type=\"SX\"><i>across</i><c>cross</c></NS></i><c>to cross</c></NS> the road<NS type=\"UP\"><i>,</i></NS> in front of the station.</p>\n<p>It's <NS type=\"MD\"><c>a</c></NS> very <NS type=\"S\"><i>confortable</i><c>comfortable</c></NS> hotel where you can find everything you need.</p>\n<p>From there to the conference you have to take the <NS type=\"W\"><i>bus number 50</i><c>number 50 bus</c></NS>, <NS type=\"RA\"><i>that</i><c>which</c></NS> <NS type=\"AGV\"><i>stop</i><c>stops</c></NS> near the hotel and <NS type=\"AGV\"><i>arrive</i><c>arrives</c></NS> in <NS type=\"MD\"><c>the</c></NS> town <NS type=\"SA\"><i>center</i><c>centre</c></NS>. The conference is <NS type=\"RV\"><i>organised</i><c>held</c></NS> in the civic hall so it is very <NS type=\"RJ\"><i>simple</i><c>easy</c></NS> to <NS type=\"FV\"><i>found</i><c>find</c></NS> it. At the end of <NS type=\"MD\"><c>the</c></NS> conference there is a party<NS type=\"MP\"><c>,</c></NS> a perfect opportunity for your students <NS type=\"FV\"><i><NS type=\"RV\"><i>meet</i><c>make</c></NS></i><c>to make</c></NS> new friends from all <NS type=\"AGN\"><i>part</i><c>parts</c></NS> of <NS type=\"MD\"><c>the</c></NS> <NS type=\"RN\"><i>word</i><c>world</c></NS> and they <NS type=\"TV\"><i>could</i><c>can</c></NS> <NS type=\"RV\"><i>speak</i><c>talk</c></NS> about their experience.</p>\n<p><NS type=\"W\"><i>I suggest for <NS type=\"RD\"><i>that</i><c>this</c></NS> conference</i><c>For this conference I suggest</c></NS> <NS type=\"FV\"><i>to wear</i><c>wearing</c></NS> <NS type=\"S\"><i>somenthing</i><c>something</c></NS> very <NS type=\"S\"><i>confortable</i><c>comfortable</c></NS> but elegant<NS type=\"RP\"><i>, the</i><c>. The</c></NS> organisation <NS type=\"AGV\"><i>want</i><c>wants</c></NS> <NS type=\"UT\"><i>for</i></NS> all <NS type=\"MD\"><c>the</c></NS> <NS type=\"RN\"><i>boys</i><c>men</c></NS> <NS type=\"FV\"><i>wear</i><c>to wear</c></NS> <NS type=\"MD\"><c>a</c></NS> jacket, <NS type=\"MC\"><c>but</c></NS> <NS type=\"RD\"><i>the</i><c>a</c></NS> tie is not necessary.</p>\n<p>I don't <NS type=\"W\"><i>know <NS type=\"SX\"><i>rely</i><c>really</c></NS></i><c>really know</c></NS> what you <NS type=\"RV\"><i>can</i><c>should</c></NS> see<NS type=\"RP\"><i>,</i><c>;</c></NS> <NS type=\"AS\"><i>three hours I think is not</i><c>I don't think three hours is</c></NS> enough but near the station there is a beautiful <NS type=\"RN\"><i>garden</i><c>park</c></NS><NS type=\"MP\"><c>,</c></NS> popular for its variety of flowers.</p>\n<p>If I <NS type=\"TV\"><i>found</i><c>find</c></NS> <NS type=\"S\"><i>somenthing</i><c>something</c></NS> special <NS type=\"M\"><c>you will be able</c></NS> to visit in three hours I <NS type=\"TV\"><i>call</i><c>will call</c></NS> you.</p>\n<p><NS type=\"DA\"><i>Your</i><c>Yours</c></NS> sincerely</p>\n</coded_answer>",
         "3.1",
         "<coded_answer>\n<p>Dear <NS type=\"S\"><i>Ser</i><c>Sir</c></NS> or <NS type=\"RP\"><i>madam</i><c>Madam</c></NS></p>\n<p>it is very nice of you to come and visit my town.</p>\n<p>In <NS type=\"RD\"><i>that</i><c>this</c></NS> area there are a lot of things you can see and some interesting <NS type=\"FN\"><i>building</i><c>buildings</c></NS> to visit. The best building you must see is the cathedral. It is the <NS type=\"FJ\"><i>more important</i><c>most important</c></NS> church in <NS type=\"RD\"><i>that</i><c>this</c></NS> area <NS type=\"RT\"><i>for</i><c>because of</c></NS> its <NS type=\"S\"><i>architeture</i><c>architecture</c></NS>.</p>\n<p>It is <NS type=\"S\"><i>somenthing</i><c>something</c></NS> very <NS type=\"RJ\"><i>particular</i><c>special</c></NS><NS type=\"RP\"><i>, its</i><c>. Its</c></NS> <NS type=\"RN\"><i><NS type=\"S\"><i>paviment</i><c>pavement</c></NS></i><c>ceiling</c></NS> <NS type=\"TV\"><i>made</i><c>is made</c></NS> from many small <NS type=\"S\"><i>pecis</i><c>pieces</c></NS> of wood<NS type=\"RP\"><i>, its</i><c>. Its</c></NS> windows <NS type=\"MV\"/> <NS type=\"R\">with many colours</NS><NS type=\"RP\"><i>, it</i><c>. It</c></NS> is fantastic.</p>\n<p>It <NS type=\"TV\"><i>was</i><c>is</c></NS> built on the top of the hill and around <NS type=\"MA\"><c>it</c></NS> there is only a huge field. You can <NS type=\"AS\"><i><NS type=\"RV\"><i>arrive</i><c>get</c></NS> <NS type=\"RY\"><i>here</i><c>there</c></NS> <NS type=\"S\"><i>wolking</i><c>walking</c></NS></i><c>walk there</c></NS> because the bus <NS type=\"AGV\"><i>stop</i><c>stops</c></NS> just <NS type=\"RT\"><i>on</i><c>at</c></NS> the bottom of the hill.</p>\n<p>But really you must see it<NS type=\"RP\"><i>, the</i><c>. The</c></NS> position of the cathedral <NS type=\"R\"><NS type=\"AGV\"><i>give</i><c>gives</c></NS> you a <NS type=\"W\"><i><NS type=\"S\"><i>somenthing</i><c>something</c></NS> special</i><c>special something</c></NS> a <NS type=\"RJ\"><i>big</i><c>great</c></NS> <NS type=\"SA\"><i>tranquility</i><c>tranquillity</c></NS></NS>.</p>\n<p>I hope you like it.</p>\n<p>I look <NS type=\"S\"><i>farword</i><c>forward</c></NS> to hearing from you</p>\n<p>best <NS type=\"S\"><i>regardes</i><c>regards</c></NS></p>\n</coded_answer>",
         "2.2",
         "22.0",
         "Italian",
         "31-40"
        ],
        [
         "19",
         "doc3041.xml",
         "0100_2001_6",
         "TE34*0100*2001*01",
         "<coded_answer>\n<p>Dear Mrs Smith,</p>\n<p>I am writing in reply to your letter, which I received yesterday. Below is <NS type=\"RQ\"><i>a piece of</i><c>some</c></NS> information you will need for the next international student conference at Bournemouth College and some recommendations, which might be useful for the students.</p>\n<p>First of all, the hotel booked for the group is the Palace Hotel, which is very impressive in terms of comfort and facilities. This is a very central hotel located not far away from the conference hall. You will be able to get there either by bus (no 150) or on foot.</p>\n<p>Next you are welcome to attend the party organized at the end of the conference. It will begin at elevenish p.m. and may last the whole night. People are going to be <NS type=\"RJ\"><i>disguised</i><c>in costume</c></NS> there and it would be a good idea to wear extravagant multi-coloured clothes.</p>\n<p>Finally I think that you should jump at <NS type=\"MD\"><c>the</c></NS> opportunity to go to the <NS type=\"RJ\"><i>historical</i><c>historic</c></NS> Pergam's Museum before leaving. Some of the most amazing masterpieces are <NS type=\"RV\"><i>exposed</i><c>exhibited</c></NS> there.</p>\n<p>I wish you <NS type=\"UY\"><i>in advance</i></NS> a wonderful trip and look forward to meeting you in Bournemouth.</p>\n<p><NS type=\"DA\"><i>Your</i><c>Yours</c></NS> sincerely</p>\n</coded_answer>",
         "5.3",
         "<coded_answer>\n<p>To: (group leader)</p>\n<p>From:</p>\n<p>Subject: Bournemouth National Museum</p>\n<p>As requested I visited the Bournemouth National Museum, which is, to my mind, one of the most interesting buildings of the area. Below is a summary of the most important <NS type=\"UJ\"><i>relevant</i></NS> points and some recommendations you may need.</p>\n<p>1. Architecture</p>\n<p>The architecture of the building in itself is really breathtaking in terms of luxury and ornamentation <NS type=\"UN\"><i>choice</i></NS>. Even if the architectural style may seem a bit <NS type=\"UP\"><i>'</i></NS>heavy, this building is really a masterpiece with no <NS type=\"RJ\"><i>similar</i><c>real</c></NS> comparison <NS type=\"R\"><i>all over</i><c>anywhere in</c></NS> the world.</p>\n<p>2. Exposition</p>\n<p>Although I have to admit that it is very tiring to visit the whole museum in one day, it is such a rewarding and enriching <NS type=\"RN\"><i>time</i><c>experience</c></NS> that people <NS type=\"W\"><i>get never</i><c>never get</c></NS> tired of looking at the paintings and sculptures <NS type=\"RT\"><i>of</i><c>in</c></NS> each section of the museum.</p>\n<p>3. Restaurant</p>\n<p>The adjoining restaurant is very <NS type=\"RJ\"><i>enjoyable</i><c>good</c></NS> as well. The waiters are friendly and always ready to give advice. In fact it is just what visitors need after their trip through the museum.</p>\n<p>To sum up, I would say that this museum is more interesting than the other museums, because you can enjoy not only wonderful masterpieces but also <NS type=\"UD\"><i>a</i></NS> very <NS type=\"RJ\"><i>uncommon</i><c>unusual</c></NS> architecture and a quiet restaurant <NS type=\"M\"><c>where you will be able</c></NS> to have a rest if you need to.</p>\n</coded_answer>",
         "5.1",
         "39.0",
         "French",
         "21-25"
        ],
        [
         "20",
         "doc3121.xml",
         "0100_2001_6",
         "TE61*0100*2001*01",
         "<coded_answer>\n<p>Dear Mrs Smith,</p>\n<p>I am writing this letter in reply to your letter which arrived yesterday. I do welcome you and your group, and I am willing to help you by giving the <NS type=\"CN\"><i>informations</i><c>information</c></NS> that you have asked me <NS type=\"MT\"><c>for</c></NS>.</p>\n<p>Firstly, let me explain the <NS type=\"RN\"><i>way</i><c>route</c></NS> from the PALACE HOTEL, where your group will be staying, to the conference. The hotel is located in the centre of Seoul, therefore there <NS type=\"MV\"><c>are</c></NS> many ways to get to the conference. The easiest way to get there is to take the underground, which takes about 20 minutes. The map will be given to you on the day of your arrival.</p>\n<p>Secondly, the end-of-conference party will be held in the Palace Hotel's Percel Room and starts at 6 o'clock in the evening. Professor Kim from my college is going to give a speech, and after that dinner will be served. The party is not very formal, so you can wear any kind of dress, as long as it is suitable for dinner.</p>\n<p>Finally, I would like <NS type=\"UA\"><i>you</i></NS> to recommend the visit to a traditional Korean palace Kyong Bok for the last day's free time. It must be a very interesting visit for the students who <NS type=\"AGV\"><i>has</i><c>have</c></NS> never experienced an oriental atmosphere. It is just 5 minutes walk from the hotel, and in front of the hotel gate, an airport bus will be waiting for you to take you to the airport after finishing the outing.</p>\n<p>I hope you will enjoy your stay in Korea, and do not hesitate to contact me for any further information.</p>\n<p>I look forward to seeing you soon,</p>\n<p>Yours sincerely,</p>\n</coded_answer>",
         "5.2",
         "<coded_answer>\n<p>. Report on Kyoung Bok Palace - the Glory of Chosun Kingdom.</p>\n<p>. Introduction .</p>\n<p>This report provides the information about Kyong Bok Palace, which is highly recommended <NS type=\"W\"><i>to visit for visitors from foreign countries</i><c>for visitors from foreign countries to visit</c></NS>. It highlights the background history and considers the interest of young <NS type=\"IN\"><i>peoples</i><c>people</c></NS>, and makes a final recommendation.</p>\n<p>. History .</p>\n<p>The kingdom Chosun has a history <NS type=\"RT\"><i>for</i><c>of</c></NS> 500 years and lasted until the beginning of <NS type=\"MD\"><c>the</c></NS> 20th century. Kyong Bok Palace was the main residence of the royal family, so you will be able to imagine its size.</p>\n<p>As the kings of Chosun loved to be a part of <NS type=\"UD\"><i>the</i></NS> nature, the palace had a huge garden, however it was destroyed by the <NS type=\"W\"><i>army of Japan</i><c>Japanese army</c></NS>, and now there remains only a part of the original palace. There is a special monument <NS type=\"RT\"><i>for</i><c>to</c></NS> the last queen of Chosun who was killed by the Japanese army.</p>\n<p>. Activity .</p>\n<p>The reason that this palace is also popular for the youngsters, who <NS type=\"AGV\"><i>tends</i><c>tend</c></NS> to dislike <NS type=\"UD\"><i>the</i></NS> historical <NS type=\"FN\"><i>visit</i><c>visits</c></NS>, would be the various <NS type=\"AGN\"><i>activity</i><c>activities</c></NS>. You can try the traditional games of Korea and there is a chance to wear the traditional clothes of the Royals. Also there are performances which <NS type=\"IV\"><i>helds</i><c>are held</c></NS> daily <NS type=\"RT\"><i>in</i><c>at</c></NS> the front gate of the palace.</p>\n<p>. Final Recommendation .</p>\n<p><NS type=\"ID\"><i>It is out of question</i><c>It is out of the question</c></NS> not to visit Kyong Bok Palace unless you do not want to know about Korean history. You will find many interesting points there, therefore, I urge you to visit the place, if you want to experience the tradition of Korea.</p>\n</coded_answer>",
         "5.1",
         "37.0",
         "Korean",
         "16-20"
        ],
        [
         "21",
         "doc3102.xml",
         "0100_2001_6",
         "TE96*0100*2001*01",
         "<coded_answer>\n<p>Dear Mrs Smith.</p>\n<p>I am writing in response to your letter in order to give you some further information about the international student conference <NS type=\"RT\"><i>in</i><c>at</c></NS> our college.</p>\n<p>I would like to inform you that your group has been booked into <NS type=\"MD\"><c>the</c></NS> Palace Hotel. It is situated in the <NS type=\"SA\"><i>center</i><c>centre</c></NS> of our town and it takes five minutes to get to the college, where the conference is going to be held. I think that the best <NS type=\"S\"><i>choise</i><c>choice</c></NS> for you is to take the 234 bus. The bus stop <NS type=\"MY\"><c>where</c></NS> you should get off is called \"The Green Man\".</p>\n<p>With reference to the end-of-conference party, which is going to take place on Tuesday from 8:00 until midnight, I would like to mention the necessary dress code. It is <NS type=\"UD\"><i>an</i></NS> evening dress for women and black trousers, a white shirt and a black bow tie for men.</p>\n<p>Lastly, I would like to give you some suggestions about <NS type=\"FN\"><i>way</i><c>ways</c></NS> in which you can spend your free time in our town. I am strongly convinced<NS type=\"UP\"><i>,</i></NS> that you should visit <NS type=\"MD\"><c>the</c></NS> local Science Museum. Also there is a very good shopping <NS type=\"SA\"><i>center</i><c>centre</c></NS> next to the museum.</p>\n<p>I look forward to seeing <NS type=\"DA\"><i>your</i><c>you</c></NS> at the conference and hope that you will have a good time in our town.</p>\n<p>Yours sincerely</p>\n</coded_answer>",
         "5.1",
         "<coded_answer>\n<p>As <NS type=\"UA\"><i>it</i></NS> is widely known, lots of different and important things were invented during the 20th century, nevertheless I believe that the most important one is the computer.</p>\n<p>It is a fact<NS type=\"UP\"><i>,</i></NS> that <NS type=\"UD\"><i>the</i></NS> modern society <NS type=\"AGV\"><i>have</i><c>has</c></NS> created the demand for <NS type=\"RD\"><i>the</i><c>an</c></NS> <NS type=\"RN\">ability</NS> to cope with <NS type=\"UD\"><i>the</i></NS> vast amounts of information. Taking <NS type=\"RA\"><i>it</i><c>that</c></NS> into consideration I would like to say that the computer is <NS type=\"RD\"><i>the</i><c>a</c></NS> priceless invention for <NS type=\"UD\"><i>an</i></NS> accountants, designers, engineers and so on <NS type=\"U\"><i>and on</i></NS>. Another <NS type=\"ID\"><i>point in <NS type=\"MD\"><c>their</c></NS> favour</i><c>advantage</c></NS> is <NS type=\"RD\"><i>the</i><c>their</c></NS> <NS type=\"RN\"><i>possibility</i><c>ability</c></NS> to connect to the Internet. It allows you to have all the necessary information \"<NS type=\"ID\"><i>on your fingertips</i><c>at your fingertips</c></NS>\". Also <NS type=\"R\">not least importantly</NS> is the role of computers in the process of production in factories around the world.</p>\n<p>On the other hand there are some disadvantages. For instance a lot of children nowadays replace their real life with <NS type=\"RD\"><i>the</i><c>a</c></NS> virtual world<NS type=\"UP\"><i>,</i></NS> which computers create. Another drawback is that in industry computers replace people's labour, which leads to <NS type=\"UD\"><i>the</i></NS> increasing <NS type=\"UT\"><i>of</i></NS> unemployment.</p>\n<p>To conclude I would like to say that the <NS type=\"S\"><i>goverments</i><c>governments</c></NS> of all developed countries wouldn't have been so concerned about <NS type=\"MD\"><c>the</c></NS> so-called \"problem 2000\" if the computer had not been so important for <NS type=\"UD\"><i>the</i></NS> modern society.</p>\n</coded_answer>",
         "2.3",
         "30.0",
         "Russian",
         "21-25"
        ],
        [
         "22",
         "doc3054.xml",
         "0100_2001_6",
         "TE36*0100*2001*01",
         "<coded_answer>\n<p> Dear Maria,</p>\n<p>First of all, I am sorry to hear that Richard is ill. As the conference must go on, I will give you the information you asked for in order to work on <NS type=\"UT\"><i>with</i></NS> this conference.</p>\n<p><NS type=\"RT\"><i>According to</i><c>Concerning</c></NS> the hotel, the group has been <NS type=\"RV\"><i>arranged</i><c>booked</c></NS> to stay in a hotel which is very near the place <NS type=\"MC\"><c>where</c></NS> we are going to have the conference. The hotel is The Palace Hotel. <NS type=\"UP\"><i>It'is</i><c>It is</c></NS> <NS type=\"UY\"><i>just</i></NS> only 5 <NS type=\"MP\"><i>minutes</i><c>minutes'</c></NS> walk from there to the conference and I would like to suggest that this is the best way to get to the conference.</p>\n<p><NS type=\"L\"><i>About</i><c>Regarding</c></NS> the party, we will have a party at the end of the conference at the hotel <NS type=\"MC\"><c>where</c></NS> you will stay. The party will <NS type=\"RV\"><i>be</i><c>have</c></NS> <NS type=\"UT\"><i>in</i></NS> a <NS type=\"RJ\"><i>friendly</i><c>relaxed</c></NS> atmosphere so don't worry about what to wear. There will be only our group, so <NS type=\"RV\"><i>dress</i><c>wear</c></NS> whatever you want and enjoy <NS type=\"AGA\"><i>ourselves</i><c>yourself</c></NS>.</p>\n<p>Lastly, <NS type=\"R\">what you could possibly do while you will be waiting for three hours, for some people who want to go shopping</NS>. The shopping centre is just <NS type=\"UY\"><i>right</i></NS> opposite <NS type=\"UT\"><i>of</i></NS> the hotel<NS type=\"RP\"><i>, however</i><c>. However</c></NS>, some people may want to just wait at the hotel, having a cup of coffee. The cafe in the hotel is available.</p>\n<p>I hope that <NS type=\"MD\"><c>this</c></NS> information will be useful. If you have any questions I am more than happy to help. I look forward to seeing you at the conference.</p>\n<p>Yours sincerely.</p>\n</coded_answer>",
         "5.1",
         "<coded_answer>\n<p>Could you live without this?</p>\n<p>Imagine how your life would be if you woke up one morning and found that all the electricity had <NS type=\"RV\">gone</NS>. How would you manage to get yourself ready to go to work<NS type=\"RP\"><i>.</i><c>?</c></NS> How would you know what happens in the whole wide world or even how <NS type=\"UA\"><i>you</i></NS> <NS type=\"FV\"><i>would get</i><c>to get</c></NS> yourself breakfast without <NS type=\"MD\"><c>a</c></NS> toaster!!! How would you cope with all <NS type=\"FA\"><i>those</i><c>that</c></NS>?</p>\n<p>Thank god for those who <NS type=\"TV\"><i>had created</i><c>created</c></NS> <NS type=\"RD\"><i>the</i><c>our</c></NS> electricity and <NS type=\"RV\"><NS type=\"TV\">had applied</NS>applied</NS> it into every <NS type=\"AGN\"><i>appliances</i><c>appliance</c></NS>. <NS type=\"UD\"><i>The electricity</i><c>Electricity</c></NS> is a clever invention. Everything <NS type=\"TV\"><i>bases</i><c>is based</c></NS> on the use of electricity, for instance from a little <NS type=\"W\"><i>bulb light</i><c>light bulb</c></NS> to the most complicated computer system which <NS type=\"TV\"><i>stored</i><c>stores</c></NS> priceless information! Life wouldn't be easy if we didn't have electricity. <NS type=\"UD\"><i>The electricity</i><c>Electricity</c></NS> is very important in keeping our lives <NS type=\"FV\"><i>go</i><c>going</c></NS>. No matter where you are, what you do, <NS type=\"RY\"><NS type=\"S\"><i>apparantly</i><c>apparently</c></NS></NS>, you need <NS type=\"UD\"><i>the</i></NS> electricity. Let's think <NS type=\"M\"><c>about it</c></NS> this way<NS type=\"RP\"><i>,</i><c>:</c></NS> if we didn't have <NS type=\"UD\"><i>the</i></NS> electricity, there would be no other inventions at all!!</p>\n<p>I, personally, couldn't live without <NS type=\"UD\"><i>the</i></NS> electricity. It has already <NS type=\"RV\">affected</NS> and <NS type=\"TV\"><i>play</i><c>played</c></NS> a great role in my life. I watch the television and use the computer <NS type=\"RP\"><i>everyday</i><c>every day</c></NS>. Moreover, other facilities in my house, <NS type=\"MD\"><c>the</c></NS> telephone, air-conditioner, fridge, for example, they <NS type=\"UV\"><i>are</i></NS> all need <NS type=\"UD\"><i>the</i></NS> electricity. <NS type=\"UP\"><i>That'is</i><c>That is</c></NS> why it is very important to my life.</p>\n</coded_answer>",
         "5.2",
         "37.0",
         "Thai",
         "16-20"
        ],
        [
         "23",
         "doc3072.xml",
         "0100_2001_6",
         "TE47*0100*2001*01",
         "<coded_answer>\n<p>Dear Mrs <NS type=\"UN\"><i>Maria</i></NS> Smith</p>\n<p>With reference to your letter which I <NS type=\"S\"><i>recived</i><c>received</c></NS> yesterday, I would like to give you some details about <NS type=\"RP\"><i>The</i><c>the</c></NS> international student conference, also the <NS type=\"S\"><i>acomodation</i><c>accommodation</c></NS> and activities that are <NS type=\"IV\"><i>planed</i><c>planned</c></NS> during this week.</p>\n<p>The <NS type=\"RP\"><i>Hotel</i><c>hotel</c></NS> that is booked for the students <NS type=\"UA\"><i>it</i></NS> is one of the <NS type=\"SX\"><i>beast</i><c>best</c></NS> in the area, it has <NS type=\"L\"><i>great</i><c>very good</c></NS> facilities and it is situated near to the place where the conference is going to be. The best way to get there from <NS type=\"RP\"><i>The</i><c>the</c></NS> hotel is by bus and it is already booked for <NS type=\"R\"><i>the next day</i><c>the day after</c></NS> you arrive, at 8:30 am.</p>\n<p>About the party which is just at the end of the conference, <NS type=\"CE\">a good it would be</NS> a dance party and the students don't really need to wear special clothes, it's just to have a little dance and meet all the students<NS type=\"RP\"><i>, after</i><c>. After</c></NS> the party<NS type=\"MP\"><c>,</c></NS> there is a small trip to the old part of the city and I think it would be a good choice <NS type=\"MT\"><c>for</c></NS> <NS type=\"FV\"><i>to spend</i><c>spending</c></NS> the last three hours that you have left before <NS type=\"FV\"><i>go</i><c>going</c></NS> back.</p>\n<p>I hope this letter <NS type=\"AGV\"><i><NS type=\"S\"><i>aswer</i><c>answer</c></NS></i><c>answers</c></NS> all your questions, if you <NS type=\"S\"><i>whant</i><c>want</c></NS> to know more about it just give me a call or send me a letter.</p>\n<p><NS type=\"RP\"><i><NS type=\"DA\"><i>your</i><c>yours</c></NS></i><c>Yours</c></NS> sincerely</p>\n</coded_answer>",
         "2.2",
         "<coded_answer>\n<p>The aim of this report is to give some information about <NS type=\"RP\"><i>The</i><c>the</c></NS> new Acapulco <NS type=\"S\"><i>resart</i><c>resort</c></NS> buildings which <NS type=\"AGV\"><i>was</i><c>were</c></NS> <NS type=\"TV\"><i>build</i><c>built</c></NS> 10 years ago<NS type=\"MP\"><i> <NS type=\"UC\"><i>and</i></NS> <NS type=\"AG\"><i>it is one</i><c>they are some</c></NS></i><c>. They are some</c></NS> of the first buildings that <NS type=\"AGV\"><i>was</i><c>were</c></NS> <NS type=\"TV\"><i>build</i><c>built</c></NS> with the latest <NS type=\"S\"><i>tecnonology</i><c>technology</c></NS> and <NS type=\"RV\"><i>made</i><c>designed</c></NS> by <NS type=\"FD\"><i>a</i><c>an</c></NS> important Mexican <NS type=\"DN\"><i>arquitector</i><c>architect</c></NS>.</p>\n<p>In addition<NS type=\"MP\"><c>,</c></NS> the resort has an interesting <NS type=\"DJ\"><i><NS type=\"RP\"><i>History</i><c>history</c></NS></i><c>historical</c></NS> background <NS type=\"RT\"><i>about</i><c>concerning</c></NS> <NS type=\"MD\"><c>the</c></NS> <NS type=\"DN\"><i>arquitectory</i><c>architecture</c></NS> and the best facilities and activities that you could have in Mexico<NS type=\"MP\"><c>,</c></NS> for example, it provides <NS type=\"IJ\"><i>differents</i><c>different</c></NS> kinds of tours around Mexico. <NS type=\"ID\"><i>On the contrary</i><c>On the other hand</c></NS> it is far away from the city and it has <NS type=\"RJ\">difficult</NS> transport facilities.</p>\n<p>In spite of the disadvantages, I would strongly <NS type=\"FV\"><i><NS type=\"S\"><i>recomended</i><c>recommended</c></NS></i><c>recommend</c></NS> <NS type=\"UT\"><i>to</i></NS> students and <NS type=\"MD\"><c>the</c></NS> public to visit the new Acapulco resort buildings<NS type=\"UP\"><i>.</i></NS> and have a great experience <NS type=\"RV\"><i>knowing</i><c>learning</c></NS> about <NS type=\"MD\"><c>the</c></NS> <NS type=\"MP\"><i>buildings</i><c>buildings'</c></NS> history and at the same time <NS type=\"IV\"><i>traveling</i><c>travelling</c></NS> around Mexico.</p>\n</coded_answer>",
         "2.1",
         "19.0",
         "Spanish",
         "16-20"
        ],
        [
         "24",
         "doc3057.xml",
         "0100_2001_6",
         "TE37*0100*2001*01",
         "<coded_answer>\n<p>Dear Mrs. Smith</p>\n<p><NS type=\"RP\"><i>my</i><c>My</c></NS> name is ..., I am a local student and <NS type=\"RP\"><i>i</i><c>I</c></NS> will give you the requested information. The rooms for your students have been booked at the Palace Hotel near the <NS type=\"UP\"><i>city-centre</i><c>city centre</c></NS>. The hotel is just three <NS type=\"RP\"><i>busstops</i><c>bus stops</c></NS> away from our college<NS type=\"UP\"><i>. So</i><c> so</c></NS> you and your students can take the bus from the central <NS type=\"RP\"><i>busstation</i><c>bus station</c></NS> that is right in front of your hotel to get to the conference.</p>\n<p>The end-of-conference party starts just one <NS type=\"SX\"><i>our</i><c>hour</c></NS> after the end of the conference. It is located in our sports hall. There will be live music and a midnight dinner. <NS type=\"UC\"><i>So you</i><c>You</c></NS> don't have to appear very <NS type=\"DY\">noble</NS> dressed, just as you like <NS type=\"UA\"><i>it</i></NS> (there is no <NS type=\"RN\"><i>order</i><c>dress code</c></NS> - you may wear what you want).</p>\n<p>For your last day I think it would be interesting to <NS type=\"S\"><i>vistit</i><c>visit</c></NS> our <NS type=\"RJ\"><i>historical</i><c>historic</c></NS> and famous <NS type=\"UP\"><i>city-centre</i><c>city centre</c></NS>. I will organize a tourist guide to give us information about the old buildings and sights.</p>\n<p>If you have any more questions<NS type=\"MP\"><c>,</c></NS> write me a short letter.</p>\n<p>Yours sincerely</p>\n</coded_answer>",
         "4.1",
         "<coded_answer>\n<p>The invention of the car was a great point in history. From there on people <NS type=\"RV\"><i>got</i><c>were</c></NS> mobile and had the <NS type=\"RN\"><i>possibility</i><c>opportunity</c></NS> to travel wherever they wanted. <NS type=\"W\"><i>Of course within</i><c>Within of course</c></NS> the physical barriers. People now had the chance to move to <NS type=\"RP\"><i>far away</i><c>faraway</c></NS> places to spend their <NS type=\"S\"><i>leassure</i><c>leisure</c></NS> time, to relax, or just to see something different than their <NS type=\"DN\"><i>home-countryside</i><c>home</c></NS>.</p>\n<p>In my life the car has an enormous influence. I come from a rural area. The next city is 15 km away and there is no <NS type=\"RJ\">acceptable</NS> bus <NS type=\"UP\"><i>-</i></NS> or rail connection to go there. It <NS type=\"TV\"><i>has been</i><c>was</c></NS> <NS type=\"SX\"><i>quiet</i><c>quite</c></NS> hard <NS type=\"RT\"><i>to</i><c>for</c></NS> me not to have the <NS type=\"RN\">opportunities</NS> for my free time like my friends <NS type=\"AGA\"><i>that</i><c>who</c></NS> lived in or near the city. I just had no <NS type=\"RN\"><i>possibility</i><c>way</c></NS> to meet them after school, because I had no vehicle to get there. I always needed my Mom or my Dad to take me where I wanted to go.</p>\n<p>Today I have my own car and I use it daily to get to work and to meet my friends at any place and any time. So with my car I achieved <NS type=\"UD\"><i>a</i></NS> great freedom. </p>\n</coded_answer>",
         "4.1",
         "31.0",
         "German",
         "21-25"
        ],
        [
         "25",
         "doc3253.xml",
         "0100_2001_6",
         "TE86*0100*2001*01",
         "<coded_answer>\n<p>Dear Mrs Smith,</p>\n<p>I have received your letter dated <NS type=\"UT\"><i>on</i></NS> the 12th <NS type=\"MT\"><c>of</c></NS> <NS type=\"RP\"><i>june</i><c>June</c></NS> 2001. I am very happy to help you and I hope that the <NS type=\"CN\"><i>informations</i><c>information</c></NS><NS type=\"UP\"><i>,</i></NS> that I am going to give you<NS type=\"UP\"><i>,</i></NS> will be <NS type=\"RJ\"><i>enough</i><c>satisfactory</c></NS>.</p>\n<p>The international student conference will be in the Palace Hotel in Lausanne. The <NS type=\"RP\"><i>Hotel</i><c>hotel</c></NS> is a big building in the middle of the town near the <NS type=\"RN\"><i>place</i><c>square</c></NS><NS type=\"MP\"><c>,</c></NS> \"St-François\". And the name of the street is \"Grand-Chêne\". You <NS type=\"RP\"><i>can not</i><c>cannot</c></NS> miss it.</p>\n<p>After the conference, we are going to stay in the Palace Hotel but instead <NS type=\"MT\"><c>of</c></NS> <NS type=\"FV\"><i>to stay</i><c>staying</c></NS> in the conference room, we are going to move to the reception room where a dinner will be <NS type=\"RV\"><i>prepared</i><c>served</c></NS> for us. Afterwards, a live band <NS type=\"AGV\"><i>are</i><c>is</c></NS> going to play <NS type=\"MT\"><c>for</c></NS> the rest of the night. <NS type=\"RT\"><i>For</i><c>Regarding</c></NS> the clothes, you have to wear something smart and classic.</p>\n<p>If you want to stay in Lausanne during your <NS type=\"W\"><i>afternoon free</i><c>free afternoon</c></NS>, the best thing to do is to go to Ouchy. There, you can enjoy the <NS type=\"RP\"><i>Landscape</i><c>landscape</c></NS> and <NS type=\"DV\"><i>have a sunbath</i><c>sunbathe</c></NS>.</p>\n<p><NS type=\"DA\"><i>Your</i><c>Yours</c></NS> sincerely,</p>\n</coded_answer>",
         "3.3",
         "<coded_answer>\n<p><NS type=\"S\"><i>OLYMPIQUE</i><c>OLYMPIC</c></NS> MUSEUM</p>\n<p>The aim of this report is to give <NS type=\"MA\"><c>you</c></NS> further <NS type=\"CN\"><i>informations</i><c>information</c></NS> on an interesting building to visit in Lausanne. It is based on my own experience.</p>\n<p>WHY THE OLYMPIC MUSEUM<NS type=\"RP\"><i>.</i><c>?</c></NS></p>\n<p>The <NS type=\"S\"><i>Olympique</i><c>Olympic</c></NS> Museum is situated near the lake and <NS type=\"AGV\"><i>offer</i><c>offers</c></NS>, for the tourist, an unbelievable view <NS type=\"RT\"><i>on</i><c>of</c></NS> the mountains and the lake. But also<NS type=\"UP\"><i>,</i></NS> the museum <NS type=\"AGV\"><i>have</i><c>has</c></NS> a lot of gardens with several statues. <NS type=\"RY\"><i>Besides</i><c>Also</c></NS>, the architecture of the building is beautiful and very modern. First of all, the main interest of the museum is <NS type=\"UD\"><i>the</i></NS> <NS type=\"RP\"><i>olympic</i><c>Olympic</c></NS> history. You can find a lot of <NS type=\"RN\"><i><NS type=\"AGN\"><i>documentary</i><c>documentaries</c></NS></i><c>documents</c></NS> about it and you have several <NS type=\"R\">competitors personal objects</NS>. In addition, you can play <NS type=\"UT\"><i>with</i></NS> several interactive <NS type=\"AGN\"><i>game</i><c>games</c></NS> and learn about the rules of the <NS type=\"RP\"><i>olympic</i><c>Olympic</c></NS> games.</p>\n<p>REASONS <NS type=\"RT\"><i>OF</i><c>FOR</c></NS> RECOMMENDATION.</p>\n<p>The principal reason is the <NS type=\"FJ\"><i>cheapest</i><c>cheap</c></NS> price. You pay only <NS type=\"R\">to FRS</NS> for <NS type=\"UD\"><i>the</i></NS> entry and you can stay <NS type=\"UT\"><i>in</i></NS> all the time that you want. On the other hand, if <NS type=\"RA\"><i>you</i><c>there</c></NS> are more than 10 people, you can <NS type=\"RV\"><i>have</i><c>pay</c></NS> a group price and pay only 6 Frs per person. It seems that this <NS type=\"RN\"><i>solution</i><c>option</c></NS> might be the best way to visit this museum.</p>\n<p>CONCLUSION.</p>\n<p>To sum up, the Olympic Museum is a very attractive place and could be a good trip with your family or your student group. Therefore, if you want to learn something about the Olympic Games, it must be the best place for <NS type=\"RA\"><i>this</i><c>you</c></NS>.</p>\n</coded_answer>",
         "4.2",
         "31.0",
         "French",
         "21-25"
        ],
        [
         "26",
         "doc3236.xml",
         "0100_2001_6",
         "TE80*0100*2001*01",
         "<coded_answer>\n<p>Dear Mrs. Smith,</p>\n<p>I am writing in reply to your letter. I am sorry about Richard Brown. And I understand that you need help, so <NS type=\"UC\"><i>that</i></NS> I will help you as far as I can.</p>\n<p>Firstly, the hotel which <NS type=\"S\"><i>ha</i><c>has</c></NS> been booked for you is Palace Hotel <NS type=\"RA\"><i>that</i><c>which</c></NS> is located close to the conference. In order to get from the hotel to the conference, you just need to take the bus we will <NS type=\"RV\"><i>offer</i><c>provide</c></NS>. Secondly, the end-of-conference party will take place in the same hall as the conference at 6 p.m., which includes dinner and an announcement by the president of the conference. The party is arranged as a casual party, therefore, you can wear comfortable clothes. You can expect to meet many students from other schools as well. Finally, if you want to have an exciting experience <NS type=\"UT\"><i>in</i></NS> here, I strongly suggest that you go to the musicals. As you may <NS type=\"TV\"><i>hear</i><c>have heard</c></NS>, our city is well known for the musicals. Or, <NS type=\"RP\"><i>If</i><c>if</c></NS> you want to relax, you can take a walk in the park situated <NS type=\"RT\"><i>in</i><c>at</c></NS> ten <NS type=\"MP\"><i>minutes</i><c>minutes'</c></NS> distance on foot from the hotel. Whatever you choose, you will be satisfied with your choice.</p>\n<p>If you have more questions about the conference <NS type=\"RC\"><i>and</i><c>or</c></NS> <NS type=\"RA\"><i>something</i><c>anything</c></NS> else, do not hesitate to ask me. I would be glad to be able to help you.</p>\n<p>Yours sincerely, </p>\n</coded_answer>",
         "5.2",
         "<coded_answer>\n<p>Some inventions are not regarded as great things even though <NS type=\"UD\"><i>the</i></NS> life without them cannot be imagined. People do not <NS type=\"R\">have the impression on important inventions any more</NS>, because they have been getting more popular and common.</p>\n<p>However, there is something <NS type=\"MT\"><c>about</c></NS> which <NS type=\"MA\"><c>it</c></NS> is still believed that it was an <NS type=\"S\"><i>extreamly</i><c>extremely</c></NS> important invention. This is electricity<NS type=\"MP\"><c>,</c></NS> invented by Edison. <NS type=\"ID\"><i>From my point of view</i><c>In my opinion</c></NS>, the reason why electricity is such an important invention is that most <NS type=\"UT\"><i>of</i></NS> machines, appliances and <NS type=\"CN\"><i>equipments</i><c>equipment</c></NS> which are used in modern times can <NS type=\"W\"><i>be operated with only</i><c>only be operated with</c></NS> electricity, which makes people not <NS type=\"SX\"><i>to</i><c>do</c></NS> too much <NS type=\"S\"><i>phisical</i><c>physical</c></NS> labour. What is more, many inventions have been accelerated by electricity.</p>\n<p>In my life, I use electricity in many different ways. At night, I can study because of it. <NS type=\"W\"><i>and also It</i><c>And it also</c></NS> saves my time which would be used up <NS type=\"UT\"><i>for</i></NS> doing housework such as laundry, cleaning rooms and ironing. It makes my life more convenient than <NS type=\"R\"><i>that without it</i><c>it would be without it</c></NS>.</p>\n<p>To sum up, although people do not feel that electricity is a great invention any more, the fact that electricity is one of the most important inventions in the world will not be changed.</p>\n</coded_answer>",
         "5.1",
         "37.0",
         "Korean",
         "21-25"
        ],
        [
         "27",
         "doc3283.xml",
         "0100_2001_6",
         "TE89*0100*2001*01",
         "<coded_answer>\n<p>Dear Mrs Smith,</p>\n<p>I am writing to you to give you more <NS type=\"CN\"><i>informations</i><c>information</c></NS> about <NS type=\"RD\"><i>an</i><c>the</c></NS> international student conference.</p>\n<p>The group has been booked into <NS type=\"MD\"><c>the</c></NS> King Hotel <NS type=\"RT\"><i>at</i><c>on</c></NS> High Street<NS type=\"MP\"><c>,</c></NS> which is very easy to find. And the best way to get from there to the conference is <NS type=\"MT\"><c>by</c></NS> following the <NS type=\"RN\"><i>rod</i><c>road</c></NS> in front of the hotel to the right, then cross the zebra crossing to the opposite side. After that walk to the right about 15 metres and you will find the conference <NS type=\"RN\"><i>place</i><c>venue</c></NS><NS type=\"MP\"><c>,</c></NS> which is called <NS type=\"MD\"><c>the</c></NS> White House.</p>\n<p>At the end of <NS type=\"MD\"><c>the</c></NS> conference, we are going to have an International Dinner as well as some shows from the students in my college. As this is a special conference <NS type=\"UY\"><i>so</i></NS> you could wear your own national dress to <NS type=\"RV\"><i>present</i><c>represent</c></NS> your country.</p>\n<p>Finally, on the last day you could spend your free time <NS type=\"FV\"><i>to visit</i><c>visiting</c></NS> our town hall <NS type=\"R\"><i>which</i><c>where</c></NS> you will be able to learn more about my area - or <NS type=\"M\"><c>you could</c></NS> do some shopping <NS type=\"RT\"><i>at</i><c>on</c></NS> High Street.</p>\n<p>If you want more information, please contact me and I am looking forward to seeing you soon.</p>\n<p>Yours sincerely,</p>\n</coded_answer>",
         "4.1",
         "<coded_answer>\n<p>Dear Mr. Bill,</p>\n<p>I am writing to give <NS type=\"UD\"><i>an</i></NS> information on a very interesting building <NS type=\"UV\"><i>to visit</i></NS>. It is called Penrhyh Castle, <NS type=\"RC\"><i>as</i><c>and</c></NS> <NS type=\"RD\"><i>the</i><c>this</c></NS> building will tell you all about Wales.</p>\n<p>On the positive side, you and the group will be <NS type=\"S\"><i>abe</i><c>able</c></NS> to learn more about Welsh <NS type=\"RP\"><i>art works</i><c>artworks</c></NS> <NS type=\"R\">which are presented on the wall, on the door and some <NS type=\"CN\"><i>furnitures</i><c>furniture</c></NS></NS>. The building itself looks splendid and beautiful.</p>\n<p>On the other hand, <NS type=\"R\">you might find something which is very boring such as walking along the old wooden floor which causes some noise</NS>. And some old toilets might look <NS type=\"S\"><i>awlful</i><c>awful</c></NS>.</p>\n<p>But <NS type=\"ID\"><i>in my <NS type=\"RN\"><i>recommendation</i><c>opinion</c></NS>, I think</i><c>in my opinion</c></NS> it would be nice for the students to come and see this building<NS type=\"RP\"><i>. Because</i><c>, because</c></NS> they will be able to learn and <NS type=\"AS\"><i>compare with the place in their country</i><c>compare the place with their country</c></NS>. As Wales is not modern like America, <NS type=\"UY\"><i>so</i></NS> the students will probably get <NS type=\"RD\"><i>the</i><c>an</c></NS> <NS type=\"RN\"><i>idea</i><c>interest</c></NS> <NS type=\"RT\"><i>of</i><c>in</c></NS> looking <NS type=\"UY\"><i>back</i></NS> <NS type=\"RT\"><i>to</i><c>at</c></NS> <NS type=\"UD\"><i>the</i></NS> old things.</p>\n<p>Yours sincerely,</p>\n</coded_answer>",
         "3.3",
         "28.0",
         "Thai",
         "41-50"
        ],
        [
         "28",
         "doc3033.xml",
         "0100_2001_6",
         "TE29*0100*2001*01",
         "<coded_answer>\n<p>Dear Mrs Smith,</p>\n<p>I am writing to inform you that I have <NS type=\"S\"><i>recieved</i><c>received</c></NS> a letter from you about helping you to organise an international student conference in my college.</p>\n<p>Your group has been booked into the Palace Hotel<NS type=\"MP\"><c>,</c></NS> which is not very far from my college. However, due to the <NS type=\"CN\"><i>congestions</i><c>congestion</c></NS> and <NS type=\"RN\"><NS type=\"FN\"><i>delay</i><c>delays</c></NS></NS> near the hotel, the best way to get from there to the conference is <NS type=\"RT\"><i>by</i><c>on</c></NS> <NS type=\"MD\"><c>the</c></NS> underground, <NS type=\"MT\"><c>from</c></NS> Victoria Street <NS type=\"RP\"><i>station</i><c>Station</c></NS>. You <NS type=\"TV\"><i>would</i><c>will</c></NS> arrive at the other station opposite my college in approximately 15 minutes.</p>\n<p>At the end-of-conference party, you may either leave the party or stay in the college for more activities. <NS type=\"UQ\"><i>All different</i><c>Different</c></NS> types of clothing <NS type=\"TV\"><i>could</i><c>can</c></NS> be worn<NS type=\"MP\"><i> however</i><c>. However,</c></NS> <NS type=\"DN\">jean wears</NS> and T-shirts <NS type=\"TV\"><i>would</i><c>will</c></NS> be <NS type=\"RJ\">common</NS> on that day.</p>\n<p>Instead <NS type=\"MT\"><c>of</c></NS> staying in the hotel for the last three hours, I suggest that you <NS type=\"UV\"><i>could</i></NS> perhaps visit our town centre. The popular attractions in our town, including the art gallery, museum, aquarium, <NS type=\"MC\"><c>and</c></NS> market square, <NS type=\"TV\"><i>could</i><c>can</c></NS> be found near <NS type=\"RD\"><i>our</i><c>the</c></NS> monument of our town, the Saltisy Bridge.</p>\n<p>I am looking forward to <NS type=\"FV\"><i>see</i><c>seeing</c></NS> you soon.</p>\n<p>Yours sincerely,</p>\n</coded_answer>",
         "3.2",
         "<coded_answer>\n<p>The Little Woods shopping mall</p>\n<p>Location</p>\n<p>The Little Woods shopping mall is an <NS type=\"SX\"><i>idea</i><c>ideal</c></NS> place for you and your group to visit. It is located very close to the town centre next to the town museum. It can be <NS type=\"R\">accessed by the nearby train station</NS>.</p>\n<p>Facilities</p>\n<p>For those students who are very interested in shopping, clothes shops, jewellery, <NS type=\"SX\"><i>stationary</i><c>stationery</c></NS>, <NS type=\"RP\"><i>book shops</i><c>bookshops</c></NS>, fashion and beauty departments and many more are <NS type=\"S\"><i>availiable</i><c>available</c></NS>. For those who want something more exciting and <NS type=\"S\"><i>advanturous</i><c>adventurous</c></NS>, you are <NS type=\"RV\"><NS type=\"S\"><i>recommanded</i><c>recommended</c></NS></NS> to visit the Fun Fair and amusement <NS type=\"MN\"><c>arcade</c></NS> on the top floor of the building. Other facilities such as cinemas, theatres, <NS type=\"MC\"><c>and</c></NS> large department stores <NS type=\"TV\"><i>could</i><c>can</c></NS> also be found <NS type=\"MY\"><c>there</c></NS>. There is a little souvenir shop for tourists and a special discount for tourists from <NS type=\"SX\"><i>aboard</i><c>abroad</c></NS> <NS type=\"M\"><c>who want</c></NS> to <NS type=\"RV\"><i>enter</i><c>use</c></NS> the car park.</p>\n<p>Conclusion</p>\n<p>Not only <NS type=\"W\"><i>the tourist information centre <NS type=\"TV\"><i>would</i><c>will</c></NS></i><c>will the tourist information centre</c></NS> provide <NS type=\"RQ\"><i>the</i><c>any</c></NS> information you might need, you <NS type=\"TV\"><i>could</i><c>can</c></NS> also visit the ICT block<NS type=\"MP\"><c>,</c></NS> which allows you to <NS type=\"R\">access onto anything you want to know from the computers</NS>. A special trip could also be organized.</p>\n</coded_answer>",
         "4.2",
         "30.0",
         "Catalan",
         "<16"
        ],
        [
         "29",
         "doc3093.xml",
         "0100_2001_6",
         "TE49*0100*2001*01",
         "<coded_answer>\n<p>Dear Mrs Smith,</p>\n<p>Thank you for your letter. I am glad to help you <NS type=\"RT\"><i>for</i><c>with</c></NS> the organisation of the conference.</p>\n<p>I phoned <NS type=\"UT\"><i>to</i></NS> the tourist information <NS type=\"MN\"><c>office</c></NS> last week and I got some information about the <NS type=\"S\"><i>accomodation</i><c>accommodation</c></NS> <NS type=\"RT\"><i>of</i><c>for</c></NS> the students.</p>\n<p>I think we should book <NS type=\"UT\"><i>at</i></NS> the Palace Hotel. It is an outstanding building situated in the city centre.</p>\n<p>The <NS type=\"RP\"><i>Hotel</i><c>hotel</c></NS> is in a good position, 10 <NS type=\"MP\"><i>minutes</i><c>minutes'</c></NS> walk from the conference<NS type=\"MP\"><c>,</c></NS> and I think the best way to reach it is on foot.</p>\n<p>I am sure the students will enjoy walking in the streets of the town.</p>\n<p>The conference starts at 5 o'clock in the afternoon and finishes at 7 pm.</p>\n<p>I think they should wear smart <NS type=\"RN\"><i>dress</i><c>clothes</c></NS>, because there will be lots of interesting people and <NS type=\"M\"><c>it is an</c></NS> important meeting.</p>\n<p>In conclusion, for the last day, I thought it <NS type=\"TV\"><i>will</i><c>would</c></NS> be very interesting for the students to visit the town and <NS type=\"RV\"><i>appreciate</i><c>admire</c></NS> its monuments and art.</p>\n<p>On the other hand, if you prefer to have a relaxing day, you could have a <NS type=\"UP\"><i>pic-nic</i><c>picnic</c></NS> in the wonderful park.</p>\n<p>I hope my suggestion and <NS type=\"FN\"><i><NS type=\"RP\"><i>Idea</i><c>idea</c></NS></i><c>ideas</c></NS> will help you to organise the meeting.</p>\n<p>I look forward to receiving your confirmation.</p>\n<p>Yours,</p>\n</coded_answer>",
         "2.3",
         "<coded_answer>\n<p>REPORT:</p>\n<p>TO: MR</p>\n<p>FROM:</p>\n<p>DATE: 21ST JUNE 2000</p>\n<p>INTRODUCTION:</p>\n<p>As requested, the aim of this report is to assess the <NS type=\"S\"><i>suitbility</i><c>suitability</c></NS> for a group of American students <NS type=\"RT\"><i>for</i><c>of</c></NS> the visit <NS type=\"RT\"><i>at</i><c>to</c></NS> the Etruscan Museum.</p>\n<p>GENERAL INFORMATION:</p>\n<p>The museum is situated in the centre of Populoniou, the picturesque fishing village on the Etruscan Coast. Populoniou is about 15 Km. from Piombino and it can be reached by <NS type=\"MD\"><c>a</c></NS> <NS type=\"RJ\">well-organised</NS> means of transport.</p>\n<p>DESCRIPTION:</p>\n<p>The Etruscan Museum is one of the most attractive <NS type=\"AGN\"><i>building</i><c>buildings</c></NS> in my town. It contains lots of <NS type=\"R\"><NS type=\"SA\"><i>archeological</i><c>archaeological</c></NS> Etruscans founded</NS> and some remains <NS type=\"RT\"><i>about</i><c>from</c></NS> <NS type=\"MD\"><c>the</c></NS> <NS type=\"MP\"><i>Etruscans</i><c>Estruscans'</c></NS> <NS type=\"S\"><i>neoropolis</i><c>necropolis</c></NS>.</p>\n<p>The entrance fee is £7 <NS type=\"MT\"><c>for</c></NS> each student.</p>\n<p>POSITIVE ASPECTS</p>\n<p>1. The Museum is <NS type=\"UP\"><i>well-organised</i><c>well organised</c></NS> for tourists. There are some shops, <NS type=\"MD\"><c>a</c></NS> café and toilets. Also there are some free <NS type=\"S\"><i>handphones</i><c>headphones</c></NS><NS type=\"UP\"><i>,</i></NS> that explain the history of the museum.</p>\n<p>2. After their visit <NS type=\"RT\"><i>into</i><c>to</c></NS> the Museum, they could enjoy the superb view of the sea and the <NS type=\"RP\"><i>tuscan</i><c>Tuscan</c></NS> Archipelago, and they could have a <NS type=\"UP\"><i>pic-nic</i><c>picnic</c></NS> on the beach.</p>\n<p>NEGATIVE ASPECTS</p>\n<p>1. The negative aspect of the museum is that <NS type=\"MA\"><c>it</c></NS> is quite expensive for students.</p>\n<p>CONCLUSION:</p>\n<p>Although the entrance fee is quite expensive for a group of students, I strongly <NS type=\"S\"><i>reccomend</i><c>recommend</c></NS> it for their excursion and <NS type=\"MT\"><c>because of</c></NS> their interests.</p>\n</coded_answer>",
         "4.1",
         "26.0",
         "Italian",
         "21-25"
        ],
        [
         "30",
         "doc3122.xml",
         "0100_2001_6",
         "TE62*0100*2001*01",
         "<coded_answer>\n<p>Dear Mrs Smith,</p>\n<p>I am writing in response to your letter where you asked me to give you more information about <NS type=\"MD\"><c>the</c></NS> international student conference and give some ideas and suggestions <NS type=\"RT\"><i>of</i><c>about</c></NS> what you and your students can do during your free time here.</p>\n<p>The group has been booked into the Palace Hotel<NS type=\"MP\"><c>,</c></NS> which is located in the central area of the city, so it will not take you and your students too much time to get to the town hall where the conference is supposed to be <NS type=\"RV\"><i>progressed</i><c>held</c></NS>. The easiest way to get there from your hotel is to take <NS type=\"FN\"><i>buses</i><c>bus</c></NS> 461 or 176 (the bus stop is opposite <NS type=\"UT\"><i>to</i></NS> the hotel) or we can hire a minibus for you but there is an extra charge for it.</p>\n<p>There is a party on the last day of the conference. Special awards will be given to the students whose reports are the best. <NS type=\"CE\">Less of the party is likely to be as</NS> our <NS type=\"RP\"><i>night club</i><c>nightclub</c></NS> so a <NS type=\"AGN\"><i>lots</i><c>lot</c></NS> of music, dancing and fun are provided. Please note that <NS type=\"UD\"><i>the</i></NS> <NS type=\"S\"><i>alchocholich</i><c>alcoholic</c></NS> drinks are only sold <NS type=\"S\"><i>untill</i><c>until</c></NS> 11pm. You can wear whatever you like for this kind of party.</p>\n<p>Coming back to ideas and Suggestions<NS type=\"MP\"><c>,</c></NS> <NS type=\"UP\"><i>I'v</i><c>I've</c></NS> promised to give you <NS type=\"UT\"><i>about</i></NS> <NS type=\"MD\"><c>a</c></NS> free afternoon <NS type=\"S\"><i>befor</i><c>before</c></NS> you catch your plane<NS type=\"MP\"><c>.</c></NS> I <NS type=\"RV\"><i>can</i><c>would</c></NS> advise you to visit our zoo or to <NS type=\"MV\"><c>go</c></NS> for a <NS type=\"S\"><i>picnik</i><c>picnic</c></NS> in a park <NS type=\"S\"><i>befor</i><c>before</c></NS> you <NS type=\"TV\"><i>will go</i><c>go</c></NS> to the <NS type=\"DN\"><i>night party</i><c>party</c></NS>.</p>\n<p>Yours sincerely,</p>\n</coded_answer>",
         "3.3",
         "<coded_answer>\n<p>Can you see how many inventions you are surrounded with in your life? Such <NS type=\"UD\"><i>a</i></NS> simple and <NS type=\"RJ\"><i><NS type=\"S\"><i>usuall</i><c>usual</c></NS></i><c>everyday</c></NS> things like a <NS type=\"S\"><i>telefone</i><c>telephone</c></NS>, a car, a computer <NS type=\"UC\"><i>so</i></NS> only seem to be normal and <NS type=\"RJ\"><i><NS type=\"S\"><i>usuall</i><c>usual</c></NS></i><c>everyday</c></NS> for us <NS type=\"U\"><i>(or we have got used)</i></NS> as we use them every day. <NS type=\"MD\"><i>Hundred</i><c>A hundred</c></NS> years <NS type=\"RY\"><i>before</i><c>ago</c></NS> people couldn't even use an electric <NS type=\"RN\"><i>lump</i><c>lamp</c></NS><NS type=\"MP\"><c>,</c></NS> <NS type=\"ID\"><i>not saying about</i><c>to say nothing of</c></NS> a car or computer. <NS type=\"R\"><i>They have</i><c>These</c></NS> <NS type=\"RN\"><i>intentions</i><c>inventions</c></NS> <NS type=\"TV\"><i>improved</i><c>have improved</c></NS> our life a lot since they <NS type=\"TV\"><i>had appeared</i><c>appeared</c></NS>, but not <NS type=\"RP\"><i>every one</i><c>everyone</c></NS> <NS type=\"S\"><i>beleives</i><c>believes</c></NS> it is really so.</p>\n<p>Some people say that many <NS type=\"UT\"><i>of</i></NS> important inventions in our <NS type=\"DN\"><i>live</i><c>life</c></NS> are not so good and useful as we have got used to <NS type=\"FV\"><i><NS type=\"RV\"><i>see</i><c>think</c></NS></i><c>thinking</c></NS> them. First of all they <NS type=\"RV\"><i>say</i><c>talk</c></NS> about <NS type=\"MD\"><c>the</c></NS> <NS type=\"DJ\"><i><NS type=\"S\"><i>enviroment</i><c>environment</c></NS></i><c>environmental</c></NS> pollution which cars and other <NS type=\"S\"><i>vechicles</i><c>vehicles</c></NS> <NS type=\"RV\"><i>make</i><c>create</c></NS>, <NS type=\"R\">overspending the electricity using electric equipment</NS> and some <NS type=\"IQ\"><i>others</i><c>other</c></NS> <NS type=\"MN\"><c>problems</c></NS>. But <NS type=\"RT\"><i>to</i><c>in</c></NS> my opinion if <NS type=\"MP\"><i>peoples</i><c>people's</c></NS> inventions <NS type=\"RV\"><i>take</i><c>have</c></NS> a place in our <NS type=\"IN\"><i>lifes</i><c>lives</c></NS> they are <NS type=\"RJ\">right</NS> then. I think the <NS type=\"S\"><i>telefone</i><c>telephone</c></NS> is the most important thing in many people's <NS type=\"IN\"><i>lifes</i><c>lives</c></NS> as it <NS type=\"RV\"><i>makes</i><c>allows</c></NS> you <NS type=\"U\"><i>to be able</i></NS> to get in touch with anyone <NS type=\"M\"><c>and it</c></NS> doesn't matter <NS type=\"RY\"><i>wherever</i><c>where</c></NS> you are (I am talking about mobile phones<NS type=\"MP\"><c>,</c></NS> which <NS type=\"W\"><i>now have a majority</i><c>a majority now have</c></NS> <NS type=\"RT\"><i>of</i><c>through</c></NS> <NS type=\"UD\"><i>our</i></NS> choice). Computers make everything much faster so everything is now based on computer systems. <NS type=\"RD\"><i>An</i><c>The</c></NS> electric lamp was an important invention <NS type=\"MD\"><c>a</c></NS> hundred years <NS type=\"RY\"><i>before</i><c>ago</c></NS> (<NS type=\"R\"><i>but for</i><c>at</c></NS> that time it was like a revolution). I think it wouldn't be possible <NS type=\"W\"><i>to survive for us</i><c>for us to survive</c></NS> without <NS type=\"UD\"><i>an</i></NS> <NS type=\"S\"><i>eclectric</i><c>electric</c></NS> <NS type=\"RN\"><i>life</i><c>light</c></NS>. Because of shipbuilding <NS type=\"FN\"><i>development</i><c>developments</c></NS> people <NS type=\"R\"><i>could</i><c>were able</c></NS> <NS type=\"FV\"><i>make</i><c>to make</c></NS> all <NS type=\"RD\"><i>the</i><c>those</c></NS> geographical discoveries, and <NS type=\"UD\"><i>an</i></NS> <NS type=\"DN\">automobile transport</NS> is <NS type=\"MD\"><c>an</c></NS> <NS type=\"DJ\"><i>undenyable</i><c>undeniable</c></NS> <NS type=\"S\"><i>neccecerity</i><c>necessity</c></NS> in our life.</p>\n<p><NS type=\"ID\"><i>In case of</i><c>Because of</c></NS> <NS type=\"RA\"><i>all</i><c>everything</c></NS> <NS type=\"MA\"><c>I</c></NS> <NS type=\"TV\"><i>said</i><c>have said</c></NS> I am more likely to think that the benefits of <NS type=\"UN\"><i>advantages of</i></NS> <NS type=\"S\"><i>peopel's</i><c>people's</c></NS> inventions are much <NS type=\"RJ\"><i><NS type=\"IJ\"><i>higre</i><c>higher</c></NS></i><c>greater</c></NS> <NS type=\"R\"><i>the</i><c>than</c></NS> all their disadvantages.</p>\n</coded_answer>",
         "2.2",
         "24.0",
         "Russian",
         "16-20"
        ],
        [
         "31",
         "doc3305.xml",
         "0100_2001_6",
         "TE94*0100*2001*01",
         "<coded_answer>\n<p>Dear Maria,</p>\n<p>I hope that all the information you need <NS type=\"TV\"><i>would</i><c>will</c></NS> be <NS type=\"RV\"><i>answered</i><c>provided</c></NS> <NS type=\"DY\"><i>satisfactorialy</i><c>satisfactorily</c></NS>.</p>\n<p>First of all you have been booked <NS type=\"MT\"><c>in</c></NS> at the palace hotel.</p>\n<p>Secondly the best way to go from the hotel to the conference <NS type=\"SA\"><i>center</i><c>centre</c></NS> is to use one of the <NS type=\"S\"><i>shutel</i><c>shuttle</c></NS> buses we provide at this <NS type=\"RN\"><i><NS type=\"S\"><i>efect</i><c>effect</c></NS></i><c>event</c></NS>. <NS type=\"RP\"><i>they</i><c>They</c></NS> are going to leave at 9 o'clock.</p>\n<p><NS type=\"RP\"><i>concerning</i><c>Concerning</c></NS> the <NS type=\"MP\"><i>end <NS type=\"MT\"><c>of</c></NS> conference</i><c>end-of-conference</c></NS> party<NS type=\"RP\"><i>. It</i><c>, it</c></NS> is going to take place in the same hotel, the <NS type=\"RP\"><i>palace hotel</i><c>Palace Hotel</c></NS><NS type=\"RP\"><i>, we</i><c>. We</c></NS> suggest casual <NS type=\"RN\"><i>dressing</i><c>dress</c></NS> for this special event.</p>\n<p><NS type=\"DY\"><i>Finaly</i><c>Finally</c></NS>, concerning your free afternoon, there are plenty of activities, but I suggest you<NS type=\"UP\"><i>,</i></NS> <NS type=\"FV\"><i>to visit</i><c>visit</c></NS> the Caldea <NS type=\"SA\"><i>center</i><c>centre</c></NS><NS type=\"MP\"><c>,</c></NS> <NS type=\"S\"><i>wich</i><c>which</c></NS> is a very special <NS type=\"RN\">bath</NS> <NS type=\"SA\"><i>center</i><c>centre</c></NS>.</p>\n<p>If you need <NS type=\"S\"><i>futher</i><c>further</c></NS> information do not hesitate to contact us.</p>\n<p><NS type=\"DA\"><i>Your</i><c>Yours</c></NS> sincerely</p>\n</coded_answer>",
         "2.3",
         "<coded_answer>\n<p>Dear Jhon,</p>\n<p>In your previous letter you asked <NS type=\"MT\"><c>for</c></NS> information about interesting <NS type=\"FN\"><i>building</i><c>buildings</c></NS> to visit in my country.</p>\n<p>There are plenty of <NS type=\"IN\"><i>churchs</i><c>churches</c></NS>, cathedrals, and <NS type=\"IJ\"><i>olds</i><c>old</c></NS> <NS type=\"S\"><i>cotages</i><c>cottages</c></NS>. The <NS type=\"IN\"><i>churchs</i><c>churches</c></NS> and the cathedral are very <NS type=\"S\"><i>intesting</i><c>interesting</c></NS> because of their <NS type=\"IJ\"><i>differents</i><c>different</c></NS> <NS type=\"RP\"><i><NS type=\"IJ\"><i>romanics</i><c>romanic</c></NS></i><c>Romanic</c></NS> styles. I suggest you visit first the cathedral of \"Le Seu d'Mrgell\" because it is the most <NS type=\"RJ\">emblematic</NS> building in the area.</p>\n<p>If you are interested <NS type=\"RT\"><i>by</i><c>in</c></NS> more <NS type=\"IJ\"><i>moderns</i><c>modern</c></NS> buildings I <NS type=\"UV\"><i>can</i></NS> suggest you <NS type=\"FV\"><i>to visit</i><c>visit</c></NS> \"Caldea\"<NS type=\"MP\"><c>,</c></NS> which is a very modern <NS type=\"RN\">bath</NS> centre with <NS type=\"UD\"><i>a</i></NS> beautiful architecture.</p>\n<p><NS type=\"DY\"><i>Finaly</i><c>Finally</c></NS> if none of my <NS type=\"AGN\"><i>suggestion</i><c>suggestions</c></NS> <NS type=\"R\">fit with <NS type=\"DI\"><i>yours</i><c>your</c></NS> expectations</NS>, let me <NS type=\"S\"><i>kwon</i><c>know</c></NS> more about what kind of buildings you are interested in and I'll do <NS type=\"UQ\"><i>all</i></NS> my best to find something more suitable.</p>\n<p>Best regards</p>\n</coded_answer>",
         "2.1",
         "23.0",
         "Catalan",
         "31-40"
        ],
        [
         "32",
         "doc3005.xml",
         "0100_2001_6",
         "TE25*0100*2001*01",
         "<coded_answer>\n<p>Dear Maria Smith,</p>\n<p>First of all, the group has been booked into the Palace Hotel. It is a big hotel because there will be a lot of people. It has a <NS type=\"UP\"><i>swimming-pool</i><c>swimming pool</c></NS> and a nice bar.</p>\n<p>The hotel is ten minutes <NS type=\"RY\"><i>far</i><c>away</c></NS> from the conference <NS type=\"MN\"><c>centre</c></NS> and there will be a bus available to go directly over there.</p>\n<p>At the end of the conference<NS type=\"UP\"><i>,</i></NS> there will be a dinner in a luxurious restaurant<NS type=\"MP\"><c>,</c></NS> so people must have nice clothes; <NS type=\"UP\"><i>jean's</i><c>jeans</c></NS> <NS type=\"AGV\"><i>is</i><c>are</c></NS> not allowed. Next to the restaurant, there is a disco for people who like dancing.</p>\n<p>We can do a lot of things in my area. We have the <NS type=\"RN\"><i>possibility</i><c>opportunity</c></NS> to visit the old town<NS type=\"RP\"><i>, it's</i><c>. It's</c></NS> very nice and there <NS type=\"AGV\"><i>is</i><c>are</c></NS> a lot of shops. We can visit the old castle or the painting museum too.</p>\n</coded_answer>",
         "3.2",
         "<coded_answer>\n<p>I find television the most important invention. I think it's good for old people because some of them cannot go to the cinema <NS type=\"SA\"><i>anymore</i><c>any more</c></NS>. <NS type=\"ID\"><i>In one hand</i><c>On the one hand</c></NS> <NS type=\"RA\"><i>it</i><c>that</c></NS>'s because they <NS type=\"RP\"><i>have not</i><c>haven't</c></NS> enough money to pay <NS type=\"MT\"><c>for</c></NS> it and <NS type=\"ID\"><i>in the other hand</i><c>on the other hand</c></NS> it's because they can't move very well<NS type=\"MP\"><c>,</c></NS> for example if they are disabled. With television, old people are less alone because most <NS type=\"UT\"><i>of</i></NS> old <NS type=\"FN\"><i>woman</i><c>women</c></NS> <NS type=\"FV\"><i>have not</i><c>don't have</c></NS> <NS type=\"RD\"><i>her</i><c>their</c></NS> <NS type=\"FN\"><i>husband</i><c>husbands</c></NS> <NS type=\"SA\"><i>anymore</i><c>any more</c></NS>.</p>\n<p>Television is a good way to be informed <NS type=\"RT\"><i>with</i><c>about</c></NS> the news. I prefer being informed by television than by newspapers<NS type=\"RP\"><i>,</i><c>;</c></NS> it's more relaxing.</p>\n<p>I think television is a good invention for children<NS type=\"MP\"><c>,</c></NS> <NS type=\"MT\"><c>for</c></NS> when they have free time<NS type=\"MP\"><i> <NS type=\"UC\"><i>and</i></NS> while</i><c>. While</c></NS> they are watching television, we don't have to look after them if we have something important to do.</p>\n</coded_answer>",
         "3.2",
         "26.0",
         "French",
         "16-20"
        ],
        [
         "33",
         "doc3220.xml",
         "0100_2001_6",
         "TE74*0100*2001*01",
         "<coded_answer>\n<p>12 June 2001</p>\n<p>Dear Mrs Smith</p>\n<p>Thank you for your letter dated 8 June 2001. I hope I can give you the information you need<NS type=\"RP\"><i>. So</i><c>, so</c></NS> the conference will be a great experience <NS type=\"RT\"><i>to</i><c>for</c></NS> you and your group.</p>\n<p>Your group will stay at the Palace Hotel. The Palace Hotel is situated in the town centre next to the railway station. A free <NS type=\"S\"><i><NS type=\"UP\"><i>shuttel-bus</i><c>shuttel bus</c></NS></i><c>shuttle bus</c></NS> <NS type=\"RV\"><i>gets</i><c>takes</c></NS> you to the <NS type=\"SA\"><i><NS type=\"UP\"><i>conference-center</i><c>conference center</c></NS></i><c>conference centre</c></NS>. The bus <NS type=\"IV\"><i>leavs</i><c>leaves</c></NS> at 8 a.m. <NS type=\"RT\"><i>at</i><c>from</c></NS> the front entrance of the hotel.</p>\n<p>The end-of-conference party is <NS type=\"UV\"><i>playing</i></NS> in a <NS type=\"RN\"><i>rent</i><c>tent</c></NS> and in the <NS type=\"FN\"><i><NS type=\"RP\"><i>greenground</i><c>green ground</c></NS></i><c>grounds</c></NS>. There will be a barbecue, a place to dance and <NS type=\"RA\"><i>many</i><c>much</c></NS> more. It <NS type=\"TV\"><i>is</i><c>will be</c></NS> a <NS type=\"S\"><i>surprice</i><c>surprise</c></NS>! I suggest <NS type=\"AS\"><i>to wear</i><c>that you wear</c></NS> <NS type=\"UP\"><i>leisure-clothes</i><c>leisure clothes</c></NS> <NS type=\"RT\"><i>to</i><c>for</c></NS> the party.</p>\n<p><NS type=\"MT\"><i>The</i><c>On the</c></NS> last afternoon you could go on a <NS type=\"UP\"><i>city-tour</i><c>city tour</c></NS>, <NS type=\"S\"><i>visite</i><c>visit</c></NS> the <NS type=\"RP\"><i>museum</i><c>Museum</c></NS> of Fine Arts<NS type=\"MP\"><c>,</c></NS> or enjoy the beautiful flower garden next to the <NS type=\"RJ\"><i>common</i><c>public</c></NS> park.</p>\n<p>I hope I <NS type=\"TV\"><i><NS type=\"RV\"><i>could</i><c>was able to</c></NS></i><c>have been able to</c></NS> give you some ideas. I look forward to seeing you.</p>\n<p>Yours sincerely,</p>\n</coded_answer>",
         "3.2",
         "<coded_answer>\n<p>What would life be without the phone?</p>\n<p>Have you ever thought about a world without <NS type=\"MD\"><c>the</c></NS> phone? <NS type=\"AS\"><i>How was it</i><c>What was it like</c></NS> in the <NS type=\"MP\"><i>18</i><c>18th</c></NS> century with no <NS type=\"RN\"><i>opportunity</i><c>possibility</c></NS> <NS type=\"MT\"><c>of</c></NS> <NS type=\"FV\"><i>to communicate</i><c>communicating</c></NS> by phone<NS type=\"MP\"><c>,</c></NS> and <NS type=\"AS\"><i>how would it be</i><c>what would it be like</c></NS> now?</p>\n<p>I <NS type=\"RP\"><i>can not</i><c>cannot</c></NS> imagine how our life would be. We <NS type=\"TV\"><i>are living</i><c>live</c></NS> in a busy world. In the business world you use the phone all the time to speak with your clients, to make appointments, to order an article <NS type=\"DY\"><i>e.c.</i><c>etc.</c></NS>; <NS type=\"RY\"><i>then</i><c>so</c></NS>, time is money!</p>\n<p>How has the phone affected my own life? I think<NS type=\"UP\"><i>,</i></NS> that is a good question to think about. I could not call my friends from <NS type=\"RP\"><i>an other</i><c>another</c></NS> city and just say \"hello\". It would be difficult and <NS type=\"TV\"><i>take</i><c>would take</c></NS> more time to make an appointment.</p>\n<p>So, what <NS type=\"TV\"><i>did the <NS type=\"UP\"><i>phone-revolution</i><c>phone revolution</c></NS></i><c>has the phone revolution done</c></NS> for us? It saves <NS type=\"MA\"><c>us</c></NS> time.</p>\n</coded_answer>",
         "4.1",
         "29.0",
         "German",
         "26-30"
        ],
        [
         "34",
         "doc2970.xml",
         "0100_2001_6",
         "TE13*0100*2001*01",
         "<coded_answer>\n<p>Dear Mrs Smith,</p>\n<p>I am glad to <NS type=\"FV\"><i>helping</i><c>help</c></NS> you <NS type=\"RT\"><i>for</i><c>with</c></NS> the organisation of the international student conference.</p>\n<p>The group has been booked into the Palace Hotel, and the best way to get from there to the conference is by tube<NS type=\"RP\"><i>, the</i><c>. The</c></NS> <NS type=\"RN\"><i>building</i><c>location</c></NS> of the conference is then five minutes by <NS type=\"S\"><i>footh</i><c>foot</c></NS>.</p>\n<p>At the <NS type=\"MD\"><i><NS type=\"UP\"><i>end-of-conference</i><c>end of conference</c></NS></i><c>end of the conference</c></NS> there is a party, where we can eat something, dance and speak to each other about the conference.</p>\n<p>For the party I suggest you <NS type=\"FV\"><i>to wear</i><c>wear</c></NS> classic clothes; maybe something black and not red or pink. I am going to wear <NS type=\"W\"><i>black classic</i><c>classic black</c></NS> trousers and a white <NS type=\"S\"><i>jorsey</i><c>jersey</c></NS> - it <NS type=\"RV\"><i>can</i><c>might</c></NS> be that this information <NS type=\"AGV\"><i>give</i><c>gives</c></NS> you some idea too.<NS type=\"UP\"><i>.</i></NS></p>\n<p>On the last day we are going to have about three <NS type=\"MP\"><i>hours</i><c>hours'</c></NS> free <NS type=\"FN\"><i>times</i><c>time</c></NS>. What do you think <NS type=\"R\"><i>if we will</i><c>about</c></NS> <NS type=\"FV\"><i>go</i><c>going</c></NS> to <NS type=\"UV\"><i>visit</i></NS> the Arts Museum? <NS type=\"SX\"><i>Of</i><c>Or</c></NS> <NS type=\"UC\"><i>if</i></NS> we <NS type=\"RV\"><i>will</i><c>could</c></NS> go to hear a classic concert near the conference <NS type=\"UP\"><i>building's</i><c>buildings</c></NS><NS type=\"RP\"><i>?</i><c>.</c></NS></p>\n<p>I hope that I have been able to give you some help. <NS type=\"RP\"><i>and</i><c>And</c></NS> I am looking forward to seeing you at the conference.</p>\n<p>Yours sincerely,</p>\n</coded_answer>",
         "3.3",
         "<coded_answer>\n<p>Dear Morgan,</p>\n<p>I am writing a report, <NS type=\"MT\"><c>in</c></NS> which <NS type=\"MA\"><c>I</c></NS> will describe <NS type=\"MT\"><c>for</c></NS> you the most important building <NS type=\"RT\"><i>of</i><c>in</c></NS> my town.</p>\n<p>The most important building of Biasco is the ,,Casa Cavalier Pellanda\". It is <NS type=\"RD\"><i>an</i><c>the</c></NS> <NS type=\"W\"><i>old big</i><c>big old</c></NS> house of a rich lord in the middle of the town. <NS type=\"RT\"><i>Into</i><c>In</c></NS> this house there is a big museum, where you <NS type=\"TV\"><i>could</i><c>can</c></NS> <NS type=\"RV\"><i>know</i><c>learn</c></NS> <NS type=\"MT\"><c>about</c></NS> the <NS type=\"RN\"><i>past</i><c>history</c></NS> of Biasco.</p>\n<p>Under the museum there is a big dark place, where the wine is produced. Your American students could learn how the ,,Meriot ticinese\" is produced and why <NS type=\"W\"><i>is it</i><c>it is</c></NS> so famous in Tiano. I think that these suggestions could interest your <NS type=\"FN\"><i>student</i><c>students</c></NS><NS type=\"MP\"><i> <NS type=\"RY\"><i>then</i><c>also</c></NS></i><c>. Also</c></NS> Biasco, with its ,,Casa Cavalier Pellanda\", is the middle <NS type=\"FN\"><i>points</i><c>point</c></NS> of two <NS type=\"DN\">tailes</NS> - Leventina and Blenio - and the middle <NS type=\"FN\"><i>points</i><c>point</c></NS> of two similar but also different cultures too.</p>\n<p>I hope that <NS type=\"CD\"><i>these</i><c>this</c></NS> <NS type=\"CN\"><i>informations</i><c>information</c></NS> will <NS type=\"RV\"><i>bring</i><c>encourage</c></NS> you to visit Biasco and its ,,house\".</p>\n<p>Yours <NS type=\"RY\"><i>faithfully</i><c>sincerely</c></NS>,</p>\n</coded_answer>",
         "3.3",
         "26.0",
         "Italian",
         "16-20"
        ],
        [
         "35",
         "doc3066.xml",
         "0100_2001_6",
         "TE43*0100*2001*01",
         "<coded_answer>\n<p>Dear Mrs <NS type=\"UN\"><i>Maria</i></NS> Smith,</p>\n<p>I want to inform you that I <NS type=\"TV\"><i>had already talked</i><c>have already talked</c></NS> to Richard Brown and he informed me about the conference. Next week I will <NS type=\"UV\"><i>be</i></NS> start organising some events for this conference.</p>\n<p>The <NS type=\"FN\"><i>event</i><c>events</c></NS> will <NS type=\"RV\"><i>organize</i><c>take place</c></NS> at the Palace Hotel<NS type=\"RP\"><i>. The</i><c>, the</c></NS> same hotel that <NS type=\"TV\"><i><NS type=\"W\"><i>will you</i><c>you will</c></NS> stay</i><c>you will be staying</c></NS> <NS type=\"MT\"><c>at</c></NS>. <NS type=\"MD\"><i>Palace</i><c>The Palace</c></NS> Hotel is opposite <NS type=\"UD\"><i>the</i></NS> <NS type=\"W\"><i><NS type=\"RP\"><i>park</i><c>Park</c></NS> <NS type=\"UP\"><i>`</i></NS>Clifton<NS type=\"UP\"><i>'</i></NS></i><c>Clifton Park</c></NS>, which is near the college. We chose that hotel because <NS type=\"W\"><i>is it</i><c>it is</c></NS> near the college and we don't need <NS type=\"UV\"><i>to use</i></NS> <NS type=\"UD\"><i>a</i></NS> transport. Because you know where <NS type=\"W\"><i>is the college</i><c>the college is</c></NS> and you need to bring <NS type=\"U\"><i>with me</i></NS> some things <NS type=\"RT\"><i>at</i><c>from</c></NS> the college to <NS type=\"MD\"><c>the</c></NS> hotel<NS type=\"MP\"><c>,</c></NS> I think that <NS type=\"MA\"><c>it</c></NS> is better <NS type=\"MT\"><c>for</c></NS> <NS type=\"W\"><i>to come all the group</i><c>all the group to come</c></NS> <NS type=\"RT\"><i>in</i><c>to</c></NS> <NS type=\"MD\"><c>the</c></NS> college and then we can <NS type=\"W\"><i>go all</i><c>all go</c></NS> together to the <NS type=\"UP\"><i>`</i></NS>Palace Hotel<NS type=\"UP\"><i>'</i></NS>. The conference <NS type=\"AGV\"><i>start</i><c>starts</c></NS> at 9:00 o'clock<NS type=\"MP\"><c>,</c></NS> you need to be at the college half an hour before.</p>\n<p>Concerning the end-of-conference <NS type=\"MN\"><c>party</c></NS><NS type=\"MP\"><c>,</c></NS> I'm thinking about some dance and singing events. <NS type=\"R\"><i>Tell me your idea</i><c>Let me know what you think</c></NS>. About the clothes that <NS type=\"RA\"><i>we</i><c>you</c></NS> need to wear, <NS type=\"MA\"><c>it</c></NS> must be <NS type=\"MD\"><c>your</c></NS> uniform, because <NS type=\"MA\"><c>it</c></NS> is the best conference <NS type=\"RT\"><i>to</i><c>in</c></NS> London and every year <NS type=\"TV\"><i>are <NS type=\"W\"><i>coming</i><c>come</c></NS> <NS type=\"RN\"><i>lectures</i><c>lecturers</c></NS></i><c>lecturers come</c></NS> from other colleges.</p>\n<p>Finally<NS type=\"MP\"><c>,</c></NS> on the last day<NS type=\"MP\"><c>,</c></NS> we have organised a <NS type=\"DN\"><i>seeing-crossing</i><c>sightseeing tour</c></NS> around London. You will have the opportunity <NS type=\"MT\"><c>of</c></NS> visiting some museums and <NS type=\"MD\"><c>the</c></NS> zoo <NS type=\"UN\"><i>parks</i></NS>. I think it is a nice idea.</p>\n<p>If you want more information you can call me<NS type=\"MP\"><c>,</c></NS> my telephone number is 047***. Please<NS type=\"MP\"><c>,</c></NS> if you have <NS type=\"MQ\"><c>any</c></NS> more ideas<NS type=\"MP\"><c>,</c></NS> send me a letter.</p>\n<p>Yours <NS type=\"RP\"><i>Sincerely</i><c>sincerely</c></NS>,</p>\n</coded_answer>",
         "2.3",
         "<coded_answer>\n<p><NS type=\"S\"><i>Nowdays</i><c>Nowadays</c></NS> <NS type=\"R\"><i>all the people</i><c>everyone</c></NS> <NS type=\"AGV\"><i>have</i><c>has</c></NS> a telephone. <NS type=\"MD\"><i>Telephone</i><c>The telephone</c></NS> is part of our life. It is one of the most important <NS type=\"RN\"><i><NS type=\"AGN\"><i>investigation</i><c>investigations</c></NS></i><c>inventions</c></NS> all over the world.</p>\n<p><NS type=\"MD\"><i>Telephone</i><c>The telephone</c></NS> is <NS type=\"MD\"><c>a</c></NS> <NS type=\"RN\"><i>type</i><c>means</c></NS> of communication. If you want to talk <NS type=\"RT\"><i>with</i><c>to</c></NS> your friends, parents, <NS type=\"W\"><i>partner or</i><c>or partner</c></NS> to ask something, you can call them without wondering how <NS type=\"MA\"><c>you</c></NS> can <NS type=\"UV\"><i>be</i></NS> communicate with them. <NS type=\"DY\"><i>Especial</i><c>Especially</c></NS> if some of your relatives or friends <NS type=\"TV\"><i>are living</i><c>live</c></NS> in <NS type=\"AGQ\"><i>other</i><c>another</c></NS> country you can communicate with them <NS type=\"UC\"><i>and</i></NS> <NS type=\"RP\"><i>everyday</i><c>every day</c></NS> and you don't feel that they are far <NS type=\"RP\"><i>a way</i><c>away</c></NS> from you.</p>\n<p>Today<NS type=\"MP\"><c>,</c></NS> with the development of technology<NS type=\"MP\"><c>,</c></NS> <NS type=\"W\"><i><NS type=\"AGV\"><i>has</i><c>have</c></NS> been improved and the <NS type=\"RN\"><i>abilities</i><c>capabilities</c></NS> of the telephone</i><c>the capabilities of the telephone have been improved</c></NS>. <NS type=\"RA\"><i>They</i><c>There</c></NS> are telephones that <NS type=\"W\"><i>you <NS type=\"RV\"><i>have</i><c>give</c></NS></i><c>give you</c></NS> the opportunity to talk with more than one <NS type=\"AGN\"><i>people</i><c>person</c></NS> <NS type=\"RT\"><i>at</i><c>on</c></NS> the line. Also you can leave a message if you call and can't <NS type=\"RV\"><i>find</i><c>reach</c></NS> someone. The <NS type=\"RJ\"><i>last</i><c>latest</c></NS> type of telephone<NS type=\"UP\"><i>,</i></NS> is the mobile phone. You can use it everywhere and <NS type=\"UT\"><i>at</i></NS> anytime.</p>\n<p>Finally<NS type=\"MP\"><c>,</c></NS> <NS type=\"MD\"><c>the</c></NS> telephone<NS type=\"MP\"><c>,</c></NS> except|apart from <NS type=\"MV\"><c>being</c></NS> <NS type=\"MD\"><c>a</c></NS> <NS type=\"RN\"><i>type</i><c>means</c></NS> of communication, is <NS type=\"MD\"><c>a</c></NS> <NS type=\"RN\"><i>type</i><c>means</c></NS> <NS type=\"R\"><i>and</i><c>of</c></NS> socialisation. Nowadays <NS type=\"RA\"><i>who</i><c>we</c></NS> are <NS type=\"RY\"><i>so</i><c>very</c></NS> <NS type=\"S\"><i>bussy</i><c>busy</c></NS> and we don't have free time to see our friends, <NS type=\"MC\"><c>but</c></NS> we can call them and talk or chat with them. <NS type=\"W\"><i><NS type=\"DY\"><i>Especial</i><c>Especially</c></NS> <NS type=\"UD\"><i>the</i></NS> young people</i><c>Young people especially</c></NS> <NS type=\"TV\"><i>are <NS type=\"RV\"><i>using</i><c>spending</c></NS></i><c>spend</c></NS> many hours <NS type=\"MT\"><c>on</c></NS> the telephone and that <NS type=\"RV\"><i>is</i><c>causes</c></NS> trouble for their parents.</p>\n<p><NS type=\"MD\"><i>Telephone</i><c>The telephone</c></NS> is <NS type=\"MD\"><c>a</c></NS> very important <NS type=\"RN\"><i>investigation</i><c>invention</c></NS> <NS type=\"M\"/> if we can use it <NS type=\"DY\"><i>correct</i><c>correctly</c></NS> without <NS type=\"FV\"><i>use</i><c>using</c></NS> it as <NS type=\"MD\"><c>a</c></NS> type of <NS type=\"S\"><i>entertaiment</i><c>entertainment</c></NS> as <NS type=\"UA\"><i>they</i></NS> <NS type=\"W\"><i><NS type=\"TV\"><i>are doing</i><c>do</c></NS> <NS type=\"S\"><i>nowadys</i><c>nowadays</c></NS> many people</i><c>many people do nowadays</c></NS>.</p>\n</coded_answer>",
         "2.1",
         "19.0",
         "Greek",
         "21-25"
        ],
        [
         "36",
         "doc2959.xml",
         "0100_2001_6",
         "TE9*0100*2001*01",
         "<coded_answer>\n<p>Dear Mrs Smith</p>\n<p>Thank you for your <NS type=\"S\"><i>lettre</i><c>letter</c></NS>. Of course I will give you some more <NS type=\"AGN\"><i>detail</i><c>details</c></NS> about the student conference.</p>\n<p>First of all the hotel Richard Brown <NS type=\"TV\"><i>has been <NS type=\"DV\"><i>loocked</i><c>looked</c></NS></i><c>has looked</c></NS> <NS type=\"RT\"><i>in</i><c>at</c></NS> is the Palace Hotel. <NS type=\"MP\"><i>Its</i><c>It's</c></NS> located close to the main <NS type=\"RP\"><i>trainstation</i><c>train station</c></NS> in our town. It is quite near the conference building. There will be <NS type=\"FN\"><i><NS type=\"RP\"><i>extrabus</i><c>extra bus</c></NS></i><c>extra buses</c></NS> to get there. The bus will pick you up right at your hotel <NS type=\"RN\"><i><NS type=\"DN\"><i>entery</i><c>entry</c></NS></i><c>entrance</c></NS>. The end-of-conference party will be a small dinner for all <NS type=\"MD\"><c>the</c></NS> students. You do not have to wear <NS type=\"S\"><i>spezial</i><c>special</c></NS> clothes, just wear what you always wear. If you take your uniform with you it would be pleasant to leave it at the hotel<NS type=\"UP\"><i>.</i></NS> and wear something else.</p>\n<p>There are many things you could do for this short time on the last day. You could visit our famous Museum of Art or go for a walk along the <NS type=\"RN\"><i>lake</i><c>lakeside</c></NS>. If you want <NS type=\"MV\"><c>to do</c></NS> something for fun or entertainment<NS type=\"MP\"><c>,</c></NS> go bowling.</p>\n<p> If you have any further questions, just let me know<NS type=\"MP\"><c>.</c></NS></p>\n<p>Yours sincerely</p>\n</coded_answer>",
         "3.1",
         "<coded_answer>\n<p>Our <NS type=\"RP\"><i>Church</i><c>church</c></NS> is a very famous building <NS type=\"RT\"><i>at</i><c>in</c></NS> our country. It is eighty <NS type=\"SA\"><i>meters</i><c>metres</c></NS> long and its tower is <NS type=\"MP\"><i><NS type=\"DN\"><i>fourty</i><c>forty</c></NS> five</i><c>forty-five</c></NS> <NS type=\"SA\"><i>meters</i><c>metres</c></NS> <NS type=\"RJ\"><i>high</i><c>tall</c></NS>. On the top of the tower it has a huge clock on <NS type=\"S\"><i>eatch</i><c>each</c></NS> side. The tower is red and the church itself is <NS type=\"W\"><i>white painted</i><c>painted white</c></NS>. In the church are many expensive <NS type=\"RN\"><i>draws</i><c>drawings</c></NS>. There is space for about five hundred people. The church was built in 1385. It <NS type=\"TV\"><i>is</i><c>was</c></NS> rebuilt in 1948 because of the <NS type=\"S\"><i>Secound</i><c>Second</c></NS> <NS type=\"RP\"><i>world war</i><c>World War</c></NS><NS type=\"MP\"><c>,</c></NS> <NS type=\"MY\"><c>when</c></NS> it had been <NS type=\"S\"><i>demaged</i><c>damaged</c></NS>. The church is located <NS type=\"RT\"><i>on</i><c>in</c></NS> a place where you <NS type=\"MV\"><c>can</c></NS> see the whole <NS type=\"W\"><i>mountain chain of Rigi</i><c>Rigi mountain chain</c></NS>. Visit our church because it is one of the most famous <NS type=\"AGN\"><i>church</i><c>churches</c></NS> in our country. It has <NS type=\"FD\"><i>a</i><c>an</c></NS> interesting past. The tower is <NS type=\"DY\"><i>absolutly</i><c>absolutely</c></NS> <NS type=\"SA\"><i>marvelous</i><c>marvellous</c></NS>. You can walk to the top of the tower and it <NS type=\"RV\"><i>shows</i><c>gives</c></NS> you a beautiful view. If you want to visit the church, there will be a special guide who <NS type=\"TV\"><i>shows</i><c>will show</c></NS> you <NS type=\"S\"><i>al</i><c>all</c></NS> the things and answer your questions. <NS type=\"UD\"><i>The <NS type=\"DN\"><i>entery</i><c>entry</c></NS></i><c>Entry</c></NS> <NS type=\"TV\"><i>will be</i><c>is</c></NS> free.</p>\n</coded_answer>",
         "3.1",
         "24.0",
         "German",
         "21-25"
        ],
        [
         "37",
         "doc3052.xml",
         "0100_2001_6",
         "TE95*0100*2001*01",
         "<coded_answer>\n<p>June 12, 2001</p>\n<p>Dear Mrs Smith,</p>\n<p>In <NS type=\"DN\"><i>replied</i><c>reply</c></NS> <NS type=\"RT\"><i>of</i><c>to</c></NS> your letter, I will try to give you some <NS type=\"CN\"><i>advices</i><c>advice</c></NS>.</p>\n<p>Concerning the hotel, the group has been booked into the Palace Hotel. The conference will take place not far from the hotel so you will see <NS type=\"RN\"><i>indications</i><c>directions</c></NS> to follow.</p>\n<p>For the conference, I suggest you <NS type=\"FV\"><i>to wear</i><c>wear</c></NS> a beautiful dress, because there will be important <NS type=\"L\"><i>persons</i><c>people</c></NS> <NS type=\"RT\"><i>of</i><c>from</c></NS> <NS type=\"DI\"><i>others</i><c>other</c></NS> colleges. At the end of the conference, all students and <NS type=\"AGN\"><i>leader</i><c>leaders</c></NS> will have a drink.</p>\n<p>To finish, if you have spare time, you could walk <NS type=\"RT\"><i>on</i><c>in</c></NS> the <NS type=\"SA\"><i>center</i><c>centre</c></NS> of Poitiers which is very beautiful.</p>\n<p>I hope I <NS type=\"TV\"><i>give</i><c>have given</c></NS> you enough details.</p>\n<p>I look forward to meeting you <NS type=\"RT\"><i>on</i><c>at</c></NS> the conference.</p>\n<p>Yours faithfully,</p>\n</coded_answer>",
         "2.3",
         "<coded_answer>\n<p>The building called in French \"Le Centre Pompidou\" is a very surprising monument.</p>\n<p>It's a modern building with an architecture that you can't see in <NS type=\"MQ\"><c>any</c></NS> other place.</p>\n<p>What is impressive <NS type=\"RT\"><i>on</i><c>about</c></NS> this building is the number of tubes that you can see outside and inside the building.</p>\n<p><NS type=\"RT\"><i>On</i><c>In</c></NS> the <NS type=\"UP\"><i>Pompidou's</i><c>Pompidou</c></NS> <NS type=\"SA\"><i>center</i><c>centre</c></NS>, there are different <NS type=\"RN\"><i>expositions</i><c>exhibitions</c></NS> on different themes. In general, there are paintings, videos and sculptures. <NS type=\"AGD\"><i>This</i><c>These</c></NS> <NS type=\"RN\"><i>expositions</i><c>exhibitions</c></NS> are often very attractive and they change every year.</p>\n<p>Another good point, if you go there you will have an extraordinary view <NS type=\"RT\"><i>on</i><c>over</c></NS> the city.</p>\n<p>So if you visit Paris, the <NS type=\"UP\"><i>Pompidou's</i><c>Pompidou</c></NS> <NS type=\"SA\"><i>center</i><c>centre</c></NS> is a very interesting building to visit, even if in Paris there are many <NS type=\"DI\"><i>others</i><c>other</c></NS> buildings.</p>\n</coded_answer>",
         "4.3",
         "27.0",
         "French",
         "21-25"
        ],
        [
         "38",
         "doc3098.xml",
         "0100_2001_6",
         "TE52*0100*2001*01",
         "<coded_answer>\n<p>Dear Mrs Smith,</p>\n<p>I am writing with reference <NS type=\"RT\"><i>on</i><c>to</c></NS> your letter concerning <NS type=\"RD\"><i>an</i><c>the</c></NS> organization of an international student conference <NS type=\"RT\"><i>in</i><c>at</c></NS> Wimbledon Art College. Below I <NS type=\"RV\"><i><NS type=\"TV\"><i>am clarifying</i><c>clarify</c></NS></i><c>provide</c></NS> some information you asked about.</p>\n<p>First of all, I would like to give you more information about <NS type=\"MD\"><c>the</c></NS> name and location of the hotel. The group has been booked into <NS type=\"MD\"><c>the</c></NS> \"Maria Luisa\" <NS type=\"RP\"><i>hotel</i><c>Hotel</c></NS><NS type=\"MP\"><c>,</c></NS> which is situated <NS type=\"RT\"><i>on</i><c>in</c></NS> the <NS type=\"SA\"><i>center</i><c>centre</c></NS> of Wimbledon called Wimbledon Village. This hotel is the next building after <NS type=\"MD\"><c>the</c></NS> Art College, so it will be easy for your group to find the place.</p>\n<p>Secondly turning to the end-of-conference party, it is <NS type=\"RV\"><i><NS type=\"IV\"><i>planed</i><c>planned</c></NS></i><c>meant</c></NS> to be <NS type=\"RT\"><i>in</i><c>on</c></NS> Wimbledon Common - <NS type=\"MD\"><c>a</c></NS> nice piece of <NS type=\"DJ\"><i>England</i><c>English</c></NS> <NS type=\"RN\"><i>nature</i><c>countryside</c></NS>. So, it may be a good idea to <NS type=\"RV\"><i>take</i><c>wear</c></NS> <NS type=\"UQ\"><i>some</i></NS> very comfortable and informal clothes.</p>\n<p>Thirdly, talking about your free afternoon before leaving the area, I would suggest you <NS type=\"FV\"><i>to visit</i><c>visit</c></NS> <NS type=\"MD\"><c>the</c></NS> Wimbledon Museum of Tennis. <NS type=\"SX\"><i>Where</i><c>There</c></NS> is quite <NS type=\"MD\"><c>a</c></NS> good <NS type=\"RN\"><i>exposition</i><c>exhibition</c></NS> <NS type=\"SX\"><i>their</i><c>there</c></NS>, giving interesting information about the history of Wimbledon Tennis Tournaments.</p>\n<p>I look forward to meeting your group <NS type=\"RT\"><i>in</i><c>at</c></NS> our conference.</p>\n<p>Yours sincerely,</p>\n</coded_answer>",
         "3.2",
         "<coded_answer>\n<p>Report.</p>\n<p>Introduction:</p>\n<p>The purpose of this report is to give a brief <NS type=\"S\"><i>discription</i><c>description</c></NS> of the Academy of Art in <NS type=\"UP\"><i>St.-Petersburg</i><c>St Petersburg</c></NS>. <NS type=\"ID\"><i>From my point of view</i><c>In my opinion</c></NS> this building is the best <NS type=\"RN\"><i>option</i><c>place</c></NS> to visit.</p>\n<p>Location:</p>\n<p>This building is situated on the magnificent <NS type=\"RN\"><i>embankment</i><c>bank</c></NS> of <NS type=\"MD\"><c>the</c></NS> Niva River with an <NS type=\"S\"><i>exellent</i><c>excellent</c></NS> view <NS type=\"RT\"><i>on</i><c>of</c></NS> the Hermitage Museum.</p>\n<p>History:</p>\n<p>The building was built by <NS type=\"MD\"><c>a</c></NS> very <NS type=\"DJ\"><i>famious</i><c>famous</c></NS> Russian architect and is a <NS type=\"S\"><i>marvellouse</i><c>marvellous</c></NS> example of Russian classic <NS type=\"S\"><i>architerture</i><c>architecture</c></NS> of <NS type=\"MD\"><c>the</c></NS> <NS type=\"UP\"><i>XVIIIth</i><c>XVIII</c></NS> century.</p>\n<p>Facilities:</p>\n<p>In the Academy of Art you can find the <NS type=\"IJ\"><i>oldiest</i><c>oldest</c></NS> art <NS type=\"S\"><i>libarary</i><c>library</c></NS><NS type=\"MP\"><c>,</c></NS> with a wide range of books, <NS type=\"MC\"><c>and</c></NS> the Museum of Russian Art<NS type=\"MP\"><c>,</c></NS> with a huge collection of <NS type=\"AGN\"><i>painting</i><c>paintings</c></NS>, sculpture and architectural projects from <NS type=\"MD\"><c>the</c></NS> early eighteenth to late twentieth centuries. It is also a good <NS type=\"RN\"><i>chance</i><c>opportunity</c></NS> to be introduced <NS type=\"RT\"><i>with</i><c>to</c></NS> <NS type=\"MD\"><c>the</c></NS> Russian system of art education.</p>\n<p>Conclusion:</p>\n<p>The building of <NS type=\"MD\"><c>the</c></NS> Academy of Art in <NS type=\"UP\"><i>St.-Petersburg</i><c>St Petersburg</c></NS> is worth visiting and interesting <NS type=\"RT\"><i>as</i><c>because of</c></NS> <NS type=\"MD\"><c>its</c></NS> <NS type=\"RJ\"><i>historical</i><c>historic</c></NS> <NS type=\"R\"><i>as</i><c>and</c></NS> educational aspects.</p>\n</coded_answer>",
         "3.3",
         "27.0",
         "Russian",
         "26-30"
        ],
        [
         "39",
         "doc2799.xml",
         "0100_2001_6",
         "TE3*0100*2001*01",
         "<coded_answer>\n<p>Dear Maria</p>\n<p>First at all, I am sorry about <NS type=\"MP\"><i>Richard</i><c>Richard's</c></NS> illness. Please remember me to him and give him my best wishes. <NS type=\"L\"><i>About</i><c>concerning</c></NS> your request, I'm going to give you all the information that I think you <NS type=\"RV\"><i>must</i><c>will</c></NS> need<NS type=\"RP\"><i>, however</i><c>. However</c></NS><NS type=\"MP\"><c>,</c></NS> you can call me if you consider it necessary<NS type=\"RP\"><i>, (my</i><c>. (My</c></NS> phone number is 2496 9731<NS type=\"RP\"><i>).</i><c>.)</c></NS></p>\n<p>Your group has been booked into the Palace Hotel. Because it is a <NS type=\"S\"><i>wellkown</i><c>well-known</c></NS> hotel it should be easy to find it. Moreover, it is really <NS type=\"UP\"><i>well-located</i><c>well located</c></NS> so it will allow you to move around the city without any problem. <NS type=\"RY\"><i>Even more</i><c>More importantly</c></NS> the conference is going to take place in the Exhibition Centre, which is located only five <NS type=\"MP\"><i>minutes</i><c>minutes'</c></NS> <NS type=\"RN\"><i>walking</i><c>walk</c></NS> <NS type=\"UJ\"><i>far</i></NS> from the <NS type=\"RP\"><i>Hotel</i><c>hotel</c></NS>.</p>\n<p>We haven't <NS type=\"R\">asked for any special clothes</NS> so I would wear casual and comfortable clothes, although you can come <NS type=\"UP\"><i>well-dressed</i><c>well dressed</c></NS>, if you feel better <NS type=\"M\"><c>that way</c></NS>. After the conference we are going to have an informal dinner <NS type=\"R\">with a previous snack time</NS> in order to introduce <NS type=\"M\"><c>ourselves to</c></NS> each <NS type=\"AGA\"><i>others</i><c>other</c></NS>.</p>\n<p>Finally<NS type=\"MP\"><c>,</c></NS> in my opinion, you should visit the Art Gallery. It will take you two or three hours but it's a gorgeous place. I look forward <NS type=\"MT\"><c>to</c></NS> hearing from you.</p>\n<p>Yours sincerely,</p>\n</coded_answer>",
         "5.1",
         "<coded_answer>\n<p>\"Sagrada Familia\"<NS type=\"MP\"><c>,</c></NS> a real <NS type=\"SX\"><i>holly</i><c>holy</c></NS> building.</p>\n<p>If you are looking for a special building in Barcelona, which you <NS type=\"RV\"><i>can</i><c>will</c></NS> like whatever your tastes are, you should visit the \"Sagrada Familia\". Among the <NS type=\"RJ\"><i>big</i><c>large</c></NS> number of choices, this unfinished church offers a gorgeous view <NS type=\"SX\"><i>fro</i><c>from</c></NS> the top of its towers, a charming story and one of the most representative examples of <NS type=\"UD\"><i>the</i></NS> <NS type=\"DJ\"><i>Catalonia</i><c>Catalonian</c></NS> <NS type=\"S\"><i>modernisme</i><c>modernist</c></NS> art.</p>\n<p>Gaudi conceived <NS type=\"MT\"><c>of</c></NS> this church <NS type=\"S\"><i>n</i><c>in</c></NS> 1912, though it wasn't until 1920 they started to build it. Since the beginning the work <NS type=\"TV\"><i>was</i><c>has been</c></NS> interrupted <NS type=\"RT\"><i>in</i><c>at</c></NS> different <NS type=\"RN\"><i>periods</i><c>times</c></NS> and started again. After <NS type=\"MP\"><i>Gaudi</i><c>Gaudi's</c></NS> death <NS type=\"R\">it was critical stop which was fortunately solved</NS> three years later. Nowadays, <NS type=\"UD\"><i>a</i></NS> hard work is being done in order to finish <NS type=\"MA\"><c>it</c></NS> as soon as possible.</p>\n<p>The visitor can <NS type=\"RV\"><i>wonder</i><c>wander</c></NS> around <NS type=\"RQ\"><i>all the</i><c>the whole</c></NS> building or follow a guided <NS type=\"RN\"><i>visit</i><c>tour</c></NS>. There is <NS type=\"FD\"><i>a</i><c>an</c></NS> exhibition room where maps and <NS type=\"RN\"><i>projects</i><c>plans</c></NS> can be <NS type=\"RV\">consulted</NS>. And, unless you suffer from <NS type=\"RD\"><i>your</i><c>a</c></NS> heart <NS type=\"MN\"><c>problem</c></NS>, you should climb the 350 steps which carry you to the top. There you can enjoy a terrific view<NS type=\"RP\"><i>, not</i><c>. Not</c></NS> only will you see almost all the city but also you will discover another perspective of this <NS type=\"S\"><i>magnific</i><c>magnificent</c></NS> building.</p>\n</coded_answer>",
         "5.1",
         "34.0",
         "Catalan",
         "26-30"
        ],
        [
         "40",
         "doc3019.xml",
         "0100_2001_6",
         "TE27*0100*2001*01",
         "<coded_answer>\n<p>Dear Mrs Smith,</p>\n<p>I am <NS type=\"IV\"><i>writting</i><c>writing</c></NS> to answer your letter where you asked for information about the <NS type=\"S\"><i>conferents</i><c>conference</c></NS> and other points in relation <NS type=\"RT\"><i>with</i><c>to</c></NS> <NS type=\"MA\"><c>it</c></NS>.</p>\n<p>The hotel where your group has been booked is the Palace Hotel. It is a very nice hotel in the centre of the city, and that is very near <NS type=\"RT\"><i>of</i><c>to</c></NS> the college <NS type=\"SX\"><i>which</i><c>where</c></NS> the conference is <NS type=\"R\"><i>into,</i><c>being held -</c></NS> five <NS type=\"MP\"><i>minutes</i><c>minutes'</c></NS> <NS type=\"RN\"><i>walking</i><c>walk</c></NS>. <NS type=\"UV\"><i>Going walking</i><c>Walking</c></NS> is quicker than waiting for a taxi or a bus. When you arrive <NS type=\"RT\"><i>to</i><c>at</c></NS> the <NS type=\"RP\"><i>Colleges</i><c>colleges</c></NS> there will be people indicating the way to the conference room.</p>\n<p>At the end of the conference we are <NS type=\"RV\"><i>doing</i><c>throwing</c></NS> a party with some cold <NS type=\"SX\"><i>good</i><c>food</c></NS> and some drinks. There will be music as well for dancing. The director of the <NS type=\"RP\"><i>College</i><c>college</c></NS> has suggested <NS type=\"FV\"><i>to wear</i><c>wearing</c></NS> smart clothes for that occasion and I give you the same advice.</p>\n<p><NS type=\"W\"><i><NS type=\"L\"><i>About</i><c>Regarding</c></NS> the afternoon before <NS type=\"MA\"><c>you</c></NS> <NS type=\"TV\"><i>leaving</i><c>leave</c></NS> I have some suggestions</i><c>I have some suggestions regarding the afternoon before you leave</c></NS>. In the <NS type=\"RN\"><i>area</i><c>vicinity</c></NS> of the <NS type=\"RP\"><i>Hotel</i><c>hotel</c></NS> there are two interesting places to visit. One is the Picasso museum and the other is an important Gallery where you can enjoy seeing <NS type=\"IJ\"><i>differents</i><c>different</c></NS> kinds of paintings.</p>\n<p>I hope my information <NS type=\"RV\"><i>can</i><c>will</c></NS> help you and it has been useful for you.</p>\n<p>I am looking forwards to <NS type=\"FV\"><i>see</i><c>seeing</c></NS> you at the <NS type=\"RP\"><i>Conference</i><c>conference</c></NS>.</p>\n<p>Yours sincerely,</p>\n</coded_answer>",
         "3.3",
         "<coded_answer>\n<p>There is an invention that I think <NS type=\"UC\"><i>that</i></NS> has been very important: the computer.</p>\n<p>The computer is very useful and <NS type=\"RP\"><i>It</i><c>it</c></NS> has <NS type=\"TV\"><i>affect</i><c>affected</c></NS> our own <NS type=\"IN\"><i>lifes</i><c>lives</c></NS><NS type=\"UP\"><i>,</i></NS> in <NS type=\"IJ\"><i>differents</i><c>different</c></NS> <NS type=\"RN\"><i>meanings</i><c>ways</c></NS>. The computer has <NS type=\"RV\"><i>done</i><c>made</c></NS> <NS type=\"W\"><i><NS type=\"FJ\"><i>easy</i><c>easier</c></NS> a lot of <NS type=\"RN\"><i>works</i><c>jobs</c></NS></i><c>a lot of jobs easier</c></NS>. <NS type=\"W\"><i>For <NS type=\"RN\"><i>works</i><c>jobs</c></NS> that you needed, for example three hours</i><c>Jobs that you needed, for example, three hours for</c></NS> you can do <NS type=\"UA\"><i>them</i></NS> in ten minutes; <NS type=\"R\">the same</NS>! But computers <NS type=\"X\"><i>don't have affected only</i><c>haven't only affected</c></NS> <NS type=\"MA\"><c>us</c></NS> in a good way because <NS type=\"IN\"><i>thank</i><c>thanks</c></NS> <NS type=\"UA\"><i>you</i></NS> to computers the number the <NS type=\"RN\"><i>places of work</i><c>jobs</c></NS> <NS type=\"MJ\"><c>available</c></NS> for <NS type=\"UD\"><i>the</i></NS> <NS type=\"L\"><i>persons</i><c>people</c></NS> is <NS type=\"RJ\"><i>minor</i><c>smaller</c></NS>. But<NS type=\"UP\"><i>,</i></NS> <NS type=\"W\"><i><NS type=\"S\"><i>definetely</i><c>definitely</c></NS> they <NS type=\"AGV\"><i>has</i><c>have</c></NS></i><c>they have definitely</c></NS> been a very important invention.</p>\n<p>The last <NS type=\"DN\">relationed</NS> with computers is <NS type=\"MD\"><c>the</c></NS> <NS type=\"RP\"><i>internet</i><c>Internet</c></NS>. <NS type=\"RT\"><i>By</i><c>With</c></NS> <NS type=\"MD\"><c>the</c></NS> <NS type=\"RP\"><i>internet</i><c>Internet</c></NS> you can <NS type=\"S\"><i>comunicate</i><c>communicate</c></NS> with people <NS type=\"RT\"><i>of</i><c>in</c></NS> <NS type=\"IJ\"><i>differents</i><c>different</c></NS> places of the world at the same moment. And you can <NS type=\"RV\"><i>take</i><c>get</c></NS> lots of <NS type=\"CN\"><i>informations</i><c>information</c></NS> about a lot of things. <NS type=\"AS\"><i><NS type=\"RP\"><i>Every thing</i><c>Everything</c></NS> that you need you can find it</i><c>You can find everything that you need</c></NS> <NS type=\"RT\"><i>in</i><c>on</c></NS> <NS type=\"MD\"><c>the</c></NS> <NS type=\"RP\"><i>internet</i><c>Internet</c></NS>.</p>\n<p>Nowadays <NS type=\"AGN\"><i>computer</i><c>computers</c></NS> are very <NS type=\"DJ\"><i>developmented</i><c>advanced</c></NS> and <NS type=\"AGA\"><i>it</i><c>they</c></NS> <NS type=\"AGV\"><i>is</i><c>are</c></NS> <NS type=\"RV\">increasing</NS>. What will be <NS type=\"UD\"><i>the</i></NS> next?</p>\n</coded_answer>",
         "2.1",
         "24.0",
         "Catalan",
         "26-30"
        ],
        [
         "41",
         "doc2983.xml",
         "0100_2001_6",
         "TE16*0100*2001*01",
         "<coded_answer>\n<p>Dear Mrs Smith</p>\n<p>It was such a pleasure to receive your letter, and we will be extremely glad to see you at the conference<NS type=\"UP\"><i>,</i></NS> we have been organising. Let me give you some further information concerning the event.</p>\n<p>Firstly I would like to inform you about the hotel we have already booked for you. <NS type=\"MA\"><i>Is</i><c>It is</c></NS> called <NS type=\"MD\"><c>the</c></NS> Palace Hotel, and we hope that <NS type=\"MA\"><c>it</c></NS> is going to <NS type=\"RV\"><i>satisfy</i><c>meet</c></NS> your <NS type=\"S\"><i>expectetions</i><c>expectations</c></NS>. The conference is not too far from your hotel. I strongly <NS type=\"S\"><i>reccommend</i><c>recommend</c></NS> you to use <NS type=\"UD\"><i>the</i></NS> public <NS type=\"RN\"><i>transportation</i><c>transport</c></NS> in order to get there, <NS type=\"SX\"><i>cause</i><c>because</c></NS> you may <NS type=\"UV\"><i>be</i></NS> find other types of transportation quite expensive.</p>\n<p>Moreover, you must be aware of the fact that the conference is going to last two hours, <NS type=\"S\"><i>untill</i><c>until</c></NS> 10:00 pm. After that our college has organised a <NS type=\"S\"><i>barbequiou</i><c>barbecue</c></NS> night, with traditional local music that you must not miss. You don't need to wear formal clothes<NS type=\"RP\"><i>. Just</i><c>, just</c></NS> <NS type=\"RP\"><i>every day</i><c>everyday</c></NS> clothes.</p>\n<p>Finally, I am aware of the fact that <NS type=\"MT\"><c>on</c></NS> the last day you have some hours free before you catch your plane. Don't miss the chance to visit our famous tourist attractions. There is also <NS type=\"MD\"><c>a</c></NS> huge <NS type=\"DN\"><i>shop centre</i><c>shopping centre</c></NS><NS type=\"UP\"><i>,</i></NS> where you can buy some souvenirs or taste some of our traditional food.</p>\n<p>I hope that you will find my information <NS type=\"DJ\"><i>helpfull</i><c>helpful</c></NS><NS type=\"MP\"><c>.</c></NS></p>\n<p><NS type=\"UP\"><i>I'am</i><c>I am</c></NS> looking forward to seeing you<NS type=\"MP\"><c>.</c></NS></p>\n<p><NS type=\"DA\"><i>Your</i><c>Yours</c></NS> <NS type=\"RP\"><i>Sincerely</i><c>sincerely</c></NS></p>\n</coded_answer>",
         "5.1",
         "<coded_answer>\n<p>THE <NS type=\"S\"><i>HYSTORICAL</i><c>HISTORICAL</c></NS> MUSEUM</p>\n<p>Welcome to Athens!! Without any doubt, <NS type=\"MA\"><c>it</c></NS> <NS type=\"MV\"><c>is</c></NS> a <NS type=\"S\"><i>hystorical</i><c>historical</c></NS> place which provides <NS type=\"UP\"><i>it's</i><c>its</c></NS> visitors with the opportunity to discover different aspects of <NS type=\"UD\"><i>the</i></NS> <NS type=\"RP\"><i>greek</i><c>Greek</c></NS> history <NS type=\"M\"/> during the passing of <NS type=\"MD\"><c>the</c></NS> centuries.</p>\n<p>Don't miss the chance to visit the <NS type=\"S\"><i>hystorical</i><c>historical</c></NS> museum, located in the heart of the capital city. A traditional building which was built at the beginning of the century<NS type=\"RP\"><i>. The</i><c>, the</c></NS> <NS type=\"S\"><i>hystorical</i><c>historical</c></NS> museum is simply a symbol, a <NS type=\"RN\">proof</NS> of what <NS type=\"MD\"><c>the</c></NS> <NS type=\"FN\"><i><NS type=\"RP\"><i>greek</i><c>Greek</c></NS></i><c>Greeks</c></NS> have always considered as <NS type=\"MD\"><c>a</c></NS> <NS type=\"RJ\"><i>main</i><c>fundamental</c></NS> <NS type=\"RN\"><i>principal</i><c>principle</c></NS>: their freedom. There are five <NS type=\"S\"><i>diffrent</i><c>different</c></NS> floors, each of them presents a <NS type=\"S\"><i>diffrent</i><c>different</c></NS> <NS type=\"DJ\"><i>chronical</i><c>chronological</c></NS> period of <NS type=\"RP\"><i>greek</i><c>Greek</c></NS> history, starting from the period before the birth of <NS type=\"S\"><i>Juisus</i><c>Jesus</c></NS> and concluding <NS type=\"RT\"><i>to</i><c>with</c></NS> the revolution of 1967. The museum provides the visitor with the opportunity to see original pieces of writing, famous paintings having as <NS type=\"MD\"><c>their</c></NS> main subject the revolution of 1821, and aspects of the <NS type=\"RP\"><i>greek</i><c>Greek</c></NS> religion that <NS type=\"AGV\"><i>has</i><c>have</c></NS> always <NS type=\"MV\"><c>been</c></NS> considered to be <NS type=\"MD\"><c>a</c></NS> vital part of <NS type=\"RP\"><i>greek</i><c>Greek</c></NS> history. There is a small <NS type=\"R\"><i>amount of money that visitors should pay for entry</i><c>entry fee</c></NS>. Inside the museum there is <NS type=\"MD\"><c>a</c></NS> bookshop <NS type=\"R\"><i>having</i><c>with</c></NS> a large variety of <NS type=\"S\"><i>hystorical</i><c>historical</c></NS> books, maps etc.</p>\n<p>If you really want to discover what <NS type=\"RP\"><i>greek</i><c>Greek</c></NS> history <NS type=\"RV\">means</NS>, we strongly recommend you to visit the <NS type=\"S\"><i>hystorical</i><c>historical</c></NS> museum!!!</p>\n</coded_answer>",
         "5.2",
         "39.0",
         "Greek",
         "16-20"
        ],
        [
         "42",
         "doc3100.xml",
         "0100_2001_6",
         "TE54*0100*2001*01",
         "<coded_answer>\n<p>Dear Mrs Maria<NS type=\"RP\"><i>.</i><c>,</c></NS></p>\n<p>I am one of <NS type=\"RD\"><i>all</i><c>the</c></NS> students and I am going to give you <NS type=\"RQ\"><i>an</i><c>some</c></NS> information, all you need. We <NS type=\"TV\"><i>have been booked</i><c>have booked</c></NS> the hotel for you and the name of <NS type=\"MD\"><c>the</c></NS> hotel is <NS type=\"MD\"><c>the</c></NS> \"Palace Hotel\"<NS type=\"MP\"><c>,</c></NS> <NS type=\"M\"><c>it is</c></NS> quite near <NS type=\"MD\"><c>the</c></NS> shopping centre. It is not far <NS type=\"S\"><i>aways</i><c>away</c></NS><NS type=\"RP\"><i>, you</i><c>. You</c></NS> just go along Park Road <NS type=\"MT\"><c>for</c></NS> about ten minutes. Then you will arrive at <NS type=\"MD\"><c>the</c></NS> Palace Hotel<NS type=\"MP\"><c>,</c></NS> <NS type=\"M\"><c>which is</c></NS> on the <NS type=\"MP\"><i>left handside</i><c>left-hand side</c></NS> <NS type=\"U\"><i>of you</i></NS>.</p>\n<p><NS type=\"RT\"><i>About</i><c>Regarding</c></NS> the end-of-conference party<NS type=\"RP\"><i>. We</i><c>, we</c></NS> are going to have a dinner before the end and at the end we are going to <NS type=\"RV\"><i>bring</i><c>take</c></NS> you to the Hotel<NS type=\"RP\"><i>, you</i><c>. You</c></NS> need to wear <NS type=\"FD\"><i>a</i><c>an</c></NS> <NS type=\"DN\"><i>night-dress</i><c>evening dress</c></NS> or suit and bow tie.</p>\n<p>Finally, on the last day you have three hours before you catch the plane so we <NS type=\"DV\"><i>suggestion</i><c>suggest</c></NS><NS type=\"UP\"><i>,</i></NS> you <NS type=\"UV\"><i>can</i></NS> go to <NS type=\"MD\"><c>the</c></NS> shopping centre and buy something for your special person or go to <NS type=\"MD\"><c>the</c></NS> <NS type=\"S\"><i>museam</i><c>museum</c></NS> because this <NS type=\"S\"><i>museam</i><c>museum</c></NS> is the biggest in the world now<NS type=\"MP\"><c>.</c></NS> It is up to you.</p>\n<p>yours sincerely</p>\n</coded_answer>",
         "2.3",
         "<coded_answer>\n<p>To group leader</p>\n<p>I am the student leader. We are <NS type=\"RJ\"><i><NS type=\"S\"><i>greatful</i><c>grateful</c></NS></i><c>pleased</c></NS> that your group has <NS type=\"UY\"><i>just</i></NS> arrived so I am going to give <NS type=\"MA\"><c>you</c></NS> information about an interesting building to visit. We recommend you <NS type=\"UT\"><i>to</i></NS> go to <NS type=\"MD\"><c>the</c></NS> BBC building.</p>\n<p>First of all, <NS type=\"R\"><i>about</i><c>the</c></NS> BBC building is the news building of England. On the ground floor, they have <NS type=\"UD\"><i>a</i></NS> video <NS type=\"FN\"><i>camera</i><c>cameras</c></NS> everywhere around the building and police <NS type=\"AGV\"><i>officer</i><c>officers</c></NS> walk around the building as well. <NS type=\"RT\"><i>Up to</i><c>On</c></NS> the first floor, they have a huge radio room, for <NS type=\"FV\"><i>send</i><c>sending</c></NS> and <NS type=\"FV\"><i><NS type=\"RV\"><i>receipt</i><c>receive</c></NS></i><c>receiving</c></NS> <NS type=\"UD\"><i>the</i></NS> information <NS type=\"MT\"><c>from</c></NS> all over the world<NS type=\"MP\"><c>,</c></NS> because they have <NS type=\"UD\"><i>a</i></NS> small BBC <NS type=\"FN\"><i>building</i><c>buildings</c></NS> all over the world <NS type=\"RY\"><i>either</i><c>also</c></NS>; <NS type=\"RP\"><i>For</i><c>for</c></NS> Example, THAILAND, <NS type=\"MD\"><c>the</c></NS> United <NS type=\"FN\"><i>State</i><c>States</c></NS> of America, <NS type=\"S\"><i>INDONISIA</i><c>INDONESIA</c></NS> and CANADA.</p>\n<p>And the second floor is the <NS type=\"RP\"><i>news room</i><c>newsroom</c></NS> where they <NS type=\"RV\"><i>get</i><c>go</c></NS> <NS type=\"UP\"><i>on-air</i><c>on air</c></NS> <NS type=\"UV\"><i>to show</i></NS> on the T.V. That is not <NS type=\"R\"><i>finish</i><c>everything</c></NS><NS type=\"RP\"><i>,</i><c>.</c></NS> I <NS type=\"TV\"><i>just give</i><c>have just given</c></NS> you <NS type=\"RQ\"><i>some</i><c>a little</c></NS> information but they have more interesting <NS type=\"AGN\"><i>thing</i><c>things</c></NS> you do not know <NS type=\"MT\"><c>about</c></NS>.</p>\n<p>I recommend <NS type=\"UA\"><i>you</i></NS> this building because this building is the <NS type=\"DN\">main</NS> of <NS type=\"RP\"><i>london</i><c>London</c></NS> and this building is the second most beautiful building in <NS type=\"RP\"><i>london</i><c>London</c></NS> so that <NS type=\"MV\"><c>is</c></NS> why I recommend <NS type=\"UA\"><i>you</i></NS> this building.</p>\n<p>From <NS type=\"MD\"><c>the</c></NS> student leader.</p>\n</coded_answer>",
         "3.1",
         "22.0",
         "Thai",
         "16-20"
        ],
        [
         "43",
         "doc3094.xml",
         "0100_2001_6",
         "TE50*0100*2001*01",
         "<coded_answer>\n<p>Dear Mrs <NS type=\"UN\"><i>Maria</i></NS> Smith,</p>\n<p>I am writing to give you some information <NS type=\"M\"><c>that you</c></NS> asked <NS type=\"MT\"><c>for</c></NS> in your letter, which I received this morning.</p>\n<p>Your group has been booked <NS type=\"RT\"><i>in</i><c>into</c></NS> <NS type=\"MD\"><c>the</c></NS> Palace Hotel which is one of the most comfortable hotels in London. Personally, I am glad that you will have this opportunity to use its various facilities. It is <NS type=\"RV\"><i>based</i><c>located</c></NS> in the city centre and is about half an hour by underground from the conference. In my <NS type=\"S\"><i>oppinion</i><c>opinion</c></NS> the easiest way to get there from the conference would be by taking the Picadelly line. However you <NS type=\"RV\"><i>would</i><c>could</c></NS> take bus number 150, if you would like to have a look at the city centre and you <NS type=\"W\"><i>have some free time also</i><c>also have some free time</c></NS>.</p>\n<p>Regarding <NS type=\"UT\"><i>to</i></NS> the end-of-conference party, I would suggest <NS type=\"FV\"><i>to wear</i><c>wearing</c></NS> <NS type=\"R\"><i>some</i><c>a</c></NS> dress for a woman and an elegant suit for a man, though<NS type=\"UP\"><i>,</i></NS> it is <NS type=\"X\"><i>no</i><c>not</c></NS> <NS type=\"MD\"><c>a</c></NS> formal do. The party will finish quite late<NS type=\"MP\"><c>,</c></NS> so we've decided to provide a bus which <NS type=\"TV\"><i>would</i><c>will</c></NS> take you to the hotel safely.</p>\n<p><NS type=\"DY\"><i>Basicaly</i><c>Basically</c></NS>, during three <NS type=\"AGN\"><i>hour</i><c>hours</c></NS> <NS type=\"UN\"><i>time</i></NS> in the afternoon nobody is able to visit all of <NS type=\"MD\"><c>the</c></NS> interesting places <NS type=\"RT\"><i>of</i><c>in</c></NS> London. However<NS type=\"MP\"><c>,</c></NS> you <NS type=\"RV\"><i>would</i><c>could</c></NS> <NS type=\"RV\"><i>have</i><c>take</c></NS> a long walk along the river to take some essential photos.</p>\n<p>I look forward to welcoming you.</p>\n<p>Yours sincerely</p>\n</coded_answer>",
         "4.1",
         "<coded_answer>\n<p>Are you always happy when your <NS type=\"S\"><i>telephon</i><c>telephone</c></NS> <NS type=\"AGV\"><i>ring</i><c>rings</c></NS>?</p>\n<p>As far as I <NS type=\"RV\"><i>am</i><c>know</c></NS><NS type=\"MP\"><c>,</c></NS> <NS type=\"UJ\"><i>concerned</i></NS> the telephone was invented in <NS type=\"MD\"><c>the</c></NS> 19th century. It <NS type=\"TV\"><i>has been affecting</i><c>affected</c></NS> our <NS type=\"IN\"><i>lifes</i><c>lives</c></NS> very quickly, although there <NS type=\"TV\"><i>were</i><c>are</c></NS> some different <NS type=\"RN\"><i>ways</i><c>means</c></NS> of communication <NS type=\"RT\"><i>as</i><c>such as</c></NS> TV, for instance. Since the <NS type=\"RP\"><i>internet</i><c>Internet</c></NS> was introduced, many of us <NS type=\"TV\"><i><NS type=\"RV\"><i>wouldn't have imagined</i><c>couldn't have imagined</c></NS></i><c>can't imagine</c></NS> <NS type=\"UD\"><i>the</i></NS> <NS type=\"FN\"><i><NS type=\"IN\"><i>lifes</i><c>lives</c></NS></i><c>life</c></NS> without <NS type=\"RA\"><i>this</i><c>it</c></NS>. We <NS type=\"TV\"><i>were able even</i><c>have even been able</c></NS> to have our own telephone kept in our pocket for <NS type=\"UD\"><i>a</i></NS> some time.</p>\n<p>However, are you always happy when your personal phone rings<NS type=\"RP\"><i>.</i><c>?</c></NS> <NS type=\"UY\"><i>On the other hand</i></NS> I wonder whether you have experienced some situations when you wouldn't have your mobile switched on.</p>\n<p>This invention has <NS type=\"RV\"><i>affected</i><c>changed</c></NS> my life completely. Since I have been <NS type=\"IV\"><i>traveling</i><c>travelling</c></NS> around the world<NS type=\"MP\"><c>,</c></NS> <NS type=\"R\">I would have imagined</NS> <NS type=\"IV\"><i>beeing</i><c>being</c></NS> in <NS type=\"SX\"><i>tough</i><c>touch</c></NS> with my family or friends without <NS type=\"MD\"><c>the</c></NS> <NS type=\"RP\"><i>internet</i><c>Internet</c></NS> or my mobile phone.</p>\n<p>In spite of having the opportunity of keeping <NS type=\"MT\"><c>in</c></NS> contact with friends at <NS type=\"UD\"><i>the</i></NS> <NS type=\"FN\"><i>time</i><c>times</c></NS> <NS type=\"MY\"><c>when</c></NS> we are far away from home, we should <NS type=\"R\"><i>have <NS type=\"UV\"><i>been</i></NS> knowledge</i><c>know</c></NS> how to use it without <NS type=\"RV\"><i>interrupting</i><c>disturbing</c></NS> others.</p>\n</coded_answer>",
         "3.3",
         "29.0",
         "Polish",
         "21-25"
        ],
        [
         "44",
         "doc3039.xml",
         "0100_2001_6",
         "TE32*0100*2001*01",
         "<coded_answer>\n<p>Dear Mrs Maria Smith</p>\n<p>Thank you for your letter. It's a shame that I won't see Richard because of his illness, but I'm willing to help you as much as I can. <NS type=\"RY\"><i>Then</i><c>So</c></NS> I will give you some information which you asked for in your letter.</p>\n<p>Firstly, about your <NS type=\"S\"><i>accomodation</i><c>accommodation</c></NS>, <NS type=\"RD\"><i>our</i><c>the</c></NS> college which I belong to offers <NS type=\"FN\"><i>visitor</i><c>visitors</c></NS> free <NS type=\"FN\"><i><NS type=\"S\"><i>accomodations</i><c>accommodations</c></NS></i><c>accommodation</c></NS> with <NS type=\"R\">full of</NS> facilities<NS type=\"UP\"><i>.</i></NS> (for example<NS type=\"MP\"><c>,</c></NS> bath, car park, free internet access, etc.)<NS type=\"MP\"><c>.</c></NS> <NS type=\"R\">They also are</NS> located <NS type=\"RT\"><i>in</i><c>on</c></NS> our campus so you can get to the conference by <NS type=\"FV\"><i>walk</i><c>walking</c></NS>.</p>\n<p>Secondly, as you know<NS type=\"MP\"><c>,</c></NS> we'll have a party after the conference, which will <NS type=\"FV\"><i>be taken</i><c>take</c></NS> place at our student council hall <NS type=\"R\">with some meals</NS>. This party is unlikely to be that formal, but I recommend you <NS type=\"X\"><i>not to wear</i><c>don't wear</c></NS> jeans and <NS type=\"S\"><i>trainners</i><c>trainers</c></NS>.</p>\n<p><NS type=\"RY\"><i>At last</i><c>Last</c></NS>, if you have <NS type=\"MQ\"><c>some</c></NS> free time <NS type=\"U\"><i>for <NS type=\"MD\"><c>a</c></NS> couple of <NS type=\"SX\"><i>ours</i><c>hours</c></NS></i></NS>, <NS type=\"R\"><i>you'd better</i><c>you should</c></NS> visit Kamakura City, which is 30 minutes from our campus by train. That is <NS type=\"MD\"><c>a</c></NS> very traditional Japanese city where <NS type=\"UY\"><i>so</i></NS> <NS type=\"AS\"><i>many <NS type=\"AGN\"><i>temple</i><c>temples</c></NS> and <NS type=\"RN\"><i><NS type=\"CN\"><i>heritages</i><c>heritage</c></NS></i><c>monuments</c></NS> are there</i><c>there are many temples and monuments</c></NS>. I'm sure you'll enjoy it and maybe <NS type=\"RV\"><i>get</i><c>become</c></NS> <NS type=\"S\"><i>familier</i><c>familiar</c></NS> with our culture.</p>\n<p>By the way, if you have any other questions, please send me a letter again.</p>\n</coded_answer>",
         "2.3",
         "<coded_answer>\n<p>Oh Baby, I can't live without you!</p>\n<p>These days, <NS type=\"TV\"><i>we've been</i><c>we're</c></NS> <NS type=\"S\"><i>sorrounded</i><c>surrounded</c></NS> with so <NS type=\"RQ\"><i>any</i><c>many</c></NS> different kinds of products which our ancestors invented. In our daily life, however, we seldom notice how <NS type=\"UQ\"><i>much</i></NS> <NS type=\"RJ\"><i><NS type=\"S\"><i>convinient</i><c>convenient</c></NS></i><c>easy</c></NS> <NS type=\"MD\"><c>a</c></NS> life we've got <NS type=\"MC\"><c>or</c></NS>, what is more, how <NS type=\"UQ\"><i>much</i></NS> <NS type=\"RJ\"><i><NS type=\"S\"><i>inconvinient</i><c>inconvenient</c></NS></i><c>difficult</c></NS> our grandparents <NS type=\"R\"><i>had got</i><c>found it</c></NS>. How nasty we are! Let us try to appreciate <NS type=\"S\"><i>thier</i><c>their</c></NS> importance again.</p>\n<p>As for me, the invention which is most important to me is <NS type=\"RD\"><i>a</i><c>the</c></NS> personal computer. I have been a <NS type=\"MP\"><i>full time</i><c>full-time</c></NS> student in the university at home, and their classes all <NS type=\"AGV\"><i>requires</i><c>require</c></NS> us to have personal <NS type=\"AGN\"><i>computer</i><c>computers</c></NS> and use them at <NS type=\"AGQ\"><i>any</i><c>all</c></NS> times. When you take the class on computer programming, you will <NS type=\"S\"><i>definetly</i><c>definitely</c></NS> need one and <NS type=\"RA\"><i>it</i><c>that</c></NS> holds true for the class on politics, because you have to study <NS type=\"FN\"><i>statistic</i><c>statistics</c></NS> on your computer <NS type=\"UT\"><i>for</i></NS> <NS type=\"FV\"><i>doing</i><c>to do</c></NS> social research and some <NS type=\"RN\"><NS type=\"S\"><i>analysys</i><c>analyses</c></NS></NS>. My professor said<NS type=\"MP\"><c>,</c></NS> '<NS type=\"RP\"><i>go</i><c>Go</c></NS> and get <NS type=\"RJ\"><NS type=\"S\"><i>familier</i><c>familiar</c></NS></NS> with your computer, otherwise you'll fail'.</p>\n<p>I find it amazingly easy to forget the importance of inventions which we <NS type=\"S\"><i>useually</i><c>usually</c></NS> use without <NS type=\"UQ\"><i>any</i></NS> <NS type=\"RN\"><i><NS type=\"S\"><i>questione</i><c>question</c></NS></i><c>thinking</c></NS>. That's the nature of human <NS type=\"FN\"><i>being</i><c>beings</c></NS>. But<NS type=\"UP\"><i>,</i></NS> I think it's not only our fault but <NS type=\"UD\"><i>the</i></NS> evidence of how much they <NS type=\"TV\"><i>integrate</i><c>have integrated</c></NS> <NS type=\"MA\"><c>themselves</c></NS> <NS type=\"RT\"><i>in</i><c>into</c></NS> our life.</p>\n</coded_answer>",
         "3.1",
         "22.0",
         "Japanese",
         "16-20"
        ],
        [
         "45",
         "doc3060.xml",
         "0100_2001_6",
         "TE38*0100*2001*01",
         "<coded_answer>\n<p>Dear Mrs Smith,</p>\n<p>I am <NS type=\"RV\"><i>applying</i><c>replying</c></NS> <NS type=\"MT\"><c>to</c></NS> your letter <NS type=\"UY\"><i>where</i></NS> <NS type=\"M\"><c>in which</c></NS> you asked for some information about the conference in Peterborough Regional College.</p>\n<p>Your group has been booked into the Palace Hotel<NS type=\"MP\"><c>,</c></NS> which is situated in the city <NS type=\"SA\"><i>center</i><c>centre</c></NS>, <NS type=\"UT\"><i>at</i></NS> 15 <NS type=\"MP\"><i>minutes</i><c>minutes'</c></NS> <NS type=\"RN\"><i>walking</i><c>walk</c></NS> from where the conference <NS type=\"AGV\"><i>take</i><c>takes</c></NS> place <NS type=\"UT\"><i>in</i></NS>. <NS type=\"RT\"><i>In</i><c>On</c></NS> the next page there is a map showing you the best way to get to the conference that will be at the Regional College.</p>\n<p>The conference will start at 7 p.m<NS type=\"MP\"><c>.</c></NS>, <NS type=\"R\">the same day we expect</NS>, the 18th of June. Our director will make a speech afterwards and there will be a party with some snacks, drinks and music. For the people <NS type=\"M\"><c>who are</c></NS> interested in <NS type=\"MA\"><c>it</c></NS>, there will <NS type=\"W\"><i>be also</i><c>also be</c></NS> <NS type=\"U\"><i>an amusement</i></NS> karaoke.</p>\n<p>Everybody should wear formal clothes, at least, a little bit formal. No jeans <NS type=\"RC\"><i>and</i><c>or</c></NS> <NS type=\"UP\"><i>tee-shirts</i><c>tee shirts</c></NS>.</p>\n<p>There <NS type=\"AGV\"><i>is</i><c>are</c></NS> a lot of places you can visit in Peterborough. We have a Cathedral you can visit anytime and the <NS type=\"RP\"><i>river side</i><c>riverside</c></NS>, which is <NS type=\"UD\"><i>the</i></NS> best if it is a nice day, sunny <NS type=\"SX\"><i>an</i><c>and</c></NS> warm, for <NS type=\"FV\"><i>take</i><c>taking</c></NS> a walk. For <NS type=\"UQ\"><i>any</i></NS> details<NS type=\"MP\"><c>,</c></NS> look <NS type=\"RT\"><i>in</i><c>at</c></NS> the <NS type=\"W\"><i>next page map</i><c>map on the next page</c></NS>.</p>\n<p>Yours sincerely,</p>\n</coded_answer>",
         "3.1",
         "<coded_answer>\n<p>Alice knew that is was going to be a very special day for her. She had a dream where somebody told her that that day would be special. So, she took the bus, like every morning, and she went to school. But that day was a little bit different: she had her maths exam. She had never passed <NS type=\"FD\"><i>an</i><c>a</c></NS> maths exam and she was really nervous.</p>\n<p>Half an hour before the exam she went to the cafeteria to <NS type=\"RV\"><i>take</i><c>have</c></NS> a cup of tea. She sat down and<NS type=\"MP\"><c>,</c></NS> what a surprise<NS type=\"MP\"><c>,</c></NS> she found a lottery ticket. Nobody was around her, so she took the ticket<NS type=\"RP\"><i>. Drank</i><c>, drank</c></NS> her cup of tea and <NS type=\"UA\"><i>she</i></NS> went to the classroom where the exam took place. She <NS type=\"AS\"><i>did the exam really well</i><c>did really well in the exam</c></NS>, she was very surprised, and after the exam she went home.</p>\n<p>She <NS type=\"TV\"><i>spend</i><c>spent</c></NS> the rest of the day listening to music while she was thinking about the lottery ticket and waiting for the TV show at 8 o'clock. At <NS type=\"RD\"><i>the</i><c>that</c></NS> time, she turned on the TV and while the <NS type=\"UP\"><i>lottery's</i><c>lottery</c></NS> man was shouting <NS type=\"MY\"><c>out</c></NS> the winning numbers, she checked hers and what <NS type=\"AS\"><i>was the surprise</i><c>a surprise it was</c></NS> that the last 4 numbers were the same!! She <NS type=\"TV\"><i>win</i><c>won</c></NS> £500!!!</p>\n</coded_answer>",
         "3.2",
         "28.0",
         "Spanish",
         "16-20"
        ],
        [
         "46",
         "doc3285.xml",
         "0100_2001_6",
         "TE90*0100*2001*01",
         "<coded_answer>\n<p>Dear Mrs Maria Smith<NS type=\"RP\"><i>.</i><c>,</c></NS></p>\n<p>I was really pleased to receive <NS type=\"UT\"><i>at</i></NS> your letter. Unfortunately Richard Brown is ill but I can help you as much as I can. So, I'm <NS type=\"IV\"><i>writting</i><c>writing</c></NS> to reply <NS type=\"UT\"><i>for</i></NS> <NS type=\"FV\"><i>giving</i><c>to give</c></NS> all the information you asked for.</p>\n<p>Firstly, we've booked Palace Hotel, which is located in Central. The best way to get from the hotel to the conference <NS type=\"UA\"><i>its</i><c>is</c></NS> using <NS type=\"MD\"><c>the</c></NS> tube because it takes only 20 <NS type=\"AGN\"><i><NS type=\"S\"><i>mininute</i><c>minute</c></NS></i><c>minutes</c></NS>. The tube is <NS type=\"W\"><i>2 line</i><c>line 2</c></NS> which is red <NS type=\"UN\"><i>colour</i></NS>. And your <NS type=\"S\"><i>speach</i><c>speech</c></NS> would be better for the end of conference party. I'd suggest you <NS type=\"FV\"><i>to wear</i><c>wear</c></NS> at least, <NS type=\"MP\"><i>semi formal</i><c>semi-formal</c></NS> <NS type=\"DN\"><i>wears</i><c>clothes</c></NS> such as a jacket with <NS type=\"AGQ\"><i>another</i><c>other</c></NS> clothes.</p>\n<p>Finally, I give you some suggestions <NS type=\"CE\">which could spend for about 3 hours</NS> in the national museum in my area. The museum can be helpful to understand our country's history and art.</p>\n<p>I look forward to seeing you soon.</p>\n<p>Yours sincerely, </p>\n</coded_answer>",
         "2.3",
         "<coded_answer>\n<p><NS type=\"MD\"><i>Computer</i><c>The computer</c></NS> is the most important invention in our life.</p>\n<p>Some people might say <NS type=\"UD\"><i>the</i></NS> electricity <NS type=\"MV\"><c>is</c></NS> more important than <NS type=\"MQ\"><c>any</c></NS> <NS type=\"RQ\"><i>another</i><c>other</c></NS> <NS type=\"S\"><i>thingh</i><c>thing</c></NS>. It's hard to say which is the most important invention. However, I'd say <NS type=\"MD\"><c>the</c></NS> computer is <NS type=\"MD\"><c>a</c></NS> more amazing invention rather than <NS type=\"AGQ\"><i>another</i><c>other</c></NS> inventions such as the telephone, the car. Recently <NS type=\"MD\"><c>the</c></NS> computer <NS type=\"RV\"><i>is</i><c>has become</c></NS> really necessary and we can't manage to work without them. Not only <NS type=\"UV\"><i>is</i></NS> for bussiness, but also in <NS type=\"UT\"><i>for</i></NS> my life. For instance, when I want to <NS type=\"S\"><i>contanct</i><c>contact</c></NS> <NS type=\"UT\"><i>with</i></NS> <NS type=\"UT\"><i>to</i></NS> my friend, it's quite helpful <NS type=\"UT\"><i>by</i></NS> <NS type=\"FV\"><i>using</i><c>to use</c></NS> e-mail. Before <NS type=\"MD\"><c>the</c></NS> computer had been invented, we couldn't possibly have lots of information easily and we couldn't contact <NS type=\"UT\"><i>with</i></NS> <NS type=\"UT\"><i>to</i></NS> foreign countries at the same time.</p>\n<p>And also it's time to make new <NS type=\"FN\"><i>system</i><c>systems</c></NS> which makes <NS type=\"UA\"><i>us</i></NS> use easier and more simple, so far more people can enjoy <NS type=\"FN\"><i>computer</i><c>computers</c></NS> <NS type=\"UY\"><i>more</i></NS> than before.</p>\n<p>Despite <NS type=\"M\"><c>Being an</c></NS> amazing invention, <NS type=\"RP\"><i>some times</i><c>sometimes</c></NS> <NS type=\"MD\"><c>the</c></NS> computer <NS type=\"RV\"><i>makes</i><c>causes</c></NS> <NS type=\"MD\"><c>a</c></NS> big problem, such as <NS type=\"MD\"><c>the</c></NS> millennium bug (some people called <NS type=\"MA\"><c>it</c></NS> <NS type=\"MD\"><c>the</c></NS> \"2000 problem\"), because <NS type=\"FN\"><i>computer</i><c>computers</c></NS> <NS type=\"MV\"><c>are</c></NS> not flexible enough like a human's brain. However, <NS type=\"MD\"><c>the</c></NS> computer is worth <NS type=\"FV\"><i>to use</i><c>using</c></NS> in our life until <NS type=\"MD\"><c>a</c></NS> more <NS type=\"DJ\"><i>coveniance</i><c>convenient</c></NS> machine <NS type=\"TV\"><i>will be</i><c>is</c></NS> invented.</p>\n</coded_answer>",
         "2.2",
         "20.0",
         "Korean",
         "26-30"
        ],
        [
         "47",
         "doc3247.xml",
         "0100_2001_6",
         "TE84*0100*2001*01",
         "<coded_answer>\n<p>12<NS type=\"UP\"><i>,</i></NS> June, 2001</p>\n<p>Dear Mrs Maria Smith,</p>\n<p>Thank you for your letter about the international student conference. Here are <NS type=\"MD\"><c>the</c></NS> answers <NS type=\"RT\"><i>for</i><c>to</c></NS> your questions.</p>\n<p>You will stay in the Palace Hotel, which is situated <NS type=\"RT\"><i>in front of</i><c>opposite</c></NS> the railway station, Camberley. To get <NS type=\"MT\"><c>to</c></NS> the conference, you catch the <NS type=\"W\"><i>coach No.7</i><c>No.7 coach</c></NS> from the station and get off at the Camberley College bus stop. It takes 5 minutes from the station. When you get here, just turn to the left and you will find the stadium where the conference will be held.</p>\n<p>The end-of-conference party will be held <NS type=\"RT\"><i>at</i><c>in</c></NS> the cafeteria in the college, which is next to the stadium. It starts at <NS type=\"ID\"><i>18 p.m.</i><c>6 p.m.</c></NS> and ends at <NS type=\"ID\"><i>22 pm</i><c>10 pm</c></NS>. We will prepare traditional English meals and some students from foreign <NS type=\"FN\"><i>country</i><c>countries</c></NS> will prepare their ethnic foods.</p>\n<p>There is a museum next to the Camberley Station, which has <NS type=\"MD\"><c>a</c></NS> good collection of paintings and <NS type=\"CN\"><i>potteries</i><c>pottery</c></NS>, and it would be a good place for you to spend your free time. <NS type=\"RY\"><i>Instead</i><c>Also</c></NS>, there are a lot of shops around there<NS type=\"RP\"><i>, you</i><c>. You</c></NS> can buy souvenirs.</p>\n<p>I am looking forward to meeting you.</p>\n<p>Yours sincerely,</p>\n</coded_answer>",
         "2.3",
         "<coded_answer>\n<p>To: Student from the United States</p>\n<p>From: Juli</p>\n<p>The aim of this report is to describe the Haunted Castle in Camberley.</p>\n<p>Place</p>\n<p>This castle is situated in the centre of the town and surrounded by woods. <NS type=\"MD\"><i>Inside</i><c>The inside</c></NS> of the castle is always dark<NS type=\"MP\"><c>,</c></NS> even in <NS type=\"MD\"><c>the</c></NS> daytime.</p>\n<p>Story</p>\n<p>It is 500 years old, and it is said to be haunted by a lady ghost. She appears <NS type=\"S\"><i>occationaly</i><c>occasionally</c></NS> and opens every window in the castle. It is believed that she was a nanny who worked there and fell out of the window. People said she was seeking something and <NS type=\"MV\"><c>is</c></NS> still seeking <NS type=\"MA\"><c>it</c></NS> even <NS type=\"RC\"><i>if</i><c>though</c></NS> she <NS type=\"RV\"><i>had</i><c>has been</c></NS> dead for 500 years.</p>\n<p>Conclusion</p>\n<p>The ghost story may not be true, but it has good furniture <NS type=\"RT\"><i>of</i><c>from</c></NS> <NS type=\"MD\"><c>the</c></NS> 16th century, and the castle itself is very beautiful. I think it is <NS type=\"RP\"><i>worth while</i><c>worthwhile</c></NS> <NS type=\"FV\"><i>to see</i><c>seeing</c></NS> <NS type=\"MA\"><c>it</c></NS>.</p>\n<p>I hope you'll enjoy <NS type=\"RV\"><i>visiting</i><c>going</c></NS> there.</p>\n</coded_answer>",
         "4.2",
         "25.0",
         "Japanese",
         "26-30"
        ],
        [
         "48",
         "doc3232.xml",
         "0100_2001_6",
         "TE77*0100*2001*01",
         "<coded_answer>\n<p>Dear Mrs Smith,</p>\n<p>I would like to thank you for your letter. I am sorry to learn that Richard Brown cannot attend the conference. Please <NS type=\"RV\"><i>transmit</i><c>give</c></NS> him my best wishes for his recovery.</p>\n<p>We have booked rooms for all members of your group at the Palace Hotel. It is a very cosy building that is on the same avenue as the conference building, <NS type=\"DY\"><i>approximetively</i><c>approximately</c></NS> one mile away. There is a direct bus link between the two locations: this is <NS type=\"MD\"><c>the</c></NS> <NS type=\"W\"><i>bus line number six</i><c>number six bus line</c></NS>; the <NS type=\"RN\"><i>bus station</i><c>bus stop</c></NS> for the conference building is called \"Avenue de cour\" and the one at the Palace Hotel is named \"Main station\".</p>\n<p>Concerning the party<NS type=\"MP\"><c>,</c></NS> we do not have a casual <NS type=\"DN\"><i>dressing code</i><c>dress code</c></NS>. <NS type=\"RP\"><i>students</i><c>Students</c></NS> usually wear dark clothes<NS type=\"MP\"><c>,</c></NS> with a tie for the boys and a <NS type=\"DJ\"><i>mid-long</i><c>medium-length</c></NS> skirt or dress for the girls.</p>\n<p>There are a lot of activities you can do during your free afternoon. I would like to suggest visiting the \"Ethnographic Museum<NS type=\"RP\"><i>,,</i><c>\"</c></NS> which is <NS type=\"L\">kind of</NS> unique in the world.</p>\n<p>Looking forward to meeting you soon</p>\n<p>I remain, yours sincerely<NS type=\"RP\"><i>.</i><c>,</c></NS></p>\n</coded_answer>",
         "2.3",
         "<coded_answer>\n<p>The car:</p>\n<p>I think that the car is one of the human inventions that has <NS type=\"UD\"><i>the</i></NS> most affected the way of life of people from industrial countries.</p>\n<p>Nowadays <NS type=\"CE\">more than the percents</NS> of <NS type=\"UD\"><i>the</i></NS> world industry is related to the automotive business: car manufacturing, <NS type=\"RN\"><i>gasoline</i><c>oil</c></NS> <NS type=\"DN\"><i>extracting</i><c>extraction</c></NS> and refining, <NS type=\"FN\"><i>tyres</i><c>tyre</c></NS> recycling, and so on.</p>\n<p>The industrial countries have encountered <NS type=\"RJ\"><i>deep</i><c>great</c></NS> <NS type=\"RN\"><i>evolution</i><c>change</c></NS> <NS type=\"RT\"><i>of</i><c>in</c></NS> their <NS type=\"RN\"><i>strictures</i><c>structures</c></NS> since the car has been made available to everyone.</p>\n<p>At the beginning of the last <NS type=\"RP\"><i>Century</i><c>century</c></NS> only a few very rich people could afford a car; it was <NS type=\"MD\"><c>a</c></NS> kind of leisure or sport to drive one. Today almost everyone owns a car and needs it for daily activities. The transport network has changed <NS type=\"RT\"><i>according to</i><c>in accordance with</c></NS> this social evolution.</p>\n<p>The increasing number of <NS type=\"CE\">cars related and infrastructure</NS> <NS type=\"AGV\"><i>are</i><c>is</c></NS> now <NS type=\"S\"><i>creeting</i><c>creating</c></NS> problems.</p>\n<p>A lot of roads and motorways are overcrowded, and <NS type=\"DJ\"><i><NS type=\"S\"><i>enviromment</i><c>environment</c></NS></i><c>environmental</c></NS> <NS type=\"RN\"><i>issues</i><c>problems</c></NS> are more and more related to the intensive use of cars and lorries.</p>\n<p>People and governments are concerned about how to limit the effects of cars on the <NS type=\"S\"><i>enviromment</i><c>environment</c></NS> without <NS type=\"RV\"><i>impacting</i><c>affecting</c></NS> their mobility.</p>\n<p>This will be a tough challenge for this new century.</p>\n</coded_answer>",
         "5.2",
         "29.0",
         "French",
         "26-30"
        ],
        [
         "49",
         "doc3062.xml",
         "0100_2001_6",
         "TE40*0100*2001*01",
         "<coded_answer>\n<p>Dear Mrs Maria Smith,</p>\n<p>Thank you for your letter. I am writing to give some information on the conference as you <NS type=\"RV\"><i>required</i><c>requested</c></NS>.</p>\n<p>First of all, your group has been booked into Palace Hotel which is very convenient to stay <NS type=\"MT\"><c>in</c></NS> and has <NS type=\"MD\"><c>a</c></NS> beautiful landscape. I would recommend you get to the conference by subway, because <NS type=\"MD\"><c>the</c></NS> subway station is situated <NS type=\"UT\"><i>in</i></NS> 5 minutes' walk from the hotel. It will take you about 15 minutes to arrive at the college.</p>\n<p>There will be a party after the conference. We will serve you dinner and some college students are going to sing, play musical instruments and so on, but you can join <NS type=\"MY\"><c>in</c></NS> if you wish. Therefore, you had better wear casual and comfortable clothes.</p>\n<p>Finally, this area has its reputation for shopping centres, so it might be a good idea to buy some clothes, local food, and so on. You will be able to buy them <NS type=\"RT\"><i>in</i><c>at</c></NS> <NS type=\"MD\"><c>a</c></NS>  reasonable price.</p>\n<p>I hope you will enjoy your stay in my country. I look forward to meeting all of you.</p>\n<p>Yours sincerely,</p>\n</coded_answer>",
         "3.3",
         "<coded_answer>\n<p>Amusement Centre</p>\n<p>Introduction</p>\n<p>The aim of this report is to give information on the Amusement Centre in Seoul. It is based on my experience and on views expressed by local people who were interviewed.</p>\n<p>Facilities</p>\n<p>It was found that the Amusement Centre is the most popular building in Seoul to enjoy yourself. There is a wide range of facilities including theatres, game centres, Korean restaurants. In particular, <NS type=\"UD\"><i>the</i></NS> people seemed to be satisfied with <NS type=\"MD\"><c>the</c></NS> theatres, because the screen is massive. The Korean restaurants appeared to be the most popular <NS type=\"RT\"><i>to</i><c>with</c></NS> foreigners.</p>\n<p>Things to buy</p>\n<p>It <NS type=\"TV\"><i>seemed</i><c>seems</c></NS> you can buy everything you want <NS type=\"RT\"><i>in</i><c>at</c></NS> <NS type=\"MD\"><c>a</c></NS> reasonable price in the building. <NS type=\"RY\"><i><NS type=\"S\"><i>Especailly</i><c>Especially</c></NS></i><c>In particular</c></NS>, Korean souvenir shops were felt to be extremely cheap. However, you can buy luxurious things as well if you wish.</p>\n<p>Conclusion</p>\n<p>In short, the Amusement Centre is <NS type=\"MD\"><c>a</c></NS> fascinating place and it deserves a visit. I would highly recommend this building, because <NS type=\"W\"><i>not only you can</i><c>you <NS type=\"RP\"><i>can not</i><c>cannot</c></NS> only</c></NS> enjoy yourself but also experience Korean culture which might be exotic to foreign visitors.</p>\n</coded_answer>",
         "5.1",
         "34.0",
         "Korean",
         "16-20"
        ]
       ],
       "shape": {
        "columns": 10,
        "rows": 1219
       }
      },
      "text/html": [
       "<div>\n",
       "<style scoped>\n",
       "    .dataframe tbody tr th:only-of-type {\n",
       "        vertical-align: middle;\n",
       "    }\n",
       "\n",
       "    .dataframe tbody tr th {\n",
       "        vertical-align: top;\n",
       "    }\n",
       "\n",
       "    .dataframe thead th {\n",
       "        text-align: right;\n",
       "    }\n",
       "</style>\n",
       "<table border=\"1\" class=\"dataframe\">\n",
       "  <thead>\n",
       "    <tr style=\"text-align: right;\">\n",
       "      <th></th>\n",
       "      <th>filename</th>\n",
       "      <th>exam_code</th>\n",
       "      <th>sortkey</th>\n",
       "      <th>answer1_response</th>\n",
       "      <th>answer1_score</th>\n",
       "      <th>answer2_response</th>\n",
       "      <th>answer2_score</th>\n",
       "      <th>student_score</th>\n",
       "      <th>student_language</th>\n",
       "      <th>student_age</th>\n",
       "    </tr>\n",
       "  </thead>\n",
       "  <tbody>\n",
       "    <tr>\n",
       "      <th>0</th>\n",
       "      <td>doc3042.xml</td>\n",
       "      <td>0100_2001_6</td>\n",
       "      <td>TE35*0100*2001*01</td>\n",
       "      <td>&lt;coded_answer&gt;\\n&lt;p&gt;Dear Mrs. Smith,&lt;/p&gt;\\n&lt;p&gt;In...</td>\n",
       "      <td>4.3</td>\n",
       "      <td>&lt;coded_answer&gt;\\n&lt;p&gt;Could modern people live wi...</td>\n",
       "      <td>5.1</td>\n",
       "      <td>34.0</td>\n",
       "      <td>Japanese</td>\n",
       "      <td>16-20</td>\n",
       "    </tr>\n",
       "    <tr>\n",
       "      <th>1</th>\n",
       "      <td>doc3163.xml</td>\n",
       "      <td>0100_2001_6</td>\n",
       "      <td>TE70*0100*2001*01</td>\n",
       "      <td>&lt;coded_answer&gt;\\n&lt;p&gt;Chêne-Bourg, Tuesday 12th J...</td>\n",
       "      <td>4.1</td>\n",
       "      <td>&lt;coded_answer&gt;\\n&lt;p&gt;My fair Mobile Phone.&lt;/p&gt;\\n...</td>\n",
       "      <td>2.3</td>\n",
       "      <td>26.0</td>\n",
       "      <td>Greek</td>\n",
       "      <td>16-20</td>\n",
       "    </tr>\n",
       "    <tr>\n",
       "      <th>2</th>\n",
       "      <td>doc3116.xml</td>\n",
       "      <td>0100_2001_6</td>\n",
       "      <td>TE58*0100*2001*01</td>\n",
       "      <td>&lt;coded_answer&gt;\\n&lt;p&gt;To: Mrs. Smith&lt;/p&gt;\\n&lt;p&gt;Than...</td>\n",
       "      <td>4.3</td>\n",
       "      <td>&lt;coded_answer&gt;\\n&lt;p&gt;&lt;NS type=\"R\"&gt;How wonderful ...</td>\n",
       "      <td>3.2</td>\n",
       "      <td>29.0</td>\n",
       "      <td>Chinese</td>\n",
       "      <td>41-50</td>\n",
       "    </tr>\n",
       "    <tr>\n",
       "      <th>3</th>\n",
       "      <td>doc2868.xml</td>\n",
       "      <td>0100_2001_6</td>\n",
       "      <td>TE5*0100*2001*01</td>\n",
       "      <td>&lt;coded_answer&gt;\\n&lt;p&gt;Dear Mrs Maria Smith,&lt;/p&gt;\\n...</td>\n",
       "      <td>3.3</td>\n",
       "      <td>&lt;coded_answer&gt;\\n&lt;p&gt;The telephone is a very imp...</td>\n",
       "      <td>3.3</td>\n",
       "      <td>29.0</td>\n",
       "      <td>Greek</td>\n",
       "      <td>16-20</td>\n",
       "    </tr>\n",
       "    <tr>\n",
       "      <th>4</th>\n",
       "      <td>doc2994.xml</td>\n",
       "      <td>0100_2001_6</td>\n",
       "      <td>TE22*0100*2001*01</td>\n",
       "      <td>&lt;coded_answer&gt;\\n&lt;p&gt;Dear Mrs Smith,&lt;/p&gt;\\n&lt;p&gt;Fir...</td>\n",
       "      <td>2.3</td>\n",
       "      <td>&lt;coded_answer&gt;\\n&lt;p&gt;Telephone saved my friendsh...</td>\n",
       "      <td>3.1</td>\n",
       "      <td>20.0</td>\n",
       "      <td>Thai</td>\n",
       "      <td>26-30</td>\n",
       "    </tr>\n",
       "    <tr>\n",
       "      <th>...</th>\n",
       "      <td>...</td>\n",
       "      <td>...</td>\n",
       "      <td>...</td>\n",
       "      <td>...</td>\n",
       "      <td>...</td>\n",
       "      <td>...</td>\n",
       "      <td>...</td>\n",
       "      <td>...</td>\n",
       "      <td>...</td>\n",
       "      <td>...</td>\n",
       "    </tr>\n",
       "    <tr>\n",
       "      <th>1239</th>\n",
       "      <td>doc297.xml</td>\n",
       "      <td>0100_2000_6</td>\n",
       "      <td>TR1141*0100*2000*01</td>\n",
       "      <td>&lt;coded_answer&gt;\\n&lt;p&gt;8 Jun 2000&lt;/p&gt;\\n&lt;p&gt;Helen Ry...</td>\n",
       "      <td>3.2</td>\n",
       "      <td>&lt;coded_answer&gt;\\n&lt;p&gt;&lt;NS type=\"R\"&gt;&lt;NS type=\"S\"&gt;&lt;...</td>\n",
       "      <td>3.3</td>\n",
       "      <td>28.0</td>\n",
       "      <td>Polish</td>\n",
       "      <td>16-20</td>\n",
       "    </tr>\n",
       "    <tr>\n",
       "      <th>1240</th>\n",
       "      <td>doc1087.xml</td>\n",
       "      <td>0100_2000_6</td>\n",
       "      <td>TR436*0100*2000*01</td>\n",
       "      <td>&lt;coded_answer&gt;\\n&lt;p&gt;13th June 2000&lt;/p&gt;\\n&lt;p&gt;Dear...</td>\n",
       "      <td>4.3</td>\n",
       "      <td>&lt;coded_answer&gt;\\n&lt;p&gt;13th June 2000&lt;/p&gt;\\n&lt;p&gt;Dear...</td>\n",
       "      <td>5.2</td>\n",
       "      <td>35.0</td>\n",
       "      <td>French</td>\n",
       "      <td>21-25</td>\n",
       "    </tr>\n",
       "    <tr>\n",
       "      <th>1241</th>\n",
       "      <td>doc2577.xml</td>\n",
       "      <td>0100_2000_6</td>\n",
       "      <td>TR118*0100*2000*01</td>\n",
       "      <td>&lt;coded_answer&gt;\\n&lt;p&gt;Dear Madam,&lt;/p&gt;\\n&lt;p&gt;&lt;NS typ...</td>\n",
       "      <td>3.2</td>\n",
       "      <td>&lt;coded_answer&gt;\\n&lt;p&gt;Many classes and activities...</td>\n",
       "      <td>2.1</td>\n",
       "      <td>23.0</td>\n",
       "      <td>French</td>\n",
       "      <td>21-25</td>\n",
       "    </tr>\n",
       "    <tr>\n",
       "      <th>1242</th>\n",
       "      <td>doc2420.xml</td>\n",
       "      <td>0100_2000_6</td>\n",
       "      <td>TR977*0100*2000*01</td>\n",
       "      <td>&lt;coded_answer&gt;\\n&lt;p&gt;Dear Helen Ryan: Thank you ...</td>\n",
       "      <td>3.1</td>\n",
       "      <td>&lt;coded_answer&gt;\\n&lt;p&gt;Shopping is not always enjo...</td>\n",
       "      <td>3.1</td>\n",
       "      <td>24.0</td>\n",
       "      <td>Spanish</td>\n",
       "      <td>16-20</td>\n",
       "    </tr>\n",
       "    <tr>\n",
       "      <th>1243</th>\n",
       "      <td>doc1941.xml</td>\n",
       "      <td>0100_2000_6</td>\n",
       "      <td>TR746*0100*2000*01</td>\n",
       "      <td>&lt;coded_answer&gt;\\n&lt;p&gt;Cambridge, 13th June 2000.&lt;...</td>\n",
       "      <td>3.3</td>\n",
       "      <td>&lt;coded_answer&gt;\\n&lt;p&gt;Cambridge, 13th June 2000&lt;/...</td>\n",
       "      <td>4.3</td>\n",
       "      <td>29.0</td>\n",
       "      <td>Spanish</td>\n",
       "      <td>31-40</td>\n",
       "    </tr>\n",
       "  </tbody>\n",
       "</table>\n",
       "<p>1219 rows × 10 columns</p>\n",
       "</div>"
      ],
      "text/plain": [
       "         filename    exam_code              sortkey  \\\n",
       "0     doc3042.xml  0100_2001_6    TE35*0100*2001*01   \n",
       "1     doc3163.xml  0100_2001_6    TE70*0100*2001*01   \n",
       "2     doc3116.xml  0100_2001_6    TE58*0100*2001*01   \n",
       "3     doc2868.xml  0100_2001_6     TE5*0100*2001*01   \n",
       "4     doc2994.xml  0100_2001_6    TE22*0100*2001*01   \n",
       "...           ...          ...                  ...   \n",
       "1239   doc297.xml  0100_2000_6  TR1141*0100*2000*01   \n",
       "1240  doc1087.xml  0100_2000_6   TR436*0100*2000*01   \n",
       "1241  doc2577.xml  0100_2000_6   TR118*0100*2000*01   \n",
       "1242  doc2420.xml  0100_2000_6   TR977*0100*2000*01   \n",
       "1243  doc1941.xml  0100_2000_6   TR746*0100*2000*01   \n",
       "\n",
       "                                       answer1_response  answer1_score  \\\n",
       "0     <coded_answer>\\n<p>Dear Mrs. Smith,</p>\\n<p>In...            4.3   \n",
       "1     <coded_answer>\\n<p>Chêne-Bourg, Tuesday 12th J...            4.1   \n",
       "2     <coded_answer>\\n<p>To: Mrs. Smith</p>\\n<p>Than...            4.3   \n",
       "3     <coded_answer>\\n<p>Dear Mrs Maria Smith,</p>\\n...            3.3   \n",
       "4     <coded_answer>\\n<p>Dear Mrs Smith,</p>\\n<p>Fir...            2.3   \n",
       "...                                                 ...            ...   \n",
       "1239  <coded_answer>\\n<p>8 Jun 2000</p>\\n<p>Helen Ry...            3.2   \n",
       "1240  <coded_answer>\\n<p>13th June 2000</p>\\n<p>Dear...            4.3   \n",
       "1241  <coded_answer>\\n<p>Dear Madam,</p>\\n<p><NS typ...            3.2   \n",
       "1242  <coded_answer>\\n<p>Dear Helen Ryan: Thank you ...            3.1   \n",
       "1243  <coded_answer>\\n<p>Cambridge, 13th June 2000.<...            3.3   \n",
       "\n",
       "                                       answer2_response  answer2_score  \\\n",
       "0     <coded_answer>\\n<p>Could modern people live wi...            5.1   \n",
       "1     <coded_answer>\\n<p>My fair Mobile Phone.</p>\\n...            2.3   \n",
       "2     <coded_answer>\\n<p><NS type=\"R\">How wonderful ...            3.2   \n",
       "3     <coded_answer>\\n<p>The telephone is a very imp...            3.3   \n",
       "4     <coded_answer>\\n<p>Telephone saved my friendsh...            3.1   \n",
       "...                                                 ...            ...   \n",
       "1239  <coded_answer>\\n<p><NS type=\"R\"><NS type=\"S\"><...            3.3   \n",
       "1240  <coded_answer>\\n<p>13th June 2000</p>\\n<p>Dear...            5.2   \n",
       "1241  <coded_answer>\\n<p>Many classes and activities...            2.1   \n",
       "1242  <coded_answer>\\n<p>Shopping is not always enjo...            3.1   \n",
       "1243  <coded_answer>\\n<p>Cambridge, 13th June 2000</...            4.3   \n",
       "\n",
       "      student_score student_language student_age  \n",
       "0              34.0         Japanese       16-20  \n",
       "1              26.0            Greek       16-20  \n",
       "2              29.0          Chinese       41-50  \n",
       "3              29.0            Greek       16-20  \n",
       "4              20.0             Thai       26-30  \n",
       "...             ...              ...         ...  \n",
       "1239           28.0           Polish       16-20  \n",
       "1240           35.0           French       21-25  \n",
       "1241           23.0           French       21-25  \n",
       "1242           24.0          Spanish       16-20  \n",
       "1243           29.0          Spanish       31-40  \n",
       "\n",
       "[1219 rows x 10 columns]"
      ]
     },
     "execution_count": 92,
     "metadata": {},
     "output_type": "execute_result"
    }
   ],
   "source": [
    "df = df_raw.replace(\"2.3T\", \"2.3\")\n",
    "df = df[df[\"answer1_score\"] != \"S\"]  # Filter out rows with 'S' in answer1_score\n",
    "df.answer1_score = pd.to_numeric(df.answer1_score, errors='raise')\n",
    "df = df[df[\"answer2_score\"] != \"5/1\"]  # Filter out rows with '5/1' in answer2_score\n",
    "df.answer2_score = pd.to_numeric(df.answer2_score, errors='raise')\n",
    "df = df.dropna()\n",
    "df"
   ]
  },
  {
   "cell_type": "code",
   "execution_count": 93,
   "id": "cf1df065",
   "metadata": {},
   "outputs": [],
   "source": [
    "answer_as_string = \"\"\"<coded_answer>\n",
    "<p>Dear Mrs. Smith,</p>\n",
    "<p>In reply to your letter, I would like to answer your questions and give you more information.</p>\n",
    "<p>Firstly, the hotel in which the group is going to stay is <NS type=\"MD\"><c>the</c></NS> 'Palace Hotel'. Secondly, the easiest way to travel from the hotel to the conference is by a local bus. There is a bus stop in front of the hotel and <NS type=\"MD\"><c>a</c></NS> no.31 or 3 will take you directly to the conference. Thirdly, the end-of-conference party <NS type=\"TV\"><i>would</i><c>will</c></NS> be a small disco, with a variety of drinks and food provided. Therefore, you <NS type=\"TV\"><i>could</i><c>can</c></NS> wear something quite casual.</p>\n",
    "<p>Lastly, on the last day, I would suggest you <NS type=\"FV\"><i>to visit</i><c>visit</c></NS> the Edinburgh Castle and the National Scottish Museum, as both of them are very interesting and have <NS type=\"RD\"><i>the</i><c>a</c></NS> student discount.</p>\n",
    "<p>I hope this letter <NS type=\"RV\"><i>should</i><c>can</c></NS> help you with enough information.</p>\n",
    "<p>Yours sincerely,</p>\n",
    "</coded_answer>\"\"\""
   ]
  },
  {
   "cell_type": "code",
   "execution_count": null,
   "id": "5cdd0700",
   "metadata": {},
   "outputs": [
    {
     "name": "stdout",
     "output_type": "stream",
     "text": [
      "Dear Mrs. Smith,\n",
      "In reply to your letter, I would like to answer your questions and give you more information.\n",
      "Firstly, the hotel in which the group is going to stay is <MD \"the\"> 'Palace Hotel'. Secondly, the easiest way to travel from the hotel to the conference is by a local bus. There is a bus stop in front of the hotel and <MD \"a\"> no.31 or 3 will take you directly to the conference. Thirdly, the end-of-conference party would <TV \"will\"> be a small disco, with a variety of drinks and food provided. Therefore, you could <TV \"can\"> wear something quite casual.\n",
      "Lastly, on the last day, I would suggest you to visit <FV \"visit\"> the Edinburgh Castle and the National Scottish Museum, as both of them are very interesting and have the <RD \"a\"> student discount.\n",
      "I hope this letter should <RV \"can\"> help you with enough information.\n",
      "Yours sincerely,\n"
     ]
    }
   ],
   "source": [
    "def format_xml_annotation(xml_string: str) -> str:\n",
    "    \"\"\"\n",
    "    Format XML annotations by replacing <NS> tags with their content.\n",
    "    \"\"\"\n",
    "    soup = BeautifulSoup(xml_string, 'xml')\n",
    "\n",
    "    # Process each paragraph\n",
    "    transformed_paragraphs = []\n",
    "    for p in soup.find_all('p'):\n",
    "        for ns in p.find_all('NS'):\n",
    "            ns_type = ns.get('type')\n",
    "            incorrect = ns.find('i')\n",
    "            correct = ns.find('c')\n",
    "            # Prepare formatted correction string\n",
    "            correction = f'{incorrect.get_text() if incorrect else \"\"} <{ns_type} \"{correct.get_text() if correct else \"\"}\">'\n",
    "            # print(correction)\n",
    "            ns.replace_with(correction)\n",
    "\n",
    "        transformed_paragraphs.append(p.get_text(separator=\" \", strip=True))\n",
    "\n",
    "    # Join with newlines\n",
    "    transformed_text = \"\\n\".join(transformed_paragraphs)\n",
    "    return transformed_text\n",
    "\n",
    "print(format_xml_annotation(answer_as_string))"
   ]
  },
  {
   "cell_type": "code",
   "execution_count": 95,
   "id": "f63aca9d",
   "metadata": {},
   "outputs": [],
   "source": [
    "A_TEXT = \"answer_response\"\n",
    "A_SCORE = \"answer_score\"\n",
    "\n",
    "# prepare task 1\n",
    "df_task1 = df.copy()\n",
    "df_task1[\"task\"] = \"1\"\n",
    "df_task1 = df_task1.drop(columns=[\"answer2_response\", \"answer2_score\"])\n",
    "df_task1 = df_task1.rename(columns={\n",
    "    \"answer1_response\": A_TEXT,\n",
    "    \"answer1_score\": A_SCORE\n",
    "})\n",
    "# prepare task 2\n",
    "df_task2 = df.copy()\n",
    "df_task2[\"task\"] = \"2\"\n",
    "df_task2 = df_task2.drop(columns=[\"answer1_response\", \"answer1_score\"])\n",
    "df_task2 = df_task2.rename(columns={\n",
    "    \"answer2_response\": A_TEXT,\n",
    "    \"answer2_score\": A_SCORE\n",
    "})\n",
    "# combine tasks\n",
    "df_explode = pd.concat([df_task1, df_task2], ignore_index=True)\n",
    "# only keep task 1\n",
    "df_explode = df_explode[df_explode[\"task\"] == \"1\"]\n"
   ]
  },
  {
   "cell_type": "code",
   "execution_count": null,
   "id": "53a6dd39",
   "metadata": {},
   "outputs": [
    {
     "data": {
      "application/vnd.microsoft.datawrangler.viewer.v0+json": {
       "columns": [
        {
         "name": "index",
         "rawType": "int64",
         "type": "integer"
        },
        {
         "name": "0",
         "rawType": "object",
         "type": "string"
        }
       ],
       "ref": "e939b113-b5a9-4c3e-a325-6acf213926d4",
       "rows": [
        [
         "0",
         "Dear Mrs. Smith,\nIn reply to your letter, I would like to answer your questions and give you more information.\nFirstly, the hotel in which the group is going to stay is <MD \"the\"> 'Palace Hotel'. Secondly, the easiest way to travel from the hotel to the conference is by a local bus. There is a bus stop in front of the hotel and <MD \"a\"> no.31 or 3 will take you directly to the conference. Thirdly, the end-of-conference party would <TV \"will\"> be a small disco, with a variety of drinks and food provided. Therefore, you could <TV \"can\"> wear something quite casual.\nLastly, on the last day, I would suggest you to visit <FV \"visit\"> the Edinburgh Castle and the National Scottish Museum, as both of them are very interesting and have the <RD \"a\"> student discount.\nI hope this letter should <RV \"can\"> help you with enough information.\nYours sincerely,"
        ],
        [
         "1",
         "Chêne-Bourg, Tuesday 12th June.\nDear Mrs Smith,\nit is with great regret that I hear of Mr Brown's illness, and <MA \"I\"> hope to see him soon in an <UD \"\"> excellent health. Nevertheless, I am both pleased and honoured to expect you and your group in the context of our international meeting.\nWe have made arrangements for you to stay at the Palace Hotel. Furthermore, since it is located between the airport and our location, a bus shuttle <W \"shuttle bus\"> has been organised to pick <RV \"take\"> all our guests from the hotel to the conference room.\nThe end-of-conference party is to be held at <RT \"in\"> the 'Royal Room' of the hotel, which has an outstanding reputation for its quality and seriousness. Therefore, all <MD \"the\"> guests will be asked to wear the corresponding <RJ \"appropriate\"> clothes in order to be <RV \"\"> .\nAs for the three hours of free time, I strongly suggest you to check-incheck incheck in your lugagesluggagesluggage <W \"check in\"> at the airport and then, after a five-minutes <DJ \"five-minute\"> bus ride, spend your time in the marvellous 'Old City'.\nBest Regards,"
        ],
        [
         "2",
         "To: Mrs. Smith\nThank you for your letter, which arrived on <MD \"the\"> second . <R \" of\"> June. I am very pleased to help to organize this Conference in our College, which will hold <TV \"be held\"> at <MD \"the\"> Conference Centre at Bromley College starting on 20th June for 3 days. please <RP \"Please\"> find <MD \"the\"> information your <DA \"you\"> required <RV \"requested\"> <RY \"\"> :\nWe have booked the hotel for the group. Called <R \"It is the\"> \" palace <RP \"Palace\"> Hotel\" <MP \",\"> which is about 10 miles away from our College , the <RP \". The\"> hotel will have a coach to pick the group up from the airport on <MD \"the\"> 19th of June and then take the group to <MD \"the\"> Conference and return to <MD \"the\"> hotel every day.\nRegarding to <UT \"\"> the end-of-conference party . We <RP \", we\"> have planed <IV \"planned\"> a barbecue at <RT \"for\"> 5 oo pm . <UP \"\"> on our most idyllic play <RN \"playing\"> field <MP \",\"> which is over lookingoverlooking <TV \"overlooking\"> the endless Countryside and farms. At 7:00pm . <UP \"\"> we can move to our student hall to disc <R \"disco\"> until 10:00pm.\nOn <RT \"For\"> the last day, we have arranged a small party in the hotel , then <RP \". Then\"> we all set up <RY \"off\"> to have <RV \"go on\"> a sightseeing <M \"tour of\"> Bromley town center <SA \"centre\"> for about two hours before you leave for <MD \"the\"> airport. Bromley town center <SA \"centre\"> is the most beautiful shopping centre in South East London. There are many historical <RJ \"historic\"> buildings remain <UV \"\"> . I think the students will enjoy this sightseeing <MN \"tour\"> .\nIf <R \"\"> , please let me know.\nYours . <UP \"\"> sincerely,"
        ],
        [
         "3",
         "Dear Mrs Maria Smith,\nas the leader of the conference-organisation, I'm glad if I can help you. My wish <RV \"hope\"> is that nothing goes wrong. So you have to know more details about our conference.\nYour hotel is called Palace Hotel and it is placed <RV \"located\"> in the city centre. As far as I know <MP \",\"> this hotel is very comfortable. There is also a subway-station near Palace Hotel. Our college is not much <RY \"very\"> far away. You only have to take the subway-train. After three stations you have arrived <MT \"at\"> Brooklyn street. When you come out of the subway you see our college.\nThe conference starts at 6 o'clock and ends at 8 o'clock. The students have prepared a music program <SA \"programme\"> for the end-of-conference party. There will also be an international buffet. So don't eat too much before you come. And please don't worry about clothes. There are not any rules.\nIn our city there is a big adventure swimming park. I think you should visit Water World on your last day. You will have a lot of fund <RN \"fun\"> , <L \"\"> . If you need any further information please call me. My number is: 793354\nYours faithfully,"
        ],
        [
         "4",
         "Dear Mrs Smith,\nFirst of all I'm sorry to hear that Richard Brown is ill. As you are the leader of a <RD \"the\"> group instead of him, I'm delighted to give <MA \"you\"> all the information you have asked for.\nThe Palace Hotel has been booked for the group, and <MP \",\"> from there to the conference, we have organized with <UT \"\"> the hotel's bus service to take the student <FN \"students\"> to the conference. We will meet at <RT \"in\"> the lobby at 9.00 AM.\nThe conference party will last at <RT \"until\"> 1.00 AM, but every body <RP \"everybody\"> do <AGV \"does\"> not need to stay until the end. There will be a bus taking students who do not need <RV \"want\"> to stay at the party until the end. The bus will be <R \"\"> at 9.30 PM and 11.30 PM <MP \",\"> then at the end of the party <MA \"there\"> will be the last one. Everybody are <AGV \"is\"> free to dress for the party but be considering <TV \"consider\"> <MA \"what\"> to be <TV \"is\"> appropriate.\nOn the last day at noon, you could go to the craft centre near by <RP \"nearby\"> the Airport. There are lots of thing <AGN \"things\"> there you will enjoy watching or buying for friends.\nIf there is any information you need to know about the conference, please let me know. I look forward to see <FV \"seeing\"> you at the conference.\nYours sincerely,"
        ],
        [
         "5",
         "Dear Mrs Smith,\nThank you for your letter. I will try my best to answer the questions.\nFirst of all, we have already booked the Five-Stars <DJ \"Five-Star\"> Hotel for your group. It is a modern hotel, near our college, and it is also very convenent <S \"convenient\"> to come from <R \"for\"> the airport. You can take both <RQ \"either\"> by <UT \"\"> buses <AGN \"bus\"> or taxies. The nember <S \"number\"> 101 bus starts <RV \"leaves\"> from the airport, than <SX \"then\"> you can get off from <RT \"at\"> <MD \"the\"> \"city college\" stop. It would be a great chance to tarktake part inattend the party for everyone <W \"take\"> . This is just a relaxing party, just for <RT \"so\"> the members have a chance to relax and make friends. So I think you'd better to wear <FV \"wear\"> a dress.\nFinally, about the free three <W \"three free\"> hours, my personal prefer <DN \"preference\"> <MV \"is\"> to go shopping. Our city has got the biggest shoping <DN \"shopping\"> centre in South England , there <RP \". There\"> gathers <RV \"are\"> so many shops. It <MV \"is\"> worthes <S \"worth\"> tpto spend <FV \"to\"> time and money on that.\nI look forward to seeing you!\nYours sincerely"
        ],
        [
         "6",
         "Dear Mrs Smith,\nI am writting <IV \"writing\"> <MT \"to\"> you to reply <RV \"answer\"> your question about the conference in London. thank <RP \"Thank\"> you for your letter. I am very pleasant <RJ \"pleased\"> to know you decided to come to the \" II <R \"Second\"> International conference <RP \"Conference\"> of <RT \"on\"> Human Rights\" which will be celebrated <RV \"held\"> in <RT \"at\"> Albert Hall college <RP \"College\"> <MT \"on\"> next <UJ \"\"> 25 of <UT \"\"> June.\nI would like to inform you that the group you belong to , <UP \"\"> has been booked in <RT \"into\"> <MD \"the\"> Palace Hotel , <UP \"\"> in the center <SA \"centre\"> of London from the 24 <MP \"24th\"> <MT \"of\"> June until <MD \"the\"> 25 <MP \"25th\"> of June. The Albert Hall College, the building where will be taken partheld the conference <W \"held\"> is sited <RV \"situated\"> near Green Park Avenue ; so, to <RP \". To\"> get <MT \"to\"> it from the Palace Hotel <MP \",\"> you can take the bus number 26 <W \"number 26 bus\"> , otherwise, you can take the Picadilly Line from South Kensigton Station <RP \"station\"> to green <RP \"Green\"> Park station. It takes about 10 minutes . <UP \"\"> Therefore <UY \"\"> , that's the fasterfastest <RJ \"fastest\"> way <RN \"means\"> of transport you can choose. The Conference will start at 9 am of <RT \"on\"> 25 June and will finish about 6 pm in <RT \"on\"> the same day. During the day <MA \"you\"> is <AGV \"are\"> supposed having <FV \"to have\"> a break of half and <SX \"an\"> hour at 12 p.m. <R \".\"> and finally, <M \"there will be\"> a party for all the people who will be there. That will be a smart <RJ \"formal\"> party and because of this, it will be required a well-dressed and immaculate presence <R \"you will be required to be smartly dressed\"> . Ladies should wear an evening dress and gentlmangentleman <FN \"gentleman\"> a dark suit.\nAs I can see from your letter, you will have about three hours before you catch your plane, so, I would suggest <MA \"you\"> to visit <FV \"visit\"> The <RP \"the\"> Tate Modern Museum, where you will can <UV \"\"> find several interesting pictures such as Dali's <UP \"Dalis\"> <MC \"and\"> Warhols.\nIf you need some more information or details about he <SX \"the\"> conference, you can contact Alexia on 0033*** phone <UN \"\"> .\nI look forward to hearing from you.\nYours sincerely,"
        ],
        [
         "7",
         "Dear Mrs Smith\nI am writing to answer your letter about the details of <MD \"the\"> international students conference.\n<MD \"The\"> Palace Hotel has been booked and you should first walk from the hotel to the Town Hall railway station, which is <M \"on the\"> North City Line, <MA \"which\"> is <MD \"the\"> yellow line on the map. After getting on the train, you should get off at the Mountain station <MP \",\"> which is for twenty minutes <R \"twenty minutes away\"> , it <RP \"it\"> is in front of <RT \"opposite\"> the conference <MN \"venue\"> .\nThe conference which <MP \",\"> will be held from 1 pm through 4 pm, is a formal party. You should wear formal clothes, and are going to play a game and enjoy <MD \"a\"> welcome drink together.\nBefore catching our plane, we will be able to enjoy going shopping around the airport for three hours in the afternoon . Because <RP \", because\"> there are so many unique shops and you should buy good gifts for your parents\nYours sincerely,"
        ],
        [
         "8",
         "Dear Mrs Smith,\nThank you very much for your letter. I would <TV \"will\"> be very pleased if I can help you answering <R \"with\"> all your enquiries.\nThe hotel which your students' group has been booked into is the Palace Hotel. It is fairly easy to get there from the conference. I would suggested <FV \"suggest\"> you to walk <FV \"walk\"> along New Street, which is the one next to <MD \"the\"> river, and in 10 minutes you will see the hotel in <RT \"on\"> your right hand <MP \"right-hand\"> side. The hotel is just opposite to <UT \"\"> the City Hospital.\nAs you already possibly <W \"possibly already\"> know, the end-of-conference party will take place at <RT \"in\"> the main reception room at the same hotel. You should be there by 7 o'clock in the evening. Answering <FV \"To answer\"> your question, you should be fine wearing casual clothes. However, if you wish to dress smarter, there is no problem at all.\nWith reference to the last afternoon, if I were you I would visit the City Museum. There are many interesting works of art by famous painters of this country. If you have any time left you ought to go to the High Street, where you could go shopping.\nPlease, do not hesitate to contact me at the above address if you need any further information.\nI look forward to meeting you at the Conference.\nYours sincerely,"
        ],
        [
         "9",
         "Dear Mrs M. Smith,\nI am writing in order to reply to your letter and to give you all the information that you requested.\nFirst of all the hotel is the Palace Hotel, 82 Regent Street, so that <UA \"\"> it is very easy to reach the conference. In fact you can take the bus number 3 <W \"number 3 bus\"> ; as you can see, the bus stop is just in front of the hotel, then you can get off immediately after the church that you pass, on your right hand <UN \"\"> .\nSecondly, we will have the party in the hotel at 8.00 o'clock and a buffet will be served at 8.30 p.m. It would <TV \"will\"> be also <W \"also be\"> possible to get some vegetarian food and drink cocktails free of charge. I would recommend your students to bring <FV \"bring\"> their Identity Card <FN \"Cards\"> to prove their age. What is more, I would suggest to wear <FV \"wearing\"> very smart dress <RN \"clothes\"> and for men it is oblidgedobligedobligatory thea tie <AS \"obliged\"> .\nFinally, if I were you I would go shopping to <RT \"in\"> the City Centre to spend <R \"in\"> your last hours. However, if you re <MP \"you're\"> interested in ArcheologyArchaeology <RP \"Archaeology\"> you should vitis <S \"visit\"> the History Museum in Garden Square.\nI hope you will find my letter of interest and I look forward to seeing you.\nYours Sincerely,"
        ],
        [
         "10",
         "<MJ \"Dear\"> Mrs Maria Smith,\nI'm pleased to be able to help you for <RT \"with\"> the international student conference.\nThe hotel in <RT \"into\"> which the group has been booked to <UT \"\"> is the Palace hotel <RP \"Hotel\"> , which is situated near the big bridge of Mont Blanc.\nTo get from the hotel to the conference, you have to take the highway indirectionin direction <MD \"in direction\"> of Lausanne, and after nearly half an hour of driving you come out at the place which is <RV \"\"> with Coppet, Divonne. When you come out, just go on your <U \"\"> right, and then turn left to follow the indications <RN \"directions\"> to the Châtaigneroie school <RP \"School\"> .\nThe end-of-conference party will take place at the same place. Some musicians will play classical music, and there will be many different drinks and food.\nyou <RP \"You\"> should wear some <UQ \"\"> formal clothes, but not necessary <DY \"necessarily\"> really pretty clothes <MP \".\">\nFor three hours, you could visit the museum of the Red Cross, which is very interesting.\nI hope that these <AGD \"this\"> informations <CN \"information\"> will help you <MP \".\">\nSincerely yours,"
        ],
        [
         "11",
         "Dear Maria,\nI would be pleased to help you about <RT \"with\"> all your questions and I will provide you <MT \"with\"> some <RD \"the\"> information which you need as much <RY \"far\"> as I can.\nI would like to inform you that Centeral Red Lion Hotel has been booked for the accomadation <S \"accommodation\"> of the group and it will be quite easy to get every where <RP \"everywhere\"> from the hotel on foot <W \"on foot from the hotel\"> during your stay.\nAs you know <MP \",\"> that <UC \"\"> we arrange <TV \"are arranging\"> an evening party on the third day of the week, we can say that <MA \"it\"> <MV \"is\"> a kind of relaxation time. Nothing will be spacial <RJ \"special\"> . Place <MD \"The place\"> is <MD \"the\"> College <RP \"college\"> garden. Time <MD \"The time\"> is 7 pm. There is no need to bother <MY \"\"> about clouths <S \"clothes\"> . Everybody can put on <RV \"wear\"> something casual.\nBefor <S \"Before\"> <MA \"you\"> leav <S \"leave\"> from <UT \"\"> England <MP \",\"> I suggest you to visit <TV \"visit\"> the cannals <S \"canals\"> and small villages around Basingstoke. You could find <RV \"have\"> the opportunaty <S \"opportunity\"> to see the country life.\nYours sincerely,"
        ],
        [
         "12",
         "Dear Mrs Maria Smith,\nI am afraid <RJ \"sorry\"> to hear that Mr. Brown is ill <MP \".\"> I hope it won't be <TV \"isn't\"> grave <RJ \"serious\"> . However, I will be glad to give you as much information as you need and I hope you will find it helpful.\nthe <RP \"The\"> name of the hotel in which the group is going to stay in <UT \"\"> is <MD \"the\"> Palace Hotel , to <RP \". To\"> get there you must go to the centre of town , all <RP \". All\"> <MD \"the\"> buses are going <TV \"go\"> there , <RP \".\"> Once you are in the centre <M \", the\"> Palace Hotel is right in front of the tourism information office.\nFor the end-of-conference party we have booked one of the halls of the hotel and they will provide us <MT \"with\"> life <DJ \"live\"> music and cattering <S \"catering\"> . Due the hotel is <FV \"being\"> such an elegant place I would suggest to dress <FV \"dressing\"> up in night clothes <DN \"evening dress\"> .\nFinally, to fill your free afternoon I would hardly <RY \"definitely\"> recomend <S \"recommend\"> to visit <FV \"visiting\"> the cathedral and have <FV \"having\"> a walk arround <S \"around\"> the old part of the city , if <RP \". If\"> you like <RV \"want\"> <MP \",\"> it will be my pleasure to show you the souroundingssurroundings <RN \"surroundings\"> .\nYours sincerely,"
        ],
        [
         "13",
         "Dear Mrs Smith\nI have received your letter, which was about <CE \"\"> .\nAs you know, a hotel whose name <UN \"\"> is <RV \"called\"> <MD \"the\"> Palace Hotel has been booked for your group. The best way to get from there to the conference is to take a taxi. I am afraid there are no buses to get there.\nWe will have a great party at the end of the conference. The party will be formal, therefore you have <TV \"will have\"> to wear formal clothes like a suit or a dress. As you know, it is not suitable to wear a <UD \"\"> jean <IN \"jeans\"> or something <MJ \"similar\"> .\nOn your last day you have an <RD \"the\"> afternoon free. In my area there is a fantastic park, which is the most famous park in the country. You can find a lot of things to do or to see. You can visit the zoo or walk around the amazing lake in the park.\nI hope you will find all the details , <UP \"\"> which you would like to have in the letter. If you need any <MY \"more\"> information, please let me know.\nYour <DA \"Yours\"> Sincerely <RP \"sincerely\"> ,"
        ],
        [
         "14",
         "Dear Mrs Smith : <RP \",\">\nI have received your letter which informs me you are now in charge of the group of students attending the international conference.\nIt is my pleasure to help you with the information you need.\nYour group has been booked into The Palace Hotel, located on the High <RP \"high\"> street, opposite to <UT \"\"> the Post Office <RP \"post office\"> .\nThe conference will be hold <TV \"held\"> in The Royal Hall, and the best way to get there from the hotel is by bus. Take the 67 route and it will take you just in front of The Royal Hall.\nThe end-of-conference party will be hold in Francescos Restaurant, just by The Royal Hall. You should wear casual clothes.\nAbout what you can do in the area for <RT \"in\"> the free time you have, I would suggest you to visit <TV \"visit\"> The <RP \"the\"> Modern Art Museum which has now <W \"now has\"> a new exhibition. Another suggestion could be to visit the zoo, or just walk through the <UD \"\"> Spring Gardens <MP \",\"> which are beautiful in <RT \"at\"> this time of the year.\nI hope all this information is helpful for you.\nYours sincerely,"
        ],
        [
         "15",
         "Dear Mrs Smith,\nI have recievedreceived <TV \"received\"> your letter this morning. I am sorry to hear that Richard is ill and is unable to attempt <RV \"attend\"> the conference; I am glad that you are able to be the leader of the group. I hope that these <CD \"the\"> informations <CN \"information\"> below are <AGV \"is\"> very useful to you, during your attempt <RN \"attendance\"> of <RT \"at\"> <MD \"the\"> conference.\nI have booked a hotel not far off <UY \"\"> from our school. The hotel is called <MD \"the\"> Epsom Down Hotel. Your plane will arrive in England by 9:00. There will be a coach waiting for you, and the driver will be next to the information desk. You should arrive at the hotel by 11:00. You will than <SX \"then\"> have an hour to check in and unpack all your luggage. The conference will start on time at 12:30, so I would suggest you to leave <FV \"leave\"> <MD \"the\"> hotel by 12:00. The best way to get to the conference is to follow along <UT \"\"> the collage <RN \"college\"> road and turn left toward the end , you <RP \". You\"> than <SX \"then\"> keep going straight , you <RP \". You\"> will eventually see the main entrance of <RT \"to\"> the collage <RN \"college\"> . When you get into the college you can just ask any boys in the college where to go from then. They all knows <AGV \"know\"> where the conference is and when.\nAt the end of the conference, we will have a party. The party is to let all the students to get <FV \"to get\"> to know each other better. The party will be in the dance hall next to the conference room. I will <TV \"would\"> suggust <S \"suggest\"> them <RA \"they\"> to wear <FV \"wear\"> formal clothing, as in <RT \"such as\"> tie, trousers and blaser <S \"blazer\"> .\nFor the afternoon free time on the last day . There <RP \", there\"> are a wide variety of choices <M \"in the things\"> that they can do. They can play tennis, do athletics, swimming <FV \"swim\"> ... and many other sports eventevents <RN \"events\"> in our school, if they want to. Or they can also visit the <UD \"\"> Epsom Town. There are shops which sales <DV \"sell\"> cloths <RN \"clothes\"> , foods <FN \"food\"> , and books ... They can decide what they want to do , it's <RP \". It's\"> entirely up to them.\nI am looking forward to seeing you and hop <RV \"hope\"> you have a safe flight over to England.\nYour <DA \"Yours\"> sincerely,"
        ],
        [
         "16",
         "Dear Mrs Smith,\nI'm writing in response to the letter we have received from you, in order to let you know all the information you have asked for.\nFirst of all, your group has been booked into the Palace Hotel, Main-RoadMain Road 21 <W \"Main Road\"> , which is situated not far from our college. I'd suggest you to walk <FV \"walk\"> , it <RP \". It\"> will only take you about seven minutes. Just follow Main-Road <UP \"Main Road\"> until <MA \"you\"> to reach <TV \"reach\"> a junction, where you turn right and then walk along Denl-a-Lion Road. The college is a huge, yellow building - you can't miss it.\nSecondly, you have required <RV \"requested\"> information about the end-of-conference party. It will begin at 6 o'clock p.m. and last until midnight. All the students will be provided with sacks and we have managed to book a band as well. The location of the party isn't fixed yet, but we will let you know after your arrival.\nThere is no need putting <FV \"to put\"> on special clothes for the party , casual <RP \". Casual\"> ones <R \"dress\"> should do it <R \"just\"> as well, for <L \"because\"> we want everyone to feel comfortable.\nLast but not least I will give you some ideas of <RT \"about\"> where to spend your free afternoon. I'd suggest you to visit <FV \"visit\"> our local museum, as there is a marvellous exhibition there at the moment. Provided the weather is fine, you could also go swimming or make a tour through <RT \"of\"> our beautiful town. (I could book a guide for you if you're interested <MP \".\"> )\nPlease write back or call me if there is any more information you need.\nI'm looking forward to meeting you and wish you all the best.\nYours sincerely,"
        ],
        [
         "17",
         "<MJ \"Dear\"> Mrs Smith,\nI received your letter this morning and I would like to thank you for your interest in the Conference <RP \"conference\"> . I hope I can answer your questions.\nAt First <RY \"First\"> , this international student conference has the intension <RN \"aim\"> of explain <FV \"explaining\"> to students how important is the education <W \"education is\"> . In addition to this, we choose <TV \"have chosen\"> the luxuery <S \"luxury\"> Palace Hotel <MP \",\"> which is comfortable enough and in a good location. The Palace Hotel is located in the centre of the city, so you can go <RV \"come\"> by train, by bus or by car. I suggest you should go by train and go out <RV \"get off\"> in <RT \"at\"> the <UD \"\"> Museum Station. The Conference <RP \"conference\"> will happen <RV \"be held\"> in the Hotel <RP \"hotel\"> , which is <R \"\"> .\nThe Conference <RP \"conference\"> , <R \"\"> , it <UA \"\"> is a <UD \"\"> quite well organized. It will starts <FV \"start\"> at eight in the morning and will finish around five in the afternoon. I suggest you should wear something informal. Even though we want to make things as more comfortable <FJ \"comfortable\"> as possible to <RT \"for\"> our students.\nI am very happy that you want to know <MT \"about\"> my area, although I am afraid an afternoon is not enough. However, if you want, you can call me and I can show you some interesting places. I will be very glad. I look forward to hearing from you.\nYours sincerely,"
        ],
        [
         "18",
         "Dear Mrs Maria Smith\nthankyou <RP \"thank you\"> for your letter, wich <S \"which\"> arrived yesterday. I hope to give you , <UP \"\"> all the information <MA \"you\"> need and <MP \",\"> please, if you want more information or somenthing <S \"something\"> is not clear, please don't esitate <S \"hesitate\"> to contact me again.\nThe Hotel <RP \"hotel\"> is near the station and is call <TV \"called\"> \"Grand Placad\". When you arrived <TV \"arrive\"> you take the train for <RT \"to\"> Guildford and after <MA \"that\"> you have just <W \"just have\"> acrosscross <FV \"cross\"> the road , <UP \"\"> in front of the station.\nIt's <MD \"a\"> very confortable <S \"comfortable\"> hotel where you can find everything you need.\nFrom there to the conference you have to take the bus number 50 <W \"number 50 bus\"> , that <RA \"which\"> stop <AGV \"stops\"> near the hotel and arrive <AGV \"arrives\"> in <MD \"the\"> town center <SA \"centre\"> . The conference is organised <RV \"held\"> in the civic hall so it is very simple <RJ \"easy\"> to found <FV \"find\"> it. At the end of <MD \"the\"> conference there is a party <MP \",\"> a perfect opportunity for your students meetmake <FV \"make\"> new friends from all part <AGN \"parts\"> of <MD \"the\"> word <RN \"world\"> and they could <TV \"can\"> speak <RV \"talk\"> about their experience.\nI suggest for thatthis conference <W \"this\"> to wear <FV \"wearing\"> somenthing <S \"something\"> very confortable <S \"comfortable\"> but elegant , the <RP \". The\"> organisation want <AGV \"wants\"> for <UT \"\"> all <MD \"the\"> boys <RN \"men\"> wear <FV \"to wear\"> <MD \"a\"> jacket, <MC \"but\"> the <RD \"a\"> tie is not necessary.\nI don't know relyreally <W \"really\"> what you can <RV \"should\"> see , <RP \";\"> three hours I think is not <AS \"I don't think three hours is\"> enough but near the station there is a beautiful garden <RN \"park\"> <MP \",\"> popular for its variety of flowers.\nIf I found <TV \"find\"> somenthing <S \"something\"> special <M \"you will be able\"> to visit in three hours I call <TV \"will call\"> you.\nYour <DA \"Yours\"> sincerely"
        ],
        [
         "19",
         "Dear Mrs Smith,\nI am writing in reply to your letter, which I received yesterday. Below is a piece of <RQ \"some\"> information you will need for the next international student conference at Bournemouth College and some recommendations, which might be useful for the students.\nFirst of all, the hotel booked for the group is the Palace Hotel, which is very impressive in terms of comfort and facilities. This is a very central hotel located not far away from the conference hall. You will be able to get there either by bus (no 150) or on foot.\nNext you are welcome to attend the party organized at the end of the conference. It will begin at elevenish p.m. and may last the whole night. People are going to be disguised <RJ \"in costume\"> there and it would be a good idea to wear extravagant multi-coloured clothes.\nFinally I think that you should jump at <MD \"the\"> opportunity to go to the historical <RJ \"historic\"> Pergam's Museum before leaving. Some of the most amazing masterpieces are exposed <RV \"exhibited\"> there.\nI wish you in advance <UY \"\"> a wonderful trip and look forward to meeting you in Bournemouth.\nYour <DA \"Yours\"> sincerely"
        ],
        [
         "20",
         "Dear Mrs Smith,\nI am writing this letter in reply to your letter which arrived yesterday. I do welcome you and your group, and I am willing to help you by giving the informations <CN \"information\"> that you have asked me <MT \"for\"> .\nFirstly, let me explain the way <RN \"route\"> from the PALACE HOTEL, where your group will be staying, to the conference. The hotel is located in the centre of Seoul, therefore there <MV \"are\"> many ways to get to the conference. The easiest way to get there is to take the underground, which takes about 20 minutes. The map will be given to you on the day of your arrival.\nSecondly, the end-of-conference party will be held in the Palace Hotel's Percel Room and starts at 6 o'clock in the evening. Professor Kim from my college is going to give a speech, and after that dinner will be served. The party is not very formal, so you can wear any kind of dress, as long as it is suitable for dinner.\nFinally, I would like you <UA \"\"> to recommend the visit to a traditional Korean palace Kyong Bok for the last day's free time. It must be a very interesting visit for the students who has <AGV \"have\"> never experienced an oriental atmosphere. It is just 5 minutes walk from the hotel, and in front of the hotel gate, an airport bus will be waiting for you to take you to the airport after finishing the outing.\nI hope you will enjoy your stay in Korea, and do not hesitate to contact me for any further information.\nI look forward to seeing you soon,\nYours sincerely,"
        ],
        [
         "21",
         "Dear Mrs Smith.\nI am writing in response to your letter in order to give you some further information about the international student conference in <RT \"at\"> our college.\nI would like to inform you that your group has been booked into <MD \"the\"> Palace Hotel. It is situated in the center <SA \"centre\"> of our town and it takes five minutes to get to the college, where the conference is going to be held. I think that the best choise <S \"choice\"> for you is to take the 234 bus. The bus stop <MY \"where\"> you should get off is called \"The Green Man\".\nWith reference to the end-of-conference party, which is going to take place on Tuesday from 8:00 until midnight, I would like to mention the necessary dress code. It is an <UD \"\"> evening dress for women and black trousers, a white shirt and a black bow tie for men.\nLastly, I would like to give you some suggestions about way <FN \"ways\"> in which you can spend your free time in our town. I am strongly convinced , <UP \"\"> that you should visit <MD \"the\"> local Science Museum. Also there is a very good shopping center <SA \"centre\"> next to the museum.\nI look forward to seeing your <DA \"you\"> at the conference and hope that you will have a good time in our town.\nYours sincerely"
        ],
        [
         "22",
         "Dear Maria,\nFirst of all, I am sorry to hear that Richard is ill. As the conference must go on, I will give you the information you asked for in order to work on with <UT \"\"> this conference.\nAccording to <RT \"Concerning\"> the hotel, the group has been arranged <RV \"booked\"> to stay in a hotel which is very near the place <MC \"where\"> we are going to have the conference. The hotel is The Palace Hotel. It'is <UP \"It is\"> just <UY \"\"> only 5 minutes <MP \"minutes'\"> walk from there to the conference and I would like to suggest that this is the best way to get to the conference.\nAbout <L \"Regarding\"> the party, we will have a party at the end of the conference at the hotel <MC \"where\"> you will stay. The party will be <RV \"have\"> in <UT \"\"> a friendly <RJ \"relaxed\"> atmosphere so don't worry about what to wear. There will be only our group, so dress <RV \"wear\"> whatever you want and enjoy ourselves <AGA \"yourself\"> .\nLastly, <R \"\"> . The shopping centre is just right <UY \"\"> opposite of <UT \"\"> the hotel , however <RP \". However\"> , some people may want to just wait at the hotel, having a cup of coffee. The cafe in the hotel is available.\nI hope that <MD \"this\"> information will be useful. If you have any questions I am more than happy to help. I look forward to seeing you at the conference.\nYours sincerely."
        ],
        [
         "23",
         "Dear Mrs Maria <UN \"\"> Smith\nWith reference to your letter which I recived <S \"received\"> yesterday, I would like to give you some details about The <RP \"the\"> international student conference, also the acomodation <S \"accommodation\"> and activities that are planed <IV \"planned\"> during this week.\nThe Hotel <RP \"hotel\"> that is booked for the students it <UA \"\"> is one of the beast <SX \"best\"> in the area, it has great <L \"very good\"> facilities and it is situated near to the place where the conference is going to be. The best way to get there from The <RP \"the\"> hotel is by bus and it is already booked for the next day <R \"the day after\"> you arrive, at 8:30 am.\nAbout the party which is just at the end of the conference, <CE \"\"> a dance party and the students don't really need to wear special clothes, it's just to have a little dance and meet all the students , after <RP \". After\"> the party <MP \",\"> there is a small trip to the old part of the city and I think it would be a good choice <MT \"for\"> to spend <FV \"spending\"> the last three hours that you have left before go <FV \"going\"> back.\nI hope this letter asweranswer <AGV \"answer\"> all your questions, if you whant <S \"want\"> to know more about it just give me a call or send me a letter.\nyouryours <RP \"yours\"> sincerely"
        ],
        [
         "24",
         "Dear Mrs. Smith\nmy <RP \"My\"> name is ..., I am a local student and i <RP \"I\"> will give you the requested information. The rooms for your students have been booked at the Palace Hotel near the city-centre <UP \"city centre\"> . The hotel is just three busstops <RP \"bus stops\"> away from our college . So <UP \" so\"> you and your students can take the bus from the central busstation <RP \"bus station\"> that is right in front of your hotel to get to the conference.\nThe end-of-conference party starts just one our <SX \"hour\"> after the end of the conference. It is located in our sports hall. There will be live music and a midnight dinner. So you <UC \"You\"> don't have to appear very <DY \"\"> dressed, just as you like it <UA \"\"> (there is no order <RN \"dress code\"> - you may wear what you want).\nFor your last day I think it would be interesting to vistit <S \"visit\"> our historical <RJ \"historic\"> and famous city-centre <UP \"city centre\"> . I will organize a tourist guide to give us information about the old buildings and sights.\nIf you have any more questions <MP \",\"> write me a short letter.\nYours sincerely"
        ],
        [
         "25",
         "Dear Mrs Smith,\nI have received your letter dated on <UT \"\"> the 12th <MT \"of\"> june <RP \"June\"> 2001. I am very happy to help you and I hope that the informations <CN \"information\"> , <UP \"\"> that I am going to give you , <UP \"\"> will be enough <RJ \"satisfactory\"> .\nThe international student conference will be in the Palace Hotel in Lausanne. The Hotel <RP \"hotel\"> is a big building in the middle of the town near the place <RN \"square\"> <MP \",\"> \"St-François\". And the name of the street is \"Grand-Chêne\". You can not <RP \"cannot\"> miss it.\nAfter the conference, we are going to stay in the Palace Hotel but instead <MT \"of\"> to stay <FV \"staying\"> in the conference room, we are going to move to the reception room where a dinner will be prepared <RV \"served\"> for us. Afterwards, a live band are <AGV \"is\"> going to play <MT \"for\"> the rest of the night. For <RT \"Regarding\"> the clothes, you have to wear something smart and classic.\nIf you want to stay in Lausanne during your afternoon free <W \"free afternoon\"> , the best thing to do is to go to Ouchy. There, you can enjoy the Landscape <RP \"landscape\"> and have a sunbath <DV \"sunbathe\"> .\nYour <DA \"Yours\"> sincerely,"
        ],
        [
         "26",
         "Dear Mrs. Smith,\nI am writing in reply to your letter. I am sorry about Richard Brown. And I understand that you need help, so that <UC \"\"> I will help you as far as I can.\nFirstly, the hotel which ha <S \"has\"> been booked for you is Palace Hotel that <RA \"which\"> is located close to the conference. In order to get from the hotel to the conference, you just need to take the bus we will offer <RV \"provide\"> . Secondly, the end-of-conference party will take place in the same hall as the conference at 6 p.m., which includes dinner and an announcement by the president of the conference. The party is arranged as a casual party, therefore, you can wear comfortable clothes. You can expect to meet many students from other schools as well. Finally, if you want to have an exciting experience in <UT \"\"> here, I strongly suggest that you go to the musicals. As you may hear <TV \"have heard\"> , our city is well known for the musicals. Or, If <RP \"if\"> you want to relax, you can take a walk in the park situated in <RT \"at\"> ten minutes <MP \"minutes'\"> distance on foot from the hotel. Whatever you choose, you will be satisfied with your choice.\nIf you have more questions about the conference and <RC \"or\"> something <RA \"anything\"> else, do not hesitate to ask me. I would be glad to be able to help you.\nYours sincerely,"
        ],
        [
         "27",
         "Dear Mrs Smith,\nI am writing to you to give you more informations <CN \"information\"> about an <RD \"the\"> international student conference.\nThe group has been booked into <MD \"the\"> King Hotel at <RT \"on\"> High Street <MP \",\"> which is very easy to find. And the best way to get from there to the conference is <MT \"by\"> following the rod <RN \"road\"> in front of the hotel to the right, then cross the zebra crossing to the opposite side. After that walk to the right about 15 metres and you will find the conference place <RN \"venue\"> <MP \",\"> which is called <MD \"the\"> White House.\nAt the end of <MD \"the\"> conference, we are going to have an International Dinner as well as some shows from the students in my college. As this is a special conference so <UY \"\"> you could wear your own national dress to present <RV \"represent\"> your country.\nFinally, on the last day you could spend your free time to visit <FV \"visiting\"> our town hall which <R \"where\"> you will be able to learn more about my area - or <M \"you could\"> do some shopping at <RT \"on\"> High Street.\nIf you want more information, please contact me and I am looking forward to seeing you soon.\nYours sincerely,"
        ],
        [
         "28",
         "Dear Mrs Smith,\nI am writing to inform you that I have recieved <S \"received\"> a letter from you about helping you to organise an international student conference in my college.\nYour group has been booked into the Palace Hotel <MP \",\"> which is not very far from my college. However, due to the congestions <CN \"congestion\"> and delay <RN \"delays\"> near the hotel, the best way to get from there to the conference is by <RT \"on\"> <MD \"the\"> underground, <MT \"from\"> Victoria Street station <RP \"Station\"> . You would <TV \"will\"> arrive at the other station opposite my college in approximately 15 minutes.\nAt the end-of-conference party, you may either leave the party or stay in the college for more activities. All different <UQ \"Different\"> types of clothing could <TV \"can\"> be worn however <MP \". However,\"> <DN \"\"> and T-shirts would <TV \"will\"> be <RJ \"\"> on that day.\nInstead <MT \"of\"> staying in the hotel for the last three hours, I suggest that you could <UV \"\"> perhaps visit our town centre. The popular attractions in our town, including the art gallery, museum, aquarium, <MC \"and\"> market square, could <TV \"can\"> be found near our <RD \"the\"> monument of our town, the Saltisy Bridge.\nI am looking forward to see <FV \"seeing\"> you soon.\nYours sincerely,"
        ],
        [
         "29",
         "Dear Mrs Smith,\nThank you for your letter. I am glad to help you for <RT \"with\"> the organisation of the conference.\nI phoned to <UT \"\"> the tourist information <MN \"office\"> last week and I got some information about the accomodation <S \"accommodation\"> of <RT \"for\"> the students.\nI think we should book at <UT \"\"> the Palace Hotel. It is an outstanding building situated in the city centre.\nThe Hotel <RP \"hotel\"> is in a good position, 10 minutes <MP \"minutes'\"> walk from the conference <MP \",\"> and I think the best way to reach it is on foot.\nI am sure the students will enjoy walking in the streets of the town.\nThe conference starts at 5 o'clock in the afternoon and finishes at 7 pm.\nI think they should wear smart dress <RN \"clothes\"> , because there will be lots of interesting people and <M \"it is an\"> important meeting.\nIn conclusion, for the last day, I thought it will <TV \"would\"> be very interesting for the students to visit the town and appreciate <RV \"admire\"> its monuments and art.\nOn the other hand, if you prefer to have a relaxing day, you could have a pic-nic <UP \"picnic\"> in the wonderful park.\nI hope my suggestion and Ideaidea <FN \"idea\"> will help you to organise the meeting.\nI look forward to receiving your confirmation.\nYours,"
        ],
        [
         "30",
         "Dear Mrs Smith,\nI am writing in response to your letter where you asked me to give you more information about <MD \"the\"> international student conference and give some ideas and suggestions of <RT \"about\"> what you and your students can do during your free time here.\nThe group has been booked into the Palace Hotel <MP \",\"> which is located in the central area of the city, so it will not take you and your students too much time to get to the town hall where the conference is supposed to be progressed <RV \"held\"> . The easiest way to get there from your hotel is to take buses <FN \"bus\"> 461 or 176 (the bus stop is opposite to <UT \"\"> the hotel) or we can hire a minibus for you but there is an extra charge for it.\nThere is a party on the last day of the conference. Special awards will be given to the students whose reports are the best. <CE \"\"> our night club <RP \"nightclub\"> so a lots <AGN \"lot\"> of music, dancing and fun are provided. Please note that the <UD \"\"> alchocholich <S \"alcoholic\"> drinks are only sold untill <S \"until\"> 11pm. You can wear whatever you like for this kind of party.\nComing back to ideas and Suggestions <MP \",\"> I'v <UP \"I've\"> promised to give you about <UT \"\"> <MD \"a\"> free afternoon befor <S \"before\"> you catch your plane <MP \".\"> I can <RV \"would\"> advise you to visit our zoo or to <MV \"go\"> for a picnik <S \"picnic\"> in a park befor <S \"before\"> you will go <TV \"go\"> to the night party <DN \"party\"> .\nYours sincerely,"
        ],
        [
         "31",
         "Dear Maria,\nI hope that all the information you need would <TV \"will\"> be answered <RV \"provided\"> satisfactorialy <DY \"satisfactorily\"> .\nFirst of all you have been booked <MT \"in\"> at the palace hotel.\nSecondly the best way to go from the hotel to the conference center <SA \"centre\"> is to use one of the shutel <S \"shuttle\"> buses we provide at this efecteffect <RN \"effect\"> . they <RP \"They\"> are going to leave at 9 o'clock.\nconcerning <RP \"Concerning\"> the end of conference <MP \"of\"> party . It <RP \", it\"> is going to take place in the same hotel, the palace hotel <RP \"Palace Hotel\"> , we <RP \". We\"> suggest casual dressing <RN \"dress\"> for this special event.\nFinaly <DY \"Finally\"> , concerning your free afternoon, there are plenty of activities, but I suggest you , <UP \"\"> to visit <FV \"visit\"> the Caldea center <SA \"centre\"> <MP \",\"> wich <S \"which\"> is a very special <RN \"\"> center <SA \"centre\"> .\nIf you need futher <S \"further\"> information do not hesitate to contact us.\nYour <DA \"Yours\"> sincerely"
        ],
        [
         "32",
         "Dear Maria Smith,\nFirst of all, the group has been booked into the Palace Hotel. It is a big hotel because there will be a lot of people. It has a swimming-pool <UP \"swimming pool\"> and a nice bar.\nThe hotel is ten minutes far <RY \"away\"> from the conference <MN \"centre\"> and there will be a bus available to go directly over there.\nAt the end of the conference , <UP \"\"> there will be a dinner in a luxurious restaurant <MP \",\"> so people must have nice clothes; jean's <UP \"jeans\"> is <AGV \"are\"> not allowed. Next to the restaurant, there is a disco for people who like dancing.\nWe can do a lot of things in my area. We have the possibility <RN \"opportunity\"> to visit the old town , it's <RP \". It's\"> very nice and there is <AGV \"are\"> a lot of shops. We can visit the old castle or the painting museum too."
        ],
        [
         "33",
         "12 June 2001\nDear Mrs Smith\nThank you for your letter dated 8 June 2001. I hope I can give you the information you need . So <RP \", so\"> the conference will be a great experience to <RT \"for\"> you and your group.\nYour group will stay at the Palace Hotel. The Palace Hotel is situated in the town centre next to the railway station. A free shuttel-busshuttel bus <S \"shuttel bus\"> gets <RV \"takes\"> you to the conference-centerconference center <SA \"conference center\"> . The bus leavs <IV \"leaves\"> at 8 a.m. at <RT \"from\"> the front entrance of the hotel.\nThe end-of-conference party is playing <UV \"\"> in a rent <RN \"tent\"> and in the greengroundgreen ground <FN \"green ground\"> . There will be a barbecue, a place to dance and many <RA \"much\"> more. It is <TV \"will be\"> a surprice <S \"surprise\"> ! I suggest to wear <AS \"that you wear\"> leisure-clothes <UP \"leisure clothes\"> to <RT \"for\"> the party.\nThe <MT \"On the\"> last afternoon you could go on a city-tour <UP \"city tour\"> , visite <S \"visit\"> the museum <RP \"Museum\"> of Fine Arts <MP \",\"> or enjoy the beautiful flower garden next to the common <RJ \"public\"> park.\nI hope I couldwas able to <TV \"was able to\"> give you some ideas. I look forward to seeing you.\nYours sincerely,"
        ],
        [
         "34",
         "Dear Mrs Smith,\nI am glad to helping <FV \"help\"> you for <RT \"with\"> the organisation of the international student conference.\nThe group has been booked into the Palace Hotel, and the best way to get from there to the conference is by tube , the <RP \". The\"> building <RN \"location\"> of the conference is then five minutes by footh <S \"foot\"> .\nAt the end-of-conferenceend of conference <MD \"end of conference\"> there is a party, where we can eat something, dance and speak to each other about the conference.\nFor the party I suggest you to wear <FV \"wear\"> classic clothes; maybe something black and not red or pink. I am going to wear black classic <W \"classic black\"> trousers and a white jorsey <S \"jersey\"> - it can <RV \"might\"> be that this information give <AGV \"gives\"> you some idea too. . <UP \"\">\nOn the last day we are going to have about three hours <MP \"hours'\"> free times <FN \"time\"> . What do you think if we will <R \"about\"> go <FV \"going\"> to visit <UV \"\"> the Arts Museum? Of <SX \"Or\"> if <UC \"\"> we will <RV \"could\"> go to hear a classic concert near the conference building's <UP \"buildings\"> ? <RP \".\">\nI hope that I have been able to give you some help. and <RP \"And\"> I am looking forward to seeing you at the conference.\nYours sincerely,"
        ],
        [
         "35",
         "Dear Mrs Maria <UN \"\"> Smith,\nI want to inform you that I had already talked <TV \"have already talked\"> to Richard Brown and he informed me about the conference. Next week I will be <UV \"\"> start organising some events for this conference.\nThe event <FN \"events\"> will organize <RV \"take place\"> at the Palace Hotel . The <RP \", the\"> same hotel that will youyou will stay <TV \"you will\"> <MT \"at\"> . Palace <MD \"The Palace\"> Hotel is opposite the <UD \"\"> parkPark `Clifton' <W \"Park\"> , which is near the college. We chose that hotel because is it <W \"it is\"> near the college and we don't need to use <UV \"\"> a <UD \"\"> transport. Because you know where is the college <W \"the college is\"> and you need to bring with me <U \"\"> some things at <RT \"from\"> the college to <MD \"the\"> hotel <MP \",\"> I think that <MA \"it\"> is better <MT \"for\"> to come all the group <W \"all the group to come\"> in <RT \"to\"> <MD \"the\"> college and then we can go all <W \"all go\"> together to the ` <UP \"\"> Palace Hotel ' <UP \"\"> . The conference start <AGV \"starts\"> at 9:00 o'clock <MP \",\"> you need to be at the college half an hour before.\nConcerning the end-of-conference <MN \"party\"> <MP \",\"> I'm thinking about some dance and singing events. Tell me your idea <R \"Let me know what you think\"> . About the clothes that we <RA \"you\"> need to wear, <MA \"it\"> must be <MD \"your\"> uniform, because <MA \"it\"> is the best conference to <RT \"in\"> London and every year are comingcome lectureslecturers <TV \"come\"> from other colleges.\nFinally <MP \",\"> on the last day <MP \",\"> we have organised a seeing-crossing <DN \"sightseeing tour\"> around London. You will have the opportunity <MT \"of\"> visiting some museums and <MD \"the\"> zoo parks <UN \"\"> . I think it is a nice idea.\nIf you want more information you can call me <MP \",\"> my telephone number is 047***. Please <MP \",\"> if you have <MQ \"any\"> more ideas <MP \",\"> send me a letter.\nYours Sincerely <RP \"sincerely\"> ,"
        ],
        [
         "36",
         "Dear Mrs Smith\nThank you for your lettre <S \"letter\"> . Of course I will give you some more detail <AGN \"details\"> about the student conference.\nFirst of all the hotel Richard Brown has been loockedlooked <TV \"looked\"> in <RT \"at\"> is the Palace Hotel. Its <MP \"It's\"> located close to the main trainstation <RP \"train station\"> in our town. It is quite near the conference building. There will be extrabusextra bus <FN \"extra bus\"> to get there. The bus will pick you up right at your hotel enteryentry <RN \"entry\"> . The end-of-conference party will be a small dinner for all <MD \"the\"> students. You do not have to wear spezial <S \"special\"> clothes, just wear what you always wear. If you take your uniform with you it would be pleasant to leave it at the hotel . <UP \"\"> and wear something else.\nThere are many things you could do for this short time on the last day. You could visit our famous Museum of Art or go for a walk along the lake <RN \"lakeside\"> . If you want <MV \"to do\"> something for fun or entertainment <MP \",\"> go bowling.\nIf you have any further questions, just let me know <MP \".\">\nYours sincerely"
        ],
        [
         "37",
         "June 12, 2001\nDear Mrs Smith,\nIn replied <DN \"reply\"> of <RT \"to\"> your letter, I will try to give you some advices <CN \"advice\"> .\nConcerning the hotel, the group has been booked into the Palace Hotel. The conference will take place not far from the hotel so you will see indications <RN \"directions\"> to follow.\nFor the conference, I suggest you to wear <FV \"wear\"> a beautiful dress, because there will be important persons <L \"people\"> of <RT \"from\"> others <DI \"other\"> colleges. At the end of the conference, all students and leader <AGN \"leaders\"> will have a drink.\nTo finish, if you have spare time, you could walk on <RT \"in\"> the center <SA \"centre\"> of Poitiers which is very beautiful.\nI hope I give <TV \"have given\"> you enough details.\nI look forward to meeting you on <RT \"at\"> the conference.\nYours faithfully,"
        ],
        [
         "38",
         "Dear Mrs Smith,\nI am writing with reference on <RT \"to\"> your letter concerning an <RD \"the\"> organization of an international student conference in <RT \"at\"> Wimbledon Art College. Below I am clarifyingclarify <RV \"clarify\"> some information you asked about.\nFirst of all, I would like to give you more information about <MD \"the\"> name and location of the hotel. The group has been booked into <MD \"the\"> \"Maria Luisa\" hotel <RP \"Hotel\"> <MP \",\"> which is situated on <RT \"in\"> the center <SA \"centre\"> of Wimbledon called Wimbledon Village. This hotel is the next building after <MD \"the\"> Art College, so it will be easy for your group to find the place.\nSecondly turning to the end-of-conference party, it is planedplanned <RV \"planned\"> to be in <RT \"on\"> Wimbledon Common - <MD \"a\"> nice piece of England <DJ \"English\"> nature <RN \"countryside\"> . So, it may be a good idea to take <RV \"wear\"> some <UQ \"\"> very comfortable and informal clothes.\nThirdly, talking about your free afternoon before leaving the area, I would suggest you to visit <FV \"visit\"> <MD \"the\"> Wimbledon Museum of Tennis. Where <SX \"There\"> is quite <MD \"a\"> good exposition <RN \"exhibition\"> their <SX \"there\"> , giving interesting information about the history of Wimbledon Tennis Tournaments.\nI look forward to meeting your group in <RT \"at\"> our conference.\nYours sincerely,"
        ],
        [
         "39",
         "Dear Maria\nFirst at all, I am sorry about Richard <MP \"Richard's\"> illness. Please remember me to him and give him my best wishes. About <L \"concerning\"> your request, I'm going to give you all the information that I think you must <RV \"will\"> need , however <RP \". However\"> <MP \",\"> you can call me if you consider it necessary , (my <RP \". (My\"> phone number is 2496 9731 ). <RP \".)\">\nYour group has been booked into the Palace Hotel. Because it is a wellkown <S \"well-known\"> hotel it should be easy to find it. Moreover, it is really well-located <UP \"well located\"> so it will allow you to move around the city without any problem. Even more <RY \"More importantly\"> the conference is going to take place in the Exhibition Centre, which is located only five minutes <MP \"minutes'\"> walking <RN \"walk\"> far <UJ \"\"> from the Hotel <RP \"hotel\"> .\nWe haven't <R \"\"> so I would wear casual and comfortable clothes, although you can come well-dressed <UP \"well dressed\"> , if you feel better <M \"that way\"> . After the conference we are going to have an informal dinner <R \"\"> in order to introduce <M \"ourselves to\"> each others <AGA \"other\"> .\nFinally <MP \",\"> in my opinion, you should visit the Art Gallery. It will take you two or three hours but it's a gorgeous place. I look forward <MT \"to\"> hearing from you.\nYours sincerely,"
        ],
        [
         "40",
         "Dear Mrs Smith,\nI am writting <IV \"writing\"> to answer your letter where you asked for information about the conferents <S \"conference\"> and other points in relation with <RT \"to\"> <MA \"it\"> .\nThe hotel where your group has been booked is the Palace Hotel. It is a very nice hotel in the centre of the city, and that is very near of <RT \"to\"> the college which <SX \"where\"> the conference is into, <R \"being held -\"> five minutes <MP \"minutes'\"> walking <RN \"walk\"> . Going walking <UV \"Walking\"> is quicker than waiting for a taxi or a bus. When you arrive to <RT \"at\"> the Colleges <RP \"colleges\"> there will be people indicating the way to the conference room.\nAt the end of the conference we are doing <RV \"throwing\"> a party with some cold good <SX \"food\"> and some drinks. There will be music as well for dancing. The director of the College <RP \"college\"> has suggested to wear <FV \"wearing\"> smart clothes for that occasion and I give you the same advice.\nAboutRegarding the afternoon before you leavingleave I have some suggestions <W \"Regarding\"> . In the area <RN \"vicinity\"> of the Hotel <RP \"hotel\"> there are two interesting places to visit. One is the Picasso museum and the other is an important Gallery where you can enjoy seeing differents <IJ \"different\"> kinds of paintings.\nI hope my information can <RV \"will\"> help you and it has been useful for you.\nI am looking forwards to see <FV \"seeing\"> you at the Conference <RP \"conference\"> .\nYours sincerely,"
        ],
        [
         "41",
         "Dear Mrs Smith\nIt was such a pleasure to receive your letter, and we will be extremely glad to see you at the conference , <UP \"\"> we have been organising. Let me give you some further information concerning the event.\nFirstly I would like to inform you about the hotel we have already booked for you. Is <MA \"It is\"> called <MD \"the\"> Palace Hotel, and we hope that <MA \"it\"> is going to satisfy <RV \"meet\"> your expectetions <S \"expectations\"> . The conference is not too far from your hotel. I strongly reccommend <S \"recommend\"> you to use the <UD \"\"> public transportation <RN \"transport\"> in order to get there, cause <SX \"because\"> you may be <UV \"\"> find other types of transportation quite expensive.\nMoreover, you must be aware of the fact that the conference is going to last two hours, untill <S \"until\"> 10:00 pm. After that our college has organised a barbequiou <S \"barbecue\"> night, with traditional local music that you must not miss. You don't need to wear formal clothes . Just <RP \", just\"> every day <RP \"everyday\"> clothes.\nFinally, I am aware of the fact that <MT \"on\"> the last day you have some hours free before you catch your plane. Don't miss the chance to visit our famous tourist attractions. There is also <MD \"a\"> huge shop centre <DN \"shopping centre\"> , <UP \"\"> where you can buy some souvenirs or taste some of our traditional food.\nI hope that you will find my information helpfull <DJ \"helpful\"> <MP \".\">\nI'am <UP \"I am\"> looking forward to seeing you <MP \".\">\nYour <DA \"Yours\"> Sincerely <RP \"sincerely\">"
        ],
        [
         "42",
         "Dear Mrs Maria . <RP \",\">\nI am one of all <RD \"the\"> students and I am going to give you an <RQ \"some\"> information, all you need. We have been booked <TV \"have booked\"> the hotel for you and the name of <MD \"the\"> hotel is <MD \"the\"> \"Palace Hotel\" <MP \",\"> <M \"it is\"> quite near <MD \"the\"> shopping centre. It is not far aways <S \"away\"> , you <RP \". You\"> just go along Park Road <MT \"for\"> about ten minutes. Then you will arrive at <MD \"the\"> Palace Hotel <MP \",\"> <M \"which is\"> on the left handside <MP \"left-hand side\"> of you <U \"\"> .\nAbout <RT \"Regarding\"> the end-of-conference party . We <RP \", we\"> are going to have a dinner before the end and at the end we are going to bring <RV \"take\"> you to the Hotel , you <RP \". You\"> need to wear a <FD \"an\"> night-dress <DN \"evening dress\"> or suit and bow tie.\nFinally, on the last day you have three hours before you catch the plane so we suggestion <DV \"suggest\"> , <UP \"\"> you can <UV \"\"> go to <MD \"the\"> shopping centre and buy something for your special person or go to <MD \"the\"> museam <S \"museum\"> because this museam <S \"museum\"> is the biggest in the world now <MP \".\"> It is up to you.\nyours sincerely"
        ],
        [
         "43",
         "Dear Mrs Maria <UN \"\"> Smith,\nI am writing to give you some information <M \"that you\"> asked <MT \"for\"> in your letter, which I received this morning.\nYour group has been booked in <RT \"into\"> <MD \"the\"> Palace Hotel which is one of the most comfortable hotels in London. Personally, I am glad that you will have this opportunity to use its various facilities. It is based <RV \"located\"> in the city centre and is about half an hour by underground from the conference. In my oppinion <S \"opinion\"> the easiest way to get there from the conference would be by taking the Picadelly line. However you would <RV \"could\"> take bus number 150, if you would like to have a look at the city centre and you have some free time also <W \"also have some free time\"> .\nRegarding to <UT \"\"> the end-of-conference party, I would suggest to wear <FV \"wearing\"> some <R \"a\"> dress for a woman and an elegant suit for a man, though , <UP \"\"> it is no <X \"not\"> <MD \"a\"> formal do. The party will finish quite late <MP \",\"> so we've decided to provide a bus which would <TV \"will\"> take you to the hotel safely.\nBasicaly <DY \"Basically\"> , during three hour <AGN \"hours\"> time <UN \"\"> in the afternoon nobody is able to visit all of <MD \"the\"> interesting places of <RT \"in\"> London. However <MP \",\"> you would <RV \"could\"> have <RV \"take\"> a long walk along the river to take some essential photos.\nI look forward to welcoming you.\nYours sincerely"
        ],
        [
         "44",
         "Dear Mrs Maria Smith\nThank you for your letter. It's a shame that I won't see Richard because of his illness, but I'm willing to help you as much as I can. Then <RY \"So\"> I will give you some information which you asked for in your letter.\nFirstly, about your accomodation <S \"accommodation\"> , our <RD \"the\"> college which I belong to offers visitor <FN \"visitors\"> free accomodationsaccommodations <FN \"accommodations\"> with <R \"\"> facilities . <UP \"\"> (for example <MP \",\"> bath, car park, free internet access, etc.) <MP \".\"> <R \"\"> located in <RT \"on\"> our campus so you can get to the conference by walk <FV \"walking\"> .\nSecondly, as you know <MP \",\"> we'll have a party after the conference, which will be taken <FV \"take\"> place at our student council hall <R \"\"> . This party is unlikely to be that formal, but I recommend you not to wear <X \"don't wear\"> jeans and trainners <S \"trainers\"> .\nAt last <RY \"Last\"> , if you have <MQ \"some\"> free time for a couple of ourshours <U \"a\"> , you'd better <R \"you should\"> visit Kamakura City, which is 30 minutes from our campus by train. That is <MD \"a\"> very traditional Japanese city where so <UY \"\"> many templetemples and heritagesheritagemonuments are there <AS \"temples\"> . I'm sure you'll enjoy it and maybe get <RV \"become\"> familier <S \"familiar\"> with our culture.\nBy the way, if you have any other questions, please send me a letter again."
        ],
        [
         "45",
         "Dear Mrs Smith,\nI am applying <RV \"replying\"> <MT \"to\"> your letter where <UY \"\"> <M \"in which\"> you asked for some information about the conference in Peterborough Regional College.\nYour group has been booked into the Palace Hotel <MP \",\"> which is situated in the city center <SA \"centre\"> , at <UT \"\"> 15 minutes <MP \"minutes'\"> walking <RN \"walk\"> from where the conference take <AGV \"takes\"> place in <UT \"\"> . In <RT \"On\"> the next page there is a map showing you the best way to get to the conference that will be at the Regional College.\nThe conference will start at 7 p.m <MP \".\"> , <R \"\"> , the 18th of June. Our director will make a speech afterwards and there will be a party with some snacks, drinks and music. For the people <M \"who are\"> interested in <MA \"it\"> , there will be also <W \"also be\"> an amusement <U \"\"> karaoke.\nEverybody should wear formal clothes, at least, a little bit formal. No jeans and <RC \"or\"> tee-shirts <UP \"tee shirts\"> .\nThere is <AGV \"are\"> a lot of places you can visit in Peterborough. We have a Cathedral you can visit anytime and the river side <RP \"riverside\"> , which is the <UD \"\"> best if it is a nice day, sunny an <SX \"and\"> warm, for take <FV \"taking\"> a walk. For any <UQ \"\"> details <MP \",\"> look in <RT \"at\"> the next page map <W \"map on the next page\"> .\nYours sincerely,"
        ],
        [
         "46",
         "Dear Mrs Maria Smith . <RP \",\">\nI was really pleased to receive at <UT \"\"> your letter. Unfortunately Richard Brown is ill but I can help you as much as I can. So, I'm writting <IV \"writing\"> to reply for <UT \"\"> giving <FV \"to give\"> all the information you asked for.\nFirstly, we've booked Palace Hotel, which is located in Central. The best way to get from the hotel to the conference its <UA \"is\"> using <MD \"the\"> tube because it takes only 20 mininuteminute <AGN \"minute\"> . The tube is 2 line <W \"line 2\"> which is red colour <UN \"\"> . And your speach <S \"speech\"> would be better for the end of conference party. I'd suggest you to wear <FV \"wear\"> at least, semi formal <MP \"semi-formal\"> wears <DN \"clothes\"> such as a jacket with another <AGQ \"other\"> clothes.\nFinally, I give you some suggestions <CE \"\"> in the national museum in my area. The museum can be helpful to understand our country's history and art.\nI look forward to seeing you soon.\nYours sincerely,"
        ],
        [
         "47",
         "12 , <UP \"\"> June, 2001\nDear Mrs Maria Smith,\nThank you for your letter about the international student conference. Here are <MD \"the\"> answers for <RT \"to\"> your questions.\nYou will stay in the Palace Hotel, which is situated in front of <RT \"opposite\"> the railway station, Camberley. To get <MT \"to\"> the conference, you catch the coach No.7 <W \"No.7 coach\"> from the station and get off at the Camberley College bus stop. It takes 5 minutes from the station. When you get here, just turn to the left and you will find the stadium where the conference will be held.\nThe end-of-conference party will be held at <RT \"in\"> the cafeteria in the college, which is next to the stadium. It starts at 18 p.m. <ID \"6 p.m.\"> and ends at 22 pm <ID \"10 pm\"> . We will prepare traditional English meals and some students from foreign country <FN \"countries\"> will prepare their ethnic foods.\nThere is a museum next to the Camberley Station, which has <MD \"a\"> good collection of paintings and potteries <CN \"pottery\"> , and it would be a good place for you to spend your free time. Instead <RY \"Also\"> , there are a lot of shops around there , you <RP \". You\"> can buy souvenirs.\nI am looking forward to meeting you.\nYours sincerely,"
        ],
        [
         "48",
         "Dear Mrs Smith,\nI would like to thank you for your letter. I am sorry to learn that Richard Brown cannot attend the conference. Please transmit <RV \"give\"> him my best wishes for his recovery.\nWe have booked rooms for all members of your group at the Palace Hotel. It is a very cosy building that is on the same avenue as the conference building, approximetively <DY \"approximately\"> one mile away. There is a direct bus link between the two locations: this is <MD \"the\"> bus line number six <W \"number six bus line\"> ; the bus station <RN \"bus stop\"> for the conference building is called \"Avenue de cour\" and the one at the Palace Hotel is named \"Main station\".\nConcerning the party <MP \",\"> we do not have a casual dressing code <DN \"dress code\"> . students <RP \"Students\"> usually wear dark clothes <MP \",\"> with a tie for the boys and a mid-long <DJ \"medium-length\"> skirt or dress for the girls.\nThere are a lot of activities you can do during your free afternoon. I would like to suggest visiting the \"Ethnographic Museum ,, <RP \"\"\"> which is <L \"\"> unique in the world.\nLooking forward to meeting you soon\nI remain, yours sincerely . <RP \",\">"
        ],
        [
         "49",
         "Dear Mrs Maria Smith,\nThank you for your letter. I am writing to give some information on the conference as you required <RV \"requested\"> .\nFirst of all, your group has been booked into Palace Hotel which is very convenient to stay <MT \"in\"> and has <MD \"a\"> beautiful landscape. I would recommend you get to the conference by subway, because <MD \"the\"> subway station is situated in <UT \"\"> 5 minutes' walk from the hotel. It will take you about 15 minutes to arrive at the college.\nThere will be a party after the conference. We will serve you dinner and some college students are going to sing, play musical instruments and so on, but you can join <MY \"in\"> if you wish. Therefore, you had better wear casual and comfortable clothes.\nFinally, this area has its reputation for shopping centres, so it might be a good idea to buy some clothes, local food, and so on. You will be able to buy them in <RT \"at\"> <MD \"a\"> reasonable price.\nI hope you will enjoy your stay in my country. I look forward to meeting all of you.\nYours sincerely,"
        ]
       ],
       "shape": {
        "columns": 1,
        "rows": 1219
       }
      },
      "text/plain": [
       "0       Dear Mrs. Smith,\\nIn reply to your letter, I w...\n",
       "1       Chêne-Bourg, Tuesday 12th June.\\nDear Mrs Smit...\n",
       "2       To: Mrs. Smith\\nThank you for your letter, whi...\n",
       "3       Dear Mrs Maria Smith,\\nas the leader of the co...\n",
       "4       Dear Mrs Smith,\\nFirst of all I'm sorry to hea...\n",
       "                              ...                        \n",
       "1214    8 Jun 2000\\nHelen Ryan\\nCompetition Organiser\\...\n",
       "1215    13th June 2000\\nDear Ms Ryan\\nI received your ...\n",
       "1216    Dear Madam,\\nAt first <RY \"First\"> , I want to...\n",
       "1217    Dear Helen Ryan: Thank you for letting me know...\n",
       "1218    Cambridge, 13th June 2000.\\nDear Miss Helen Ry...\n",
       "Length: 1219, dtype: object"
      ]
     },
     "execution_count": 98,
     "metadata": {},
     "output_type": "execute_result"
    }
   ],
   "source": [
    "\n",
    "# apply format_xml_annotation\n",
    "df_explode[A_TEXT] = df_explode.apply(lambda x: format_xml_annotation(x[A_TEXT]), axis=1)"
   ]
  },
  {
   "cell_type": "code",
   "execution_count": 48,
   "id": "3463fd97",
   "metadata": {},
   "outputs": [
    {
     "data": {
      "application/vnd.microsoft.datawrangler.viewer.v0+json": {
       "columns": [
        {
         "name": "index",
         "rawType": "int64",
         "type": "integer"
        },
        {
         "name": "filename",
         "rawType": "object",
         "type": "string"
        },
        {
         "name": "exam_code",
         "rawType": "object",
         "type": "string"
        },
        {
         "name": "sortkey",
         "rawType": "object",
         "type": "string"
        },
        {
         "name": "answer_response",
         "rawType": "object",
         "type": "unknown"
        },
        {
         "name": "answer_score",
         "rawType": "float64",
         "type": "float"
        },
        {
         "name": "student_score",
         "rawType": "float64",
         "type": "float"
        },
        {
         "name": "student_language",
         "rawType": "object",
         "type": "string"
        },
        {
         "name": "student_age",
         "rawType": "object",
         "type": "string"
        },
        {
         "name": "task",
         "rawType": "object",
         "type": "string"
        }
       ],
       "ref": "3ff500c3-d882-4458-a1c2-5d1762b5ca13",
       "rows": [
        [
         "0",
         "doc3042.xml",
         "0100_2001_6",
         "TE35*0100*2001*01",
         "<coded_answer>\n<p>Dear Mrs. Smith,</p>\n<p>In reply to your letter, I would like to answer your questions and give you more information.</p>\n<p>Firstly, the hotel in which the group is going to stay is <NS type=\"MD\"><c>the</c></NS> 'Palace Hotel'. Secondly, the easiest way to travel from the hotel to the conference is by a local bus. There is a bus stop in front of the hotel and <NS type=\"MD\"><c>a</c></NS> no.31 or 3 will take you directly to the conference. Thirdly, the end-of-conference party <NS type=\"TV\"><i>would</i><c>will</c></NS> be a small disco, with a variety of drinks and food provided. Therefore, you <NS type=\"TV\"><i>could</i><c>can</c></NS> wear something quite casual.</p>\n<p>Lastly, on the last day, I would suggest you <NS type=\"FV\"><i>to visit</i><c>visit</c></NS> the Edinburgh Castle and the National Scottish Museum, as both of them are very interesting and have <NS type=\"RD\"><i>the</i><c>a</c></NS> student discount.</p>\n<p>I hope this letter <NS type=\"RV\"><i>should</i><c>can</c></NS> help you with enough information.</p>\n<p>Yours sincerely,</p>\n</coded_answer>",
         "4.3",
         "34.0",
         "Japanese",
         "16-20",
         "1"
        ],
        [
         "1",
         "doc3163.xml",
         "0100_2001_6",
         "TE70*0100*2001*01",
         "<coded_answer>\n<p>Chêne-Bourg, Tuesday 12th June.</p>\n<p>Dear Mrs Smith,</p>\n<p>it is with great regret that I hear of Mr Brown's illness, and <NS type=\"MA\"><c>I</c></NS> hope to see him soon in <NS type=\"UD\"><i>an</i></NS> excellent health. Nevertheless, I am both pleased and honoured to expect you and your group in the context of our international meeting.</p>\n<p>We have made arrangements for you to stay at the Palace Hotel. Furthermore, since it is located between the airport and our location, a <NS type=\"W\"><i>bus shuttle</i><c>shuttle bus</c></NS> has been organised to <NS type=\"RV\"><i>pick</i><c>take</c></NS> all our guests from the hotel to the conference room.</p>\n<p>The end-of-conference party is to be held <NS type=\"RT\"><i>at</i><c>in</c></NS> the 'Royal Room' of the hotel, which has an outstanding reputation for its quality and seriousness. Therefore, all <NS type=\"MD\"><c>the</c></NS> guests will be asked to wear the <NS type=\"RJ\"><i>corresponding</i><c>appropriate</c></NS> clothes in order to be <NS type=\"RV\">accepted</NS>.</p>\n<p>As for the three hours of free time, I strongly suggest you <NS type=\"W\"><i><NS type=\"FV\"><i>to <NS type=\"UP\"><i>check-in</i><c>check in</c></NS></i><c>check in</c></NS> your <NS type=\"CN\"><i><NS type=\"S\"><i>lugages</i><c>luggages</c></NS></i><c>luggage</c></NS></i><c>check your luggage in</c></NS> at the airport and then, after a <NS type=\"DJ\"><i>five-minutes</i><c>five-minute</c></NS> bus ride, spend your time in the marvellous 'Old City'.</p>\n<p>Best Regards,</p>\n</coded_answer>",
         "4.1",
         "26.0",
         "Greek",
         "16-20",
         "1"
        ],
        [
         "2",
         "doc3116.xml",
         "0100_2001_6",
         "TE58*0100*2001*01",
         "<coded_answer>\n<p>To: Mrs. Smith</p>\n<p>Thank you for your letter, which arrived on <NS type=\"MD\"><c>the</c></NS> second<NS type=\"R\"><i>.</i><c> of</c></NS> June. I am very pleased to help to organize this Conference in our College, which will <NS type=\"TV\"><i>hold</i><c>be held</c></NS> at <NS type=\"MD\"><c>the</c></NS> Conference Centre at Bromley College starting on 20th June for 3 days. <NS type=\"RP\"><i>please</i><c>Please</c></NS> find <NS type=\"MD\"><c>the</c></NS> information <NS type=\"DA\"><i>your</i><c>you</c></NS> <NS type=\"RV\"><i>required</i><c>requested</c></NS> <NS type=\"RY\">as follows</NS>:</p>\n<p>We have booked the hotel for the group. <NS type=\"R\"><i>Called</i><c>It is the</c></NS> \"<NS type=\"RP\"><i>palace</i><c>Palace</c></NS> Hotel\"<NS type=\"MP\"><c>,</c></NS> which is about 10 miles away from our College<NS type=\"RP\"><i>, the</i><c>. The</c></NS> hotel will have a coach to pick the group up from the airport on <NS type=\"MD\"><c>the</c></NS> 19th of June and then take the group to <NS type=\"MD\"><c>the</c></NS> Conference and return to <NS type=\"MD\"><c>the</c></NS> hotel every day.</p>\n<p>Regarding <NS type=\"UT\"><i>to</i></NS> the end-of-conference party<NS type=\"RP\"><i>. We</i><c>, we</c></NS> have <NS type=\"IV\"><i>planed</i><c>planned</c></NS> a barbecue <NS type=\"RT\"><i>at</i><c>for</c></NS> 5 oo pm<NS type=\"UP\"><i>.</i></NS> on our most idyllic <NS type=\"RN\"><i>play</i><c>playing</c></NS> field<NS type=\"MP\"><c>,</c></NS> which <NS type=\"TV\"><i>is <NS type=\"RP\"><i>over looking</i><c>overlooking</c></NS></i><c>overlooks</c></NS> the endless Countryside and farms. At 7:00pm<NS type=\"UP\"><i>.</i></NS> we can move to our student hall to <NS type=\"R\">have a <NS type=\"RN\"><i>disc</i><c>disco</c></NS> dance</NS> until 10:00pm.</p>\n<p><NS type=\"RT\"><i>On</i><c>For</c></NS> the last day, we have arranged a small party in the hotel<NS type=\"RP\"><i>, then</i><c>. Then</c></NS> we all set <NS type=\"RY\"><i>up</i><c>off</c></NS> to <NS type=\"RV\"><i>have</i><c>go on</c></NS> a sightseeing <NS type=\"M\"><c>tour of</c></NS> Bromley town <NS type=\"SA\"><i>center</i><c>centre</c></NS> for about two hours before you leave for <NS type=\"MD\"><c>the</c></NS> airport. Bromley town <NS type=\"SA\"><i>center</i><c>centre</c></NS> is the most beautiful shopping centre in South East London. There are many <NS type=\"RJ\"><i>historical</i><c>historic</c></NS> buildings <NS type=\"UV\"><i>remain</i></NS>. I think the students will enjoy this sightseeing <NS type=\"MN\"><c>tour</c></NS>.</p>\n<p>If <NS type=\"R\">any further discussion</NS>, please let me know.</p>\n<p>Yours<NS type=\"UP\"><i>.</i></NS> sincerely,</p>\n</coded_answer>",
         "4.3",
         "29.0",
         "Chinese",
         "41-50",
         "1"
        ],
        [
         "3",
         "doc2868.xml",
         "0100_2001_6",
         "TE5*0100*2001*01",
         "<coded_answer>\n<p>Dear Mrs Maria Smith,</p>\n<p>as the leader of the conference-organisation, I'm glad if I can help you. My <NS type=\"RV\"><i>wish</i><c>hope</c></NS> is that nothing goes wrong. So you have to know more details about our conference.</p>\n<p>Your hotel is called Palace Hotel and it is <NS type=\"RV\"><i>placed</i><c>located</c></NS> in the city centre. As far as I know<NS type=\"MP\"><c>,</c></NS> this hotel is very comfortable. There is also a subway-station near Palace Hotel. Our college is not <NS type=\"RY\"><i>much</i><c>very</c></NS> far away. You only have to take the subway-train. After three stations you have arrived <NS type=\"MT\"><c>at</c></NS> Brooklyn street. When you come out of the subway you see our college.</p>\n<p>The conference starts at 6 o'clock and ends at 8 o'clock. The students have prepared a music <NS type=\"SA\"><i>program</i><c>programme</c></NS> for the end-of-conference party. There will also be an international buffet. So don't eat too much before you come. And please don't worry about clothes. There are not any rules.</p>\n<p>In our city there is a big adventure swimming park. I think you should visit Water World on your last day. You will have a lot of <NS type=\"RN\"><i>fund</i><c>fun</c></NS>, <NS type=\"L\">I can tell you</NS>. If you need any further information please call me. My number is: 793354</p>\n<p>Yours faithfully,</p>\n</coded_answer>",
         "3.3",
         "29.0",
         "Greek",
         "16-20",
         "1"
        ],
        [
         "4",
         "doc2994.xml",
         "0100_2001_6",
         "TE22*0100*2001*01",
         "<coded_answer>\n<p>Dear Mrs Smith,</p>\n<p>First of all I'm sorry to hear that Richard Brown is ill. As you are the leader of <NS type=\"RD\"><i>a</i><c>the</c></NS> group instead of him, I'm delighted to give <NS type=\"MA\"><c>you</c></NS> all the information you have asked for.</p>\n<p>The Palace Hotel has been booked for the group, and<NS type=\"MP\"><c>,</c></NS> from there to the conference, we have organized <NS type=\"UT\"><i>with</i></NS> the hotel's bus service to take the <NS type=\"FN\"><i>student</i><c>students</c></NS> to the conference. We will meet <NS type=\"RT\"><i>at</i><c>in</c></NS> the lobby at 9.00 AM.</p>\n<p>The conference party will last <NS type=\"RT\"><i>at</i><c>until</c></NS> 1.00 AM, but <NS type=\"RP\"><i>every body</i><c>everybody</c></NS> <NS type=\"AGV\"><i>do</i><c>does</c></NS> not need to stay until the end. There will be a bus taking students who do not <NS type=\"RV\"><i>need</i><c>want</c></NS> to stay at the party until the end. The bus will be <NS type=\"R\">service</NS> at 9.30 PM and 11.30 PM<NS type=\"MP\"><c>,</c></NS> then at the end of the party <NS type=\"MA\"><c>there</c></NS> will be the last one. Everybody <NS type=\"AGV\"><i>are</i><c>is</c></NS> free to dress for the party but <NS type=\"TV\"><i>be considering</i><c>consider</c></NS> <NS type=\"MA\"><c>what</c></NS> <NS type=\"TV\"><i>to be</i><c>is</c></NS> appropriate.</p>\n<p>On the last day at noon, you could go to the craft centre <NS type=\"RP\"><i>near by</i><c>nearby</c></NS> the Airport. There are lots of <NS type=\"AGN\"><i>thing</i><c>things</c></NS> there you will enjoy watching or buying for friends.</p>\n<p>If there is any information you need to know about the conference, please let me know. I look forward to <NS type=\"FV\"><i>see</i><c>seeing</c></NS> you at the conference.</p>\n<p>Yours sincerely,</p>\n</coded_answer>",
         "2.3",
         "20.0",
         "Thai",
         "26-30",
         "1"
        ],
        [
         "5",
         "doc3278.xml",
         "0100_2001_6",
         "TE88*0100*2001*01",
         "<coded_answer>\n<p>Dear Mrs Smith,</p>\n<p>Thank you for your letter. I will try my best to answer the questions.</p>\n<p>First of all, we have already booked the <NS type=\"DJ\"><i>Five-Stars</i><c>Five-Star</c></NS> Hotel for your group. It is a modern hotel, near our college, and it is also very <NS type=\"S\"><i>convenent</i><c>convenient</c></NS> <NS type=\"R\"><i>to come from</i><c>for</c></NS> the airport. You can take <NS type=\"RQ\"><i>both</i><c>either</c></NS> <NS type=\"UT\"><i>by</i></NS> <NS type=\"AGN\"><i>buses</i><c>bus</c></NS> or taxies. The <NS type=\"S\"><i>nember</i><c>number</c></NS> 101 bus <NS type=\"RV\"><i>starts</i><c>leaves</c></NS> from the airport, <NS type=\"SX\"><i>than</i><c>then</c></NS> you can get off <NS type=\"RT\"><i>from</i><c>at</c></NS> <NS type=\"MD\"><c>the</c></NS> \"city college\" stop. It would be a great chance <NS type=\"W\"><i>to <NS type=\"RV\"><i><NS type=\"S\"><i>tark</i><c>take</c></NS> part in</i><c>attend</c></NS> the party for everyone</i><c>for everyone to attend the party</c></NS>. This is just a relaxing party, just <NS type=\"RT\"><i>for</i><c>so</c></NS> the members have a chance to relax and make friends. So I think you'd better <NS type=\"FV\"><i>to wear</i><c>wear</c></NS> a dress.</p>\n<p>Finally, about the <NS type=\"W\"><i>free three</i><c>three free</c></NS> hours, my personal <NS type=\"DN\"><i>prefer</i><c>preference</c></NS> <NS type=\"MV\"><c>is</c></NS> to go shopping. Our city has got the biggest <NS type=\"DN\"><i>shoping</i><c>shopping</c></NS> centre in South England<NS type=\"RP\"><i>, there</i><c>. There</c></NS> <NS type=\"RV\"><i>gathers</i><c>are</c></NS> so many shops. It <NS type=\"MV\"><c>is</c></NS> <NS type=\"S\"><i>worthes</i><c>worth</c></NS> <NS type=\"FV\"><i><NS type=\"S\"><i>tp</i><c>to</c></NS> spend</i><c>spending</c></NS> time and money on that.</p>\n<p>I look forward to seeing you!</p>\n<p>Yours sincerely</p>\n</coded_answer>",
         "2.2",
         "19.0",
         "Chinese",
         "26-30",
         "1"
        ],
        [
         "6",
         "doc3117.xml",
         "0100_2001_6",
         "TE59*0100*2001*01",
         "<coded_answer>\n<p>Dear Mrs Smith,</p>\n<p>I am <NS type=\"IV\"><i>writting</i><c>writing</c></NS> <NS type=\"MT\"><c>to</c></NS> you to <NS type=\"RV\"><i>reply</i><c>answer</c></NS> your question about the conference in London. <NS type=\"RP\"><i>thank</i><c>Thank</c></NS> you for your letter. I am very <NS type=\"RJ\"><i>pleasant</i><c>pleased</c></NS> to know you decided to come to the \"<NS type=\"R\"><i>II</i><c>Second</c></NS> International <NS type=\"RP\"><i>conference</i><c>Conference</c></NS> <NS type=\"RT\"><i>of</i><c>on</c></NS> Human Rights\" which will be <NS type=\"RV\"><i>celebrated</i><c>held</c></NS> <NS type=\"RT\"><i>in</i><c>at</c></NS> Albert Hall <NS type=\"RP\"><i>college</i><c>College</c></NS> <NS type=\"MT\"><c>on</c></NS> <NS type=\"UJ\"><i>next</i></NS> 25 <NS type=\"UT\"><i>of</i></NS> June.</p>\n<p>I would like to inform you that the group you belong to<NS type=\"UP\"><i>,</i></NS> has been booked <NS type=\"RT\"><i>in</i><c>into</c></NS> <NS type=\"MD\"><c>the</c></NS> Palace Hotel<NS type=\"UP\"><i>,</i></NS> in the <NS type=\"SA\"><i>center</i><c>centre</c></NS> of London from the <NS type=\"MP\"><i>24</i><c>24th</c></NS> <NS type=\"MT\"><c>of</c></NS> June until <NS type=\"MD\"><c>the</c></NS> <NS type=\"MP\"><i>25</i><c>25th</c></NS> of June. The Albert Hall College, the building where <NS type=\"W\"><i>will be <NS type=\"RV\"><i>taken part</i><c>held</c></NS> the conference</i><c>the conference will be held</c></NS> is <NS type=\"RV\"><i>sited</i><c>situated</c></NS> near Green Park Avenue<NS type=\"RP\"><i>; <NS type=\"UC\"><i>so</i></NS><NS type=\"UP\"><i>,</i></NS> to</i><c>. To</c></NS> get <NS type=\"MT\"><c>to</c></NS> it from the Palace Hotel<NS type=\"MP\"><c>,</c></NS> you can take the <NS type=\"W\"><i>bus number 26</i><c>number 26 bus</c></NS>, otherwise, you can take the Picadilly Line from South Kensigton <NS type=\"RP\"><i>Station</i><c>station</c></NS> to <NS type=\"RP\"><i>green</i><c>Green</c></NS> Park station. It takes about 10 minutes<NS type=\"UP\"><i>.</i></NS> <NS type=\"UY\"><i>Therefore</i></NS>, that's the <NS type=\"RJ\"><i><NS type=\"FJ\"><i>faster</i><c>fastest</c></NS></i><c>quickest</c></NS> <NS type=\"RN\"><i>way</i><c>means</c></NS> of transport you can choose. The Conference will start at 9 am <NS type=\"RT\"><i>of</i><c>on</c></NS> 25 June and will finish about 6 pm <NS type=\"RT\"><i>in</i><c>on</c></NS> the same day. During the day <NS type=\"MA\"><c>you</c></NS> <NS type=\"AGV\"><i>is</i><c>are</c></NS> supposed <NS type=\"FV\"><i>having</i><c>to have</c></NS> a break of half <NS type=\"SX\"><i>and</i><c>an</c></NS> hour at 12 <NS type=\"R\"><i>p.m<NS type=\"MP\"><c>.</c></NS></i><c>noon</c></NS> and finally, <NS type=\"M\"><c>there will be</c></NS> a party for all the people who will be there. That will be a <NS type=\"RJ\"><i>smart</i><c>formal</c></NS> party and because of this, <NS type=\"R\"><i>it will be required a well-dressed and immaculate presence</i><c>you will be required to be smartly dressed</c></NS>. Ladies should wear an evening dress and <NS type=\"FN\"><i><NS type=\"S\"><i>gentlman</i><c>gentleman</c></NS></i><c>gentlemen</c></NS> a dark suit.</p>\n<p>As I can see from your letter, you will have about three hours before you catch your plane, so, I would suggest <NS type=\"MA\"><c>you</c></NS> <NS type=\"FV\"><i>to visit</i><c>visit</c></NS> <NS type=\"RP\"><i>The</i><c>the</c></NS> Tate Modern Museum, where you will <NS type=\"UV\"><i>can</i></NS> find several interesting pictures such as <NS type=\"UP\"><i>Dali's</i><c>Dalis</c></NS> <NS type=\"MC\"><c>and</c></NS> Warhols.</p>\n<p>If you need some more information or details about <NS type=\"SX\"><i>he</i><c>the</c></NS> conference, you can contact Alexia on 0033*** <NS type=\"UN\"><i>phone</i></NS>.</p>\n<p>I look forward to hearing from you.</p>\n<p> Yours sincerely,</p>\n</coded_answer>",
         "3.3",
         "28.0",
         "Spanish",
         "21-25",
         "1"
        ],
        [
         "7",
         "doc2968.xml",
         "0100_2001_6",
         "TE12*0100*2001*01",
         "<coded_answer>\n<p>Dear Mrs Smith</p>\n<p>I am writing to answer your letter about the details of <NS type=\"MD\"><c>the</c></NS> international students conference.</p>\n<p><NS type=\"MD\"><c>The</c></NS> Palace Hotel has been booked and you should first walk from the hotel to the Town Hall railway station, which is <NS type=\"M\"><c>on the</c></NS> North City Line, <NS type=\"MA\"><c>which</c></NS> is <NS type=\"MD\"><c>the</c></NS> yellow line on the map. After getting on the train, you should get off at the Mountain station<NS type=\"MP\"><c>,</c></NS> which is <NS type=\"R\"><i>for twenty minutes</i><c>twenty minutes away</c></NS><NS type=\"RP\"><i>, <NS type=\"MA\"><c>it</c></NS></i><c>. It</c></NS> is <NS type=\"RT\"><i>in front of</i><c>opposite</c></NS> the conference <NS type=\"MN\"><c>venue</c></NS>.</p>\n<p>The conference which<NS type=\"MP\"><c>,</c></NS> will be held from 1 pm through 4 pm, is a formal party. You should wear formal clothes, and are going to play a game and enjoy <NS type=\"MD\"><c>a</c></NS> welcome drink together.</p>\n<p>Before catching our plane, we will be able to enjoy going shopping around the airport for three hours in the afternoon<NS type=\"RP\"><i>. Because</i><c>, because</c></NS> there are so many unique shops and you should buy good gifts for your parents</p>\n<p>Yours sincerely,</p>\n</coded_answer>",
         "3.2",
         "26.0",
         "Japanese",
         "26-30",
         "1"
        ],
        [
         "8",
         "doc3101.xml",
         "0100_2001_6",
         "TE55*0100*2001*01",
         "<coded_answer>\n<p>Dear Mrs Smith,</p>\n<p>Thank you very much for your letter. I <NS type=\"TV\"><i>would</i><c>will</c></NS> be very pleased if I can help you <NS type=\"R\"><i>answering</i><c>with</c></NS> all your enquiries.</p>\n<p>The hotel which your students' group has been booked into is the Palace Hotel. It is fairly easy to get there from the conference. I would <NS type=\"FV\"><i>suggested</i><c>suggest</c></NS> you <NS type=\"FV\"><i>to walk</i><c>walk</c></NS> along New Street, which is the one next to <NS type=\"MD\"><c>the</c></NS> river, and in 10 minutes you will see the hotel <NS type=\"RT\"><i>in</i><c>on</c></NS> your <NS type=\"MP\"><i>right hand</i><c>right-hand</c></NS> side. The hotel is just opposite <NS type=\"UT\"><i>to</i></NS> the City Hospital.</p>\n<p>As you <NS type=\"W\"><i>already possibly</i><c>possibly already</c></NS> know, the end-of-conference party will take place <NS type=\"RT\"><i>at</i><c>in</c></NS> the main reception room at the same hotel. You should be there by 7 o'clock in the evening. <NS type=\"FV\"><i>Answering</i><c>To answer</c></NS> your question, you should be fine wearing casual clothes. However, if you wish to dress smarter, there is no problem at all.</p>\n<p>With reference to the last afternoon, if I were you I would visit the City Museum. There are many interesting works of art by famous painters of this country. If you have any time left you ought to go to the High Street, where you could go shopping.</p>\n<p>Please, do not hesitate to contact me at the above address if you need any further information.</p>\n<p>I look forward to meeting you at the Conference.</p>\n<p>Yours sincerely,</p>\n</coded_answer>",
         "4.2",
         "36.0",
         "Catalan",
         "21-25",
         "1"
        ],
        [
         "9",
         "doc3070.xml",
         "0100_2001_6",
         "TE45*0100*2001*01",
         "<coded_answer>\n<p>Dear Mrs M. Smith,</p>\n<p>I am writing in order to reply to your letter and to give you all the information that you requested.</p>\n<p>First of all the hotel is the Palace Hotel, 82 Regent Street, so <NS type=\"UA\"><i>that</i></NS> it is very easy to reach the conference. In fact you can take the <NS type=\"W\"><i>bus number 3</i><c>number 3 bus</c></NS>; as you can see, the bus stop is just in front of the hotel, then you can get off immediately after the church that you pass, on your right <NS type=\"UN\"><i>hand</i></NS>.</p>\n<p>Secondly, we will have the party in the hotel at 8.00 o'clock and a buffet will be served at 8.30 p.m. It <NS type=\"TV\"><i>would</i><c>will</c></NS> <NS type=\"W\"><i>be also</i><c>also be</c></NS> possible to get some vegetarian food and drink cocktails free of charge. I would recommend your students <NS type=\"FV\"><i>to bring</i><c>bring</c></NS> their Identity <NS type=\"FN\"><i>Card</i><c>Cards</c></NS> to prove their age. What is more, I would suggest <NS type=\"FV\"><i>to wear</i><c>wearing</c></NS> very smart <NS type=\"RN\"><i>dress</i><c>clothes</c></NS> and for men <NS type=\"AS\"><i>it is <NS type=\"DJ\"><i><NS type=\"S\"><i>oblidged</i><c>obliged</c></NS></i><c>obligatory</c></NS> <NS type=\"RD\"><i>the</i><c>a</c></NS> tie</i><c>a tie is obligatory</c></NS>.</p>\n<p>Finally, if I were you I would go shopping <NS type=\"RT\"><i>to</i><c>in</c></NS> the City Centre <NS type=\"R\"><i>to spend</i><c>in</c></NS> your last hours. However, if <NS type=\"MP\"><i>you re</i><c>you're</c></NS> interested in <NS type=\"RP\"><i><NS type=\"SA\"><i>Archeology</i><c>Archaeology</c></NS></i><c>archaeology</c></NS> you should <NS type=\"S\"><i>vitis</i><c>visit</c></NS> the History Museum in Garden Square.</p>\n<p>I hope you will find my letter of interest and I look forward to seeing you.</p>\n<p>Yours Sincerely,</p>\n</coded_answer>",
         "5.1",
         "31.0",
         "Italian",
         "21-25",
         "1"
        ],
        [
         "10",
         "doc3156.xml",
         "0100_2001_6",
         "TE67*0100*2001*01",
         "<coded_answer>\n<p><NS type=\"MJ\"><c>Dear</c></NS> Mrs Maria Smith,</p>\n<p>I'm pleased to be able to help you <NS type=\"RT\"><i>for</i><c>with</c></NS> the international student conference.</p>\n<p>The hotel <NS type=\"RT\"><i>in</i><c>into</c></NS> which the group has been booked <NS type=\"UT\"><i>to</i></NS> is the Palace <NS type=\"RP\"><i>hotel</i><c>Hotel</c></NS>, which is situated near the big bridge of Mont Blanc.</p>\n<p>To get from the hotel to the conference, you have to take the highway <NS type=\"MD\"><i><NS type=\"RP\"><i>indirection</i><c>in direction</c></NS></i><c>in the direction</c></NS> of Lausanne, and after nearly half an hour of driving you come out at the place which is <NS type=\"RV\">indicated</NS> with Coppet, Divonne. When you come out, just go <NS type=\"U\"><i>on your</i></NS> right, and then turn left to follow the <NS type=\"RN\"><i>indications</i><c>directions</c></NS> to the Châtaigneroie <NS type=\"RP\"><i>school</i><c>School</c></NS>.</p>\n<p>The end-of-conference party will take place at the same place. Some musicians will play classical music, and there will be many different drinks and food.</p>\n<p><NS type=\"RP\"><i>you</i><c>You</c></NS> should wear <NS type=\"UQ\"><i>some</i></NS> formal clothes, but not <NS type=\"DY\"><i>necessary</i><c>necessarily</c></NS> really pretty clothes<NS type=\"MP\"><c>.</c></NS></p>\n<p>For three hours, you could visit the museum of the Red Cross, which is very interesting.</p>\n<p>I hope that <NS type=\"AGD\"><i>these</i><c>this</c></NS> <NS type=\"CN\"><i>informations</i><c>information</c></NS> will help you<NS type=\"MP\"><c>.</c></NS></p>\n<p>Sincerely yours,</p>\n</coded_answer>",
         "4.1",
         "31.0",
         "French",
         "16-20",
         "1"
        ],
        [
         "11",
         "doc3157.xml",
         "0100_2001_6",
         "TE68*0100*2001*01",
         "<coded_answer>\n<p>Dear Maria,</p>\n<p>I would be pleased to help you <NS type=\"RT\"><i>about</i><c>with</c></NS> all your questions and I will provide you <NS type=\"MT\"><c>with</c></NS> <NS type=\"RD\"><i>some</i><c>the</c></NS> information which you need as <NS type=\"RY\"><i>much</i><c>far</c></NS> as I can.</p>\n<p>I would like to inform you that Centeral Red Lion Hotel has been booked for the <NS type=\"S\"><i>accomadation</i><c>accommodation</c></NS> of the group and it will be quite easy to get <NS type=\"RP\"><i>every where</i><c>everywhere</c></NS> <NS type=\"W\"><i>from the hotel on foot</i><c>on foot from the hotel</c></NS> during your stay.</p>\n<p>As you know<NS type=\"MP\"><c>,</c></NS> <NS type=\"UC\"><i>that</i></NS> we <NS type=\"TV\"><i>arrange</i><c>are arranging</c></NS> an evening party on the third day of the week, we can say that <NS type=\"MA\"><c>it</c></NS> <NS type=\"MV\"><c>is</c></NS> a kind of relaxation time. Nothing will be <NS type=\"RJ\"><NS type=\"S\"><i>spacial</i><c>special</c></NS></NS>. <NS type=\"MD\"><i>Place</i><c>The place</c></NS> is <NS type=\"MD\"><c>the</c></NS> <NS type=\"RP\"><i>College</i><c>college</c></NS> garden. <NS type=\"MD\"><i>Time</i><c>The time</c></NS> is 7 pm. There is no need to bother <NS type=\"MY\"/> about <NS type=\"S\"><i>clouths</i><c>clothes</c></NS>. Everybody can <NS type=\"RV\"><i>put on</i><c>wear</c></NS> something casual.</p>\n<p><NS type=\"S\"><i>Befor</i><c>Before</c></NS> <NS type=\"MA\"><c>you</c></NS> <NS type=\"S\"><i>leav</i><c>leave</c></NS> <NS type=\"UT\"><i>from</i></NS> England<NS type=\"MP\"><c>,</c></NS> I suggest you <NS type=\"TV\"><i>to visit</i><c>visit</c></NS> the <NS type=\"S\"><i>cannals</i><c>canals</c></NS> and small villages around Basingstoke. You could <NS type=\"RV\"><i>find</i><c>have</c></NS> the <NS type=\"S\"><i>opportunaty</i><c>opportunity</c></NS> to see the country life.</p>\n<p>Yours sincerely,</p>\n</coded_answer>",
         "3.1",
         "23.0",
         "Turkish",
         "21-25",
         "1"
        ],
        [
         "12",
         "doc3074.xml",
         "0100_2001_6",
         "TE48*0100*2001*01",
         "<coded_answer>\n<p>Dear Mrs Maria Smith,</p>\n<p>I am <NS type=\"RJ\"><i>afraid</i><c>sorry</c></NS> to hear that Mr. Brown is ill<NS type=\"MP\"><c>.</c></NS> I hope it <NS type=\"TV\"><i>won't be</i><c>isn't</c></NS> <NS type=\"RJ\"><i>grave</i><c>serious</c></NS>. However, I will be glad to give you as much information as you need and I hope you will find it helpful.</p>\n<p><NS type=\"RP\"><i>the</i><c>The</c></NS> name of the hotel in which the group is going to stay <NS type=\"UT\"><i>in</i></NS> is <NS type=\"MD\"><c>the</c></NS> Palace Hotel<NS type=\"RP\"><i>, to</i><c>. To</c></NS> get there you must go to the centre of town<NS type=\"RP\"><i>, all</i><c>. All</c></NS> <NS type=\"MD\"><c>the</c></NS> buses <NS type=\"TV\"><i>are going</i><c>go</c></NS> there<NS type=\"RP\"><i>,</i><c>.</c></NS> Once you are in the centre<NS type=\"M\"><c>, the</c></NS> Palace Hotel is right in front of the tourism information office.</p>\n<p>For the end-of-conference party we have booked one of the halls of the hotel and they will provide us <NS type=\"MT\"><c>with</c></NS> <NS type=\"DJ\"><i>life</i><c>live</c></NS> music and <NS type=\"S\"><i>cattering</i><c>catering</c></NS>. Due the hotel <NS type=\"FV\"><i>is</i><c>being</c></NS> such an elegant place I would suggest <NS type=\"FV\"><i>to dress</i><c>dressing</c></NS> up in <NS type=\"DN\"><i>night clothes</i><c>evening dress</c></NS>.</p>\n<p>Finally, to fill your free afternoon I would <NS type=\"RY\"><i>hardly</i><c>definitely</c></NS> <NS type=\"S\"><i>recomend</i><c>recommend</c></NS> <NS type=\"FV\"><i>to visit</i><c>visiting</c></NS> the cathedral and <NS type=\"FV\"><i>have</i><c>having</c></NS> a walk <NS type=\"S\"><i>arround</i><c>around</c></NS> the old part of the city<NS type=\"RP\"><i>, if</i><c>. If</c></NS> you <NS type=\"RV\"><i>like</i><c>want</c></NS><NS type=\"MP\"><c>,</c></NS> it will be my pleasure to show you the <NS type=\"RN\"><i><NS type=\"S\"><i>souroundings</i><c>surroundings</c></NS></i><c>area</c></NS>.</p>\n<p>Yours sincerely,</p>\n</coded_answer>",
         "3.2",
         "25.0",
         "Catalan",
         "21-25",
         "1"
        ],
        [
         "13",
         "doc3068.xml",
         "0100_2001_6",
         "TE44*0100*2001*01",
         "<coded_answer>\n<p>Dear Mrs Smith</p>\n<p>I have received your letter, which was about <NS type=\"CE\">that you would like me to inform you</NS>.</p>\n<p>As you know, a hotel <NS type=\"UN\"><i>whose name</i></NS> <NS type=\"RV\"><i>is</i><c>called</c></NS> <NS type=\"MD\"><c>the</c></NS> Palace Hotel has been booked for your group. The best way to get from there to the conference is to take a taxi. I am afraid there are no buses to get there.</p>\n<p>We will have a great party at the end of the conference. The party will be formal, therefore you <NS type=\"TV\"><i>have</i><c>will have</c></NS> to wear formal clothes like a suit or a dress. As you know, it is not suitable to wear <NS type=\"UD\"><i>a</i></NS> <NS type=\"IN\"><i>jean</i><c>jeans</c></NS> or something <NS type=\"MJ\"><c>similar</c></NS>.</p>\n<p>On your last day you have <NS type=\"RD\"><i>an</i><c>the</c></NS> afternoon free. In my area there is a fantastic park, which is the most famous park in the country. You can find a lot of things to do or to see. You can visit the zoo or walk around the amazing lake in the park.</p>\n<p>I hope you will find all the details<NS type=\"UP\"><i>,</i></NS> which you would like to have in the letter. If you need any <NS type=\"MY\"><c>more</c></NS> information, please let me know.</p>\n<p><NS type=\"DA\"><i>Your</i><c>Yours</c></NS> <NS type=\"RP\"><i>Sincerely</i><c>sincerely</c></NS>,</p>\n</coded_answer>",
         "3.3",
         "26.0",
         "Turkish",
         "21-25",
         "1"
        ],
        [
         "14",
         "doc3099.xml",
         "0100_2001_6",
         "TE53*0100*2001*01",
         "<coded_answer>\n<p>Dear Mrs Smith<NS type=\"RP\"><i>:</i><c>,</c></NS></p>\n<p>I have received your letter which informs me you are now in charge of the group of students attending the international conference.</p>\n<p>It is my pleasure to help you with the information you need.</p>\n<p>Your group has been booked into The Palace Hotel, located on the <NS type=\"RP\"><i>High</i><c>high</c></NS> street, opposite <NS type=\"UT\"><i>to</i></NS> the <NS type=\"RP\"><i>Post Office</i><c>post office</c></NS>.</p>\n<p>The conference will be <NS type=\"TV\"><i>hold</i><c>held</c></NS> in The Royal Hall, and the best way to get there from the hotel is by bus. Take the 67 route and it will take you just in front of The Royal Hall.</p>\n<p>The end-of-conference party will be hold in Francescos Restaurant, just by The Royal Hall. You should wear casual clothes.</p>\n<p>About what you can do in the area <NS type=\"RT\"><i>for</i><c>in</c></NS> the free time you have, I would suggest you <NS type=\"TV\"><i>to visit</i><c>visit</c></NS> <NS type=\"RP\"><i>The</i><c>the</c></NS> Modern Art Museum which <NS type=\"W\"><i>has now</i><c>now has</c></NS> a new exhibition. Another suggestion could be to visit the zoo, or just walk through <NS type=\"UD\"><i>the</i></NS> Spring Gardens<NS type=\"MP\"><c>,</c></NS> which are beautiful <NS type=\"RT\"><i>in</i><c>at</c></NS> this time of the year.</p>\n<p>I hope all this information is helpful for you.</p>\n<p>Yours sincerely,</p>\n</coded_answer>",
         "5.1",
         "35.0",
         "Spanish",
         "21-25",
         "1"
        ],
        [
         "15",
         "doc3252.xml",
         "0100_2001_6",
         "TE85*0100*2001*01",
         "<coded_answer>\n<p>Dear Mrs Smith,</p>\n<p>I <NS type=\"TV\"><i>have <NS type=\"S\"><i>recieved</i><c>received</c></NS></i><c>received</c></NS> your letter this morning. I am sorry to hear that Richard is ill and is unable to <NS type=\"RV\"><i>attempt</i><c>attend</c></NS> the conference; I am glad that you are able to be the leader of the group. I hope that <NS type=\"CD\"><i>these</i><c>the</c></NS> <NS type=\"CN\"><i>informations</i><c>information</c></NS> below <NS type=\"AGV\"><i>are</i><c>is</c></NS> very useful to you, during your <NS type=\"RN\"><i>attempt</i><c>attendance</c></NS> <NS type=\"RT\"><i>of</i><c>at</c></NS> <NS type=\"MD\"><c>the</c></NS> conference.</p>\n<p>I have booked a hotel not far <NS type=\"UY\"><i>off</i></NS> from our school. The hotel is called <NS type=\"MD\"><c>the</c></NS> Epsom Down Hotel. Your plane will arrive in England by 9:00. There will be a coach waiting for you, and the driver will be next to the information desk. You should arrive at the hotel by 11:00. You will <NS type=\"SX\"><i>than</i><c>then</c></NS> have an hour to check in and unpack all your luggage. The conference will start on time at 12:30, so I would suggest you <NS type=\"FV\"><i>to leave</i><c>leave</c></NS> <NS type=\"MD\"><c>the</c></NS> hotel by 12:00. The best way to get to the conference is to follow <NS type=\"UT\"><i>along</i></NS> the <NS type=\"RN\"><i>collage</i><c>college</c></NS> road and turn left toward the end<NS type=\"RP\"><i>, you</i><c>. You</c></NS> <NS type=\"SX\"><i>than</i><c>then</c></NS> keep going straight<NS type=\"RP\"><i>, you</i><c>. You</c></NS> will eventually see the main entrance <NS type=\"RT\"><i>of</i><c>to</c></NS> the <NS type=\"RN\"><i>collage</i><c>college</c></NS>. When you get into the college you can just ask any boys in the college where to go from then. They all <NS type=\"AGV\"><i>knows</i><c>know</c></NS> where the conference is and when.</p>\n<p>At the end of the conference, we will have a party. The party is to let all the students <NS type=\"FV\"><i><NS type=\"MV\"><c>to get</c></NS></i><c>get</c></NS> to know each other better. The party will be in the dance hall next to the conference room. I <NS type=\"TV\"><i>will</i><c>would</c></NS> <NS type=\"S\"><i>suggust</i><c>suggest</c></NS> <NS type=\"RA\"><i>them</i><c>they</c></NS> <NS type=\"FV\"><i>to wear</i><c>wear</c></NS> formal clothing, <NS type=\"RT\"><i>as in</i><c>such as</c></NS> tie, trousers and <NS type=\"S\"><i>blaser</i><c>blazer</c></NS>.</p>\n<p>For the afternoon free time on the last day<NS type=\"RP\"><i>. There</i><c>, there</c></NS> are a wide variety of choices <NS type=\"M\"><c>in the things</c></NS> that they can do. They can play tennis, do athletics, <NS type=\"FV\"><i>swimming</i><c>swim</c></NS>... and many other sports <NS type=\"RN\"><i><NS type=\"AGN\"><i>event</i><c>events</c></NS></i><c>activities</c></NS> in our school, if they want to. Or they can also visit <NS type=\"UD\"><i>the</i></NS> Epsom Town. There are shops which <NS type=\"DV\"><i>sales</i><c>sell</c></NS> <NS type=\"RN\"><i>cloths</i><c>clothes</c></NS>, <NS type=\"FN\"><i>foods</i><c>food</c></NS>, and books ... They can decide what they want to do<NS type=\"RP\"><i>, it's</i><c>. It's</c></NS> entirely up to them.</p>\n<p>I am looking forward to seeing you and <NS type=\"RV\"><i>hop</i><c>hope</c></NS> you have a safe flight over to England.</p>\n<p><NS type=\"DA\"><i>Your</i><c>Yours</c></NS> sincerely,</p>\n</coded_answer>",
         "5.1",
         "36.0",
         "Chinese",
         "<16",
         "1"
        ],
        [
         "16",
         "doc3231.xml",
         "0100_2001_6",
         "TE76*0100*2001*01",
         "<coded_answer>\n<p>Dear Mrs Smith,</p>\n<p>I'm writing in response to the letter we have received from you, in order to let you know all the information you have asked for.</p>\n<p>First of all, your group has been booked into the Palace Hotel, <NS type=\"W\"><i><NS type=\"UP\"><i>Main-Road</i><c>Main Road</c></NS> 21</i><c>21 Main Road</c></NS>, which is situated not far from our college. I'd suggest you <NS type=\"FV\"><i>to walk</i><c>walk</c></NS><NS type=\"RP\"><i>, it</i><c>. It</c></NS> will only take you about seven minutes. Just follow <NS type=\"UP\"><i>Main-Road</i><c>Main Road</c></NS> until <NS type=\"MA\"><c>you</c></NS> <NS type=\"TV\"><i>to reach</i><c>reach</c></NS> a junction, where you turn right and then walk along Denl-a-Lion Road. The college is a huge, yellow building - you can't miss it.</p>\n<p>Secondly, you have <NS type=\"RV\"><i>required</i><c>requested</c></NS> information about the end-of-conference party. It will begin at 6 o'clock p.m. and last until midnight. All the students will be provided with sacks and we have managed to book a band as well. The location of the party isn't fixed yet, but we will let you know after your arrival.</p>\n<p>There is no need <NS type=\"FV\"><i>putting</i><c>to put</c></NS> on special clothes for the party<NS type=\"RP\"><i>, casual</i><c>. Casual</c></NS> <NS type=\"R\"><i>ones</i><c>dress</c></NS> should do <NS type=\"R\"><i>it</i><c>just</c></NS> as well, <NS type=\"L\"><i>for</i><c>because</c></NS> we want everyone to feel comfortable.</p>\n<p>Last but not least I will give you some ideas <NS type=\"RT\"><i>of</i><c>about</c></NS> where to spend your free afternoon. I'd suggest you <NS type=\"FV\"><i>to visit</i><c>visit</c></NS> our local museum, as there is a marvellous exhibition there at the moment. Provided the weather is fine, you could also go swimming or make a tour <NS type=\"RT\"><i>through</i><c>of</c></NS> our beautiful town. (I could book a guide for you if you're interested<NS type=\"MP\"><c>.</c></NS>)</p>\n<p>Please write back or call me if there is any more information you need.</p>\n<p>I'm looking forward to meeting you and wish you all the best.</p>\n<p>Yours sincerely,</p>\n</coded_answer>",
         "5.2",
         "40.0",
         "German",
         "16-20",
         "1"
        ],
        [
         "17",
         "doc2951.xml",
         "0100_2001_6",
         "TE8*0100*2001*01",
         "<coded_answer>\n<p><NS type=\"MJ\"><c>Dear</c></NS> Mrs Smith,</p>\n<p>I received your letter this morning and I would like to thank you for your interest in the <NS type=\"RP\"><i>Conference</i><c>conference</c></NS>. I hope I can answer your questions.</p>\n<p><NS type=\"RY\"><i>At First</i><c>First</c></NS>, this international student conference has the <NS type=\"RN\"><i>intension</i><c>aim</c></NS> of <NS type=\"FV\"><i>explain</i><c>explaining</c></NS> to students how important <NS type=\"W\"><i>is <NS type=\"UD\"><i>the</i></NS> education</i><c>education is</c></NS>. In addition to this, we <NS type=\"TV\"><i>choose</i><c>have chosen</c></NS> the <NS type=\"S\"><i>luxuery</i><c>luxury</c></NS> Palace Hotel<NS type=\"MP\"><c>,</c></NS> which is comfortable enough and in a good location. The Palace Hotel is located in the centre of the city, so you can <NS type=\"RV\"><i>go</i><c>come</c></NS> by train, by bus or by car. I suggest you should go by train and <NS type=\"RV\"><i>go out</i><c>get off</c></NS> <NS type=\"RT\"><i>in</i><c>at</c></NS> <NS type=\"UD\"><i>the</i></NS> Museum Station. The <NS type=\"RP\"><i>Conference</i><c>conference</c></NS> will <NS type=\"RV\"><i>happen</i><c>be held</c></NS> in the <NS type=\"RP\"><i>Hotel</i><c>hotel</c></NS>, which is <NS type=\"R\">so much easier</NS>.</p>\n<p>The <NS type=\"RP\"><i>Conference</i><c>conference</c></NS>, <NS type=\"R\">not being modest</NS>, <NS type=\"UA\"><i>it</i></NS> is <NS type=\"UD\"><i>a</i></NS> quite well organized. It will <NS type=\"FV\"><i>starts</i><c>start</c></NS> at eight in the morning and will finish around five in the afternoon. I suggest you should wear something informal. Even though we want to make things as <NS type=\"FJ\"><i>more comfortable</i><c>comfortable</c></NS> as possible <NS type=\"RT\"><i>to</i><c>for</c></NS> our students.</p>\n<p>I am very happy that you want to know <NS type=\"MT\"><c>about</c></NS> my area, although I am afraid an afternoon is not enough. However, if you want, you can call me and I can show you some interesting places. I will be very glad. I look forward to hearing from you.</p>\n<p>Yours sincerely,</p>\n</coded_answer>",
         "2.3",
         "25.0",
         "Portuguese",
         "16-20",
         "1"
        ],
        [
         "18",
         "doc3298.xml",
         "0100_2001_6",
         "TE93*0100*2001*01",
         "<coded_answer>\n<p>Dear Mrs Maria Smith</p>\n<p><NS type=\"RP\"><i>thankyou</i><c>thank you</c></NS> for your letter, <NS type=\"S\"><i>wich</i><c>which</c></NS> arrived yesterday. I hope to give you<NS type=\"UP\"><i>,</i></NS> all the information <NS type=\"MA\"><c>you</c></NS> need and<NS type=\"MP\"><c>,</c></NS> please, if you want more information or <NS type=\"S\"><i>somenthing</i><c>something</c></NS> is not clear, please don't <NS type=\"S\"><i>esitate</i><c>hesitate</c></NS> to contact me again.</p>\n<p>The <NS type=\"RP\"><i>Hotel</i><c>hotel</c></NS> is near the station and is <NS type=\"TV\"><i>call</i><c>called</c></NS> \"Grand Placad\". When you <NS type=\"TV\"><i>arrived</i><c>arrive</c></NS> you take the train <NS type=\"RT\"><i>for</i><c>to</c></NS> Guildford and after <NS type=\"MA\"><c>that</c></NS> you <NS type=\"W\"><i>have just</i><c>just have</c></NS> <NS type=\"FV\"><i><NS type=\"SX\"><i>across</i><c>cross</c></NS></i><c>to cross</c></NS> the road<NS type=\"UP\"><i>,</i></NS> in front of the station.</p>\n<p>It's <NS type=\"MD\"><c>a</c></NS> very <NS type=\"S\"><i>confortable</i><c>comfortable</c></NS> hotel where you can find everything you need.</p>\n<p>From there to the conference you have to take the <NS type=\"W\"><i>bus number 50</i><c>number 50 bus</c></NS>, <NS type=\"RA\"><i>that</i><c>which</c></NS> <NS type=\"AGV\"><i>stop</i><c>stops</c></NS> near the hotel and <NS type=\"AGV\"><i>arrive</i><c>arrives</c></NS> in <NS type=\"MD\"><c>the</c></NS> town <NS type=\"SA\"><i>center</i><c>centre</c></NS>. The conference is <NS type=\"RV\"><i>organised</i><c>held</c></NS> in the civic hall so it is very <NS type=\"RJ\"><i>simple</i><c>easy</c></NS> to <NS type=\"FV\"><i>found</i><c>find</c></NS> it. At the end of <NS type=\"MD\"><c>the</c></NS> conference there is a party<NS type=\"MP\"><c>,</c></NS> a perfect opportunity for your students <NS type=\"FV\"><i><NS type=\"RV\"><i>meet</i><c>make</c></NS></i><c>to make</c></NS> new friends from all <NS type=\"AGN\"><i>part</i><c>parts</c></NS> of <NS type=\"MD\"><c>the</c></NS> <NS type=\"RN\"><i>word</i><c>world</c></NS> and they <NS type=\"TV\"><i>could</i><c>can</c></NS> <NS type=\"RV\"><i>speak</i><c>talk</c></NS> about their experience.</p>\n<p><NS type=\"W\"><i>I suggest for <NS type=\"RD\"><i>that</i><c>this</c></NS> conference</i><c>For this conference I suggest</c></NS> <NS type=\"FV\"><i>to wear</i><c>wearing</c></NS> <NS type=\"S\"><i>somenthing</i><c>something</c></NS> very <NS type=\"S\"><i>confortable</i><c>comfortable</c></NS> but elegant<NS type=\"RP\"><i>, the</i><c>. The</c></NS> organisation <NS type=\"AGV\"><i>want</i><c>wants</c></NS> <NS type=\"UT\"><i>for</i></NS> all <NS type=\"MD\"><c>the</c></NS> <NS type=\"RN\"><i>boys</i><c>men</c></NS> <NS type=\"FV\"><i>wear</i><c>to wear</c></NS> <NS type=\"MD\"><c>a</c></NS> jacket, <NS type=\"MC\"><c>but</c></NS> <NS type=\"RD\"><i>the</i><c>a</c></NS> tie is not necessary.</p>\n<p>I don't <NS type=\"W\"><i>know <NS type=\"SX\"><i>rely</i><c>really</c></NS></i><c>really know</c></NS> what you <NS type=\"RV\"><i>can</i><c>should</c></NS> see<NS type=\"RP\"><i>,</i><c>;</c></NS> <NS type=\"AS\"><i>three hours I think is not</i><c>I don't think three hours is</c></NS> enough but near the station there is a beautiful <NS type=\"RN\"><i>garden</i><c>park</c></NS><NS type=\"MP\"><c>,</c></NS> popular for its variety of flowers.</p>\n<p>If I <NS type=\"TV\"><i>found</i><c>find</c></NS> <NS type=\"S\"><i>somenthing</i><c>something</c></NS> special <NS type=\"M\"><c>you will be able</c></NS> to visit in three hours I <NS type=\"TV\"><i>call</i><c>will call</c></NS> you.</p>\n<p><NS type=\"DA\"><i>Your</i><c>Yours</c></NS> sincerely</p>\n</coded_answer>",
         "3.1",
         "22.0",
         "Italian",
         "31-40",
         "1"
        ],
        [
         "19",
         "doc3041.xml",
         "0100_2001_6",
         "TE34*0100*2001*01",
         "<coded_answer>\n<p>Dear Mrs Smith,</p>\n<p>I am writing in reply to your letter, which I received yesterday. Below is <NS type=\"RQ\"><i>a piece of</i><c>some</c></NS> information you will need for the next international student conference at Bournemouth College and some recommendations, which might be useful for the students.</p>\n<p>First of all, the hotel booked for the group is the Palace Hotel, which is very impressive in terms of comfort and facilities. This is a very central hotel located not far away from the conference hall. You will be able to get there either by bus (no 150) or on foot.</p>\n<p>Next you are welcome to attend the party organized at the end of the conference. It will begin at elevenish p.m. and may last the whole night. People are going to be <NS type=\"RJ\"><i>disguised</i><c>in costume</c></NS> there and it would be a good idea to wear extravagant multi-coloured clothes.</p>\n<p>Finally I think that you should jump at <NS type=\"MD\"><c>the</c></NS> opportunity to go to the <NS type=\"RJ\"><i>historical</i><c>historic</c></NS> Pergam's Museum before leaving. Some of the most amazing masterpieces are <NS type=\"RV\"><i>exposed</i><c>exhibited</c></NS> there.</p>\n<p>I wish you <NS type=\"UY\"><i>in advance</i></NS> a wonderful trip and look forward to meeting you in Bournemouth.</p>\n<p><NS type=\"DA\"><i>Your</i><c>Yours</c></NS> sincerely</p>\n</coded_answer>",
         "5.3",
         "39.0",
         "French",
         "21-25",
         "1"
        ],
        [
         "20",
         "doc3121.xml",
         "0100_2001_6",
         "TE61*0100*2001*01",
         "<coded_answer>\n<p>Dear Mrs Smith,</p>\n<p>I am writing this letter in reply to your letter which arrived yesterday. I do welcome you and your group, and I am willing to help you by giving the <NS type=\"CN\"><i>informations</i><c>information</c></NS> that you have asked me <NS type=\"MT\"><c>for</c></NS>.</p>\n<p>Firstly, let me explain the <NS type=\"RN\"><i>way</i><c>route</c></NS> from the PALACE HOTEL, where your group will be staying, to the conference. The hotel is located in the centre of Seoul, therefore there <NS type=\"MV\"><c>are</c></NS> many ways to get to the conference. The easiest way to get there is to take the underground, which takes about 20 minutes. The map will be given to you on the day of your arrival.</p>\n<p>Secondly, the end-of-conference party will be held in the Palace Hotel's Percel Room and starts at 6 o'clock in the evening. Professor Kim from my college is going to give a speech, and after that dinner will be served. The party is not very formal, so you can wear any kind of dress, as long as it is suitable for dinner.</p>\n<p>Finally, I would like <NS type=\"UA\"><i>you</i></NS> to recommend the visit to a traditional Korean palace Kyong Bok for the last day's free time. It must be a very interesting visit for the students who <NS type=\"AGV\"><i>has</i><c>have</c></NS> never experienced an oriental atmosphere. It is just 5 minutes walk from the hotel, and in front of the hotel gate, an airport bus will be waiting for you to take you to the airport after finishing the outing.</p>\n<p>I hope you will enjoy your stay in Korea, and do not hesitate to contact me for any further information.</p>\n<p>I look forward to seeing you soon,</p>\n<p>Yours sincerely,</p>\n</coded_answer>",
         "5.2",
         "37.0",
         "Korean",
         "16-20",
         "1"
        ],
        [
         "21",
         "doc3102.xml",
         "0100_2001_6",
         "TE96*0100*2001*01",
         "<coded_answer>\n<p>Dear Mrs Smith.</p>\n<p>I am writing in response to your letter in order to give you some further information about the international student conference <NS type=\"RT\"><i>in</i><c>at</c></NS> our college.</p>\n<p>I would like to inform you that your group has been booked into <NS type=\"MD\"><c>the</c></NS> Palace Hotel. It is situated in the <NS type=\"SA\"><i>center</i><c>centre</c></NS> of our town and it takes five minutes to get to the college, where the conference is going to be held. I think that the best <NS type=\"S\"><i>choise</i><c>choice</c></NS> for you is to take the 234 bus. The bus stop <NS type=\"MY\"><c>where</c></NS> you should get off is called \"The Green Man\".</p>\n<p>With reference to the end-of-conference party, which is going to take place on Tuesday from 8:00 until midnight, I would like to mention the necessary dress code. It is <NS type=\"UD\"><i>an</i></NS> evening dress for women and black trousers, a white shirt and a black bow tie for men.</p>\n<p>Lastly, I would like to give you some suggestions about <NS type=\"FN\"><i>way</i><c>ways</c></NS> in which you can spend your free time in our town. I am strongly convinced<NS type=\"UP\"><i>,</i></NS> that you should visit <NS type=\"MD\"><c>the</c></NS> local Science Museum. Also there is a very good shopping <NS type=\"SA\"><i>center</i><c>centre</c></NS> next to the museum.</p>\n<p>I look forward to seeing <NS type=\"DA\"><i>your</i><c>you</c></NS> at the conference and hope that you will have a good time in our town.</p>\n<p>Yours sincerely</p>\n</coded_answer>",
         "5.1",
         "30.0",
         "Russian",
         "21-25",
         "1"
        ],
        [
         "22",
         "doc3054.xml",
         "0100_2001_6",
         "TE36*0100*2001*01",
         "<coded_answer>\n<p> Dear Maria,</p>\n<p>First of all, I am sorry to hear that Richard is ill. As the conference must go on, I will give you the information you asked for in order to work on <NS type=\"UT\"><i>with</i></NS> this conference.</p>\n<p><NS type=\"RT\"><i>According to</i><c>Concerning</c></NS> the hotel, the group has been <NS type=\"RV\"><i>arranged</i><c>booked</c></NS> to stay in a hotel which is very near the place <NS type=\"MC\"><c>where</c></NS> we are going to have the conference. The hotel is The Palace Hotel. <NS type=\"UP\"><i>It'is</i><c>It is</c></NS> <NS type=\"UY\"><i>just</i></NS> only 5 <NS type=\"MP\"><i>minutes</i><c>minutes'</c></NS> walk from there to the conference and I would like to suggest that this is the best way to get to the conference.</p>\n<p><NS type=\"L\"><i>About</i><c>Regarding</c></NS> the party, we will have a party at the end of the conference at the hotel <NS type=\"MC\"><c>where</c></NS> you will stay. The party will <NS type=\"RV\"><i>be</i><c>have</c></NS> <NS type=\"UT\"><i>in</i></NS> a <NS type=\"RJ\"><i>friendly</i><c>relaxed</c></NS> atmosphere so don't worry about what to wear. There will be only our group, so <NS type=\"RV\"><i>dress</i><c>wear</c></NS> whatever you want and enjoy <NS type=\"AGA\"><i>ourselves</i><c>yourself</c></NS>.</p>\n<p>Lastly, <NS type=\"R\">what you could possibly do while you will be waiting for three hours, for some people who want to go shopping</NS>. The shopping centre is just <NS type=\"UY\"><i>right</i></NS> opposite <NS type=\"UT\"><i>of</i></NS> the hotel<NS type=\"RP\"><i>, however</i><c>. However</c></NS>, some people may want to just wait at the hotel, having a cup of coffee. The cafe in the hotel is available.</p>\n<p>I hope that <NS type=\"MD\"><c>this</c></NS> information will be useful. If you have any questions I am more than happy to help. I look forward to seeing you at the conference.</p>\n<p>Yours sincerely.</p>\n</coded_answer>",
         "5.1",
         "37.0",
         "Thai",
         "16-20",
         "1"
        ],
        [
         "23",
         "doc3072.xml",
         "0100_2001_6",
         "TE47*0100*2001*01",
         "<coded_answer>\n<p>Dear Mrs <NS type=\"UN\"><i>Maria</i></NS> Smith</p>\n<p>With reference to your letter which I <NS type=\"S\"><i>recived</i><c>received</c></NS> yesterday, I would like to give you some details about <NS type=\"RP\"><i>The</i><c>the</c></NS> international student conference, also the <NS type=\"S\"><i>acomodation</i><c>accommodation</c></NS> and activities that are <NS type=\"IV\"><i>planed</i><c>planned</c></NS> during this week.</p>\n<p>The <NS type=\"RP\"><i>Hotel</i><c>hotel</c></NS> that is booked for the students <NS type=\"UA\"><i>it</i></NS> is one of the <NS type=\"SX\"><i>beast</i><c>best</c></NS> in the area, it has <NS type=\"L\"><i>great</i><c>very good</c></NS> facilities and it is situated near to the place where the conference is going to be. The best way to get there from <NS type=\"RP\"><i>The</i><c>the</c></NS> hotel is by bus and it is already booked for <NS type=\"R\"><i>the next day</i><c>the day after</c></NS> you arrive, at 8:30 am.</p>\n<p>About the party which is just at the end of the conference, <NS type=\"CE\">a good it would be</NS> a dance party and the students don't really need to wear special clothes, it's just to have a little dance and meet all the students<NS type=\"RP\"><i>, after</i><c>. After</c></NS> the party<NS type=\"MP\"><c>,</c></NS> there is a small trip to the old part of the city and I think it would be a good choice <NS type=\"MT\"><c>for</c></NS> <NS type=\"FV\"><i>to spend</i><c>spending</c></NS> the last three hours that you have left before <NS type=\"FV\"><i>go</i><c>going</c></NS> back.</p>\n<p>I hope this letter <NS type=\"AGV\"><i><NS type=\"S\"><i>aswer</i><c>answer</c></NS></i><c>answers</c></NS> all your questions, if you <NS type=\"S\"><i>whant</i><c>want</c></NS> to know more about it just give me a call or send me a letter.</p>\n<p><NS type=\"RP\"><i><NS type=\"DA\"><i>your</i><c>yours</c></NS></i><c>Yours</c></NS> sincerely</p>\n</coded_answer>",
         "2.2",
         "19.0",
         "Spanish",
         "16-20",
         "1"
        ],
        [
         "24",
         "doc3057.xml",
         "0100_2001_6",
         "TE37*0100*2001*01",
         "<coded_answer>\n<p>Dear Mrs. Smith</p>\n<p><NS type=\"RP\"><i>my</i><c>My</c></NS> name is ..., I am a local student and <NS type=\"RP\"><i>i</i><c>I</c></NS> will give you the requested information. The rooms for your students have been booked at the Palace Hotel near the <NS type=\"UP\"><i>city-centre</i><c>city centre</c></NS>. The hotel is just three <NS type=\"RP\"><i>busstops</i><c>bus stops</c></NS> away from our college<NS type=\"UP\"><i>. So</i><c> so</c></NS> you and your students can take the bus from the central <NS type=\"RP\"><i>busstation</i><c>bus station</c></NS> that is right in front of your hotel to get to the conference.</p>\n<p>The end-of-conference party starts just one <NS type=\"SX\"><i>our</i><c>hour</c></NS> after the end of the conference. It is located in our sports hall. There will be live music and a midnight dinner. <NS type=\"UC\"><i>So you</i><c>You</c></NS> don't have to appear very <NS type=\"DY\">noble</NS> dressed, just as you like <NS type=\"UA\"><i>it</i></NS> (there is no <NS type=\"RN\"><i>order</i><c>dress code</c></NS> - you may wear what you want).</p>\n<p>For your last day I think it would be interesting to <NS type=\"S\"><i>vistit</i><c>visit</c></NS> our <NS type=\"RJ\"><i>historical</i><c>historic</c></NS> and famous <NS type=\"UP\"><i>city-centre</i><c>city centre</c></NS>. I will organize a tourist guide to give us information about the old buildings and sights.</p>\n<p>If you have any more questions<NS type=\"MP\"><c>,</c></NS> write me a short letter.</p>\n<p>Yours sincerely</p>\n</coded_answer>",
         "4.1",
         "31.0",
         "German",
         "21-25",
         "1"
        ],
        [
         "25",
         "doc3253.xml",
         "0100_2001_6",
         "TE86*0100*2001*01",
         "<coded_answer>\n<p>Dear Mrs Smith,</p>\n<p>I have received your letter dated <NS type=\"UT\"><i>on</i></NS> the 12th <NS type=\"MT\"><c>of</c></NS> <NS type=\"RP\"><i>june</i><c>June</c></NS> 2001. I am very happy to help you and I hope that the <NS type=\"CN\"><i>informations</i><c>information</c></NS><NS type=\"UP\"><i>,</i></NS> that I am going to give you<NS type=\"UP\"><i>,</i></NS> will be <NS type=\"RJ\"><i>enough</i><c>satisfactory</c></NS>.</p>\n<p>The international student conference will be in the Palace Hotel in Lausanne. The <NS type=\"RP\"><i>Hotel</i><c>hotel</c></NS> is a big building in the middle of the town near the <NS type=\"RN\"><i>place</i><c>square</c></NS><NS type=\"MP\"><c>,</c></NS> \"St-François\". And the name of the street is \"Grand-Chêne\". You <NS type=\"RP\"><i>can not</i><c>cannot</c></NS> miss it.</p>\n<p>After the conference, we are going to stay in the Palace Hotel but instead <NS type=\"MT\"><c>of</c></NS> <NS type=\"FV\"><i>to stay</i><c>staying</c></NS> in the conference room, we are going to move to the reception room where a dinner will be <NS type=\"RV\"><i>prepared</i><c>served</c></NS> for us. Afterwards, a live band <NS type=\"AGV\"><i>are</i><c>is</c></NS> going to play <NS type=\"MT\"><c>for</c></NS> the rest of the night. <NS type=\"RT\"><i>For</i><c>Regarding</c></NS> the clothes, you have to wear something smart and classic.</p>\n<p>If you want to stay in Lausanne during your <NS type=\"W\"><i>afternoon free</i><c>free afternoon</c></NS>, the best thing to do is to go to Ouchy. There, you can enjoy the <NS type=\"RP\"><i>Landscape</i><c>landscape</c></NS> and <NS type=\"DV\"><i>have a sunbath</i><c>sunbathe</c></NS>.</p>\n<p><NS type=\"DA\"><i>Your</i><c>Yours</c></NS> sincerely,</p>\n</coded_answer>",
         "3.3",
         "31.0",
         "French",
         "21-25",
         "1"
        ],
        [
         "26",
         "doc3236.xml",
         "0100_2001_6",
         "TE80*0100*2001*01",
         "<coded_answer>\n<p>Dear Mrs. Smith,</p>\n<p>I am writing in reply to your letter. I am sorry about Richard Brown. And I understand that you need help, so <NS type=\"UC\"><i>that</i></NS> I will help you as far as I can.</p>\n<p>Firstly, the hotel which <NS type=\"S\"><i>ha</i><c>has</c></NS> been booked for you is Palace Hotel <NS type=\"RA\"><i>that</i><c>which</c></NS> is located close to the conference. In order to get from the hotel to the conference, you just need to take the bus we will <NS type=\"RV\"><i>offer</i><c>provide</c></NS>. Secondly, the end-of-conference party will take place in the same hall as the conference at 6 p.m., which includes dinner and an announcement by the president of the conference. The party is arranged as a casual party, therefore, you can wear comfortable clothes. You can expect to meet many students from other schools as well. Finally, if you want to have an exciting experience <NS type=\"UT\"><i>in</i></NS> here, I strongly suggest that you go to the musicals. As you may <NS type=\"TV\"><i>hear</i><c>have heard</c></NS>, our city is well known for the musicals. Or, <NS type=\"RP\"><i>If</i><c>if</c></NS> you want to relax, you can take a walk in the park situated <NS type=\"RT\"><i>in</i><c>at</c></NS> ten <NS type=\"MP\"><i>minutes</i><c>minutes'</c></NS> distance on foot from the hotel. Whatever you choose, you will be satisfied with your choice.</p>\n<p>If you have more questions about the conference <NS type=\"RC\"><i>and</i><c>or</c></NS> <NS type=\"RA\"><i>something</i><c>anything</c></NS> else, do not hesitate to ask me. I would be glad to be able to help you.</p>\n<p>Yours sincerely, </p>\n</coded_answer>",
         "5.2",
         "37.0",
         "Korean",
         "21-25",
         "1"
        ],
        [
         "27",
         "doc3283.xml",
         "0100_2001_6",
         "TE89*0100*2001*01",
         "<coded_answer>\n<p>Dear Mrs Smith,</p>\n<p>I am writing to you to give you more <NS type=\"CN\"><i>informations</i><c>information</c></NS> about <NS type=\"RD\"><i>an</i><c>the</c></NS> international student conference.</p>\n<p>The group has been booked into <NS type=\"MD\"><c>the</c></NS> King Hotel <NS type=\"RT\"><i>at</i><c>on</c></NS> High Street<NS type=\"MP\"><c>,</c></NS> which is very easy to find. And the best way to get from there to the conference is <NS type=\"MT\"><c>by</c></NS> following the <NS type=\"RN\"><i>rod</i><c>road</c></NS> in front of the hotel to the right, then cross the zebra crossing to the opposite side. After that walk to the right about 15 metres and you will find the conference <NS type=\"RN\"><i>place</i><c>venue</c></NS><NS type=\"MP\"><c>,</c></NS> which is called <NS type=\"MD\"><c>the</c></NS> White House.</p>\n<p>At the end of <NS type=\"MD\"><c>the</c></NS> conference, we are going to have an International Dinner as well as some shows from the students in my college. As this is a special conference <NS type=\"UY\"><i>so</i></NS> you could wear your own national dress to <NS type=\"RV\"><i>present</i><c>represent</c></NS> your country.</p>\n<p>Finally, on the last day you could spend your free time <NS type=\"FV\"><i>to visit</i><c>visiting</c></NS> our town hall <NS type=\"R\"><i>which</i><c>where</c></NS> you will be able to learn more about my area - or <NS type=\"M\"><c>you could</c></NS> do some shopping <NS type=\"RT\"><i>at</i><c>on</c></NS> High Street.</p>\n<p>If you want more information, please contact me and I am looking forward to seeing you soon.</p>\n<p>Yours sincerely,</p>\n</coded_answer>",
         "4.1",
         "28.0",
         "Thai",
         "41-50",
         "1"
        ],
        [
         "28",
         "doc3033.xml",
         "0100_2001_6",
         "TE29*0100*2001*01",
         "<coded_answer>\n<p>Dear Mrs Smith,</p>\n<p>I am writing to inform you that I have <NS type=\"S\"><i>recieved</i><c>received</c></NS> a letter from you about helping you to organise an international student conference in my college.</p>\n<p>Your group has been booked into the Palace Hotel<NS type=\"MP\"><c>,</c></NS> which is not very far from my college. However, due to the <NS type=\"CN\"><i>congestions</i><c>congestion</c></NS> and <NS type=\"RN\"><NS type=\"FN\"><i>delay</i><c>delays</c></NS></NS> near the hotel, the best way to get from there to the conference is <NS type=\"RT\"><i>by</i><c>on</c></NS> <NS type=\"MD\"><c>the</c></NS> underground, <NS type=\"MT\"><c>from</c></NS> Victoria Street <NS type=\"RP\"><i>station</i><c>Station</c></NS>. You <NS type=\"TV\"><i>would</i><c>will</c></NS> arrive at the other station opposite my college in approximately 15 minutes.</p>\n<p>At the end-of-conference party, you may either leave the party or stay in the college for more activities. <NS type=\"UQ\"><i>All different</i><c>Different</c></NS> types of clothing <NS type=\"TV\"><i>could</i><c>can</c></NS> be worn<NS type=\"MP\"><i> however</i><c>. However,</c></NS> <NS type=\"DN\">jean wears</NS> and T-shirts <NS type=\"TV\"><i>would</i><c>will</c></NS> be <NS type=\"RJ\">common</NS> on that day.</p>\n<p>Instead <NS type=\"MT\"><c>of</c></NS> staying in the hotel for the last three hours, I suggest that you <NS type=\"UV\"><i>could</i></NS> perhaps visit our town centre. The popular attractions in our town, including the art gallery, museum, aquarium, <NS type=\"MC\"><c>and</c></NS> market square, <NS type=\"TV\"><i>could</i><c>can</c></NS> be found near <NS type=\"RD\"><i>our</i><c>the</c></NS> monument of our town, the Saltisy Bridge.</p>\n<p>I am looking forward to <NS type=\"FV\"><i>see</i><c>seeing</c></NS> you soon.</p>\n<p>Yours sincerely,</p>\n</coded_answer>",
         "3.2",
         "30.0",
         "Catalan",
         "<16",
         "1"
        ],
        [
         "29",
         "doc3093.xml",
         "0100_2001_6",
         "TE49*0100*2001*01",
         "<coded_answer>\n<p>Dear Mrs Smith,</p>\n<p>Thank you for your letter. I am glad to help you <NS type=\"RT\"><i>for</i><c>with</c></NS> the organisation of the conference.</p>\n<p>I phoned <NS type=\"UT\"><i>to</i></NS> the tourist information <NS type=\"MN\"><c>office</c></NS> last week and I got some information about the <NS type=\"S\"><i>accomodation</i><c>accommodation</c></NS> <NS type=\"RT\"><i>of</i><c>for</c></NS> the students.</p>\n<p>I think we should book <NS type=\"UT\"><i>at</i></NS> the Palace Hotel. It is an outstanding building situated in the city centre.</p>\n<p>The <NS type=\"RP\"><i>Hotel</i><c>hotel</c></NS> is in a good position, 10 <NS type=\"MP\"><i>minutes</i><c>minutes'</c></NS> walk from the conference<NS type=\"MP\"><c>,</c></NS> and I think the best way to reach it is on foot.</p>\n<p>I am sure the students will enjoy walking in the streets of the town.</p>\n<p>The conference starts at 5 o'clock in the afternoon and finishes at 7 pm.</p>\n<p>I think they should wear smart <NS type=\"RN\"><i>dress</i><c>clothes</c></NS>, because there will be lots of interesting people and <NS type=\"M\"><c>it is an</c></NS> important meeting.</p>\n<p>In conclusion, for the last day, I thought it <NS type=\"TV\"><i>will</i><c>would</c></NS> be very interesting for the students to visit the town and <NS type=\"RV\"><i>appreciate</i><c>admire</c></NS> its monuments and art.</p>\n<p>On the other hand, if you prefer to have a relaxing day, you could have a <NS type=\"UP\"><i>pic-nic</i><c>picnic</c></NS> in the wonderful park.</p>\n<p>I hope my suggestion and <NS type=\"FN\"><i><NS type=\"RP\"><i>Idea</i><c>idea</c></NS></i><c>ideas</c></NS> will help you to organise the meeting.</p>\n<p>I look forward to receiving your confirmation.</p>\n<p>Yours,</p>\n</coded_answer>",
         "2.3",
         "26.0",
         "Italian",
         "21-25",
         "1"
        ],
        [
         "30",
         "doc3122.xml",
         "0100_2001_6",
         "TE62*0100*2001*01",
         "<coded_answer>\n<p>Dear Mrs Smith,</p>\n<p>I am writing in response to your letter where you asked me to give you more information about <NS type=\"MD\"><c>the</c></NS> international student conference and give some ideas and suggestions <NS type=\"RT\"><i>of</i><c>about</c></NS> what you and your students can do during your free time here.</p>\n<p>The group has been booked into the Palace Hotel<NS type=\"MP\"><c>,</c></NS> which is located in the central area of the city, so it will not take you and your students too much time to get to the town hall where the conference is supposed to be <NS type=\"RV\"><i>progressed</i><c>held</c></NS>. The easiest way to get there from your hotel is to take <NS type=\"FN\"><i>buses</i><c>bus</c></NS> 461 or 176 (the bus stop is opposite <NS type=\"UT\"><i>to</i></NS> the hotel) or we can hire a minibus for you but there is an extra charge for it.</p>\n<p>There is a party on the last day of the conference. Special awards will be given to the students whose reports are the best. <NS type=\"CE\">Less of the party is likely to be as</NS> our <NS type=\"RP\"><i>night club</i><c>nightclub</c></NS> so a <NS type=\"AGN\"><i>lots</i><c>lot</c></NS> of music, dancing and fun are provided. Please note that <NS type=\"UD\"><i>the</i></NS> <NS type=\"S\"><i>alchocholich</i><c>alcoholic</c></NS> drinks are only sold <NS type=\"S\"><i>untill</i><c>until</c></NS> 11pm. You can wear whatever you like for this kind of party.</p>\n<p>Coming back to ideas and Suggestions<NS type=\"MP\"><c>,</c></NS> <NS type=\"UP\"><i>I'v</i><c>I've</c></NS> promised to give you <NS type=\"UT\"><i>about</i></NS> <NS type=\"MD\"><c>a</c></NS> free afternoon <NS type=\"S\"><i>befor</i><c>before</c></NS> you catch your plane<NS type=\"MP\"><c>.</c></NS> I <NS type=\"RV\"><i>can</i><c>would</c></NS> advise you to visit our zoo or to <NS type=\"MV\"><c>go</c></NS> for a <NS type=\"S\"><i>picnik</i><c>picnic</c></NS> in a park <NS type=\"S\"><i>befor</i><c>before</c></NS> you <NS type=\"TV\"><i>will go</i><c>go</c></NS> to the <NS type=\"DN\"><i>night party</i><c>party</c></NS>.</p>\n<p>Yours sincerely,</p>\n</coded_answer>",
         "3.3",
         "24.0",
         "Russian",
         "16-20",
         "1"
        ],
        [
         "31",
         "doc3305.xml",
         "0100_2001_6",
         "TE94*0100*2001*01",
         "<coded_answer>\n<p>Dear Maria,</p>\n<p>I hope that all the information you need <NS type=\"TV\"><i>would</i><c>will</c></NS> be <NS type=\"RV\"><i>answered</i><c>provided</c></NS> <NS type=\"DY\"><i>satisfactorialy</i><c>satisfactorily</c></NS>.</p>\n<p>First of all you have been booked <NS type=\"MT\"><c>in</c></NS> at the palace hotel.</p>\n<p>Secondly the best way to go from the hotel to the conference <NS type=\"SA\"><i>center</i><c>centre</c></NS> is to use one of the <NS type=\"S\"><i>shutel</i><c>shuttle</c></NS> buses we provide at this <NS type=\"RN\"><i><NS type=\"S\"><i>efect</i><c>effect</c></NS></i><c>event</c></NS>. <NS type=\"RP\"><i>they</i><c>They</c></NS> are going to leave at 9 o'clock.</p>\n<p><NS type=\"RP\"><i>concerning</i><c>Concerning</c></NS> the <NS type=\"MP\"><i>end <NS type=\"MT\"><c>of</c></NS> conference</i><c>end-of-conference</c></NS> party<NS type=\"RP\"><i>. It</i><c>, it</c></NS> is going to take place in the same hotel, the <NS type=\"RP\"><i>palace hotel</i><c>Palace Hotel</c></NS><NS type=\"RP\"><i>, we</i><c>. We</c></NS> suggest casual <NS type=\"RN\"><i>dressing</i><c>dress</c></NS> for this special event.</p>\n<p><NS type=\"DY\"><i>Finaly</i><c>Finally</c></NS>, concerning your free afternoon, there are plenty of activities, but I suggest you<NS type=\"UP\"><i>,</i></NS> <NS type=\"FV\"><i>to visit</i><c>visit</c></NS> the Caldea <NS type=\"SA\"><i>center</i><c>centre</c></NS><NS type=\"MP\"><c>,</c></NS> <NS type=\"S\"><i>wich</i><c>which</c></NS> is a very special <NS type=\"RN\">bath</NS> <NS type=\"SA\"><i>center</i><c>centre</c></NS>.</p>\n<p>If you need <NS type=\"S\"><i>futher</i><c>further</c></NS> information do not hesitate to contact us.</p>\n<p><NS type=\"DA\"><i>Your</i><c>Yours</c></NS> sincerely</p>\n</coded_answer>",
         "2.3",
         "23.0",
         "Catalan",
         "31-40",
         "1"
        ],
        [
         "32",
         "doc3005.xml",
         "0100_2001_6",
         "TE25*0100*2001*01",
         "<coded_answer>\n<p>Dear Maria Smith,</p>\n<p>First of all, the group has been booked into the Palace Hotel. It is a big hotel because there will be a lot of people. It has a <NS type=\"UP\"><i>swimming-pool</i><c>swimming pool</c></NS> and a nice bar.</p>\n<p>The hotel is ten minutes <NS type=\"RY\"><i>far</i><c>away</c></NS> from the conference <NS type=\"MN\"><c>centre</c></NS> and there will be a bus available to go directly over there.</p>\n<p>At the end of the conference<NS type=\"UP\"><i>,</i></NS> there will be a dinner in a luxurious restaurant<NS type=\"MP\"><c>,</c></NS> so people must have nice clothes; <NS type=\"UP\"><i>jean's</i><c>jeans</c></NS> <NS type=\"AGV\"><i>is</i><c>are</c></NS> not allowed. Next to the restaurant, there is a disco for people who like dancing.</p>\n<p>We can do a lot of things in my area. We have the <NS type=\"RN\"><i>possibility</i><c>opportunity</c></NS> to visit the old town<NS type=\"RP\"><i>, it's</i><c>. It's</c></NS> very nice and there <NS type=\"AGV\"><i>is</i><c>are</c></NS> a lot of shops. We can visit the old castle or the painting museum too.</p>\n</coded_answer>",
         "3.2",
         "26.0",
         "French",
         "16-20",
         "1"
        ],
        [
         "33",
         "doc3220.xml",
         "0100_2001_6",
         "TE74*0100*2001*01",
         "<coded_answer>\n<p>12 June 2001</p>\n<p>Dear Mrs Smith</p>\n<p>Thank you for your letter dated 8 June 2001. I hope I can give you the information you need<NS type=\"RP\"><i>. So</i><c>, so</c></NS> the conference will be a great experience <NS type=\"RT\"><i>to</i><c>for</c></NS> you and your group.</p>\n<p>Your group will stay at the Palace Hotel. The Palace Hotel is situated in the town centre next to the railway station. A free <NS type=\"S\"><i><NS type=\"UP\"><i>shuttel-bus</i><c>shuttel bus</c></NS></i><c>shuttle bus</c></NS> <NS type=\"RV\"><i>gets</i><c>takes</c></NS> you to the <NS type=\"SA\"><i><NS type=\"UP\"><i>conference-center</i><c>conference center</c></NS></i><c>conference centre</c></NS>. The bus <NS type=\"IV\"><i>leavs</i><c>leaves</c></NS> at 8 a.m. <NS type=\"RT\"><i>at</i><c>from</c></NS> the front entrance of the hotel.</p>\n<p>The end-of-conference party is <NS type=\"UV\"><i>playing</i></NS> in a <NS type=\"RN\"><i>rent</i><c>tent</c></NS> and in the <NS type=\"FN\"><i><NS type=\"RP\"><i>greenground</i><c>green ground</c></NS></i><c>grounds</c></NS>. There will be a barbecue, a place to dance and <NS type=\"RA\"><i>many</i><c>much</c></NS> more. It <NS type=\"TV\"><i>is</i><c>will be</c></NS> a <NS type=\"S\"><i>surprice</i><c>surprise</c></NS>! I suggest <NS type=\"AS\"><i>to wear</i><c>that you wear</c></NS> <NS type=\"UP\"><i>leisure-clothes</i><c>leisure clothes</c></NS> <NS type=\"RT\"><i>to</i><c>for</c></NS> the party.</p>\n<p><NS type=\"MT\"><i>The</i><c>On the</c></NS> last afternoon you could go on a <NS type=\"UP\"><i>city-tour</i><c>city tour</c></NS>, <NS type=\"S\"><i>visite</i><c>visit</c></NS> the <NS type=\"RP\"><i>museum</i><c>Museum</c></NS> of Fine Arts<NS type=\"MP\"><c>,</c></NS> or enjoy the beautiful flower garden next to the <NS type=\"RJ\"><i>common</i><c>public</c></NS> park.</p>\n<p>I hope I <NS type=\"TV\"><i><NS type=\"RV\"><i>could</i><c>was able to</c></NS></i><c>have been able to</c></NS> give you some ideas. I look forward to seeing you.</p>\n<p>Yours sincerely,</p>\n</coded_answer>",
         "3.2",
         "29.0",
         "German",
         "26-30",
         "1"
        ],
        [
         "34",
         "doc2970.xml",
         "0100_2001_6",
         "TE13*0100*2001*01",
         "<coded_answer>\n<p>Dear Mrs Smith,</p>\n<p>I am glad to <NS type=\"FV\"><i>helping</i><c>help</c></NS> you <NS type=\"RT\"><i>for</i><c>with</c></NS> the organisation of the international student conference.</p>\n<p>The group has been booked into the Palace Hotel, and the best way to get from there to the conference is by tube<NS type=\"RP\"><i>, the</i><c>. The</c></NS> <NS type=\"RN\"><i>building</i><c>location</c></NS> of the conference is then five minutes by <NS type=\"S\"><i>footh</i><c>foot</c></NS>.</p>\n<p>At the <NS type=\"MD\"><i><NS type=\"UP\"><i>end-of-conference</i><c>end of conference</c></NS></i><c>end of the conference</c></NS> there is a party, where we can eat something, dance and speak to each other about the conference.</p>\n<p>For the party I suggest you <NS type=\"FV\"><i>to wear</i><c>wear</c></NS> classic clothes; maybe something black and not red or pink. I am going to wear <NS type=\"W\"><i>black classic</i><c>classic black</c></NS> trousers and a white <NS type=\"S\"><i>jorsey</i><c>jersey</c></NS> - it <NS type=\"RV\"><i>can</i><c>might</c></NS> be that this information <NS type=\"AGV\"><i>give</i><c>gives</c></NS> you some idea too.<NS type=\"UP\"><i>.</i></NS></p>\n<p>On the last day we are going to have about three <NS type=\"MP\"><i>hours</i><c>hours'</c></NS> free <NS type=\"FN\"><i>times</i><c>time</c></NS>. What do you think <NS type=\"R\"><i>if we will</i><c>about</c></NS> <NS type=\"FV\"><i>go</i><c>going</c></NS> to <NS type=\"UV\"><i>visit</i></NS> the Arts Museum? <NS type=\"SX\"><i>Of</i><c>Or</c></NS> <NS type=\"UC\"><i>if</i></NS> we <NS type=\"RV\"><i>will</i><c>could</c></NS> go to hear a classic concert near the conference <NS type=\"UP\"><i>building's</i><c>buildings</c></NS><NS type=\"RP\"><i>?</i><c>.</c></NS></p>\n<p>I hope that I have been able to give you some help. <NS type=\"RP\"><i>and</i><c>And</c></NS> I am looking forward to seeing you at the conference.</p>\n<p>Yours sincerely,</p>\n</coded_answer>",
         "3.3",
         "26.0",
         "Italian",
         "16-20",
         "1"
        ],
        [
         "35",
         "doc3066.xml",
         "0100_2001_6",
         "TE43*0100*2001*01",
         "<coded_answer>\n<p>Dear Mrs <NS type=\"UN\"><i>Maria</i></NS> Smith,</p>\n<p>I want to inform you that I <NS type=\"TV\"><i>had already talked</i><c>have already talked</c></NS> to Richard Brown and he informed me about the conference. Next week I will <NS type=\"UV\"><i>be</i></NS> start organising some events for this conference.</p>\n<p>The <NS type=\"FN\"><i>event</i><c>events</c></NS> will <NS type=\"RV\"><i>organize</i><c>take place</c></NS> at the Palace Hotel<NS type=\"RP\"><i>. The</i><c>, the</c></NS> same hotel that <NS type=\"TV\"><i><NS type=\"W\"><i>will you</i><c>you will</c></NS> stay</i><c>you will be staying</c></NS> <NS type=\"MT\"><c>at</c></NS>. <NS type=\"MD\"><i>Palace</i><c>The Palace</c></NS> Hotel is opposite <NS type=\"UD\"><i>the</i></NS> <NS type=\"W\"><i><NS type=\"RP\"><i>park</i><c>Park</c></NS> <NS type=\"UP\"><i>`</i></NS>Clifton<NS type=\"UP\"><i>'</i></NS></i><c>Clifton Park</c></NS>, which is near the college. We chose that hotel because <NS type=\"W\"><i>is it</i><c>it is</c></NS> near the college and we don't need <NS type=\"UV\"><i>to use</i></NS> <NS type=\"UD\"><i>a</i></NS> transport. Because you know where <NS type=\"W\"><i>is the college</i><c>the college is</c></NS> and you need to bring <NS type=\"U\"><i>with me</i></NS> some things <NS type=\"RT\"><i>at</i><c>from</c></NS> the college to <NS type=\"MD\"><c>the</c></NS> hotel<NS type=\"MP\"><c>,</c></NS> I think that <NS type=\"MA\"><c>it</c></NS> is better <NS type=\"MT\"><c>for</c></NS> <NS type=\"W\"><i>to come all the group</i><c>all the group to come</c></NS> <NS type=\"RT\"><i>in</i><c>to</c></NS> <NS type=\"MD\"><c>the</c></NS> college and then we can <NS type=\"W\"><i>go all</i><c>all go</c></NS> together to the <NS type=\"UP\"><i>`</i></NS>Palace Hotel<NS type=\"UP\"><i>'</i></NS>. The conference <NS type=\"AGV\"><i>start</i><c>starts</c></NS> at 9:00 o'clock<NS type=\"MP\"><c>,</c></NS> you need to be at the college half an hour before.</p>\n<p>Concerning the end-of-conference <NS type=\"MN\"><c>party</c></NS><NS type=\"MP\"><c>,</c></NS> I'm thinking about some dance and singing events. <NS type=\"R\"><i>Tell me your idea</i><c>Let me know what you think</c></NS>. About the clothes that <NS type=\"RA\"><i>we</i><c>you</c></NS> need to wear, <NS type=\"MA\"><c>it</c></NS> must be <NS type=\"MD\"><c>your</c></NS> uniform, because <NS type=\"MA\"><c>it</c></NS> is the best conference <NS type=\"RT\"><i>to</i><c>in</c></NS> London and every year <NS type=\"TV\"><i>are <NS type=\"W\"><i>coming</i><c>come</c></NS> <NS type=\"RN\"><i>lectures</i><c>lecturers</c></NS></i><c>lecturers come</c></NS> from other colleges.</p>\n<p>Finally<NS type=\"MP\"><c>,</c></NS> on the last day<NS type=\"MP\"><c>,</c></NS> we have organised a <NS type=\"DN\"><i>seeing-crossing</i><c>sightseeing tour</c></NS> around London. You will have the opportunity <NS type=\"MT\"><c>of</c></NS> visiting some museums and <NS type=\"MD\"><c>the</c></NS> zoo <NS type=\"UN\"><i>parks</i></NS>. I think it is a nice idea.</p>\n<p>If you want more information you can call me<NS type=\"MP\"><c>,</c></NS> my telephone number is 047***. Please<NS type=\"MP\"><c>,</c></NS> if you have <NS type=\"MQ\"><c>any</c></NS> more ideas<NS type=\"MP\"><c>,</c></NS> send me a letter.</p>\n<p>Yours <NS type=\"RP\"><i>Sincerely</i><c>sincerely</c></NS>,</p>\n</coded_answer>",
         "2.3",
         "19.0",
         "Greek",
         "21-25",
         "1"
        ],
        [
         "36",
         "doc2959.xml",
         "0100_2001_6",
         "TE9*0100*2001*01",
         "<coded_answer>\n<p>Dear Mrs Smith</p>\n<p>Thank you for your <NS type=\"S\"><i>lettre</i><c>letter</c></NS>. Of course I will give you some more <NS type=\"AGN\"><i>detail</i><c>details</c></NS> about the student conference.</p>\n<p>First of all the hotel Richard Brown <NS type=\"TV\"><i>has been <NS type=\"DV\"><i>loocked</i><c>looked</c></NS></i><c>has looked</c></NS> <NS type=\"RT\"><i>in</i><c>at</c></NS> is the Palace Hotel. <NS type=\"MP\"><i>Its</i><c>It's</c></NS> located close to the main <NS type=\"RP\"><i>trainstation</i><c>train station</c></NS> in our town. It is quite near the conference building. There will be <NS type=\"FN\"><i><NS type=\"RP\"><i>extrabus</i><c>extra bus</c></NS></i><c>extra buses</c></NS> to get there. The bus will pick you up right at your hotel <NS type=\"RN\"><i><NS type=\"DN\"><i>entery</i><c>entry</c></NS></i><c>entrance</c></NS>. The end-of-conference party will be a small dinner for all <NS type=\"MD\"><c>the</c></NS> students. You do not have to wear <NS type=\"S\"><i>spezial</i><c>special</c></NS> clothes, just wear what you always wear. If you take your uniform with you it would be pleasant to leave it at the hotel<NS type=\"UP\"><i>.</i></NS> and wear something else.</p>\n<p>There are many things you could do for this short time on the last day. You could visit our famous Museum of Art or go for a walk along the <NS type=\"RN\"><i>lake</i><c>lakeside</c></NS>. If you want <NS type=\"MV\"><c>to do</c></NS> something for fun or entertainment<NS type=\"MP\"><c>,</c></NS> go bowling.</p>\n<p> If you have any further questions, just let me know<NS type=\"MP\"><c>.</c></NS></p>\n<p>Yours sincerely</p>\n</coded_answer>",
         "3.1",
         "24.0",
         "German",
         "21-25",
         "1"
        ],
        [
         "37",
         "doc3052.xml",
         "0100_2001_6",
         "TE95*0100*2001*01",
         "<coded_answer>\n<p>June 12, 2001</p>\n<p>Dear Mrs Smith,</p>\n<p>In <NS type=\"DN\"><i>replied</i><c>reply</c></NS> <NS type=\"RT\"><i>of</i><c>to</c></NS> your letter, I will try to give you some <NS type=\"CN\"><i>advices</i><c>advice</c></NS>.</p>\n<p>Concerning the hotel, the group has been booked into the Palace Hotel. The conference will take place not far from the hotel so you will see <NS type=\"RN\"><i>indications</i><c>directions</c></NS> to follow.</p>\n<p>For the conference, I suggest you <NS type=\"FV\"><i>to wear</i><c>wear</c></NS> a beautiful dress, because there will be important <NS type=\"L\"><i>persons</i><c>people</c></NS> <NS type=\"RT\"><i>of</i><c>from</c></NS> <NS type=\"DI\"><i>others</i><c>other</c></NS> colleges. At the end of the conference, all students and <NS type=\"AGN\"><i>leader</i><c>leaders</c></NS> will have a drink.</p>\n<p>To finish, if you have spare time, you could walk <NS type=\"RT\"><i>on</i><c>in</c></NS> the <NS type=\"SA\"><i>center</i><c>centre</c></NS> of Poitiers which is very beautiful.</p>\n<p>I hope I <NS type=\"TV\"><i>give</i><c>have given</c></NS> you enough details.</p>\n<p>I look forward to meeting you <NS type=\"RT\"><i>on</i><c>at</c></NS> the conference.</p>\n<p>Yours faithfully,</p>\n</coded_answer>",
         "2.3",
         "27.0",
         "French",
         "21-25",
         "1"
        ],
        [
         "38",
         "doc3098.xml",
         "0100_2001_6",
         "TE52*0100*2001*01",
         "<coded_answer>\n<p>Dear Mrs Smith,</p>\n<p>I am writing with reference <NS type=\"RT\"><i>on</i><c>to</c></NS> your letter concerning <NS type=\"RD\"><i>an</i><c>the</c></NS> organization of an international student conference <NS type=\"RT\"><i>in</i><c>at</c></NS> Wimbledon Art College. Below I <NS type=\"RV\"><i><NS type=\"TV\"><i>am clarifying</i><c>clarify</c></NS></i><c>provide</c></NS> some information you asked about.</p>\n<p>First of all, I would like to give you more information about <NS type=\"MD\"><c>the</c></NS> name and location of the hotel. The group has been booked into <NS type=\"MD\"><c>the</c></NS> \"Maria Luisa\" <NS type=\"RP\"><i>hotel</i><c>Hotel</c></NS><NS type=\"MP\"><c>,</c></NS> which is situated <NS type=\"RT\"><i>on</i><c>in</c></NS> the <NS type=\"SA\"><i>center</i><c>centre</c></NS> of Wimbledon called Wimbledon Village. This hotel is the next building after <NS type=\"MD\"><c>the</c></NS> Art College, so it will be easy for your group to find the place.</p>\n<p>Secondly turning to the end-of-conference party, it is <NS type=\"RV\"><i><NS type=\"IV\"><i>planed</i><c>planned</c></NS></i><c>meant</c></NS> to be <NS type=\"RT\"><i>in</i><c>on</c></NS> Wimbledon Common - <NS type=\"MD\"><c>a</c></NS> nice piece of <NS type=\"DJ\"><i>England</i><c>English</c></NS> <NS type=\"RN\"><i>nature</i><c>countryside</c></NS>. So, it may be a good idea to <NS type=\"RV\"><i>take</i><c>wear</c></NS> <NS type=\"UQ\"><i>some</i></NS> very comfortable and informal clothes.</p>\n<p>Thirdly, talking about your free afternoon before leaving the area, I would suggest you <NS type=\"FV\"><i>to visit</i><c>visit</c></NS> <NS type=\"MD\"><c>the</c></NS> Wimbledon Museum of Tennis. <NS type=\"SX\"><i>Where</i><c>There</c></NS> is quite <NS type=\"MD\"><c>a</c></NS> good <NS type=\"RN\"><i>exposition</i><c>exhibition</c></NS> <NS type=\"SX\"><i>their</i><c>there</c></NS>, giving interesting information about the history of Wimbledon Tennis Tournaments.</p>\n<p>I look forward to meeting your group <NS type=\"RT\"><i>in</i><c>at</c></NS> our conference.</p>\n<p>Yours sincerely,</p>\n</coded_answer>",
         "3.2",
         "27.0",
         "Russian",
         "26-30",
         "1"
        ],
        [
         "39",
         "doc2799.xml",
         "0100_2001_6",
         "TE3*0100*2001*01",
         "<coded_answer>\n<p>Dear Maria</p>\n<p>First at all, I am sorry about <NS type=\"MP\"><i>Richard</i><c>Richard's</c></NS> illness. Please remember me to him and give him my best wishes. <NS type=\"L\"><i>About</i><c>concerning</c></NS> your request, I'm going to give you all the information that I think you <NS type=\"RV\"><i>must</i><c>will</c></NS> need<NS type=\"RP\"><i>, however</i><c>. However</c></NS><NS type=\"MP\"><c>,</c></NS> you can call me if you consider it necessary<NS type=\"RP\"><i>, (my</i><c>. (My</c></NS> phone number is 2496 9731<NS type=\"RP\"><i>).</i><c>.)</c></NS></p>\n<p>Your group has been booked into the Palace Hotel. Because it is a <NS type=\"S\"><i>wellkown</i><c>well-known</c></NS> hotel it should be easy to find it. Moreover, it is really <NS type=\"UP\"><i>well-located</i><c>well located</c></NS> so it will allow you to move around the city without any problem. <NS type=\"RY\"><i>Even more</i><c>More importantly</c></NS> the conference is going to take place in the Exhibition Centre, which is located only five <NS type=\"MP\"><i>minutes</i><c>minutes'</c></NS> <NS type=\"RN\"><i>walking</i><c>walk</c></NS> <NS type=\"UJ\"><i>far</i></NS> from the <NS type=\"RP\"><i>Hotel</i><c>hotel</c></NS>.</p>\n<p>We haven't <NS type=\"R\">asked for any special clothes</NS> so I would wear casual and comfortable clothes, although you can come <NS type=\"UP\"><i>well-dressed</i><c>well dressed</c></NS>, if you feel better <NS type=\"M\"><c>that way</c></NS>. After the conference we are going to have an informal dinner <NS type=\"R\">with a previous snack time</NS> in order to introduce <NS type=\"M\"><c>ourselves to</c></NS> each <NS type=\"AGA\"><i>others</i><c>other</c></NS>.</p>\n<p>Finally<NS type=\"MP\"><c>,</c></NS> in my opinion, you should visit the Art Gallery. It will take you two or three hours but it's a gorgeous place. I look forward <NS type=\"MT\"><c>to</c></NS> hearing from you.</p>\n<p>Yours sincerely,</p>\n</coded_answer>",
         "5.1",
         "34.0",
         "Catalan",
         "26-30",
         "1"
        ],
        [
         "40",
         "doc3019.xml",
         "0100_2001_6",
         "TE27*0100*2001*01",
         "<coded_answer>\n<p>Dear Mrs Smith,</p>\n<p>I am <NS type=\"IV\"><i>writting</i><c>writing</c></NS> to answer your letter where you asked for information about the <NS type=\"S\"><i>conferents</i><c>conference</c></NS> and other points in relation <NS type=\"RT\"><i>with</i><c>to</c></NS> <NS type=\"MA\"><c>it</c></NS>.</p>\n<p>The hotel where your group has been booked is the Palace Hotel. It is a very nice hotel in the centre of the city, and that is very near <NS type=\"RT\"><i>of</i><c>to</c></NS> the college <NS type=\"SX\"><i>which</i><c>where</c></NS> the conference is <NS type=\"R\"><i>into,</i><c>being held -</c></NS> five <NS type=\"MP\"><i>minutes</i><c>minutes'</c></NS> <NS type=\"RN\"><i>walking</i><c>walk</c></NS>. <NS type=\"UV\"><i>Going walking</i><c>Walking</c></NS> is quicker than waiting for a taxi or a bus. When you arrive <NS type=\"RT\"><i>to</i><c>at</c></NS> the <NS type=\"RP\"><i>Colleges</i><c>colleges</c></NS> there will be people indicating the way to the conference room.</p>\n<p>At the end of the conference we are <NS type=\"RV\"><i>doing</i><c>throwing</c></NS> a party with some cold <NS type=\"SX\"><i>good</i><c>food</c></NS> and some drinks. There will be music as well for dancing. The director of the <NS type=\"RP\"><i>College</i><c>college</c></NS> has suggested <NS type=\"FV\"><i>to wear</i><c>wearing</c></NS> smart clothes for that occasion and I give you the same advice.</p>\n<p><NS type=\"W\"><i><NS type=\"L\"><i>About</i><c>Regarding</c></NS> the afternoon before <NS type=\"MA\"><c>you</c></NS> <NS type=\"TV\"><i>leaving</i><c>leave</c></NS> I have some suggestions</i><c>I have some suggestions regarding the afternoon before you leave</c></NS>. In the <NS type=\"RN\"><i>area</i><c>vicinity</c></NS> of the <NS type=\"RP\"><i>Hotel</i><c>hotel</c></NS> there are two interesting places to visit. One is the Picasso museum and the other is an important Gallery where you can enjoy seeing <NS type=\"IJ\"><i>differents</i><c>different</c></NS> kinds of paintings.</p>\n<p>I hope my information <NS type=\"RV\"><i>can</i><c>will</c></NS> help you and it has been useful for you.</p>\n<p>I am looking forwards to <NS type=\"FV\"><i>see</i><c>seeing</c></NS> you at the <NS type=\"RP\"><i>Conference</i><c>conference</c></NS>.</p>\n<p>Yours sincerely,</p>\n</coded_answer>",
         "3.3",
         "24.0",
         "Catalan",
         "26-30",
         "1"
        ],
        [
         "41",
         "doc2983.xml",
         "0100_2001_6",
         "TE16*0100*2001*01",
         "<coded_answer>\n<p>Dear Mrs Smith</p>\n<p>It was such a pleasure to receive your letter, and we will be extremely glad to see you at the conference<NS type=\"UP\"><i>,</i></NS> we have been organising. Let me give you some further information concerning the event.</p>\n<p>Firstly I would like to inform you about the hotel we have already booked for you. <NS type=\"MA\"><i>Is</i><c>It is</c></NS> called <NS type=\"MD\"><c>the</c></NS> Palace Hotel, and we hope that <NS type=\"MA\"><c>it</c></NS> is going to <NS type=\"RV\"><i>satisfy</i><c>meet</c></NS> your <NS type=\"S\"><i>expectetions</i><c>expectations</c></NS>. The conference is not too far from your hotel. I strongly <NS type=\"S\"><i>reccommend</i><c>recommend</c></NS> you to use <NS type=\"UD\"><i>the</i></NS> public <NS type=\"RN\"><i>transportation</i><c>transport</c></NS> in order to get there, <NS type=\"SX\"><i>cause</i><c>because</c></NS> you may <NS type=\"UV\"><i>be</i></NS> find other types of transportation quite expensive.</p>\n<p>Moreover, you must be aware of the fact that the conference is going to last two hours, <NS type=\"S\"><i>untill</i><c>until</c></NS> 10:00 pm. After that our college has organised a <NS type=\"S\"><i>barbequiou</i><c>barbecue</c></NS> night, with traditional local music that you must not miss. You don't need to wear formal clothes<NS type=\"RP\"><i>. Just</i><c>, just</c></NS> <NS type=\"RP\"><i>every day</i><c>everyday</c></NS> clothes.</p>\n<p>Finally, I am aware of the fact that <NS type=\"MT\"><c>on</c></NS> the last day you have some hours free before you catch your plane. Don't miss the chance to visit our famous tourist attractions. There is also <NS type=\"MD\"><c>a</c></NS> huge <NS type=\"DN\"><i>shop centre</i><c>shopping centre</c></NS><NS type=\"UP\"><i>,</i></NS> where you can buy some souvenirs or taste some of our traditional food.</p>\n<p>I hope that you will find my information <NS type=\"DJ\"><i>helpfull</i><c>helpful</c></NS><NS type=\"MP\"><c>.</c></NS></p>\n<p><NS type=\"UP\"><i>I'am</i><c>I am</c></NS> looking forward to seeing you<NS type=\"MP\"><c>.</c></NS></p>\n<p><NS type=\"DA\"><i>Your</i><c>Yours</c></NS> <NS type=\"RP\"><i>Sincerely</i><c>sincerely</c></NS></p>\n</coded_answer>",
         "5.1",
         "39.0",
         "Greek",
         "16-20",
         "1"
        ],
        [
         "42",
         "doc3100.xml",
         "0100_2001_6",
         "TE54*0100*2001*01",
         "<coded_answer>\n<p>Dear Mrs Maria<NS type=\"RP\"><i>.</i><c>,</c></NS></p>\n<p>I am one of <NS type=\"RD\"><i>all</i><c>the</c></NS> students and I am going to give you <NS type=\"RQ\"><i>an</i><c>some</c></NS> information, all you need. We <NS type=\"TV\"><i>have been booked</i><c>have booked</c></NS> the hotel for you and the name of <NS type=\"MD\"><c>the</c></NS> hotel is <NS type=\"MD\"><c>the</c></NS> \"Palace Hotel\"<NS type=\"MP\"><c>,</c></NS> <NS type=\"M\"><c>it is</c></NS> quite near <NS type=\"MD\"><c>the</c></NS> shopping centre. It is not far <NS type=\"S\"><i>aways</i><c>away</c></NS><NS type=\"RP\"><i>, you</i><c>. You</c></NS> just go along Park Road <NS type=\"MT\"><c>for</c></NS> about ten minutes. Then you will arrive at <NS type=\"MD\"><c>the</c></NS> Palace Hotel<NS type=\"MP\"><c>,</c></NS> <NS type=\"M\"><c>which is</c></NS> on the <NS type=\"MP\"><i>left handside</i><c>left-hand side</c></NS> <NS type=\"U\"><i>of you</i></NS>.</p>\n<p><NS type=\"RT\"><i>About</i><c>Regarding</c></NS> the end-of-conference party<NS type=\"RP\"><i>. We</i><c>, we</c></NS> are going to have a dinner before the end and at the end we are going to <NS type=\"RV\"><i>bring</i><c>take</c></NS> you to the Hotel<NS type=\"RP\"><i>, you</i><c>. You</c></NS> need to wear <NS type=\"FD\"><i>a</i><c>an</c></NS> <NS type=\"DN\"><i>night-dress</i><c>evening dress</c></NS> or suit and bow tie.</p>\n<p>Finally, on the last day you have three hours before you catch the plane so we <NS type=\"DV\"><i>suggestion</i><c>suggest</c></NS><NS type=\"UP\"><i>,</i></NS> you <NS type=\"UV\"><i>can</i></NS> go to <NS type=\"MD\"><c>the</c></NS> shopping centre and buy something for your special person or go to <NS type=\"MD\"><c>the</c></NS> <NS type=\"S\"><i>museam</i><c>museum</c></NS> because this <NS type=\"S\"><i>museam</i><c>museum</c></NS> is the biggest in the world now<NS type=\"MP\"><c>.</c></NS> It is up to you.</p>\n<p>yours sincerely</p>\n</coded_answer>",
         "2.3",
         "22.0",
         "Thai",
         "16-20",
         "1"
        ],
        [
         "43",
         "doc3094.xml",
         "0100_2001_6",
         "TE50*0100*2001*01",
         "<coded_answer>\n<p>Dear Mrs <NS type=\"UN\"><i>Maria</i></NS> Smith,</p>\n<p>I am writing to give you some information <NS type=\"M\"><c>that you</c></NS> asked <NS type=\"MT\"><c>for</c></NS> in your letter, which I received this morning.</p>\n<p>Your group has been booked <NS type=\"RT\"><i>in</i><c>into</c></NS> <NS type=\"MD\"><c>the</c></NS> Palace Hotel which is one of the most comfortable hotels in London. Personally, I am glad that you will have this opportunity to use its various facilities. It is <NS type=\"RV\"><i>based</i><c>located</c></NS> in the city centre and is about half an hour by underground from the conference. In my <NS type=\"S\"><i>oppinion</i><c>opinion</c></NS> the easiest way to get there from the conference would be by taking the Picadelly line. However you <NS type=\"RV\"><i>would</i><c>could</c></NS> take bus number 150, if you would like to have a look at the city centre and you <NS type=\"W\"><i>have some free time also</i><c>also have some free time</c></NS>.</p>\n<p>Regarding <NS type=\"UT\"><i>to</i></NS> the end-of-conference party, I would suggest <NS type=\"FV\"><i>to wear</i><c>wearing</c></NS> <NS type=\"R\"><i>some</i><c>a</c></NS> dress for a woman and an elegant suit for a man, though<NS type=\"UP\"><i>,</i></NS> it is <NS type=\"X\"><i>no</i><c>not</c></NS> <NS type=\"MD\"><c>a</c></NS> formal do. The party will finish quite late<NS type=\"MP\"><c>,</c></NS> so we've decided to provide a bus which <NS type=\"TV\"><i>would</i><c>will</c></NS> take you to the hotel safely.</p>\n<p><NS type=\"DY\"><i>Basicaly</i><c>Basically</c></NS>, during three <NS type=\"AGN\"><i>hour</i><c>hours</c></NS> <NS type=\"UN\"><i>time</i></NS> in the afternoon nobody is able to visit all of <NS type=\"MD\"><c>the</c></NS> interesting places <NS type=\"RT\"><i>of</i><c>in</c></NS> London. However<NS type=\"MP\"><c>,</c></NS> you <NS type=\"RV\"><i>would</i><c>could</c></NS> <NS type=\"RV\"><i>have</i><c>take</c></NS> a long walk along the river to take some essential photos.</p>\n<p>I look forward to welcoming you.</p>\n<p>Yours sincerely</p>\n</coded_answer>",
         "4.1",
         "29.0",
         "Polish",
         "21-25",
         "1"
        ],
        [
         "44",
         "doc3039.xml",
         "0100_2001_6",
         "TE32*0100*2001*01",
         "<coded_answer>\n<p>Dear Mrs Maria Smith</p>\n<p>Thank you for your letter. It's a shame that I won't see Richard because of his illness, but I'm willing to help you as much as I can. <NS type=\"RY\"><i>Then</i><c>So</c></NS> I will give you some information which you asked for in your letter.</p>\n<p>Firstly, about your <NS type=\"S\"><i>accomodation</i><c>accommodation</c></NS>, <NS type=\"RD\"><i>our</i><c>the</c></NS> college which I belong to offers <NS type=\"FN\"><i>visitor</i><c>visitors</c></NS> free <NS type=\"FN\"><i><NS type=\"S\"><i>accomodations</i><c>accommodations</c></NS></i><c>accommodation</c></NS> with <NS type=\"R\">full of</NS> facilities<NS type=\"UP\"><i>.</i></NS> (for example<NS type=\"MP\"><c>,</c></NS> bath, car park, free internet access, etc.)<NS type=\"MP\"><c>.</c></NS> <NS type=\"R\">They also are</NS> located <NS type=\"RT\"><i>in</i><c>on</c></NS> our campus so you can get to the conference by <NS type=\"FV\"><i>walk</i><c>walking</c></NS>.</p>\n<p>Secondly, as you know<NS type=\"MP\"><c>,</c></NS> we'll have a party after the conference, which will <NS type=\"FV\"><i>be taken</i><c>take</c></NS> place at our student council hall <NS type=\"R\">with some meals</NS>. This party is unlikely to be that formal, but I recommend you <NS type=\"X\"><i>not to wear</i><c>don't wear</c></NS> jeans and <NS type=\"S\"><i>trainners</i><c>trainers</c></NS>.</p>\n<p><NS type=\"RY\"><i>At last</i><c>Last</c></NS>, if you have <NS type=\"MQ\"><c>some</c></NS> free time <NS type=\"U\"><i>for <NS type=\"MD\"><c>a</c></NS> couple of <NS type=\"SX\"><i>ours</i><c>hours</c></NS></i></NS>, <NS type=\"R\"><i>you'd better</i><c>you should</c></NS> visit Kamakura City, which is 30 minutes from our campus by train. That is <NS type=\"MD\"><c>a</c></NS> very traditional Japanese city where <NS type=\"UY\"><i>so</i></NS> <NS type=\"AS\"><i>many <NS type=\"AGN\"><i>temple</i><c>temples</c></NS> and <NS type=\"RN\"><i><NS type=\"CN\"><i>heritages</i><c>heritage</c></NS></i><c>monuments</c></NS> are there</i><c>there are many temples and monuments</c></NS>. I'm sure you'll enjoy it and maybe <NS type=\"RV\"><i>get</i><c>become</c></NS> <NS type=\"S\"><i>familier</i><c>familiar</c></NS> with our culture.</p>\n<p>By the way, if you have any other questions, please send me a letter again.</p>\n</coded_answer>",
         "2.3",
         "22.0",
         "Japanese",
         "16-20",
         "1"
        ],
        [
         "45",
         "doc3060.xml",
         "0100_2001_6",
         "TE38*0100*2001*01",
         "<coded_answer>\n<p>Dear Mrs Smith,</p>\n<p>I am <NS type=\"RV\"><i>applying</i><c>replying</c></NS> <NS type=\"MT\"><c>to</c></NS> your letter <NS type=\"UY\"><i>where</i></NS> <NS type=\"M\"><c>in which</c></NS> you asked for some information about the conference in Peterborough Regional College.</p>\n<p>Your group has been booked into the Palace Hotel<NS type=\"MP\"><c>,</c></NS> which is situated in the city <NS type=\"SA\"><i>center</i><c>centre</c></NS>, <NS type=\"UT\"><i>at</i></NS> 15 <NS type=\"MP\"><i>minutes</i><c>minutes'</c></NS> <NS type=\"RN\"><i>walking</i><c>walk</c></NS> from where the conference <NS type=\"AGV\"><i>take</i><c>takes</c></NS> place <NS type=\"UT\"><i>in</i></NS>. <NS type=\"RT\"><i>In</i><c>On</c></NS> the next page there is a map showing you the best way to get to the conference that will be at the Regional College.</p>\n<p>The conference will start at 7 p.m<NS type=\"MP\"><c>.</c></NS>, <NS type=\"R\">the same day we expect</NS>, the 18th of June. Our director will make a speech afterwards and there will be a party with some snacks, drinks and music. For the people <NS type=\"M\"><c>who are</c></NS> interested in <NS type=\"MA\"><c>it</c></NS>, there will <NS type=\"W\"><i>be also</i><c>also be</c></NS> <NS type=\"U\"><i>an amusement</i></NS> karaoke.</p>\n<p>Everybody should wear formal clothes, at least, a little bit formal. No jeans <NS type=\"RC\"><i>and</i><c>or</c></NS> <NS type=\"UP\"><i>tee-shirts</i><c>tee shirts</c></NS>.</p>\n<p>There <NS type=\"AGV\"><i>is</i><c>are</c></NS> a lot of places you can visit in Peterborough. We have a Cathedral you can visit anytime and the <NS type=\"RP\"><i>river side</i><c>riverside</c></NS>, which is <NS type=\"UD\"><i>the</i></NS> best if it is a nice day, sunny <NS type=\"SX\"><i>an</i><c>and</c></NS> warm, for <NS type=\"FV\"><i>take</i><c>taking</c></NS> a walk. For <NS type=\"UQ\"><i>any</i></NS> details<NS type=\"MP\"><c>,</c></NS> look <NS type=\"RT\"><i>in</i><c>at</c></NS> the <NS type=\"W\"><i>next page map</i><c>map on the next page</c></NS>.</p>\n<p>Yours sincerely,</p>\n</coded_answer>",
         "3.1",
         "28.0",
         "Spanish",
         "16-20",
         "1"
        ],
        [
         "46",
         "doc3285.xml",
         "0100_2001_6",
         "TE90*0100*2001*01",
         "<coded_answer>\n<p>Dear Mrs Maria Smith<NS type=\"RP\"><i>.</i><c>,</c></NS></p>\n<p>I was really pleased to receive <NS type=\"UT\"><i>at</i></NS> your letter. Unfortunately Richard Brown is ill but I can help you as much as I can. So, I'm <NS type=\"IV\"><i>writting</i><c>writing</c></NS> to reply <NS type=\"UT\"><i>for</i></NS> <NS type=\"FV\"><i>giving</i><c>to give</c></NS> all the information you asked for.</p>\n<p>Firstly, we've booked Palace Hotel, which is located in Central. The best way to get from the hotel to the conference <NS type=\"UA\"><i>its</i><c>is</c></NS> using <NS type=\"MD\"><c>the</c></NS> tube because it takes only 20 <NS type=\"AGN\"><i><NS type=\"S\"><i>mininute</i><c>minute</c></NS></i><c>minutes</c></NS>. The tube is <NS type=\"W\"><i>2 line</i><c>line 2</c></NS> which is red <NS type=\"UN\"><i>colour</i></NS>. And your <NS type=\"S\"><i>speach</i><c>speech</c></NS> would be better for the end of conference party. I'd suggest you <NS type=\"FV\"><i>to wear</i><c>wear</c></NS> at least, <NS type=\"MP\"><i>semi formal</i><c>semi-formal</c></NS> <NS type=\"DN\"><i>wears</i><c>clothes</c></NS> such as a jacket with <NS type=\"AGQ\"><i>another</i><c>other</c></NS> clothes.</p>\n<p>Finally, I give you some suggestions <NS type=\"CE\">which could spend for about 3 hours</NS> in the national museum in my area. The museum can be helpful to understand our country's history and art.</p>\n<p>I look forward to seeing you soon.</p>\n<p>Yours sincerely, </p>\n</coded_answer>",
         "2.3",
         "20.0",
         "Korean",
         "26-30",
         "1"
        ],
        [
         "47",
         "doc3247.xml",
         "0100_2001_6",
         "TE84*0100*2001*01",
         "<coded_answer>\n<p>12<NS type=\"UP\"><i>,</i></NS> June, 2001</p>\n<p>Dear Mrs Maria Smith,</p>\n<p>Thank you for your letter about the international student conference. Here are <NS type=\"MD\"><c>the</c></NS> answers <NS type=\"RT\"><i>for</i><c>to</c></NS> your questions.</p>\n<p>You will stay in the Palace Hotel, which is situated <NS type=\"RT\"><i>in front of</i><c>opposite</c></NS> the railway station, Camberley. To get <NS type=\"MT\"><c>to</c></NS> the conference, you catch the <NS type=\"W\"><i>coach No.7</i><c>No.7 coach</c></NS> from the station and get off at the Camberley College bus stop. It takes 5 minutes from the station. When you get here, just turn to the left and you will find the stadium where the conference will be held.</p>\n<p>The end-of-conference party will be held <NS type=\"RT\"><i>at</i><c>in</c></NS> the cafeteria in the college, which is next to the stadium. It starts at <NS type=\"ID\"><i>18 p.m.</i><c>6 p.m.</c></NS> and ends at <NS type=\"ID\"><i>22 pm</i><c>10 pm</c></NS>. We will prepare traditional English meals and some students from foreign <NS type=\"FN\"><i>country</i><c>countries</c></NS> will prepare their ethnic foods.</p>\n<p>There is a museum next to the Camberley Station, which has <NS type=\"MD\"><c>a</c></NS> good collection of paintings and <NS type=\"CN\"><i>potteries</i><c>pottery</c></NS>, and it would be a good place for you to spend your free time. <NS type=\"RY\"><i>Instead</i><c>Also</c></NS>, there are a lot of shops around there<NS type=\"RP\"><i>, you</i><c>. You</c></NS> can buy souvenirs.</p>\n<p>I am looking forward to meeting you.</p>\n<p>Yours sincerely,</p>\n</coded_answer>",
         "2.3",
         "25.0",
         "Japanese",
         "26-30",
         "1"
        ],
        [
         "48",
         "doc3232.xml",
         "0100_2001_6",
         "TE77*0100*2001*01",
         "<coded_answer>\n<p>Dear Mrs Smith,</p>\n<p>I would like to thank you for your letter. I am sorry to learn that Richard Brown cannot attend the conference. Please <NS type=\"RV\"><i>transmit</i><c>give</c></NS> him my best wishes for his recovery.</p>\n<p>We have booked rooms for all members of your group at the Palace Hotel. It is a very cosy building that is on the same avenue as the conference building, <NS type=\"DY\"><i>approximetively</i><c>approximately</c></NS> one mile away. There is a direct bus link between the two locations: this is <NS type=\"MD\"><c>the</c></NS> <NS type=\"W\"><i>bus line number six</i><c>number six bus line</c></NS>; the <NS type=\"RN\"><i>bus station</i><c>bus stop</c></NS> for the conference building is called \"Avenue de cour\" and the one at the Palace Hotel is named \"Main station\".</p>\n<p>Concerning the party<NS type=\"MP\"><c>,</c></NS> we do not have a casual <NS type=\"DN\"><i>dressing code</i><c>dress code</c></NS>. <NS type=\"RP\"><i>students</i><c>Students</c></NS> usually wear dark clothes<NS type=\"MP\"><c>,</c></NS> with a tie for the boys and a <NS type=\"DJ\"><i>mid-long</i><c>medium-length</c></NS> skirt or dress for the girls.</p>\n<p>There are a lot of activities you can do during your free afternoon. I would like to suggest visiting the \"Ethnographic Museum<NS type=\"RP\"><i>,,</i><c>\"</c></NS> which is <NS type=\"L\">kind of</NS> unique in the world.</p>\n<p>Looking forward to meeting you soon</p>\n<p>I remain, yours sincerely<NS type=\"RP\"><i>.</i><c>,</c></NS></p>\n</coded_answer>",
         "2.3",
         "29.0",
         "French",
         "26-30",
         "1"
        ],
        [
         "49",
         "doc3062.xml",
         "0100_2001_6",
         "TE40*0100*2001*01",
         "<coded_answer>\n<p>Dear Mrs Maria Smith,</p>\n<p>Thank you for your letter. I am writing to give some information on the conference as you <NS type=\"RV\"><i>required</i><c>requested</c></NS>.</p>\n<p>First of all, your group has been booked into Palace Hotel which is very convenient to stay <NS type=\"MT\"><c>in</c></NS> and has <NS type=\"MD\"><c>a</c></NS> beautiful landscape. I would recommend you get to the conference by subway, because <NS type=\"MD\"><c>the</c></NS> subway station is situated <NS type=\"UT\"><i>in</i></NS> 5 minutes' walk from the hotel. It will take you about 15 minutes to arrive at the college.</p>\n<p>There will be a party after the conference. We will serve you dinner and some college students are going to sing, play musical instruments and so on, but you can join <NS type=\"MY\"><c>in</c></NS> if you wish. Therefore, you had better wear casual and comfortable clothes.</p>\n<p>Finally, this area has its reputation for shopping centres, so it might be a good idea to buy some clothes, local food, and so on. You will be able to buy them <NS type=\"RT\"><i>in</i><c>at</c></NS> <NS type=\"MD\"><c>a</c></NS>  reasonable price.</p>\n<p>I hope you will enjoy your stay in my country. I look forward to meeting all of you.</p>\n<p>Yours sincerely,</p>\n</coded_answer>",
         "3.3",
         "34.0",
         "Korean",
         "16-20",
         "1"
        ]
       ],
       "shape": {
        "columns": 9,
        "rows": 1219
       }
      },
      "text/html": [
       "<div>\n",
       "<style scoped>\n",
       "    .dataframe tbody tr th:only-of-type {\n",
       "        vertical-align: middle;\n",
       "    }\n",
       "\n",
       "    .dataframe tbody tr th {\n",
       "        vertical-align: top;\n",
       "    }\n",
       "\n",
       "    .dataframe thead th {\n",
       "        text-align: right;\n",
       "    }\n",
       "</style>\n",
       "<table border=\"1\" class=\"dataframe\">\n",
       "  <thead>\n",
       "    <tr style=\"text-align: right;\">\n",
       "      <th></th>\n",
       "      <th>filename</th>\n",
       "      <th>exam_code</th>\n",
       "      <th>sortkey</th>\n",
       "      <th>answer_response</th>\n",
       "      <th>answer_score</th>\n",
       "      <th>student_score</th>\n",
       "      <th>student_language</th>\n",
       "      <th>student_age</th>\n",
       "      <th>task</th>\n",
       "    </tr>\n",
       "  </thead>\n",
       "  <tbody>\n",
       "    <tr>\n",
       "      <th>0</th>\n",
       "      <td>doc3042.xml</td>\n",
       "      <td>0100_2001_6</td>\n",
       "      <td>TE35*0100*2001*01</td>\n",
       "      <td>[\\n, [Dear Mrs. Smith,], \\n, [In reply to your...</td>\n",
       "      <td>4.3</td>\n",
       "      <td>34.0</td>\n",
       "      <td>Japanese</td>\n",
       "      <td>16-20</td>\n",
       "      <td>1</td>\n",
       "    </tr>\n",
       "    <tr>\n",
       "      <th>1</th>\n",
       "      <td>doc3163.xml</td>\n",
       "      <td>0100_2001_6</td>\n",
       "      <td>TE70*0100*2001*01</td>\n",
       "      <td>[\\n, [Chêne-Bourg, Tuesday 12th June.], \\n, [D...</td>\n",
       "      <td>4.1</td>\n",
       "      <td>26.0</td>\n",
       "      <td>Greek</td>\n",
       "      <td>16-20</td>\n",
       "      <td>1</td>\n",
       "    </tr>\n",
       "    <tr>\n",
       "      <th>2</th>\n",
       "      <td>doc3116.xml</td>\n",
       "      <td>0100_2001_6</td>\n",
       "      <td>TE58*0100*2001*01</td>\n",
       "      <td>[\\n, [To: Mrs. Smith], \\n, [Thank you for your...</td>\n",
       "      <td>4.3</td>\n",
       "      <td>29.0</td>\n",
       "      <td>Chinese</td>\n",
       "      <td>41-50</td>\n",
       "      <td>1</td>\n",
       "    </tr>\n",
       "    <tr>\n",
       "      <th>3</th>\n",
       "      <td>doc2868.xml</td>\n",
       "      <td>0100_2001_6</td>\n",
       "      <td>TE5*0100*2001*01</td>\n",
       "      <td>[\\n, [Dear Mrs Maria Smith,], \\n, [as the lead...</td>\n",
       "      <td>3.3</td>\n",
       "      <td>29.0</td>\n",
       "      <td>Greek</td>\n",
       "      <td>16-20</td>\n",
       "      <td>1</td>\n",
       "    </tr>\n",
       "    <tr>\n",
       "      <th>4</th>\n",
       "      <td>doc2994.xml</td>\n",
       "      <td>0100_2001_6</td>\n",
       "      <td>TE22*0100*2001*01</td>\n",
       "      <td>[\\n, [Dear Mrs Smith,], \\n, [First of all I'm ...</td>\n",
       "      <td>2.3</td>\n",
       "      <td>20.0</td>\n",
       "      <td>Thai</td>\n",
       "      <td>26-30</td>\n",
       "      <td>1</td>\n",
       "    </tr>\n",
       "    <tr>\n",
       "      <th>...</th>\n",
       "      <td>...</td>\n",
       "      <td>...</td>\n",
       "      <td>...</td>\n",
       "      <td>...</td>\n",
       "      <td>...</td>\n",
       "      <td>...</td>\n",
       "      <td>...</td>\n",
       "      <td>...</td>\n",
       "      <td>...</td>\n",
       "    </tr>\n",
       "    <tr>\n",
       "      <th>1214</th>\n",
       "      <td>doc297.xml</td>\n",
       "      <td>0100_2000_6</td>\n",
       "      <td>TR1141*0100*2000*01</td>\n",
       "      <td>[\\n, [8 Jun 2000], \\n, [Helen Ryan], \\n, [Comp...</td>\n",
       "      <td>3.2</td>\n",
       "      <td>28.0</td>\n",
       "      <td>Polish</td>\n",
       "      <td>16-20</td>\n",
       "      <td>1</td>\n",
       "    </tr>\n",
       "    <tr>\n",
       "      <th>1215</th>\n",
       "      <td>doc1087.xml</td>\n",
       "      <td>0100_2000_6</td>\n",
       "      <td>TR436*0100*2000*01</td>\n",
       "      <td>[\\n, [13th June 2000], \\n, [Dear Ms Ryan], \\n,...</td>\n",
       "      <td>4.3</td>\n",
       "      <td>35.0</td>\n",
       "      <td>French</td>\n",
       "      <td>21-25</td>\n",
       "      <td>1</td>\n",
       "    </tr>\n",
       "    <tr>\n",
       "      <th>1216</th>\n",
       "      <td>doc2577.xml</td>\n",
       "      <td>0100_2000_6</td>\n",
       "      <td>TR118*0100*2000*01</td>\n",
       "      <td>[\\n, [Dear Madam,], \\n, [[&lt;i&gt;At first&lt;/i&gt;, &lt;c&gt;...</td>\n",
       "      <td>3.2</td>\n",
       "      <td>23.0</td>\n",
       "      <td>French</td>\n",
       "      <td>21-25</td>\n",
       "      <td>1</td>\n",
       "    </tr>\n",
       "    <tr>\n",
       "      <th>1217</th>\n",
       "      <td>doc2420.xml</td>\n",
       "      <td>0100_2000_6</td>\n",
       "      <td>TR977*0100*2000*01</td>\n",
       "      <td>[\\n, [Dear Helen Ryan: Thank you for letting m...</td>\n",
       "      <td>3.1</td>\n",
       "      <td>24.0</td>\n",
       "      <td>Spanish</td>\n",
       "      <td>16-20</td>\n",
       "      <td>1</td>\n",
       "    </tr>\n",
       "    <tr>\n",
       "      <th>1218</th>\n",
       "      <td>doc1941.xml</td>\n",
       "      <td>0100_2000_6</td>\n",
       "      <td>TR746*0100*2000*01</td>\n",
       "      <td>[\\n, [Cambridge, 13th June 2000.], \\n, [Dear M...</td>\n",
       "      <td>3.3</td>\n",
       "      <td>29.0</td>\n",
       "      <td>Spanish</td>\n",
       "      <td>31-40</td>\n",
       "      <td>1</td>\n",
       "    </tr>\n",
       "  </tbody>\n",
       "</table>\n",
       "<p>1219 rows × 9 columns</p>\n",
       "</div>"
      ],
      "text/plain": [
       "         filename    exam_code              sortkey  \\\n",
       "0     doc3042.xml  0100_2001_6    TE35*0100*2001*01   \n",
       "1     doc3163.xml  0100_2001_6    TE70*0100*2001*01   \n",
       "2     doc3116.xml  0100_2001_6    TE58*0100*2001*01   \n",
       "3     doc2868.xml  0100_2001_6     TE5*0100*2001*01   \n",
       "4     doc2994.xml  0100_2001_6    TE22*0100*2001*01   \n",
       "...           ...          ...                  ...   \n",
       "1214   doc297.xml  0100_2000_6  TR1141*0100*2000*01   \n",
       "1215  doc1087.xml  0100_2000_6   TR436*0100*2000*01   \n",
       "1216  doc2577.xml  0100_2000_6   TR118*0100*2000*01   \n",
       "1217  doc2420.xml  0100_2000_6   TR977*0100*2000*01   \n",
       "1218  doc1941.xml  0100_2000_6   TR746*0100*2000*01   \n",
       "\n",
       "                                        answer_response  answer_score  \\\n",
       "0     [\\n, [Dear Mrs. Smith,], \\n, [In reply to your...           4.3   \n",
       "1     [\\n, [Chêne-Bourg, Tuesday 12th June.], \\n, [D...           4.1   \n",
       "2     [\\n, [To: Mrs. Smith], \\n, [Thank you for your...           4.3   \n",
       "3     [\\n, [Dear Mrs Maria Smith,], \\n, [as the lead...           3.3   \n",
       "4     [\\n, [Dear Mrs Smith,], \\n, [First of all I'm ...           2.3   \n",
       "...                                                 ...           ...   \n",
       "1214  [\\n, [8 Jun 2000], \\n, [Helen Ryan], \\n, [Comp...           3.2   \n",
       "1215  [\\n, [13th June 2000], \\n, [Dear Ms Ryan], \\n,...           4.3   \n",
       "1216  [\\n, [Dear Madam,], \\n, [[<i>At first</i>, <c>...           3.2   \n",
       "1217  [\\n, [Dear Helen Ryan: Thank you for letting m...           3.1   \n",
       "1218  [\\n, [Cambridge, 13th June 2000.], \\n, [Dear M...           3.3   \n",
       "\n",
       "      student_score student_language student_age task  \n",
       "0              34.0         Japanese       16-20    1  \n",
       "1              26.0            Greek       16-20    1  \n",
       "2              29.0          Chinese       41-50    1  \n",
       "3              29.0            Greek       16-20    1  \n",
       "4              20.0             Thai       26-30    1  \n",
       "...             ...              ...         ...  ...  \n",
       "1214           28.0           Polish       16-20    1  \n",
       "1215           35.0           French       21-25    1  \n",
       "1216           23.0           French       21-25    1  \n",
       "1217           24.0          Spanish       16-20    1  \n",
       "1218           29.0          Spanish       31-40    1  \n",
       "\n",
       "[1219 rows x 9 columns]"
      ]
     },
     "execution_count": 48,
     "metadata": {},
     "output_type": "execute_result"
    }
   ],
   "source": [
    "df_explode"
   ]
  },
  {
   "cell_type": "code",
   "execution_count": 49,
   "id": "dbe692a7",
   "metadata": {},
   "outputs": [
    {
     "data": {
      "application/vnd.microsoft.datawrangler.viewer.v0+json": {
       "columns": [
        {
         "name": "index",
         "rawType": "object",
         "type": "string"
        },
        {
         "name": "answer_score",
         "rawType": "float64",
         "type": "float"
        },
        {
         "name": "student_score",
         "rawType": "float64",
         "type": "float"
        }
       ],
       "ref": "a03faa9e-9878-4842-89b1-bda8a224b6f0",
       "rows": [
        [
         "count",
         "1219.0",
         "1219.0"
        ],
        [
         "mean",
         "3.4977850697292863",
         "27.922887612797375"
        ],
        [
         "std",
         "0.9312509109717804",
         "5.440584539160552"
        ],
        [
         "min",
         "0.0",
         "0.0"
        ],
        [
         "25%",
         "3.1",
         "24.0"
        ],
        [
         "50%",
         "3.3",
         "28.0"
        ],
        [
         "75%",
         "4.2",
         "32.0"
        ],
        [
         "max",
         "5.3",
         "40.0"
        ]
       ],
       "shape": {
        "columns": 2,
        "rows": 8
       }
      },
      "text/html": [
       "<div>\n",
       "<style scoped>\n",
       "    .dataframe tbody tr th:only-of-type {\n",
       "        vertical-align: middle;\n",
       "    }\n",
       "\n",
       "    .dataframe tbody tr th {\n",
       "        vertical-align: top;\n",
       "    }\n",
       "\n",
       "    .dataframe thead th {\n",
       "        text-align: right;\n",
       "    }\n",
       "</style>\n",
       "<table border=\"1\" class=\"dataframe\">\n",
       "  <thead>\n",
       "    <tr style=\"text-align: right;\">\n",
       "      <th></th>\n",
       "      <th>answer_score</th>\n",
       "      <th>student_score</th>\n",
       "    </tr>\n",
       "  </thead>\n",
       "  <tbody>\n",
       "    <tr>\n",
       "      <th>count</th>\n",
       "      <td>1219.000000</td>\n",
       "      <td>1219.000000</td>\n",
       "    </tr>\n",
       "    <tr>\n",
       "      <th>mean</th>\n",
       "      <td>3.497785</td>\n",
       "      <td>27.922888</td>\n",
       "    </tr>\n",
       "    <tr>\n",
       "      <th>std</th>\n",
       "      <td>0.931251</td>\n",
       "      <td>5.440585</td>\n",
       "    </tr>\n",
       "    <tr>\n",
       "      <th>min</th>\n",
       "      <td>0.000000</td>\n",
       "      <td>0.000000</td>\n",
       "    </tr>\n",
       "    <tr>\n",
       "      <th>25%</th>\n",
       "      <td>3.100000</td>\n",
       "      <td>24.000000</td>\n",
       "    </tr>\n",
       "    <tr>\n",
       "      <th>50%</th>\n",
       "      <td>3.300000</td>\n",
       "      <td>28.000000</td>\n",
       "    </tr>\n",
       "    <tr>\n",
       "      <th>75%</th>\n",
       "      <td>4.200000</td>\n",
       "      <td>32.000000</td>\n",
       "    </tr>\n",
       "    <tr>\n",
       "      <th>max</th>\n",
       "      <td>5.300000</td>\n",
       "      <td>40.000000</td>\n",
       "    </tr>\n",
       "  </tbody>\n",
       "</table>\n",
       "</div>"
      ],
      "text/plain": [
       "       answer_score  student_score\n",
       "count   1219.000000    1219.000000\n",
       "mean       3.497785      27.922888\n",
       "std        0.931251       5.440585\n",
       "min        0.000000       0.000000\n",
       "25%        3.100000      24.000000\n",
       "50%        3.300000      28.000000\n",
       "75%        4.200000      32.000000\n",
       "max        5.300000      40.000000"
      ]
     },
     "execution_count": 49,
     "metadata": {},
     "output_type": "execute_result"
    }
   ],
   "source": [
    "df_explode.describe()"
   ]
  },
  {
   "cell_type": "code",
   "execution_count": 78,
   "id": "0c922dda",
   "metadata": {},
   "outputs": [
    {
     "name": "stdout",
     "output_type": "stream",
     "text": [
      "filename            0\n",
      "exam_code           0\n",
      "sortkey             0\n",
      "answer_response     0\n",
      "answer_score        0\n",
      "student_score       0\n",
      "student_language    0\n",
      "student_age         0\n",
      "task                0\n",
      "dtype: int64\n"
     ]
    }
   ],
   "source": [
    "missing = df_explode.isnull().sum()\n",
    "print(missing)"
   ]
  },
  {
   "cell_type": "code",
   "execution_count": 41,
   "id": "c8f70166",
   "metadata": {},
   "outputs": [
    {
     "data": {
      "application/vnd.microsoft.datawrangler.viewer.v0+json": {
       "columns": [
        {
         "name": "index",
         "rawType": "object",
         "type": "string"
        },
        {
         "name": "answer1_score",
         "rawType": "float64",
         "type": "float"
        },
        {
         "name": "answer2_score",
         "rawType": "float64",
         "type": "float"
        },
        {
         "name": "student_score",
         "rawType": "float64",
         "type": "float"
        }
       ],
       "ref": "127722db-568c-417f-8b5e-adf6413e7613",
       "rows": [
        [
         "count",
         "1238.0",
         "1226.0",
         "1239.0"
        ],
        [
         "mean",
         "3.4942649434571886",
         "3.517047308319739",
         "27.824858757062145"
        ],
        [
         "std",
         "0.929838296239314",
         "1.0273936555548615",
         "5.541807205270654"
        ],
        [
         "min",
         "0.0",
         "0.0",
         "0.0"
        ],
        [
         "25%",
         "3.1",
         "3.1",
         "24.0"
        ],
        [
         "50%",
         "3.3",
         "3.3",
         "28.0"
        ],
        [
         "75%",
         "4.2",
         "4.2",
         "32.0"
        ],
        [
         "max",
         "5.3",
         "5.3",
         "40.0"
        ]
       ],
       "shape": {
        "columns": 3,
        "rows": 8
       }
      },
      "text/html": [
       "<div>\n",
       "<style scoped>\n",
       "    .dataframe tbody tr th:only-of-type {\n",
       "        vertical-align: middle;\n",
       "    }\n",
       "\n",
       "    .dataframe tbody tr th {\n",
       "        vertical-align: top;\n",
       "    }\n",
       "\n",
       "    .dataframe thead th {\n",
       "        text-align: right;\n",
       "    }\n",
       "</style>\n",
       "<table border=\"1\" class=\"dataframe\">\n",
       "  <thead>\n",
       "    <tr style=\"text-align: right;\">\n",
       "      <th></th>\n",
       "      <th>answer1_score</th>\n",
       "      <th>answer2_score</th>\n",
       "      <th>student_score</th>\n",
       "    </tr>\n",
       "  </thead>\n",
       "  <tbody>\n",
       "    <tr>\n",
       "      <th>count</th>\n",
       "      <td>1238.000000</td>\n",
       "      <td>1226.000000</td>\n",
       "      <td>1239.000000</td>\n",
       "    </tr>\n",
       "    <tr>\n",
       "      <th>mean</th>\n",
       "      <td>3.494265</td>\n",
       "      <td>3.517047</td>\n",
       "      <td>27.824859</td>\n",
       "    </tr>\n",
       "    <tr>\n",
       "      <th>std</th>\n",
       "      <td>0.929838</td>\n",
       "      <td>1.027394</td>\n",
       "      <td>5.541807</td>\n",
       "    </tr>\n",
       "    <tr>\n",
       "      <th>min</th>\n",
       "      <td>0.000000</td>\n",
       "      <td>0.000000</td>\n",
       "      <td>0.000000</td>\n",
       "    </tr>\n",
       "    <tr>\n",
       "      <th>25%</th>\n",
       "      <td>3.100000</td>\n",
       "      <td>3.100000</td>\n",
       "      <td>24.000000</td>\n",
       "    </tr>\n",
       "    <tr>\n",
       "      <th>50%</th>\n",
       "      <td>3.300000</td>\n",
       "      <td>3.300000</td>\n",
       "      <td>28.000000</td>\n",
       "    </tr>\n",
       "    <tr>\n",
       "      <th>75%</th>\n",
       "      <td>4.200000</td>\n",
       "      <td>4.200000</td>\n",
       "      <td>32.000000</td>\n",
       "    </tr>\n",
       "    <tr>\n",
       "      <th>max</th>\n",
       "      <td>5.300000</td>\n",
       "      <td>5.300000</td>\n",
       "      <td>40.000000</td>\n",
       "    </tr>\n",
       "  </tbody>\n",
       "</table>\n",
       "</div>"
      ],
      "text/plain": [
       "       answer1_score  answer2_score  student_score\n",
       "count    1238.000000    1226.000000    1239.000000\n",
       "mean        3.494265       3.517047      27.824859\n",
       "std         0.929838       1.027394       5.541807\n",
       "min         0.000000       0.000000       0.000000\n",
       "25%         3.100000       3.100000      24.000000\n",
       "50%         3.300000       3.300000      28.000000\n",
       "75%         4.200000       4.200000      32.000000\n",
       "max         5.300000       5.300000      40.000000"
      ]
     },
     "execution_count": 41,
     "metadata": {},
     "output_type": "execute_result"
    }
   ],
   "source": [
    "df.describe()"
   ]
  },
  {
   "cell_type": "code",
   "execution_count": null,
   "id": "6008c966",
   "metadata": {},
   "outputs": [],
   "source": []
  }
 ],
 "metadata": {
  "kernelspec": {
   "display_name": ".venv",
   "language": "python",
   "name": "python3"
  },
  "language_info": {
   "codemirror_mode": {
    "name": "ipython",
    "version": 3
   },
   "file_extension": ".py",
   "mimetype": "text/x-python",
   "name": "python",
   "nbconvert_exporter": "python",
   "pygments_lexer": "ipython3",
   "version": "3.12.10"
  }
 },
 "nbformat": 4,
 "nbformat_minor": 5
}
