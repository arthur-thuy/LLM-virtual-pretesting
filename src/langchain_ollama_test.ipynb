{
 "cells": [
  {
   "cell_type": "code",
   "execution_count": 1,
   "metadata": {},
   "outputs": [],
   "source": [
    "from langchain_community.chat_models import ChatOllama\n",
    "from langchain_core.prompts import PromptTemplate"
   ]
  },
  {
   "cell_type": "code",
   "execution_count": 4,
   "metadata": {},
   "outputs": [
    {
     "name": "stdout",
     "output_type": "stream",
     "text": [
      "Good morning, Arnold! Welcome to our hotel. It's a pleasure to have you with us. How can I assist you today?\n"
     ]
    }
   ],
   "source": [
    "\n",
    "prompt_template = PromptTemplate.from_template(\n",
    "    \"\"\"\n",
    "    You are a receptionist in a hotel, You have a guest named {guest_name}. Greet him as he/she approach you.\n",
    "    Make sure you use Guest's name while greeting him/her to give him/her a more personalized greeting.\n",
    "    Currently the time is {time_str} .\n",
    "    Make sure you only greet guest don't do any small talk with him about upgrading his room , some price offer etc.\n",
    "    Also based on Guest Name decide what you should use as title, Mr. or Ms. \n",
    "    \"\"\"\n",
    ")\n",
    "\n",
    "prompt_input = prompt_template.format(\n",
    "    guest_name= \"Arnold\",\n",
    "    time_str=\"9:33 am\"\n",
    ")\n",
    "\n",
    "\n",
    "llm = ChatOllama(model=\"llama3.2\",temperature=0.1,)\n",
    "llm_resp = llm.invoke(prompt_input)\n",
    "print(llm_resp.content)"
   ]
  }
 ],
 "metadata": {
  "kernelspec": {
   "display_name": "llm_virtual_pretesting",
   "language": "python",
   "name": "python3"
  },
  "language_info": {
   "codemirror_mode": {
    "name": "ipython",
    "version": 3
   },
   "file_extension": ".py",
   "mimetype": "text/x-python",
   "name": "python",
   "nbconvert_exporter": "python",
   "pygments_lexer": "ipython3",
   "version": "3.12.9"
  }
 },
 "nbformat": 4,
 "nbformat_minor": 2
}
