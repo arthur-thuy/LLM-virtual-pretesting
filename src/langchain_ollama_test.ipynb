{
 "cells": [
  {
   "cell_type": "code",
   "execution_count": 1,
   "metadata": {},
   "outputs": [],
   "source": [
    "from langchain_ollama import ChatOllama\n",
    "from langchain_core.prompts import PromptTemplate"
   ]
  },
  {
   "cell_type": "code",
   "execution_count": 2,
   "metadata": {},
   "outputs": [
    {
     "data": {
      "text/plain": [
       "\"\\n    You are a receptionist in a hotel, You have a guest named Arnold. Greet him as he/she approach you.\\n    Make sure you use Guest's name while greeting him/her to give him/her a more personalized greeting.\\n    Currently the time is 9:33 am .\\n    Make sure you only greet guest don't do any small talk with him about upgrading his room , some price offer etc.\\n    Also based on Guest Name decide what you should use as title, Mr. or Ms. \\n    \""
      ]
     },
     "execution_count": 2,
     "metadata": {},
     "output_type": "execute_result"
    }
   ],
   "source": [
    "prompt_template = PromptTemplate.from_template(\n",
    "    \"\"\"\n",
    "    You are a receptionist in a hotel, You have a guest named {guest_name}. Greet him as he/she approach you.\n",
    "    Make sure you use Guest's name while greeting him/her to give him/her a more personalized greeting.\n",
    "    Currently the time is {time_str} .\n",
    "    Make sure you only greet guest don't do any small talk with him about upgrading his room , some price offer etc.\n",
    "    Also based on Guest Name decide what you should use as title, Mr. or Ms. \n",
    "    \"\"\"\n",
    ")\n",
    "\n",
    "prompt_input = prompt_template.format(guest_name=\"Arnold\", time_str=\"9:33 am\")\n",
    "prompt_input"
   ]
  },
  {
   "cell_type": "code",
   "execution_count": null,
   "metadata": {},
   "outputs": [
    {
     "name": "stdout",
     "output_type": "stream",
     "text": [
      "Good morning, Arnold! Welcome to our hotel. It's a pleasure to have you with us. I'll be happy to assist you with any needs or requests you may have during your stay. How can I help you today?\n"
     ]
    }
   ],
   "source": [
    "llm = ChatOllama(\n",
    "    model=\"llama3.2\",\n",
    "    temperature=0.1,\n",
    ")\n",
    "llm_resp = llm.invoke(prompt_input)\n",
    "print(llm_resp.content)"
   ]
  },
  {
   "cell_type": "code",
   "execution_count": null,
   "metadata": {},
   "outputs": [],
   "source": []
  }
 ],
 "metadata": {
  "kernelspec": {
   "display_name": "llm_virtual_pretesting",
   "language": "python",
   "name": "python3"
  },
  "language_info": {
   "codemirror_mode": {
    "name": "ipython",
    "version": 3
   },
   "file_extension": ".py",
   "mimetype": "text/x-python",
   "name": "python",
   "nbconvert_exporter": "python",
   "pygments_lexer": "ipython3",
   "version": "3.12.9"
  }
 },
 "nbformat": 4,
 "nbformat_minor": 2
}
