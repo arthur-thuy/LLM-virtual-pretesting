{
 "cells": [
  {
   "cell_type": "markdown",
   "metadata": {},
   "source": [
    "# Imports"
   ]
  },
  {
   "cell_type": "code",
   "execution_count": null,
   "metadata": {},
   "outputs": [],
   "source": [
    "# standard library imports\n",
    "# /\n",
    "\n",
    "# related third party imports\n",
    "import structlog\n",
    "\n",
    "# local application/library specific imports\n",
    "from tools.configurator import (\n",
    "    get_configs_out,\n",
    "    get_config_ids,\n",
    ")\n",
    "from tools.analyzer import (\n",
    "    print_table_from_dict,\n",
    "    print_df_from_dict,\n",
    "    get_results_dict,\n",
    "    merge_all_results,\n",
    "    create_config_id_print,\n",
    "    get_config_df,\n",
    "    get_llm_student_preds,\n",
    ")\n",
    "from tools.plotter import plot_level_correctness\n",
    "\n",
    "\n",
    "logger = structlog.get_logger(__name__)"
   ]
  },
  {
   "cell_type": "code",
   "execution_count": null,
   "metadata": {},
   "outputs": [],
   "source": [
    "##### INPUTS #####\n",
    "EXP_NAME = (\n",
    "    # \"roleplay_misconceptions_tryout_20250812-171855\"\n",
    "    \"roleplay_misconceptions_20250812-173641\"\n",
    ")\n",
    "EXCLUDE_METRICS = [\n",
    "    \"val_acc_true_pred\",\n",
    "    \"val_f1_true_pred\",\n",
    "]\n",
    "LEGEND_EXACT = True\n",
    "PROBLEM_TYPE = \"roleplay\""
   ]
  },
  {
   "cell_type": "code",
   "execution_count": null,
   "metadata": {},
   "outputs": [],
   "source": [
    "METRIC2LEGEND_DICT = {\n",
    "    \"val_acc_student_pred\": \"val acc LLM -> student\",\n",
    "    \"val_acc_true_student\": \"val acc student -> true\",\n",
    "    \"val_acc_true_pred\": \"val acc LLM -> true\",\n",
    "    \"val_prop_invalid\": \"val prop invalid\",\n",
    "    \"val_f1_student_pred\": \"val f1 LLM -> student\",\n",
    "    \"val_f1_true_student\": \"val f1 student -> true\",\n",
    "    \"val_f1_true_pred\": \"val f1 LLM -> true\",\n",
    "    \"val_rmse\": \"val RMSE\",\n",
    "    \"val_distractor_alignment\": \"val distr alignment\"\n",
    "}"
   ]
  },
  {
   "cell_type": "code",
   "execution_count": null,
   "metadata": {},
   "outputs": [],
   "source": [
    "configs = get_configs_out(EXP_NAME)\n",
    "config_ids = get_config_ids(configs, problem_type=PROBLEM_TYPE)\n",
    "config_dict = {config_id: cfg for config_id, cfg in zip(config_ids, configs)}\n",
    "\n",
    "CONFIG2LEGEND_DICT = {\n",
    "    config_id: create_config_id_print(config_id) for config_id in config_ids\n",
    "}\n",
    "legend_kwargs = {\n",
    "    \"config2legend\": CONFIG2LEGEND_DICT,\n",
    "    \"legend_exact\": LEGEND_EXACT,\n",
    "    \"metric2legend\": METRIC2LEGEND_DICT,\n",
    "}"
   ]
  },
  {
   "cell_type": "code",
   "execution_count": null,
   "metadata": {},
   "outputs": [],
   "source": [
    "# merge results for all configs\n",
    "run_id_dict = merge_all_results(EXP_NAME, config_ids) # TODO: remove roleplay"
   ]
  },
  {
   "cell_type": "markdown",
   "metadata": {},
   "source": [
    "# Val/Test set performance\n",
    "## Complete table"
   ]
  },
  {
   "cell_type": "code",
   "execution_count": null,
   "metadata": {},
   "outputs": [],
   "source": [
    "results_dict = get_results_dict(\n",
    "    exp_name=EXP_NAME,\n",
    "    config_ids=config_ids,\n",
    "    run_id=None,\n",
    ")\n",
    "# # NOTE: print paper-like table with this code\n",
    "# print_table_from_dict(\n",
    "#     eval_dict=results_dict,\n",
    "#     exp_name=EXP_NAME,\n",
    "#     exclude_metrics=EXCLUDE_METRICS,\n",
    "#     decimals=3,\n",
    "#     **legend_kwargs,\n",
    "# )"
   ]
  },
  {
   "cell_type": "code",
   "execution_count": null,
   "metadata": {},
   "outputs": [],
   "source": [
    "# NOTE: print dataframe\n",
    "df = print_df_from_dict(\n",
    "    eval_dict=results_dict,\n",
    "    exp_name=EXP_NAME,\n",
    "    exclude_metrics=EXCLUDE_METRICS,\n",
    "    **legend_kwargs,\n",
    "    # save=True,\n",
    "    # save_kwargs={\"fname\": os.path.join(\"output\", EXP_NAME, \"results.csv\")},\n",
    ")\n",
    "\n",
    "df_config = get_config_df(config_dict)\n",
    "\n",
    "# mean\n",
    "df_mean = df.xs('mean', axis=1, level=1, drop_level=True)\n",
    "df_results = df_mean.merge(df_config, how=\"left\", on=\"config_id\")\n",
    "df_results = df_results.reindex(\n",
    "    columns=(\n",
    "        list(df_config.columns)\n",
    "        + list([a for a in df_mean.columns if a not in df_config.columns])\n",
    "    )\n",
    ")\n",
    "df_results"
   ]
  },
  {
   "cell_type": "code",
   "execution_count": null,
   "metadata": {},
   "outputs": [],
   "source": [
    "# standard error\n",
    "df_stderr = df.xs(\"stderr\", axis=1, level=1, drop_level=True)\n",
    "df_results = df_stderr.merge(df_config, how=\"left\", on=\"config_id\")\n",
    "df_results = df_results.reindex(\n",
    "    columns=(\n",
    "        list(df_config.columns)\n",
    "        + list([a for a in df_stderr.columns if a not in df_config.columns])\n",
    "    )\n",
    ")\n",
    "df_results"
   ]
  },
  {
   "cell_type": "markdown",
   "metadata": {},
   "source": [
    "## Aggregated per config value"
   ]
  },
  {
   "cell_type": "code",
   "execution_count": null,
   "metadata": {},
   "outputs": [],
   "source": [
    "# inspect average performance per config value\n",
    "FEATURE = \"num_examples\"\n",
    "df_results.groupby(FEATURE).agg({\"val RMSE\": \"mean\", \"val_monotonicity\": \"mean\"}).round(3)"
   ]
  },
  {
   "cell_type": "code",
   "execution_count": null,
   "metadata": {},
   "outputs": [],
   "source": [
    "# inspect average performance per config value\n",
    "FEATURE = \"model\"\n",
    "df_results.groupby(FEATURE).agg({\"val RMSE\": \"mean\", \"val_monotonicity\": \"mean\"}).round(3)"
   ]
  },
  {
   "cell_type": "code",
   "execution_count": null,
   "metadata": {},
   "outputs": [],
   "source": [
    "# inspect average performance per config value\n",
    "FEATURE = \"temp\"\n",
    "df_results.groupby(FEATURE).agg({\"val RMSE\": \"mean\", \"val_monotonicity\": \"mean\"}).round(3)"
   ]
  },
  {
   "cell_type": "code",
   "execution_count": null,
   "metadata": {},
   "outputs": [],
   "source": [
    "# inspect average performance per config value\n",
    "FEATURE = \"prompt\"\n",
    "df_results.groupby(FEATURE).agg({\"val RMSE\": \"mean\", \"val_monotonicity\": \"mean\"}).round(3)"
   ]
  },
  {
   "cell_type": "code",
   "execution_count": null,
   "metadata": {},
   "outputs": [],
   "source": [
    "# inspect average performance per config value\n",
    "FEATURE = \"num_examples\"\n",
    "df_results.groupby(FEATURE).agg({\"val RMSE\": \"mean\", \"val_monotonicity\": \"mean\"}).round(3)"
   ]
  },
  {
   "cell_type": "code",
   "execution_count": null,
   "metadata": {},
   "outputs": [],
   "source": [
    "# inspect average performance per config value\n",
    "FEATURE = \"example_selec\"\n",
    "df_results.groupby(FEATURE).agg({\"val RMSE\": \"mean\", \"val_monotonicity\": \"mean\"}).round(3)"
   ]
  },
  {
   "cell_type": "markdown",
   "metadata": {},
   "source": [
    "## Additional: LLM question answering"
   ]
  },
  {
   "cell_type": "code",
   "execution_count": null,
   "metadata": {},
   "outputs": [],
   "source": [
    "# for config_id in config_ids:\n",
    "#     logger.info(f\"Plotting student level performance\", config_id=config_id)\n",
    "#     plot_student_level_performance(\n",
    "#         exp_name=EXP_NAME,\n",
    "#         config_id=config_id,\n",
    "#         metric=\"val_accuracy\",\n",
    "#         **legend_kwargs,\n",
    "#         save=False,\n",
    "#     )"
   ]
  },
  {
   "cell_type": "markdown",
   "metadata": {},
   "source": [
    "# Student levels"
   ]
  },
  {
   "cell_type": "code",
   "execution_count": null,
   "metadata": {},
   "outputs": [],
   "source": [
    "# all configs\n",
    "for config_id in config_ids:\n",
    "    preds_dict = get_llm_student_preds(\n",
    "        exp_name=EXP_NAME,\n",
    "        config_id=config_id,\n",
    "        run_id=1,\n",
    "        split=\"val\",\n",
    "        problem_type=PROBLEM_TYPE,\n",
    "    )\n",
    "    plot_level_correctness(\n",
    "        preds_dict,\n",
    "        problem_type=PROBLEM_TYPE,\n",
    "        config_id=config_id,\n",
    "    )"
   ]
  },
  {
   "cell_type": "markdown",
   "metadata": {},
   "source": [
    "## Distractor alignment"
   ]
  },
  {
   "cell_type": "code",
   "execution_count": null,
   "metadata": {},
   "outputs": [],
   "source": [
    "# TODO: obtain answer proportion for all questions in valsmall set\n"
   ]
  },
  {
   "cell_type": "code",
   "execution_count": null,
   "metadata": {},
   "outputs": [],
   "source": [
    "import pandas as pd\n",
    "\n",
    "df_interactions = pd.read_csv(\"../data/silver/dbe_kt22_interactions.csv\")\n",
    "df_q_val = pd.read_csv(\"../data/gold/dbe_kt22_questions_validation.csv\")"
   ]
  },
  {
   "cell_type": "code",
   "execution_count": null,
   "metadata": {},
   "outputs": [],
   "source": [
    "df_i_val = df_interactions[df_interactions[\"question_id\"].isin(df_q_val[\"question_id\"])]"
   ]
  },
  {
   "cell_type": "code",
   "execution_count": null,
   "metadata": {},
   "outputs": [],
   "source": [
    "df_i_val"
   ]
  },
  {
   "cell_type": "code",
   "execution_count": null,
   "metadata": {},
   "outputs": [],
   "source": [
    "# Get proportions as a DataFrame with options as columns\n",
    "prop_df = (df_i_val.groupby([\"question_id\", \"student_level_group\"])[\"student_option_id\"]\n",
    "           .value_counts(normalize=True)\n",
    "           .unstack(fill_value=0.0)\n",
    "           .reset_index())\n",
    "# convert 4 columns to dict\n",
    "prop_df[\"dict\"] = prop_df.set_index(['question_id', 'student_level_group']).to_dict('index').values()\n",
    "prop_df = prop_df.drop(columns=[1, 2, 3, 4])\n",
    "prop_df"
   ]
  },
  {
   "cell_type": "code",
   "execution_count": null,
   "metadata": {},
   "outputs": [],
   "source": [
    "preds_dict = get_llm_student_preds(\n",
    "        exp_name=EXP_NAME,\n",
    "        config_id=\"qwen3:8b~T_0.0~SO_student_bool~L_5~SP_student_chocolate_level_nocontext~SS_proficiency_5_str~EFQ_quotes~EFI_quotes~ES_miscon_studentlevel_random0\",\n",
    "        run_id=1,\n",
    "        split=\"val\",\n",
    "        problem_type=PROBLEM_TYPE,\n",
    "    )"
   ]
  },
  {
   "cell_type": "code",
   "execution_count": null,
   "metadata": {},
   "outputs": [],
   "source": [
    "preds_dict"
   ]
  },
  {
   "cell_type": "code",
   "execution_count": null,
   "metadata": {},
   "outputs": [],
   "source": [
    "import numpy as np\n",
    "\n",
    "\n",
    "def alignment_score_single(\n",
    "    y_true: int, y_llm: int, dict_props: dict\n",
    ") -> float:\n",
    "    \"\"\"Calculate the alignment score for a single question.\n",
    "\n",
    "    Parameters\n",
    "    ----------\n",
    "    y_true : int\n",
    "        The true answer.\n",
    "    y_llm : int\n",
    "        The LLM predicted answer.\n",
    "    dict_props : dict\n",
    "        A dictionary mapping answer options to student proportions.\n",
    "\n",
    "    Returns\n",
    "    -------\n",
    "    float\n",
    "        The alignment score.\n",
    "    \"\"\"  \n",
    "    llm_answer_incorrect = y_true != y_llm\n",
    "    if llm_answer_incorrect:\n",
    "        dict_tmp = dict_props.copy()\n",
    "        prop_answer_llm = dict_tmp[y_llm]\n",
    "        # remove correct idx from dict\n",
    "        dict_tmp.pop(y_true, None)\n",
    "        idx_most_popular_distractor = max(dict_tmp, key=dict_tmp.get)\n",
    "        prop_most_popular_distractor = dict_tmp[idx_most_popular_distractor]\n",
    "        # calculate score\n",
    "        try:\n",
    "            score = prop_answer_llm / prop_most_popular_distractor\n",
    "        except ZeroDivisionError:\n",
    "            score = 0.0\n",
    "    else:\n",
    "        score = np.nan\n",
    "    return score\n",
    "\n",
    "alignment_score_single(\n",
    "    y_true=3,\n",
    "    y_llm=4,\n",
    "    dict_props={1: 0.07692307692307693, 2: 0.2692307692307692, 3: 0.6538461538461539, 4: 0.0}\n",
    ")"
   ]
  },
  {
   "cell_type": "code",
   "execution_count": null,
   "metadata": {},
   "outputs": [],
   "source": [
    "from operator import itemgetter\n",
    "import numpy as np\n",
    "from numpy.typing import NDArray\n",
    "import pandas as pd\n",
    "\n",
    "\n",
    "def eval_distractor_alignment(\n",
    "    y_true_array: NDArray,\n",
    "    y_llm_array: NDArray,\n",
    "    student_level_group_array: NDArray,\n",
    "    question_id_array: NDArray,\n",
    "    student_scale_map: dict,\n",
    "    prop_df: pd.DataFrame,\n",
    ") -> float:\n",
    "    \"\"\"Evaluate the alignment of distractor answers.\n",
    "\n",
    "    Parameters\n",
    "    ----------\n",
    "    y_true_array : NDArray\n",
    "        The true answers.\n",
    "    y_llm_array : NDArray\n",
    "        The LLM predicted answers.\n",
    "    student_level_group_array : NDArray\n",
    "        The student level groups.\n",
    "    question_id_array : NDArray\n",
    "        The question IDs.\n",
    "    student_scale_map : dict\n",
    "        A mapping from student IDs to their scale.\n",
    "    prop_df : pd.DataFrame\n",
    "        A DataFrame containing the student proportions of each answer option.\n",
    "\n",
    "    Returns\n",
    "    -------\n",
    "    float\n",
    "        The mean alignment score.\n",
    "    \"\"\"\n",
    "    dict_inverse = {v: int(k) for k, v in student_scale_map.items()}\n",
    "    student_level_group_array_int = np.array(\n",
    "        itemgetter(*student_level_group_array)(dict_inverse)\n",
    "    )\n",
    "    print(student_level_group_array_int)\n",
    "\n",
    "    scores = []\n",
    "    for y_true, y_llm, student_level_group, question_id in zip(\n",
    "        y_true_array, y_llm_array, student_level_group_array_int, question_id_array\n",
    "    ):\n",
    "        dict_tmp = (\n",
    "            prop_df[\n",
    "                (prop_df[\"question_id\"] == question_id)\n",
    "                & (prop_df[\"student_level_group\"] == student_level_group)\n",
    "            ][\"dict\"]\n",
    "            .item()\n",
    "            .copy()\n",
    "        )\n",
    "        score = alignment_score_single(y_true=y_true, y_llm=y_llm, dict_props=dict_tmp)\n",
    "        scores.append(score)\n",
    "\n",
    "    # compute mean and ignore NaNs\n",
    "    mean_score = np.nanmean(scores) if scores else 0.0\n",
    "    return mean_score\n",
    "\n",
    "\n",
    "eval_distractor_alignment(\n",
    "    y_true_array=preds_dict[\"y_true\"],\n",
    "    y_llm_array=preds_dict[\"y_pred\"],\n",
    "    student_level_group_array=preds_dict[\"student_level_group\"],\n",
    "    question_id_array=preds_dict[\"question_ids\"],\n",
    "    student_scale_map=preds_dict[\"student_scale_map\"],\n",
    "    prop_df=prop_df,\n",
    ")"
   ]
  },
  {
   "cell_type": "code",
   "execution_count": null,
   "metadata": {},
   "outputs": [],
   "source": [
    "df_prop = pd.read_csv(\"../data/platinum/dbe_kt22_proportions_val.csv\")\n",
    "df_prop[\"dict\"] = df_prop[\"dict\"].apply(eval)"
   ]
  },
  {
   "cell_type": "code",
   "execution_count": null,
   "metadata": {},
   "outputs": [],
   "source": [
    "df_prop.info()"
   ]
  },
  {
   "cell_type": "code",
   "execution_count": null,
   "metadata": {},
   "outputs": [],
   "source": [
    "type(df_prop.iloc[0,2])"
   ]
  },
  {
   "cell_type": "code",
   "execution_count": null,
   "metadata": {},
   "outputs": [],
   "source": []
  }
 ],
 "metadata": {
  "kernelspec": {
   "display_name": ".venv",
   "language": "python",
   "name": "python3"
  },
  "language_info": {
   "codemirror_mode": {
    "name": "ipython",
    "version": 3
   },
   "file_extension": ".py",
   "mimetype": "text/x-python",
   "name": "python",
   "nbconvert_exporter": "python",
   "pygments_lexer": "ipython3",
   "version": "3.12.10"
  }
 },
 "nbformat": 4,
 "nbformat_minor": 2
}
